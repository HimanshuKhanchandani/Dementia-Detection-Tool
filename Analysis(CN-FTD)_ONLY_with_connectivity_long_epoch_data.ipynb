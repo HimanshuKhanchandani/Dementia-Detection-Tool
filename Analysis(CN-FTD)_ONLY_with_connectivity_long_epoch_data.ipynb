{
 "cells": [
  {
   "cell_type": "markdown",
   "id": "a047a9ab",
   "metadata": {},
   "source": [
    "This is the analysis on brain connectivity data of 5 pairs of symmetrical nodes on certain freq. bands:\n",
    "1) P3,P4,O1,O2 nodes for delta band \n",
    "2) C3,C4,F3,F4 nodes for theta band \n",
    "3) C3,C4,F3,F4 nodes for delta band \n",
    "4) C3,C4,T3,T4 nodes for theta band\n",
    "5) C3,C4,P3,P4 nodes for theta band"
   ]
  },
  {
   "cell_type": "code",
   "execution_count": 28,
   "id": "531e8574",
   "metadata": {},
   "outputs": [],
   "source": [
    "import mne\n",
    "import warnings\n",
    "import pandas as pd\n",
    "import numpy as np\n",
    "import matplotlib.pyplot as plt\n",
    "from scipy.signal import welch\n",
    "from sklearn.neighbors import KNeighborsClassifier\n",
    "from sklearn.preprocessing import StandardScaler\n",
    "from sklearn.metrics import confusion_matrix\n",
    "from Classification_models_LOSO_2Class import *\n",
    "from model_functions import *"
   ]
  },
  {
   "cell_type": "code",
   "execution_count": 29,
   "id": "ccbfb97e",
   "metadata": {},
   "outputs": [],
   "source": [
    "def remove_test(features,test):\n",
    "    features_train = [features[i] for i in range(len(features)) if i not in test]\n",
    "    #target_train = [targets[i] for i in range(len(targets)) if i not in test]\n",
    "    return features_train\n",
    "def remove_test_targets(targets, test):\n",
    "    target_train = [targets[i] for i in range(len(targets)) if i not in test]\n",
    "    return target_train"
   ]
  },
  {
   "cell_type": "code",
   "execution_count": 30,
   "id": "711f08d2",
   "metadata": {},
   "outputs": [],
   "source": [
    "conn_data_1 = np.load('processed_data/con_data_01.npy',allow_pickle=True)\n",
    "conn_data_2 = np.load('processed_data/con_data_02.npy',allow_pickle=True)\n",
    "conn_data_3 = np.load('processed_data/con_data_03.npy',allow_pickle=True)\n",
    "conn_data_4 = np.load('processed_data/con_data_04.npy',allow_pickle=True)\n",
    "conn_data_5 = np.load('processed_data/con_data_05.npy',allow_pickle=True)"
   ]
  },
  {
   "cell_type": "code",
   "execution_count": 31,
   "id": "b92592c6",
   "metadata": {},
   "outputs": [],
   "source": [
    "targets=[]\n",
    "targets=[0 for i in range(26)]\n",
    "targets.extend([2 for i in range(21)])\n",
    "test= [49,53,63,71,72]"
   ]
  },
  {
   "cell_type": "code",
   "execution_count": 32,
   "id": "7fa17cfc",
   "metadata": {},
   "outputs": [],
   "source": [
    "data_1 = remove_test(conn_data_1, test)\n",
    "data_2 = remove_test(conn_data_2,test)\n",
    "data_3 = remove_test(conn_data_3, test)\n",
    "data_4 = remove_test(conn_data_4,test)\n",
    "data_5 = remove_test(conn_data_5, test)"
   ]
  },
  {
   "cell_type": "code",
   "execution_count": 33,
   "id": "5b85ff09",
   "metadata": {},
   "outputs": [],
   "source": [
    "#targets= remove_test_targets(targetss, test)"
   ]
  },
  {
   "cell_type": "code",
   "execution_count": 34,
   "id": "4eda710d",
   "metadata": {},
   "outputs": [
    {
     "data": {
      "text/plain": [
       "numpy.ndarray"
      ]
     },
     "execution_count": 34,
     "metadata": {},
     "output_type": "execute_result"
    }
   ],
   "source": [
    "targets= np.array(targets)\n",
    "type(targets)"
   ]
  },
  {
   "cell_type": "code",
   "execution_count": 35,
   "id": "fc23059d",
   "metadata": {},
   "outputs": [
    {
     "data": {
      "text/plain": [
       "47"
      ]
     },
     "execution_count": 35,
     "metadata": {},
     "output_type": "execute_result"
    }
   ],
   "source": [
    "len(targets)"
   ]
  },
  {
   "cell_type": "code",
   "execution_count": 36,
   "id": "75b60944",
   "metadata": {},
   "outputs": [],
   "source": [
    "data_1 = [data_1[i+36] for i in range(47)]\n",
    "data_2 = [data_2[i+36] for i in range(47)]\n",
    "data_3 = [data_3[i+36] for i in range(47)]\n",
    "data_4 = [data_4[i+36] for i in range(47)]\n",
    "data_5 = [data_5[i+36] for i in range(47)]"
   ]
  },
  {
   "cell_type": "code",
   "execution_count": 37,
   "id": "03e89705",
   "metadata": {},
   "outputs": [],
   "source": [
    "all_data = [data_1,data_2,data_3,data_4,data_5]"
   ]
  },
  {
   "cell_type": "code",
   "execution_count": 38,
   "id": "815eb964",
   "metadata": {},
   "outputs": [],
   "source": [
    "def get_arr(data, idx , epoch): \n",
    "    trials = [(data[idx][epoch].reshape(-1,))[i] for i in range(16) if (data[idx][epoch].reshape(-1,))[i] != 0]\n",
    "    m = len(trials)\n",
    "    return (np.array(trials)).reshape((1,m))\n",
    "\n",
    "\n",
    "def get_all_freq_arr(all_data,idx, epoch):\n",
    "    r = get_arr(all_data[0], idx , epoch)\n",
    "    for i in range(1,len(all_data)):\n",
    "        r = np.concatenate((r,get_arr(all_data[i], idx , epoch)),axis =1)\n",
    "        \n",
    "    #r=np.concatenate((get_arr(all_data[0], idx , epoch),get_arr(all_data[1], idx , epoch),get_arr(all_data[2], idx , epoch),get_arr(all_data[3], idx , epoch),get_arr(all_data[4], idx , epoch)), axis=1)\n",
    "    return r\n",
    "    "
   ]
  },
  {
   "cell_type": "code",
   "execution_count": 39,
   "id": "7d79ca04",
   "metadata": {},
   "outputs": [],
   "source": [
    "def get_all_epochs_data(all_data,idx):\n",
    "    r = get_all_freq_arr(all_data,idx,0)\n",
    "    for j in range(1,len(all_data[0][idx])):\n",
    "        r = np.concatenate((r,get_all_freq_arr(all_data,idx,j)),axis = 0)\n",
    "    return r"
   ]
  },
  {
   "cell_type": "code",
   "execution_count": 40,
   "id": "091b117d",
   "metadata": {},
   "outputs": [],
   "source": [
    "def get_all_features(all_data):\n",
    "    output_array = [];\n",
    "    for j in range(len(all_data[0])):\n",
    "        r = get_all_epochs_data(all_data,j)\n",
    "        output_array = output_array + [r]\n",
    "    return output_array"
   ]
  },
  {
   "cell_type": "code",
   "execution_count": 41,
   "id": "f727973e",
   "metadata": {},
   "outputs": [],
   "source": [
    "features = get_all_features(all_data)"
   ]
  },
  {
   "cell_type": "code",
   "execution_count": 42,
   "id": "2b1ff13e",
   "metadata": {},
   "outputs": [],
   "source": [
    "def train_prep(features,targets,exclude=None,flatten_final=True):\n",
    "    total_subjects = len(targets)\n",
    "    target_list = []\n",
    "    for i in range(total_subjects):\n",
    "        num_epochs = features[i].shape[0]\n",
    "        target_list.append(targets[i]*np.ones(num_epochs))\n",
    "    if exclude==None: \n",
    "        features_array = np.concatenate(features)\n",
    "        targets_array = np.concatenate(target_list)\n",
    "    else:\n",
    "        features_array = np.concatenate(features[:exclude] + features[exclude+1:])\n",
    "        targets_array  = np.concatenate(target_list[:exclude] + target_list[exclude+1:])\n",
    "    if flatten_final:\n",
    "        features_array = features_array.reshape((features_array.shape[0],-1))\n",
    "    return features_array, targets_array"
   ]
  },
  {
   "cell_type": "code",
   "execution_count": 43,
   "id": "e394f2db",
   "metadata": {},
   "outputs": [
    {
     "data": {
      "text/plain": [
       "(656, 30)"
      ]
     },
     "execution_count": 43,
     "metadata": {},
     "output_type": "execute_result"
    }
   ],
   "source": [
    "train_prep(features, targets,exclude=10, flatten_final=True)[0].shape"
   ]
  },
  {
   "cell_type": "code",
   "execution_count": 44,
   "id": "c9a297fd",
   "metadata": {},
   "outputs": [],
   "source": [
    "def kNN_cross(rbps,targets,n_neighbors, PCA_components = 0):\n",
    "   \n",
    "    confusion_matrices_train = []\n",
    "    confusion_matrices_test = []\n",
    "    labels = np.unique(targets)\n",
    "    for i in range(len(targets)):\n",
    "        train_X, train_y = train_prep(rbps,targets,exclude=i,flatten_final=True)\n",
    "        test_X = rbps[i].reshape(rbps[i].shape[0],-1)\n",
    "        test_y = targets[i]*np.ones(rbps[i].shape[0])\n",
    "\n",
    "        scaler = StandardScaler()\n",
    "        train_X = scaler.fit_transform(train_X)\n",
    "        test_X = scaler.transform(test_X)\n",
    "        \n",
    "        if PCA_components != 0:\n",
    "            pca = PCA(n_components = PCA_components)\n",
    "            train_X = pca.fit_transform(train_X, y = None)\n",
    "            test_X = pca.transform(test_X)\n",
    "        \n",
    "        ThreeNN = KNeighborsClassifier(n_neighbors=n_neighbors)\n",
    "        ThreeNN.fit(train_X, train_y)\n",
    "        \n",
    "        confusion_matrices_train += [confusion_matrix(train_y, ThreeNN.predict(train_X),labels=labels)]\n",
    "        confusion_matrices_test += [confusion_matrix(test_y,ThreeNN.predict(test_X),labels=labels)]\n",
    "    \n",
    "    confusion_matrices_train = np.array(confusion_matrices_train)\n",
    "    confusion_matrices_test = np.array(confusion_matrices_test)\n",
    "    total_confusion_train = np.sum(confusion_matrices_train, axis= 0)\n",
    "    total_confusion_test = np.sum(confusion_matrices_test, axis= 0)\n",
    "    \n",
    "    train_metrics_dict = {'acc':accuracy(total_confusion_train), 'sens':sensitivity(total_confusion_train), \n",
    "                            'spec':specificity(total_confusion_train), 'f1':f1(total_confusion_train)}\n",
    "    test_metrics_dict = {'acc':accuracy(total_confusion_test), 'sens':sensitivity(total_confusion_test), \n",
    "                            'spec':specificity(total_confusion_test), 'f1':f1(total_confusion_test)}\n",
    "    \n",
    "    \n",
    "    return train_metrics_dict, test_metrics_dict\n"
   ]
  },
  {
   "cell_type": "code",
   "execution_count": 45,
   "id": "657c7396",
   "metadata": {},
   "outputs": [
    {
     "data": {
      "text/plain": [
       "({'acc': 1.0, 'sens': 1.0, 'spec': 1.0, 'f1': 1.0},\n",
       " {'acc': 0.5961251862891207,\n",
       "  'sens': 0.5073529411764706,\n",
       "  'spec': 0.656641604010025,\n",
       "  'f1': 0.5045703839122485})"
      ]
     },
     "execution_count": 45,
     "metadata": {},
     "output_type": "execute_result"
    }
   ],
   "source": [
    "kNN_cross(features, targets, n_neighbors=3, PCA_components = 0 )"
   ]
  },
  {
   "cell_type": "code",
   "execution_count": 46,
   "id": "c599f554",
   "metadata": {},
   "outputs": [],
   "source": [
    "PCA_components = [5, 10, 20]\n",
    "val_acc = []\n",
    "train_acc = []\n",
    "for n in PCA_components: \n",
    "    train_metric_dict, val_metric_dict = kNN_cross(features, targets, n_neighbors=3, PCA_components = n)\n",
    "    val_acc += [val_metric_dict['acc']]\n",
    "    train_acc += [train_metric_dict['acc']]"
   ]
  },
  {
   "cell_type": "code",
   "execution_count": 47,
   "id": "6b6dbe22",
   "metadata": {},
   "outputs": [
    {
     "data": {
      "text/plain": [
       "([0.6348733233979136, 0.6080476900149031, 0.6050670640834576],\n",
       " [0.9780664809175145, 0.9999028056761485, 1.0])"
      ]
     },
     "execution_count": 47,
     "metadata": {},
     "output_type": "execute_result"
    }
   ],
   "source": [
    "val_acc, train_acc"
   ]
  },
  {
   "cell_type": "code",
   "execution_count": 48,
   "id": "a144ca79",
   "metadata": {},
   "outputs": [
    {
     "data": {
      "text/plain": [
       "({'acc': 0.9237996501004342,\n",
       "  'sens': 0.893781969309463,\n",
       "  'spec': 0.9442628309905198,\n",
       "  'f1': 0.9048466704425924},\n",
       " {'acc': 0.6810730253353204,\n",
       "  'sens': 0.6580882352941176,\n",
       "  'spec': 0.6967418546365914,\n",
       "  'f1': 0.6258741258741258})"
      ]
     },
     "execution_count": 48,
     "metadata": {},
     "output_type": "execute_result"
    }
   ],
   "source": [
    "train_metric_dict, val_metric_dict = svm_cross(features, targets, kernel= \"linear\", reg_parameter = 1.0, degree=2, PCA_components= 0)\n",
    "train_metric_dict, val_metric_dict"
   ]
  },
  {
   "cell_type": "code",
   "execution_count": 49,
   "id": "92445e9e",
   "metadata": {},
   "outputs": [
    {
     "data": {
      "text/plain": [
       "({'acc': 0.9350417935592561,\n",
       "  'sens': 0.9211157289002557,\n",
       "  'spec': 0.9445352511714068,\n",
       "  'f1': 0.9199760526840949},\n",
       " {'acc': 0.706408345752608,\n",
       "  'sens': 0.6875,\n",
       "  'spec': 0.7192982456140351,\n",
       "  'f1': 0.6549912434325744})"
      ]
     },
     "execution_count": 49,
     "metadata": {},
     "output_type": "execute_result"
    }
   ],
   "source": [
    "train_metric_dict, val_metric_dict = svm_cross(features, targets, kernel= \"linear\", reg_parameter = 10.0, degree=2, PCA_components= 0)\n",
    "train_metric_dict, val_metric_dict"
   ]
  },
  {
   "cell_type": "code",
   "execution_count": 50,
   "id": "80f4a30c",
   "metadata": {},
   "outputs": [
    {
     "data": {
      "text/plain": [
       "({'acc': 0.8245966435560164,\n",
       "  'sens': 0.5791240409207161,\n",
       "  'spec': 0.9919363626457448,\n",
       "  'f1': 0.7280217019993971},\n",
       " {'acc': 0.6378539493293591,\n",
       "  'sens': 0.2757352941176471,\n",
       "  'spec': 0.8847117794486216,\n",
       "  'f1': 0.3816793893129771})"
      ]
     },
     "execution_count": 50,
     "metadata": {},
     "output_type": "execute_result"
    }
   ],
   "source": [
    "train_metric_dict, val_metric_dict = svm_cross(features, targets, kernel= \"poly\", reg_parameter = 1.0, degree=2, PCA_components= 0)\n",
    "train_metric_dict, val_metric_dict"
   ]
  },
  {
   "cell_type": "code",
   "execution_count": 51,
   "id": "de567631",
   "metadata": {},
   "outputs": [
    {
     "data": {
      "text/plain": [
       "({'acc': 0.9108728050281863,\n",
       "  'sens': 0.8471067774936062,\n",
       "  'spec': 0.9543423776833387,\n",
       "  'f1': 0.8851309031692346},\n",
       " {'acc': 0.6929955290611028,\n",
       "  'sens': 0.6838235294117647,\n",
       "  'spec': 0.6992481203007519,\n",
       "  'f1': 0.643598615916955})"
      ]
     },
     "execution_count": 51,
     "metadata": {},
     "output_type": "execute_result"
    }
   ],
   "source": [
    "train_metric_dict, val_metric_dict = log_reg_cross(features, targets)\n",
    "train_metric_dict, val_metric_dict"
   ]
  },
  {
   "cell_type": "code",
   "execution_count": 52,
   "id": "ecb0ef1e",
   "metadata": {},
   "outputs": [
    {
     "data": {
      "text/plain": [
       "({'acc': 0.8663578047042053,\n",
       "  'sens': 0.7803708439897699,\n",
       "  'spec': 0.9249754821837202,\n",
       "  'f1': 0.8256035175242041},\n",
       " {'acc': 0.7302533532041728,\n",
       "  'sens': 0.6911764705882353,\n",
       "  'spec': 0.7568922305764411,\n",
       "  'f1': 0.6750448833034112})"
      ]
     },
     "execution_count": 52,
     "metadata": {},
     "output_type": "execute_result"
    }
   ],
   "source": [
    "train_metric_dict, val_metric_dict = log_reg_cross(features, targets, PCA_components = 15)\n",
    "train_metric_dict, val_metric_dict"
   ]
  },
  {
   "cell_type": "code",
   "execution_count": null,
   "id": "26829dd5",
   "metadata": {},
   "outputs": [],
   "source": []
  }
 ],
 "metadata": {
  "kernelspec": {
   "display_name": "Python 3 (ipykernel)",
   "language": "python",
   "name": "python3"
  },
  "language_info": {
   "codemirror_mode": {
    "name": "ipython",
    "version": 3
   },
   "file_extension": ".py",
   "mimetype": "text/x-python",
   "name": "python",
   "nbconvert_exporter": "python",
   "pygments_lexer": "ipython3",
   "version": "3.10.13"
  }
 },
 "nbformat": 4,
 "nbformat_minor": 5
}

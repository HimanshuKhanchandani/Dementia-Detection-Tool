{
 "cells": [
  {
   "cell_type": "markdown",
   "id": "41f69dfe",
   "metadata": {},
   "source": [
    "We combined \"long epochs\" of rbps of 15 nodes and 6 connectivities data of 4 symmetrical nodes of delta and theta bands."
   ]
  },
  {
   "cell_type": "code",
   "execution_count": 1,
   "id": "92f59ff1",
   "metadata": {},
   "outputs": [],
   "source": [
    "import mne\n",
    "import warnings\n",
    "import pandas as pd\n",
    "import numpy as np\n",
    "import matplotlib.pyplot as plt\n",
    "from sklearn.neighbors import KNeighborsClassifier\n",
    "from sklearn.preprocessing import StandardScaler\n",
    "from sklearn.metrics import confusion_matrix\n",
    "from Classification_models_LOSO_2Class import *\n",
    "from processing_functions import *\n",
    "from model_functions import *"
   ]
  },
  {
   "cell_type": "code",
   "execution_count": 2,
   "id": "85b672d6",
   "metadata": {},
   "outputs": [],
   "source": [
    "import pandas as pd\n",
    "import numpy as np\n",
    "import matplotlib.pyplot as plt\n",
    "from processing_functions import create_numeric_labels, process_and_save\n",
    "from three_class_classification_models import kNN_cross_3class, RF_cross_3class, MLP_cross_3class\n",
    "import warnings\n",
    "warnings.simplefilter('ignore')"
   ]
  },
  {
   "cell_type": "code",
   "execution_count": 3,
   "id": "4e61c58f",
   "metadata": {},
   "outputs": [],
   "source": [
    "def remove_test(features,test):\n",
    "    features_train = [features[i] for i in range(len(features)) if i not in test]\n",
    "    #target_train = [targets[i] for i in range(len(targets)) if i not in test]\n",
    "    return features_train\n",
    "\n",
    "def remove_test_targets(targets, test):\n",
    "    target_train = [targets[i] for i in range(len(targets)) if i not in test]\n",
    "    return target_train"
   ]
  },
  {
   "cell_type": "code",
   "execution_count": 4,
   "id": "76fd44f2",
   "metadata": {},
   "outputs": [],
   "source": [
    "targetss=[]\n",
    "targetss=[1 for i in range(36)]\n",
    "targetss.extend([0 for i in range(29)])\n",
    "targetss.extend([2 for i in range(23)])\n",
    "test= [4, 6, 8, 20, 33, 49, 53, 63, 71, 72]"
   ]
  },
  {
   "cell_type": "code",
   "execution_count": 5,
   "id": "c2726923",
   "metadata": {},
   "outputs": [],
   "source": [
    "features= np.load('processed_data/rbp_plus_all_con_long_epochs.npy',allow_pickle=True)\n",
    "features= remove_test(features, test)\n",
    "targets=remove_test_targets(targetss,test)"
   ]
  },
  {
   "cell_type": "code",
   "execution_count": 6,
   "id": "99ce5db0",
   "metadata": {},
   "outputs": [
    {
     "data": {
      "text/plain": [
       "({'acc': 0.9990354473113093,\n",
       "  'sens': 0.9999151175621764,\n",
       "  'spec': 1.0,\n",
       "  'f1': 0.9999575569797546},\n",
       " {'acc': 0.493368700265252,\n",
       "  'sens': 0.6134453781512605,\n",
       "  'spec': 0.7420289855072464,\n",
       "  'f1': 0.6586466165413534})"
      ]
     },
     "execution_count": 6,
     "metadata": {},
     "output_type": "execute_result"
    }
   ],
   "source": [
    "kNN_cross(features,targets,n_neighbors=4, PCA_components = 0)"
   ]
  },
  {
   "cell_type": "code",
   "execution_count": 7,
   "id": "ef80b391",
   "metadata": {},
   "outputs": [],
   "source": [
    "PCA_components = [2, 5, 8]\n",
    "val_acc = []\n",
    "train_acc = []\n",
    "for n in PCA_components: \n",
    "    train_metric_dict, val_metric_dict = kNN_cross(features, targets, n_neighbors=3, PCA_components = n)\n",
    "    val_acc += [val_metric_dict['acc']]\n",
    "    train_acc += [train_metric_dict['acc']]"
   ]
  },
  {
   "cell_type": "code",
   "execution_count": 8,
   "id": "7e001d86",
   "metadata": {},
   "outputs": [
    {
     "data": {
      "text/plain": [
       "([0.3890362511052166, 0.4297082228116711, 0.44562334217506633],\n",
       " [0.7829182311940933, 0.9651038616555858, 0.989562161975955])"
      ]
     },
     "execution_count": 8,
     "metadata": {},
     "output_type": "execute_result"
    }
   ],
   "source": [
    "val_acc, train_acc"
   ]
  },
  {
   "cell_type": "code",
   "execution_count": null,
   "id": "8c8db1b1",
   "metadata": {},
   "outputs": [],
   "source": []
  }
 ],
 "metadata": {
  "kernelspec": {
   "display_name": "Python 3 (ipykernel)",
   "language": "python",
   "name": "python3"
  },
  "language_info": {
   "codemirror_mode": {
    "name": "ipython",
    "version": 3
   },
   "file_extension": ".py",
   "mimetype": "text/x-python",
   "name": "python",
   "nbconvert_exporter": "python",
   "pygments_lexer": "ipython3",
   "version": "3.10.13"
  }
 },
 "nbformat": 4,
 "nbformat_minor": 5
}

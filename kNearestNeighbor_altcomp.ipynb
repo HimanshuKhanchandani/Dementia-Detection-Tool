{
 "cells": [
  {
   "cell_type": "code",
   "execution_count": 1,
   "id": "ce1f7878",
   "metadata": {},
   "outputs": [],
   "source": [
    "import mne\n",
    "import warnings\n",
    "import pandas as pd\n",
    "import numpy as np\n",
    "import matplotlib.pyplot as plt\n",
    "from scipy.signal import welch\n",
    "from sklearn.neighbors import KNeighborsClassifier\n",
    "from sklearn.preprocessing import StandardScaler\n",
    "from sklearn.metrics import confusion_matrix\n",
    "from processing_functions import ppt_id, create_epochs, freq_ind, create_numeric_labels, relative_band_power\n",
    "warnings.simplefilter('ignore')"
   ]
  },
  {
   "cell_type": "code",
   "execution_count": 7,
   "id": "58e63990",
   "metadata": {},
   "outputs": [],
   "source": [
    "def band_power(ppt_psd,freqs,freq_bands):\n",
    "    indices = freq_ind(freqs,freq_bands)\n",
    "    bands_list = []\n",
    "    for i in range(len(indices)-1):\n",
    "        bands_list.append((freqs[1]-freqs[0])*np.sum(ppt_psd[:,indices[i]:indices[i+1],:],axis=1,keepdims=True))\n",
    "    return np.transpose(np.squeeze(np.array(bands_list)),(1,0,2))\n"
   ]
  },
  {
   "cell_type": "markdown",
   "id": "89c31269",
   "metadata": {},
   "source": [
    "The following piece of code creates numerical labels for the target variable: 0 for Alzheimer's, 1 for Frontotemporal dementia, and 2 for healthy group"
   ]
  },
  {
   "cell_type": "code",
   "execution_count": 2,
   "id": "b51b45a1",
   "metadata": {
    "scrolled": false
   },
   "outputs": [
    {
     "data": {
      "text/plain": [
       "array([0, 0, 0, 0, 0, 0, 0, 0, 0, 0, 0, 0, 0, 0, 0, 0, 0, 0, 0, 0, 0, 0,\n",
       "       0, 0, 0, 0, 0, 0, 0, 0, 0, 0, 0, 0, 0, 0, 2, 2, 2, 2, 2, 2, 2, 2,\n",
       "       2, 2, 2, 2, 2, 2, 2, 2, 2, 2, 2, 2, 2, 2, 2, 2, 2, 2, 2, 2, 2, 1,\n",
       "       1, 1, 1, 1, 1, 1, 1, 1, 1, 1, 1, 1, 1, 1, 1, 1, 1, 1, 1, 1, 1, 1],\n",
       "      dtype=int64)"
      ]
     },
     "execution_count": 2,
     "metadata": {},
     "output_type": "execute_result"
    }
   ],
   "source": [
    "ppt_diagnostics = pd.read_csv('data/ds004504/participants.tsv',sep='\\t')\n",
    "target_labels = ppt_diagnostics['Group'].apply(create_numeric_labels).values\n",
    "target_labels"
   ]
  },
  {
   "cell_type": "markdown",
   "id": "1a09f381",
   "metadata": {},
   "source": [
    "The general pipeline is to import the data for the patient, create epochs of 4 s each with 50 percent overlap, then compute the average power spectrum for each of the five bands for all 19 channels, so we end up with $19*5 = 95$ features for each epoch. We then train a three nearest neighbor classifier on the patients. We choose leave one patient out cross validation, so we will train on all but one patients and test the accuracy of the method on this last patient. We record the accuracy of every run and then in the end, calculate the mean and the standard deviation of the procedure. "
   ]
  },
  {
   "cell_type": "code",
   "execution_count": 3,
   "id": "6769bb80",
   "metadata": {},
   "outputs": [],
   "source": [
    "epoch_length = 2000\n",
    "overlap_ratio = 0.5\n",
    "freq_bands = np.array([0.5,4.0,8.0,13.0,25.0,45.0])\n",
    "sample_freq = 500 #hertz"
   ]
  },
  {
   "cell_type": "code",
   "execution_count": 4,
   "id": "cfef0069",
   "metadata": {},
   "outputs": [],
   "source": [
    "ppt = 1\n",
    "raw_data = mne.io.read_raw_eeglab('data/ds004504/derivatives/' + ppt_id(ppt)\n",
    "                                  + '/eeg/' + ppt_id(ppt) + '_task-eyesclosed_eeg.set', preload = True)"
   ]
  },
  {
   "cell_type": "code",
   "execution_count": 5,
   "id": "8a07c7a9",
   "metadata": {},
   "outputs": [],
   "source": [
    "export = raw_data.to_data_frame()\n",
    "ppt_array = export.iloc[:,range(1,len(export.columns))].values\n",
    "del raw_data\n",
    "del export\n",
    "ppt_epochs = create_epochs(ppt_array,epoch_length,overlap_ratio)\n",
    "freqs, ppt_psd  = welch(ppt_epochs,fs=sample_freq, axis=1)"
   ]
  },
  {
   "cell_type": "code",
   "execution_count": 14,
   "id": "11f742b5",
   "metadata": {},
   "outputs": [
    {
     "data": {
      "text/plain": [
       "[1, 3, 5, 7, 13, 24]"
      ]
     },
     "execution_count": 14,
     "metadata": {},
     "output_type": "execute_result"
    }
   ],
   "source": [
    "indices = freq_ind(freqs,freq_bands)\n",
    "indices"
   ]
  },
  {
   "cell_type": "code",
   "execution_count": 16,
   "id": "f8119470",
   "metadata": {},
   "outputs": [
    {
     "data": {
      "text/plain": [
       "array([58.53699924, 24.62876712,  7.61911437,  2.22494087,  1.55793328,\n",
       "        2.88881974,  1.50681211,  1.09845937,  0.72250541,  0.61191937,\n",
       "        0.47813142,  0.47287542,  0.45897409,  0.2893695 ,  0.19548259,\n",
       "        0.14721017,  0.18780827,  0.16157107,  0.12615223,  0.13499466,\n",
       "        0.12111435,  0.10868682,  0.06256057])"
      ]
     },
     "execution_count": 16,
     "metadata": {},
     "output_type": "execute_result"
    }
   ],
   "source": [
    "ppt_psd[4,indices[0]:indices[-1],4]"
   ]
  },
  {
   "cell_type": "code",
   "execution_count": null,
   "id": "5cf1d448",
   "metadata": {},
   "outputs": [],
   "source": [
    "indices = freq_ind(freqs,freq_bands)\n",
    "total_power = np.sum(ppt_psd[:,indices[0]:indices[-1],:],axis=1,keepdims=True)\n",
    "relative_bands_list = []\n",
    "for i in range(len(indices)-1):\n",
    "    relative_bands_list.append(np.sum(ppt_psd[:,indices[i]:indices[i+1],:],axis=1,keepdims=True)/total_power)"
   ]
  },
  {
   "cell_type": "markdown",
   "id": "12ca64b5",
   "metadata": {},
   "source": [
    "The code below goes through all the participants and creates a list of features and target variables, which we will then use for training and validating our model. "
   ]
  },
  {
   "cell_type": "code",
   "execution_count": 8,
   "id": "c89f6cf8",
   "metadata": {},
   "outputs": [],
   "source": [
    "features = []\n",
    "targets = []\n",
    "for i in range(len(target_labels)):\n",
    "    ppt = i + 1\n",
    "    raw_data = mne.io.read_raw_eeglab('data/ds004504/derivatives/' + ppt_id(ppt)\n",
    "                                  + '/eeg/' + ppt_id(ppt) + '_task-eyesclosed_eeg.set', preload = True)\n",
    "    export = raw_data.to_data_frame()\n",
    "    ppt_array = export.iloc[:,range(1,len(export.columns))].values\n",
    "    del raw_data\n",
    "    del export\n",
    "    ppt_epochs = create_epochs(ppt_array,epoch_length,overlap_ratio)\n",
    "    freqs, ppt_psd  = welch(ppt_epochs,fs=sample_freq, axis=1)\n",
    "    ppt_rbp = band_power(ppt_psd,freqs,freq_bands)\n",
    "    features += [ppt_rbp]\n",
    "    targets += [[target_labels[i]]*ppt_rbp.shape[0]]"
   ]
  },
  {
   "cell_type": "code",
   "execution_count": 14,
   "id": "765c9f7a",
   "metadata": {},
   "outputs": [],
   "source": [
    "features_means = np.array([np.mean(feature,axis=0) for feature in features])"
   ]
  },
  {
   "cell_type": "code",
   "execution_count": 19,
   "id": "b452e253",
   "metadata": {},
   "outputs": [
    {
     "data": {
      "text/plain": [
       "array([[280.29502962, 284.989359  , 268.6273854 , 265.64911325,\n",
       "        248.95118989, 249.50587258, 257.78245093, 258.7012715 ,\n",
       "        268.17797521, 273.83278495, 285.33956255, 278.73332765,\n",
       "        270.89179468, 268.1264606 , 265.2787048 , 266.8694744 ,\n",
       "        266.54354861, 252.29903672, 257.92556223],\n",
       "       [ 39.58520048,  39.67402866,  38.10411944,  36.91453879,\n",
       "         30.91197451,  31.05261187,  36.04339649,  36.24097154,\n",
       "         43.17495086,  44.20913282,  43.5194882 ,  41.42853972,\n",
       "         42.32605699,  40.68379218,  44.62964834,  45.29403578,\n",
       "         39.320046  ,  31.22974128,  34.67344807],\n",
       "       [ 14.98779931,  14.8670698 ,  13.53662111,  13.0993783 ,\n",
       "         10.40351134,  10.5122443 ,  15.62448508,  16.37250168,\n",
       "         22.87873902,  23.66113588,  16.88128325,  16.36287613,\n",
       "         16.27393284,  15.78827262,  20.30579982,  21.73436122,\n",
       "         13.22560552,  10.35376619,  14.64749413],\n",
       "       [ 14.3248851 ,  15.34197636,  13.55154993,  14.12359872,\n",
       "         10.02410754,  10.15423165,  11.64431931,  11.51891528,\n",
       "         14.36209312,  14.67500183,  18.35534746,  16.63635471,\n",
       "         14.8686172 ,  16.8199779 ,  13.84559744,  14.17242168,\n",
       "         11.60991726,  10.55827736,  10.76608908],\n",
       "       [ 12.04308785,  14.30699775,  10.66146604,  11.27435824,\n",
       "          5.72709557,   5.69222174,   6.00946051,   6.29458841,\n",
       "          8.91434196,  10.0414387 ,  22.43881178,  16.71139161,\n",
       "         13.52574372,  17.52993254,   8.84182452,   8.97405946,\n",
       "          6.37231118,   5.55865955,   5.9064461 ]])"
      ]
     },
     "execution_count": 19,
     "metadata": {},
     "output_type": "execute_result"
    }
   ],
   "source": [
    "alz_mean = np.mean(features_means[0:36],axis=0)\n",
    "alz_mean"
   ]
  },
  {
   "cell_type": "code",
   "execution_count": 20,
   "id": "a6c915ff",
   "metadata": {},
   "outputs": [
    {
     "data": {
      "text/plain": [
       "array([[260.74233457, 265.28379643, 258.96586028, 258.68289567,\n",
       "        248.94828622, 249.04618291, 254.48104107, 252.94549777,\n",
       "        262.83022798, 268.29042027, 262.96779244, 265.64511926,\n",
       "        257.76562703, 262.59451166, 257.99167309, 262.1131396 ,\n",
       "        253.20413802, 251.93109137, 253.60272267],\n",
       "       [ 36.37976038,  36.63509431,  34.62478426,  35.22288942,\n",
       "         31.60568508,  31.5771712 ,  41.73953486,  37.98319694,\n",
       "         56.87984195,  58.90808314,  37.79308569,  38.29547878,\n",
       "         39.42837765,  37.95234228,  58.12845283,  51.30034644,\n",
       "         35.79226877,  32.1876094 ,  38.74706646],\n",
       "       [ 20.0785432 ,  20.35538015,  16.89405008,  18.04461338,\n",
       "         13.12194744,  13.04347439,  30.48139263,  26.40516187,\n",
       "         61.13384656,  70.09776754,  20.50249524,  21.50089357,\n",
       "         23.3575949 ,  20.57837455,  57.60366577,  45.48009737,\n",
       "         17.86781105,  12.67363617,  27.20864965],\n",
       "       [ 15.9903449 ,  15.69635543,  15.1273497 ,  15.27135103,\n",
       "         12.42472949,  12.44436748,  16.46791885,  15.35128343,\n",
       "         21.73850579,  23.29991859,  17.69307535,  16.68805687,\n",
       "         19.48560667,  17.73889505,  22.26297034,  19.87493965,\n",
       "         13.75426754,  12.45140747,  14.52082556],\n",
       "       [ 10.75665048,  10.04414567,   9.34912876,   9.48175371,\n",
       "          6.04018353,   6.06640484,   6.8776454 ,   6.52361187,\n",
       "         10.34154078,  11.55048415,  13.40119192,  10.9621652 ,\n",
       "         13.47754675,  12.17544651,   9.52482964,   9.18530068,\n",
       "          6.91882845,   6.16420302,   6.4131247 ]])"
      ]
     },
     "execution_count": 20,
     "metadata": {},
     "output_type": "execute_result"
    }
   ],
   "source": [
    "healthy_mean = np.mean(features_means[36:65],axis=0)\n",
    "healthy_mean"
   ]
  },
  {
   "cell_type": "code",
   "execution_count": 36,
   "id": "ec52744f",
   "metadata": {},
   "outputs": [
    {
     "data": {
      "text/plain": [
       "array([233.90208648,  33.64611663,  23.60351749,  15.55665842,\n",
       "         6.69173496])"
      ]
     },
     "execution_count": 36,
     "metadata": {},
     "output_type": "execute_result"
    }
   ],
   "source": [
    "np.mean(ppt_means[],axis=0)"
   ]
  },
  {
   "cell_type": "code",
   "execution_count": 34,
   "id": "412c36e7",
   "metadata": {},
   "outputs": [
    {
     "data": {
      "text/plain": [
       "(array([382.,   6.,   1.,   0.,   0.,   0.,   0.,   0.,   0.,   2.]),\n",
       " array([ 4.00130341, 11.09337752, 18.18545162, 25.27752573, 32.36959983,\n",
       "        39.46167393, 46.55374804, 53.64582214, 60.73789625, 67.82997035,\n",
       "        74.92204446]),\n",
       " <BarContainer object of 10 artists>)"
      ]
     },
     "execution_count": 34,
     "metadata": {},
     "output_type": "execute_result"
    },
    {
     "data": {
      "image/png": "[encoded data removed]",
      "text/plain": [
       "<Figure size 640x480 with 1 Axes>"
      ]
     },
     "metadata": {},
     "output_type": "display_data"
    }
   ],
   "source": [
    "plt.hist(ppt_means[:,4],bins=10)"
   ]
  },
  {
   "cell_type": "code",
   "execution_count": 49,
   "id": "d6b55e2b",
   "metadata": {},
   "outputs": [
    {
     "name": "stdout",
     "output_type": "stream",
     "text": [
      "88 88\n",
      "(383, 95) 383\n"
     ]
    }
   ],
   "source": [
    "# Just checking that the features and targets have the same shape. \n",
    "print(len(features), len(targets))\n",
    "print(features[10].shape, len(targets[10]))"
   ]
  },
  {
   "cell_type": "markdown",
   "id": "405f7733",
   "metadata": {},
   "source": [
    "We start by just training a two class classifier for Alzheimer's vs Healthy. It is easy to see that the first 65 patients correspond to those two classes so we will first use those two. "
   ]
  },
  {
   "cell_type": "code",
   "execution_count": 50,
   "id": "4b05b3eb",
   "metadata": {
    "scrolled": true
   },
   "outputs": [],
   "source": [
    "cross_valid_acc = []\n",
    "confusion_matrices = []\n",
    "for i in range(65):\n",
    "    # The following two arrays will store the target and features for the train set. We will append to it\n",
    "    # as we go through various subjects. \n",
    "    train_X = np.concatenate(features[:i] + features[i+1:65])\n",
    "    train_y = np.concatenate(targets[:i] + targets[i+1:65])\n",
    "    \n",
    "    \n",
    "    # The following two arrays will store target and features for the test set. \n",
    "    test_X = features[i]\n",
    "    test_y = targets[i]\n",
    "    \n",
    "    # scaling the features to make sure they have same mean and standard deviation\n",
    "    \n",
    "    scaler = StandardScaler()\n",
    "    train_X = scaler.fit_transform(train_X)\n",
    "    \n",
    "    # We now train the classifier on the test data\n",
    "    ThreeNN = KNeighborsClassifier(n_neighbors=3)\n",
    "    ThreeNN.fit(train_X, train_y)\n",
    "    \n",
    "    \n",
    "    test_X = scaler.transform(test_X)\n",
    "    \n",
    "    # This stores the accuracy on the test data\n",
    "    cross_valid_acc += [ThreeNN.score(test_X, test_y)]\n",
    "    confusion_matrices += [confusion_matrix(test_y,ThreeNN.predict(test_X))]\n"
   ]
  },
  {
   "cell_type": "code",
   "execution_count": 51,
   "id": "667232ef",
   "metadata": {},
   "outputs": [
    {
     "data": {
      "text/plain": [
       "array([[9290, 5224],\n",
       "       [4017, 7995]], dtype=int64)"
      ]
     },
     "execution_count": 51,
     "metadata": {},
     "output_type": "execute_result"
    }
   ],
   "source": [
    "confusion_matrices = np.array(confusion_matrices)\n",
    "total_confusion = np.sum(confusion_matrices, axis= 0)\n",
    "total_confusion"
   ]
  },
  {
   "cell_type": "code",
   "execution_count": 52,
   "id": "0e9c7820",
   "metadata": {},
   "outputs": [],
   "source": [
    "total = np.sum(total_confusion)\n",
    "acc = (total_confusion[0,0] +total_confusion[1,1])/total\n",
    "sens = total_confusion[0,0]/(total_confusion[0,0]+total_confusion[0,1])\n",
    "spec = total_confusion[1,1]/(total_confusion[1,1]+total_confusion[1,0])\n",
    "prec = total_confusion[0,0]/(total_confusion[0,0]+total_confusion[1,0])\n",
    "f1 = 2*(prec*sens)/(prec+sens)"
   ]
  },
  {
   "cell_type": "code",
   "execution_count": 53,
   "id": "2c8b0711",
   "metadata": {},
   "outputs": [
    {
     "name": "stdout",
     "output_type": "stream",
     "text": [
      "(0.6516248209304079, 0.6400716549538377, 0.6655844155844156, 0.6678408396534992)\n"
     ]
    }
   ],
   "source": [
    "print((acc,sens,spec,f1))"
   ]
  },
  {
   "cell_type": "code",
   "execution_count": 33,
   "id": "c2dccb30",
   "metadata": {},
   "outputs": [
    {
     "data": {
      "text/plain": [
       "array([[9290, 5224],\n",
       "       [4017, 7995]], dtype=int64)"
      ]
     },
     "execution_count": 33,
     "metadata": {},
     "output_type": "execute_result"
    }
   ],
   "source": [
    "confusion_matrices = np.array(confusion_matrices)\n",
    "total_confusion = np.sum(confusion_matrices, axis= 0)\n",
    "total_confusion"
   ]
  },
  {
   "cell_type": "code",
   "execution_count": 34,
   "id": "e097f234",
   "metadata": {},
   "outputs": [],
   "source": [
    "total = np.sum(total_confusion)\n",
    "acc = (total_confusion[0,0] +total_confusion[1,1])/total\n",
    "sens = total_confusion[0,0]/(total_confusion[0,0]+total_confusion[0,1])\n",
    "spec = total_confusion[1,1]/(total_confusion[1,1]+total_confusion[1,0])\n",
    "prec = total_confusion[0,0]/(total_confusion[0,0]+total_confusion[1,0])\n",
    "f1 = 2*(prec*sens)/(prec+sens)"
   ]
  },
  {
   "cell_type": "code",
   "execution_count": 35,
   "id": "c998f6d5",
   "metadata": {},
   "outputs": [
    {
     "name": "stdout",
     "output_type": "stream",
     "text": [
      "(0.6516248209304079, 0.6400716549538377, 0.6655844155844156, 0.6678408396534992)\n"
     ]
    }
   ],
   "source": [
    "print((acc,sens,spec,f1))"
   ]
  },
  {
   "cell_type": "code",
   "execution_count": 79,
   "id": "4f9fb282",
   "metadata": {
    "scrolled": true
   },
   "outputs": [
    {
     "data": {
      "text/plain": [
       "[0.6510067114093959,\n",
       " 0.45569620253164556,\n",
       " 0.5526315789473685,\n",
       " 0.8977272727272727,\n",
       " 0.513715710723192]"
      ]
     },
     "execution_count": 79,
     "metadata": {},
     "output_type": "execute_result"
    }
   ],
   "source": [
    "cross_valid_acc[0:5]"
   ]
  },
  {
   "cell_type": "code",
   "execution_count": 80,
   "id": "389738c0",
   "metadata": {},
   "outputs": [
    {
     "data": {
      "text/plain": [
       "(0.6668528055353906, 0.2222600102467725)"
      ]
     },
     "execution_count": 80,
     "metadata": {},
     "output_type": "execute_result"
    }
   ],
   "source": [
    "np.mean(cross_valid_acc), np.std(cross_valid_acc)"
   ]
  },
  {
   "cell_type": "markdown",
   "id": "1851b83c",
   "metadata": {},
   "source": [
    "Now we train a three class classifier on the same data. "
   ]
  },
  {
   "cell_type": "code",
   "execution_count": 74,
   "id": "1af2fdd3",
   "metadata": {
    "scrolled": true
   },
   "outputs": [],
   "source": [
    "cross_valid_acc_3class = []\n",
    "for i in range(len(target_labels)):\n",
    "    \n",
    "    # The following two arrays will store the target and features for the train set. We will append to it\n",
    "    # as we go through various subjects. \n",
    "    train_X = np.concatenate(features[:i] + features[i+1:])\n",
    "    train_y = np.concatenate(targets[:i] + targets[i+1:])\n",
    "    \n",
    "    \n",
    "    # The following two arrays will store target and features for the test set. \n",
    "    test_X = features[i]\n",
    "    test_y = targets[i]\n",
    "    \n",
    "    # scaling the features to make sure they have same mean and standard deviation\n",
    "    \n",
    "    scaler = StandardScaler()\n",
    "    train_X = scaler.fit_transform(train_X)\n",
    "    \n",
    "    # We now train the classifier on the test data\n",
    "    ThreeNN = KNeighborsClassifier(n_neighbors=3)\n",
    "    ThreeNN.fit(train_X, train_y)\n",
    "    \n",
    "    \n",
    "    test_X = scaler.transform(test_X)\n",
    "    \n",
    "    # This stores the accuracy on the test data\n",
    "    cross_valid_acc_3class += [ThreeNN.score(test_X, test_y)]\n"
   ]
  },
  {
   "cell_type": "code",
   "execution_count": 75,
   "id": "7b699a60",
   "metadata": {},
   "outputs": [
    {
     "data": {
      "text/plain": [
       "[0.5637583892617449,\n",
       " 0.35443037974683544,\n",
       " 0.4342105263157895,\n",
       " 0.4914772727272727,\n",
       " 0.513715710723192,\n",
       " 0.17777777777777778,\n",
       " 0.599476439790576,\n",
       " 0.8025316455696202,\n",
       " 0.3770491803278688,\n",
       " 0.1674491392801252]"
      ]
     },
     "execution_count": 75,
     "metadata": {},
     "output_type": "execute_result"
    }
   ],
   "source": [
    "cross_valid_acc_3class[0:10]"
   ]
  },
  {
   "cell_type": "code",
   "execution_count": 76,
   "id": "3840e6b2",
   "metadata": {},
   "outputs": [
    {
     "data": {
      "text/plain": [
       "(0.45720000208854844, 0.25162364663428294)"
      ]
     },
     "execution_count": 76,
     "metadata": {},
     "output_type": "execute_result"
    }
   ],
   "source": [
    "np.mean(cross_valid_acc_3class), np.std(cross_valid_acc_3class)"
   ]
  },
  {
   "cell_type": "code",
   "execution_count": null,
   "id": "b16d1e35",
   "metadata": {},
   "outputs": [],
   "source": []
  }
 ],
 "metadata": {
  "kernelspec": {
   "display_name": "Python 3 (ipykernel)",
   "language": "python",
   "name": "python3"
  },
  "language_info": {
   "codemirror_mode": {
    "name": "ipython",
    "version": 3
   },
   "file_extension": ".py",
   "mimetype": "text/x-python",
   "name": "python",
   "nbconvert_exporter": "python",
   "pygments_lexer": "ipython3",
   "version": "3.11.5"
  }
 },
 "nbformat": 4,
 "nbformat_minor": 5
}

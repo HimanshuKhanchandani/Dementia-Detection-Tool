{
 "cells": [
  {
   "cell_type": "code",
   "execution_count": 1,
   "id": "8899209f",
   "metadata": {},
   "outputs": [],
   "source": [
    "import numpy as np\n",
    "from model_functions import *\n",
    "from Classification_models_LOSO_2Class import *"
   ]
  },
  {
   "cell_type": "markdown",
   "id": "f3375e5c",
   "metadata": {},
   "source": [
    "### Healthy vs Frontotemporal Dementia Performance"
   ]
  },
  {
   "cell_type": "code",
   "execution_count": 2,
   "id": "dbb3ce4d",
   "metadata": {},
   "outputs": [],
   "source": [
    "subject_data, freqs, targets = load_psds('all_psds.pickle')\n",
    "test_labels = align_test_labels(classes=['C','F'])\n",
    "features, targets = remove_class(subject_data,targets,'A')\n",
    "features, targets = remove_test(features,targets,test_labels)\n",
    "rbps = [relative_band_power(features[i],freqs,\n",
    "                            freq_bands=[0.5,4.0,7.0,9.0,11.0,13.0,25.0,45.0]) \n",
    "        for i in range(len(features))]"
   ]
  },
  {
   "cell_type": "code",
   "execution_count": 3,
   "id": "fa09966d",
   "metadata": {
    "scrolled": true
   },
   "outputs": [
    {
     "data": {
      "text/plain": [
       "({'acc': 0.8794326241134752,\n",
       "  'sens': 0.9145616968843513,\n",
       "  'spec': 0.8547998889128892,\n",
       "  'f1': 0.8621297602256699},\n",
       " {'acc': 0.72090112640801,\n",
       "  'sens': 0.6376518218623481,\n",
       "  'spec': 0.7792760823278921,\n",
       "  'f1': 0.6531881804043546})"
      ]
     },
     "execution_count": 3,
     "metadata": {},
     "output_type": "execute_result"
    }
   ],
   "source": [
    "train_metric_dict, val_metric_dict = svm_cross(rbps, targets,kernel='linear',\n",
    "                                               reg_parameter=0.085, PCA_components = 32)\n",
    "train_metric_dict, val_metric_dict"
   ]
  },
  {
   "cell_type": "markdown",
   "id": "c3f984db",
   "metadata": {},
   "source": [
    "### Alzheimer's vs Frontotemporal Dementia Performance"
   ]
  },
  {
   "cell_type": "code",
   "execution_count": 10,
   "id": "0d6d306b",
   "metadata": {},
   "outputs": [],
   "source": [
    "subject_data, freqs, targets = load_psds('all_psds.pickle')\n",
    "test_labels = align_test_labels(classes=['A','F'])\n",
    "features, targets = remove_class(subject_data,targets,'C')\n",
    "features, targets = remove_test(features,targets,test_labels)\n",
    "rbps = [relative_band_power(features[i],freqs,\n",
    "                            freq_bands=[0.5,3.0,6.0,9.0,11.0,13.0,25.0,45.0]) \n",
    "        for i in range(len(features))]"
   ]
  },
  {
   "cell_type": "code",
   "execution_count": 11,
   "id": "dcfed867",
   "metadata": {},
   "outputs": [
    {
     "data": {
      "text/plain": [
       "({'acc': 0.8421776904995686,\n",
       "  'sens': 0.7443637373977932,\n",
       "  'spec': 0.9008185798591282,\n",
       "  'f1': 0.7795201130612797},\n",
       " {'acc': 0.5694233687405159,\n",
       "  'sens': 0.298582995951417,\n",
       "  'spec': 0.7317961165048543,\n",
       "  'f1': 0.34202898550724636})"
      ]
     },
     "execution_count": 11,
     "metadata": {},
     "output_type": "execute_result"
    }
   ],
   "source": [
    "train_metric_dict, val_metric_dict = svm_cross(rbps, targets,kernel='linear',\n",
    "                                               reg_parameter=0.085, PCA_components = 50)\n",
    "train_metric_dict, val_metric_dict"
   ]
  },
  {
   "cell_type": "code",
   "execution_count": null,
   "id": "c7f830b5",
   "metadata": {},
   "outputs": [],
   "source": []
  }
 ],
 "metadata": {
  "kernelspec": {
   "display_name": "Python 3 (ipykernel)",
   "language": "python",
   "name": "python3"
  },
  "language_info": {
   "codemirror_mode": {
    "name": "ipython",
    "version": 3
   },
   "file_extension": ".py",
   "mimetype": "text/x-python",
   "name": "python",
   "nbconvert_exporter": "python",
   "pygments_lexer": "ipython3",
   "version": "3.10.11"
  }
 },
 "nbformat": 4,
 "nbformat_minor": 5
}

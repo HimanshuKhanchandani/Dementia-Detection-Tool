{
 "cells": [
  {
   "cell_type": "code",
   "execution_count": 2,
   "id": "07015d56",
   "metadata": {},
   "outputs": [],
   "source": [
    "import numpy as np\n",
    "from model_functions import *\n",
    "from Classification_models_LOSO_2Class import *\n",
    "import matplotlib.pyplot as plt\n",
    "import warnings\n",
    "warnings.filterwarnings('ignore')"
   ]
  },
  {
   "cell_type": "markdown",
   "id": "08863921",
   "metadata": {},
   "source": [
    "In this notebook: we test out different classification methods on the data using relative band power features. In addition, we also experimented with different frequency bands, and epoch lengths and here only report the ones that performed best. We measure performance by Leave-One-Subject-Out cross-validation. This cross-validation method iterates through all subjects, iteratively leaves out one subject at a time, builds a model using the rest of the dataset, and then computes the confusion matrix for that model's predictions on the data corresponding to the left-out subject. The necessary functions to perform such a cross-validation are stored in \"Classification_models_functions_LOSO_2Class.py\" file. "
   ]
  },
  {
   "cell_type": "markdown",
   "id": "fc83c6c6",
   "metadata": {},
   "source": [
    "The following piece of code calculates and saves the relative band power data into your computer in the file path you write in config.py. You only need to run it once, and then comment it out. All the functions used are defined in model_functions file. "
   ]
  },
  {
   "cell_type": "code",
   "execution_count": 2,
   "id": "dd9e51ef",
   "metadata": {},
   "outputs": [],
   "source": [
    "#uncomment to run and create the all_psds_very_long file. \n",
    "\n",
    "#subject_data, freqs, targets = load_data(duration=120,overlap=60,seg_length=4)\n",
    "#save_psds(subject_data,freqs,targets,'all_psds_very_long.pickle')\n"
   ]
  },
  {
   "cell_type": "code",
   "execution_count": 3,
   "id": "be45b354",
   "metadata": {},
   "outputs": [],
   "source": [
    "subject_data, freqs, targets = load_psds('all_psds_very_long.pickle')\n",
    "test_labels = align_test_labels(classes=['A','C'])\n",
    "features, targets = remove_class(subject_data,targets,'F')\n",
    "features, targets = remove_test(features,targets,test_labels)\n",
    "rbps = [relative_band_power(features[i],freqs,freq_bands=[0.5,4.0,7.0,9.0,11.0,13.0,25.0]) \n",
    "        for i in range(len(features))]"
   ]
  },
  {
   "cell_type": "code",
   "execution_count": 4,
   "id": "d00305d5",
   "metadata": {},
   "outputs": [],
   "source": [
    "rbps = remove_channel(rbps, ['F3','F4', 'C4', 'F8'])"
   ]
  },
  {
   "cell_type": "code",
   "execution_count": 5,
   "id": "8b63132b",
   "metadata": {},
   "outputs": [
    {
     "data": {
      "text/plain": [
       "702"
      ]
     },
     "execution_count": 5,
     "metadata": {},
     "output_type": "execute_result"
    }
   ],
   "source": [
    "sum(rbps[i].shape[0] for i in range(len(rbps)))"
   ]
  },
  {
   "cell_type": "code",
   "execution_count": 6,
   "id": "17c376c4",
   "metadata": {},
   "outputs": [
    {
     "data": {
      "text/plain": [
       "(12, 15, 6)"
      ]
     },
     "execution_count": 6,
     "metadata": {},
     "output_type": "execute_result"
    }
   ],
   "source": [
    "rbps[1].shape"
   ]
  },
  {
   "cell_type": "code",
   "execution_count": 7,
   "id": "fc0ecb2c",
   "metadata": {},
   "outputs": [],
   "source": [
    "# These variables will record the accuracies and corresponding models for various models to plot it later. \n",
    "accuracies = []\n",
    "Models = []"
   ]
  },
  {
   "cell_type": "markdown",
   "id": "1c10c2d4",
   "metadata": {},
   "source": [
    "Next we try all the different classification algorithms. Necessary functions are in Classification_models_LOSO_2Class file"
   ]
  },
  {
   "cell_type": "markdown",
   "id": "174b7f8f",
   "metadata": {},
   "source": [
    "### k nearest neighbor classifier"
   ]
  },
  {
   "cell_type": "code",
   "execution_count": 8,
   "id": "83b1bc44",
   "metadata": {
    "scrolled": true
   },
   "outputs": [
    {
     "data": {
      "text/plain": [
       "({'acc': 0.9882478632478633,\n",
       "  'sens': 0.9897757255936676,\n",
       "  'spec': 0.9864551083591331,\n",
       "  'f1': 0.9891232696110746},\n",
       " {'acc': 0.7222222222222222,\n",
       "  'sens': 0.7651715039577837,\n",
       "  'spec': 0.6718266253869969,\n",
       "  'f1': 0.7483870967741936})"
      ]
     },
     "execution_count": 8,
     "metadata": {},
     "output_type": "execute_result"
    }
   ],
   "source": [
    "train_metric_dict, val_metric_dict = kNN_cross(rbps, targets, n_neighbors = 3, PCA_components = 0)\n",
    "train_metric_dict, val_metric_dict"
   ]
  },
  {
   "cell_type": "code",
   "execution_count": 9,
   "id": "3105d046",
   "metadata": {},
   "outputs": [],
   "source": [
    "Models += ['kNN']\n",
    "accuracies += [val_metric_dict['acc']]"
   ]
  },
  {
   "cell_type": "markdown",
   "id": "3b2ebb01",
   "metadata": {},
   "source": [
    "### Logistic Regression"
   ]
  },
  {
   "cell_type": "code",
   "execution_count": 10,
   "id": "ab6fb769",
   "metadata": {
    "scrolled": false
   },
   "outputs": [
    {
     "data": {
      "text/plain": [
       "({'acc': 0.9878663003663004,\n",
       "  'sens': 0.991424802110818,\n",
       "  'spec': 0.9836908447589562,\n",
       "  'f1': 0.9887925565658702},\n",
       " {'acc': 0.8304843304843305,\n",
       "  'sens': 0.8575197889182058,\n",
       "  'spec': 0.7987616099071208,\n",
       "  'f1': 0.8452535760728218})"
      ]
     },
     "execution_count": 10,
     "metadata": {},
     "output_type": "execute_result"
    }
   ],
   "source": [
    "train_metric_dict, val_metric_dict = log_reg_cross(rbps, targets, PCA_components = 85, reg_parameter = 1)\n",
    "train_metric_dict, val_metric_dict"
   ]
  },
  {
   "cell_type": "code",
   "execution_count": 11,
   "id": "b26e61e7",
   "metadata": {},
   "outputs": [],
   "source": [
    "Models += ['log_reg']\n",
    "accuracies += [val_metric_dict['acc']]"
   ]
  },
  {
   "cell_type": "markdown",
   "id": "cbd9c0c5",
   "metadata": {},
   "source": [
    "### SVM"
   ]
  },
  {
   "cell_type": "code",
   "execution_count": 12,
   "id": "6f89431e",
   "metadata": {},
   "outputs": [
    {
     "data": {
      "text/plain": [
       "({'acc': 0.9948361823361823,\n",
       "  'sens': 0.9978797587636637,\n",
       "  'spec': 0.9912649270234409,\n",
       "  'f1': 0.995230375226146},\n",
       " {'acc': 0.8917378917378918,\n",
       "  'sens': 0.9129287598944591,\n",
       "  'spec': 0.8668730650154799,\n",
       "  'f1': 0.9010416666666667})"
      ]
     },
     "execution_count": 12,
     "metadata": {},
     "output_type": "execute_result"
    }
   ],
   "source": [
    "train_metric_dict, val_metric_dict = svm_cross(rbps, targets,kernel='linear',\n",
    "                                               reg_parameter=1.21)\n",
    "train_metric_dict, val_metric_dict"
   ]
  },
  {
   "cell_type": "code",
   "execution_count": 13,
   "id": "e330e194",
   "metadata": {},
   "outputs": [],
   "source": [
    "Models += ['SVC']\n",
    "accuracies += [val_metric_dict['acc']]"
   ]
  },
  {
   "cell_type": "markdown",
   "id": "295a7b23",
   "metadata": {},
   "source": [
    "### Random Forest classifier"
   ]
  },
  {
   "cell_type": "code",
   "execution_count": 14,
   "id": "5f7f2de7",
   "metadata": {},
   "outputs": [
    {
     "data": {
      "text/plain": [
       "({'acc': 0.9995421245421245,\n",
       "  'sens': 0.9997173011684886,\n",
       "  'spec': 0.9993365767359575,\n",
       "  'f1': 0.9995760116832337},\n",
       " {'acc': 0.7692307692307693,\n",
       "  'sens': 0.7783641160949868,\n",
       "  'spec': 0.7585139318885449,\n",
       "  'f1': 0.7845744680851063})"
      ]
     },
     "execution_count": 14,
     "metadata": {},
     "output_type": "execute_result"
    }
   ],
   "source": [
    "train_metric_dict, val_metric_dict = RF_cross(rbps, targets, n_estimators = 25, \n",
    "                                              min_samples_split = 4, PCA_components = 0)\n",
    "train_metric_dict, val_metric_dict"
   ]
  },
  {
   "cell_type": "code",
   "execution_count": 15,
   "id": "cabe9ef2",
   "metadata": {},
   "outputs": [],
   "source": [
    "Models += ['RF']\n",
    "accuracies += [val_metric_dict['acc']]"
   ]
  },
  {
   "cell_type": "markdown",
   "id": "43e85f6c",
   "metadata": {},
   "source": [
    "### Multilayer Perceptron"
   ]
  },
  {
   "cell_type": "code",
   "execution_count": 16,
   "id": "723b780c",
   "metadata": {},
   "outputs": [
    {
     "data": {
      "text/plain": [
       "({'acc': 0.9181166056166056,\n",
       "  'sens': 0.8989822842065586,\n",
       "  'spec': 0.9405683325961963,\n",
       "  'f1': 0.9222069165518741},\n",
       " {'acc': 0.7763532763532763,\n",
       "  'sens': 0.8153034300791556,\n",
       "  'spec': 0.7306501547987616,\n",
       "  'f1': 0.7974193548387096})"
      ]
     },
     "execution_count": 16,
     "metadata": {},
     "output_type": "execute_result"
    }
   ],
   "source": [
    "train_metric_dict, val_metric_dict = mlp_cross(rbps, targets, PCA_components = 35, \n",
    "                                               max_iter = 600, hidden_layer_sizes=(3,1))\n",
    "train_metric_dict, val_metric_dict"
   ]
  },
  {
   "cell_type": "code",
   "execution_count": 17,
   "id": "406b4c0c",
   "metadata": {},
   "outputs": [],
   "source": [
    "Models += ['MLP']\n",
    "accuracies += [val_metric_dict['acc']]"
   ]
  },
  {
   "cell_type": "markdown",
   "id": "7d129157",
   "metadata": {},
   "source": [
    "### Performance Plot"
   ]
  },
  {
   "cell_type": "code",
   "execution_count": 18,
   "id": "ed5cb0e4",
   "metadata": {},
   "outputs": [],
   "source": [
    "zipped_list = zip(accuracies, Models)\n",
    "Models_s = [x for _,x in sorted(zipped_list)]\n",
    "accuracies_s = sorted(accuracies)"
   ]
  },
  {
   "cell_type": "code",
   "execution_count": 19,
   "id": "09de61d4",
   "metadata": {},
   "outputs": [
    {
     "data": {
      "image/png": "[encoded data removed]",
      "text/plain": [
       "<Figure size 800x200 with 1 Axes>"
      ]
     },
     "metadata": {},
     "output_type": "display_data"
    }
   ],
   "source": [
    "plt.figure(figsize = (8,2))\n",
    "plt.plot(accuracies_s, '-o')\n",
    "plt.xticks(ticks = [i for i in range(len(Models_s))], labels = Models_s)\n",
    "plt.xlabel('Models')\n",
    "plt.ylabel('Accuracies')\n",
    "plt.title('Cross-validation accuracies for various models')\n",
    "plt.show()"
   ]
  }
 ],
 "metadata": {
  "kernelspec": {
   "display_name": "Python 3 (ipykernel)",
   "language": "python",
   "name": "python3"
  },
  "language_info": {
   "codemirror_mode": {
    "name": "ipython",
    "version": 3
   },
   "file_extension": ".py",
   "mimetype": "text/x-python",
   "name": "python",
   "nbconvert_exporter": "python",
   "pygments_lexer": "ipython3",
   "version": "3.10.11"
  }
 },
 "nbformat": 4,
 "nbformat_minor": 5
}

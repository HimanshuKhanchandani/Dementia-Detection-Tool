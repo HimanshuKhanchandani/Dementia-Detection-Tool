{
 "cells": [
  {
   "cell_type": "code",
   "execution_count": 1,
   "id": "e2a3217c",
   "metadata": {},
   "outputs": [],
   "source": [
    "import numpy as np\n",
    "import matplotlib.pyplot as plt\n",
    "import mne\n",
    "\n",
    "from mne_connectivity import (spectral_connectivity_epochs,\n",
    "                              spectral_connectivity_time)\n",
    "\n",
    "import warnings\n",
    "warnings.simplefilter('ignore')"
   ]
  },
  {
   "cell_type": "code",
   "execution_count": 3,
   "id": "f9db222e",
   "metadata": {},
   "outputs": [],
   "source": [
    "from model_functions import *"
   ]
  },
  {
   "cell_type": "code",
   "execution_count": 6,
   "id": "b4c5c9bb",
   "metadata": {},
   "outputs": [],
   "source": [
    "from connectivity_plus_rbp_features import *"
   ]
  },
  {
   "cell_type": "markdown",
   "id": "74d0d9e1",
   "metadata": {},
   "source": [
    "# Generate connectivity: long epochs:"
   ]
  },
  {
   "cell_type": "code",
   "execution_count": 7,
   "id": "a8062ccf",
   "metadata": {},
   "outputs": [],
   "source": [
    "# 'con_data_01.npy' parameters: Other cases follow similarly:\n",
    "n_times = 500*120; overlap_ratio = 0.6;\n",
    "channels = [6,7,8,9]; n_channels = len(channels);\n",
    "sfreq = 256; f_spacing = 4;\n",
    "# Freq bands of interest\n",
    "Freq_Bands = {\"delta\": [0.5, 4.0],\n",
    "              \"theta\": [4.0, 8.0],\n",
    "              \"alpha\": [8.0, 13.0],\n",
    "              \"beta\": [13.0, 30.0]}\n",
    "f_bands = [\"delta\"]; n_freq_bands = len(f_bands)\n",
    "method = 'plv'; mode = 'cwt_morlet';"
   ]
  },
  {
   "cell_type": "code",
   "execution_count": null,
   "id": "c76692ec",
   "metadata": {},
   "outputs": [],
   "source": [
    "\"\"\"\n",
    "To generate data used for METHOD 2 of \"AD-FTD analysis using different methods.ipynb\":\n",
    "1) P3,P4,O1,O2 nodes for delta band: channels = [6,7,8,9]: filename: 'con_data_01.npy'\n",
    "2) C3,C4,F3,F4 nodes for theta band: channels = [2,3,4,5]: filename: 'con_data_01.npy'\n",
    "3) C3,C4,F3,F4 nodes for delta band: channels = [2,3,4,5]: filename: 'con_data_01.npy'\n",
    "4) C3,C4,T3,T4 nodes for theta band: channels = [4,5,12,13]: filename: 'con_data_01.npy'\n",
    "5) C3,C4,P3,P4 nodes for theta band: channels = [4,5,6,7]: filename: 'con_data_01.npy'\n",
    "\n",
    "conn_data_1 = np.load('con_data_01.npy',allow_pickle=True)\n",
    "conn_data_2 = np.load('con_data_02.npy',allow_pickle=True)\n",
    "conn_data_3 = np.load('con_data_03.npy',allow_pickle=True)\n",
    "conn_data_4 = np.load('con_data_04.npy',allow_pickle=True)\n",
    "conn_data_5 = np.load('con_data_05.npy',allow_pickle=True)\n",
    "\"\"\""
   ]
  },
  {
   "cell_type": "code",
   "execution_count": null,
   "id": "a8fef313",
   "metadata": {
    "scrolled": true
   },
   "outputs": [],
   "source": [
    "# generate epoched raw eeg data:\n",
    "all_data = generate_and_save_data(True,n_times,overlap_ratio,save = True, filename = path+ \"processed_data/eeg_data_long_epochs.npy\")"
   ]
  },
  {
   "cell_type": "code",
   "execution_count": 5,
   "id": "61198dc9",
   "metadata": {
    "scrolled": true
   },
   "outputs": [],
   "source": [
    "# spectral connectivity data for all subjects: single choice of parameters:\n",
    "filename = path + \"processed_data/con_data_0\"+\"INSERT_INTEGER\"+\".npy\";\n",
    "con_data = connectivity_processing(all_data, channels, Freq_Bands, f_bands, f_spacing, sfreq, method, mode, subjects = [i for i in range(88)], f_avg = True, save = True, filename = filename, ch_types = \"eeg\")"
   ]
  },
  {
   "cell_type": "code",
   "execution_count": 9,
   "id": "816c9fd6",
   "metadata": {},
   "outputs": [],
   "source": [
    "# uncomment if previously generated data:\n",
    "#con_data = np.load(filename,allow_pickle=True)"
   ]
  },
  {
   "cell_type": "markdown",
   "id": "c0bc29d4",
   "metadata": {},
   "source": [
    "# Generate rbp data: long epochs"
   ]
  },
  {
   "cell_type": "code",
   "execution_count": 18,
   "id": "d545312f",
   "metadata": {},
   "outputs": [],
   "source": [
    "# create dictionary of channel names:\n",
    "channel_dict = {0: 'Fp1', 1: 'Fp2', 2: 'F3', 3: 'F4', 4: 'C3', 5: 'C4', 6: 'P3',\n",
    "                    7: 'P4', 8: 'O1', 9: 'O2',10: 'F7', 11: 'F8', 12: 'T3', 13: 'T4',\n",
    "                    14: 'T5', 15: 'T6', 16: 'Fz', 17: 'Cz', 18: 'Pz'}"
   ]
  },
  {
   "cell_type": "code",
   "execution_count": 19,
   "id": "82b60d84",
   "metadata": {},
   "outputs": [],
   "source": [
    "# reverse dictionary mapping:\n",
    "probe_dict = dict((v, k) for k, v in channel_dict.items())"
   ]
  },
  {
   "cell_type": "code",
   "execution_count": 20,
   "id": "697c85cb",
   "metadata": {},
   "outputs": [],
   "source": [
    "# choose parameters:\n",
    "epoch_length = 60000\n",
    "overlap_ratio = 0.6\n",
    "freq_bands = np.array([0.5,4.0,7.0,9.0,11.0,13.0,25.0,45.0])\n",
    "nperseg = 256\n",
    "\n",
    "# remove channels: \n",
    "remove_channel = ['F3', 'F4', 'C4', 'F8'];\n",
    "channels = [element for element in list(channel_dict) if element not in [probe_dict[j] for j in remove_channel]]\n",
    "\n",
    "# subset of frequencies:\n",
    "freqs = [i for i in range(6)]"
   ]
  },
  {
   "cell_type": "code",
   "execution_count": 31,
   "id": "eb90e122",
   "metadata": {
    "scrolled": true
   },
   "outputs": [],
   "source": [
    "# generate rbp features:\n",
    "rbp_filename = path+ \"processed_data/rbp_data_long_epochs.npy\";\n",
    "rbp_features = process(epoch_length,overlap_ratio,freq_bands,nperseg, absolute=False, sample_freq=256,total_subjects=88)"
   ]
  },
  {
   "cell_type": "code",
   "execution_count": 32,
   "id": "5c2767f9",
   "metadata": {},
   "outputs": [],
   "source": [
    "np.save(rbp_filename, np.array((np.array(rbp_features, dtype=object)), dtype=object), allow_pickle=True)"
   ]
  },
  {
   "cell_type": "code",
   "execution_count": 10,
   "id": "3d380e67",
   "metadata": {},
   "outputs": [],
   "source": [
    "# load data if previously generated:\n",
    "#rbp_data = np.load(rbp_filename,allow_pickle=True)"
   ]
  },
  {
   "cell_type": "markdown",
   "id": "e8c80b00",
   "metadata": {},
   "source": [
    "# Format data for training"
   ]
  },
  {
   "cell_type": "markdown",
   "id": "2b73c33f",
   "metadata": {},
   "source": [
    "# Load pre-generated data"
   ]
  },
  {
   "cell_type": "markdown",
   "id": "6a4e0560",
   "metadata": {},
   "source": [
    "## connectivity data processing:"
   ]
  },
  {
   "cell_type": "markdown",
   "id": "9218c0e0",
   "metadata": {},
   "source": [
    "**NOTE:** Must have several .npy connectivity data files pre-generated that you compile into a list:"
   ]
  },
  {
   "cell_type": "code",
   "execution_count": 12,
   "id": "66c584f2",
   "metadata": {},
   "outputs": [],
   "source": [
    "# aggregates previously generated connectivity data from various node/frequency combinations:\n",
    "con_data_lst = [np.load('processed_data/con_data_0'+str(i+1)+'.npy',allow_pickle=True) for i in range(5)]"
   ]
  },
  {
   "cell_type": "code",
   "execution_count": 13,
   "id": "91c6a62e",
   "metadata": {},
   "outputs": [],
   "source": [
    "con_features = get_con_data(con_data_lst,88)"
   ]
  },
  {
   "cell_type": "markdown",
   "id": "dbfa6f41",
   "metadata": {},
   "source": [
    "## rbp data processing:"
   ]
  },
  {
   "cell_type": "code",
   "execution_count": 14,
   "id": "4be4cbe5",
   "metadata": {},
   "outputs": [],
   "source": [
    "rbp_data = np.load('processed_data/rbp_data_long_epochs.npy',allow_pickle=True)"
   ]
  },
  {
   "cell_type": "code",
   "execution_count": 21,
   "id": "df4102d9",
   "metadata": {},
   "outputs": [],
   "source": [
    "rbp_features = reshape_rbp_data(rbp_data,freqs,channels)"
   ]
  },
  {
   "cell_type": "markdown",
   "id": "505a3cb4",
   "metadata": {},
   "source": [
    "## merging"
   ]
  },
  {
   "cell_type": "code",
   "execution_count": 22,
   "id": "7642e88b",
   "metadata": {},
   "outputs": [],
   "source": [
    "features = get_con_rbp_data(con_features,rbp_features,88)"
   ]
  },
  {
   "cell_type": "code",
   "execution_count": 25,
   "id": "41fb65c0",
   "metadata": {},
   "outputs": [],
   "source": [
    "np.save(\"processed_data/rbp_plus_all_con_long_epochs.npy\", np.array((np.array(features, dtype=object)), dtype=object), allow_pickle=True)"
   ]
  }
 ],
 "metadata": {
  "kernelspec": {
   "display_name": "Python 3 (ipykernel)",
   "language": "python",
   "name": "python3"
  },
  "language_info": {
   "codemirror_mode": {
    "name": "ipython",
    "version": 3
   },
   "file_extension": ".py",
   "mimetype": "text/x-python",
   "name": "python",
   "nbconvert_exporter": "python",
   "pygments_lexer": "ipython3",
   "version": "3.10.12"
  }
 },
 "nbformat": 4,
 "nbformat_minor": 5
}

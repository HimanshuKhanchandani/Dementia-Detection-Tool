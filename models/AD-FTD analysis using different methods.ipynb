{
 "cells": [
  {
   "cell_type": "markdown",
   "id": "eb63b57d",
   "metadata": {},
   "source": [
    "# Detection for Alzheimer's patients vs Frontotemporal dementia patients via various methods:\n",
    "\n",
    "<span style='color:red'> OUTLINE <span>\n",
    "\n",
    "0) a) Using \"only\" rbps analysis of all 19 nodes with regular epoch lengths and \"all\" frequency bands [0.5,3.0,6.0,9.0,11.0,13.0,25.0,45.0]. (Done before but repeated here for the completion purposes, see the notebook \"Classification_Performances_FTD\") \n",
    "    \n",
    "   <span style='color:red'> Conclusion:<span> best training accuracy-validation accuracy pair (%71, %61.6)\n",
    "\n",
    "   b) Using \"only\" rbps analysis of all 19 nodes with regular epoch lengths and \"reduced\" frequency bands.[0.5,4.0,7.0,9.0,11.0,13.0,25.0] \n",
    "       \n",
    "   <span style='color:red'> Conclusion:<span> best training accuracy-validation accuracy pair (%70, %62.0)\n",
    "       \n",
    "   c) Using \"only\" rbps analysis of all 19 nodes with regular epoch lengths and \"reduced\" frequency bands(freq_bands=[0.5,4.0,8.0,13.0,30.0]).\n",
    "       \n",
    "   <span style='color:red'> Conclusion:<span> best training accuracy-validation accuracy pair (%69, %61.1)     \n",
    "   \n",
    "\n",
    "1) Using \"only\" rbps analysis of 15 nodes (some nodes removed) with long epoch lengths.\n",
    "   \n",
    "   i) removing ['F4','T4','Cz', 'O1','F8','T5','P4'] with freq_bands=[0.5,4.0,7.0,9.0,11.0,13.0,25.0]\n",
    "   \n",
    "   <span style='color:red'> Conclusion: best training accuracy-validation accuracy pair (%95.9, %67.9)\n",
    "   \n",
    "   ii) removing ['T4','Cz','F8','Fp2','F4'] with freq_bands=[0.5,4.0,7.0,9.0,11.0,13.0,25.0]\n",
    "   \n",
    "   <span style='color:red'> Conclusion: best training accuracy-validation accuracy pair (%94, %67)\n",
    "   \n",
    "   iii) removing ['T4','Cz','F8','Fp2','F4'] with freq_bands=[0.5,4.0,8.0,13.0,30.0]\n",
    "   \n",
    "   <span style='color:red'> Conclusion: best training accuracy-validation accuracy pair (%82, %61)\n",
    "\n",
    "2) Using \"only\" spectral connectivity features of 5 many quadraples of homotopic nodes with a single frequency band with long epoch lengths.\n",
    "       \n",
    "   <span style='color:red'> Conclusion: best training accuracy-validation accuracy pair (%83, %49)\n",
    "    \n",
    "\n",
    "3) Using \"only\" spectral connectivity features of all 19 nodes with all frequency bands with long epoch lengths.\n",
    "       \n",
    "   <span style='color:red'> Conclusion: best training accuracy-validation accuracy pair (%100, %76)\n",
    "       \n",
    "\n",
    "4) Using \"both\" the combination of rbps analysis of 15 nodes (4 nodes removed) with long epoch lengths and spectral connectivity features of 5 many quadraples of homotopic nodes with a single frequency band with long epoch lengths.\n",
    "       \n",
    "   <span style='color:red'> Conclusion: best training accuracy-validation accuracy pair (%92.3,%54)\n",
    "       \n",
    "5) Using \"both\" the combination of rbps analysis of 15 nodes (4 nodes removed) with long epoch lengths and spectral connectivity features of all 19 nodes with all frequency bands with long epoch lengths.\n",
    "\n",
    "   <span style='color:red'> Conclusion: best training accuracy-validation accuracy pair (%92.1,%54)"
   ]
  },
  {
   "cell_type": "code",
   "execution_count": 3,
   "id": "02f64b58",
   "metadata": {},
   "outputs": [],
   "source": [
    "import numpy as np\n",
    "from model_functions import *\n",
    "from Classification_models_LOSO_2Class import *\n",
    "import matplotlib.pyplot as plt"
   ]
  },
  {
   "cell_type": "markdown",
   "id": "5ed35745",
   "metadata": {},
   "source": [
    "# Method 0\n",
    "# Part a\n",
    "Using \"only\" rbps analysis of all 19 nodes with regular epoch lengths and \"all\" frequency bands. (Done before but repeated here for the completion purposes, see the notebook \"Classification_Performances_FTD\")"
   ]
  },
  {
   "cell_type": "code",
   "execution_count": 4,
   "id": "8633cf55",
   "metadata": {},
   "outputs": [],
   "source": [
    "subject_data, freqs, targets = load_psds('all_psds.pickle')\n",
    "test_labels = align_test_labels(classes=['A','F'])\n",
    "features, targets = remove_class(subject_data,targets,'C')\n",
    "features, targets = remove_test(features,targets,test_labels)\n",
    "rbps = [relative_band_power(features[i],freqs,\n",
    "                            freq_bands=[0.5,3.0,6.0,9.0,11.0,13.0,25.0,45.0]) \n",
    "        for i in range(len(features))]"
   ]
  },
  {
   "cell_type": "code",
   "execution_count": 5,
   "id": "aaaf1554",
   "metadata": {},
   "outputs": [
    {
     "data": {
      "text/plain": [
       "({'acc': 0.9136689577196584,\n",
       "  'sens': 0.8726482495832341,\n",
       "  'spec': 0.9382614696363982,\n",
       "  'f1': 0.8834130268815044},\n",
       " {'acc': 0.6081183611532626,\n",
       "  'sens': 0.4402834008097166,\n",
       "  'spec': 0.7087378640776699,\n",
       "  'f1': 0.4571728849185497})"
      ]
     },
     "execution_count": 5,
     "metadata": {},
     "output_type": "execute_result"
    }
   ],
   "source": [
    "train_metric_dict, val_metric_dict = svm_cross(rbps, targets,kernel='linear',\n",
    "                                               reg_parameter=1.0, PCA_components = 0)\n",
    "train_metric_dict, val_metric_dict"
   ]
  },
  {
   "cell_type": "code",
   "execution_count": 6,
   "id": "ac0f6e0e",
   "metadata": {},
   "outputs": [
    {
     "data": {
      "text/plain": [
       "({'acc': 0.7168094855544646,\n",
       "  'sens': 0.2868540128602048,\n",
       "  'spec': 0.9745740529221397,\n",
       "  'f1': 0.4315979635408113},\n",
       " {'acc': 0.6160849772382397,\n",
       "  'sens': 0.1214574898785425,\n",
       "  'spec': 0.912621359223301,\n",
       "  'f1': 0.19169329073482427})"
      ]
     },
     "execution_count": 6,
     "metadata": {},
     "output_type": "execute_result"
    }
   ],
   "source": [
    "train_metric_dict, val_metric_dict = svm_cross(rbps, targets,kernel='linear',\n",
    "                                               reg_parameter=1.0, PCA_components = 0.9)\n",
    "train_metric_dict, val_metric_dict"
   ]
  },
  {
   "cell_type": "code",
   "execution_count": 7,
   "id": "ce242374",
   "metadata": {},
   "outputs": [],
   "source": [
    "X, y = train_prep(rbps,targets,exclude=None,flatten_final=True)"
   ]
  },
  {
   "cell_type": "code",
   "execution_count": 8,
   "id": "2b186145",
   "metadata": {},
   "outputs": [
    {
     "data": {
      "text/plain": [
       "(133, 133)"
      ]
     },
     "execution_count": 8,
     "metadata": {},
     "output_type": "execute_result"
    }
   ],
   "source": [
    "pca = PCA()\n",
    "pca.fit(X)\n",
    "pca.components_.shape"
   ]
  },
  {
   "cell_type": "code",
   "execution_count": 9,
   "id": "10c6b370",
   "metadata": {},
   "outputs": [
    {
     "data": {
      "image/png": "[encoded data removed]",
      "text/plain": [
       "<Figure size 700x500 with 1 Axes>"
      ]
     },
     "metadata": {},
     "output_type": "display_data"
    }
   ],
   "source": [
    "## make the explained variance curve\n",
    "plt.figure(figsize=(7,5))\n",
    "\n",
    "\n",
    "plt.plot(range(1, len(pca.explained_variance_ratio_)+1),\n",
    "            np.cumsum(pca.explained_variance_ratio_))\n",
    "\n",
    "plt.ylabel(\"Cumulative Explained Variance Ratio\", fontsize=12)\n",
    "plt.xlabel(\"Number of Principal Components\", fontsize=12)\n",
    "plt.xticks(range(0,100,5),fontsize=10)\n",
    "plt.yticks(fontsize=10)\n",
    "\n",
    "plt.xlim(0,100)\n",
    "\n",
    "plt.show()"
   ]
  },
  {
   "cell_type": "code",
   "execution_count": 10,
   "id": "22d4c1a5",
   "metadata": {},
   "outputs": [],
   "source": [
    "freq_bands=[0.5,4.0,7.0,9.0,11.0,13.0,25.0,45.0]\n",
    "# returns channel index and band index from the flattened index. \n",
    "def unroll(index):\n",
    "    return index % len(CHANNELS), index // len(CHANNELS)"
   ]
  },
  {
   "cell_type": "code",
   "execution_count": 11,
   "id": "b7553a39",
   "metadata": {},
   "outputs": [
    {
     "data": {
      "text/plain": [
       "('F3', 5)"
      ]
     },
     "execution_count": 11,
     "metadata": {},
     "output_type": "execute_result"
    }
   ],
   "source": [
    "channel, band = unroll(np.argmax(pca.components_[0]))\n",
    "(CHANNELS[channel], band)"
   ]
  },
  {
   "cell_type": "code",
   "execution_count": 12,
   "id": "19ae73e0",
   "metadata": {},
   "outputs": [],
   "source": [
    "for i in range(35):\n",
    "    channel, band = unroll(np.argmax(pca.components_[i]))\n",
    "    #print((CHANNELS[channel], band))"
   ]
  },
  {
   "cell_type": "markdown",
   "id": "47115934",
   "metadata": {},
   "source": [
    "# Part b\n",
    "Using \"only\" rbps analysis of all 19 nodes with regular epoch lengths and \"reduced\" frequency bands(freq_bands=[0.5,4.0,7.0,9.0,11.0,13.0,25.0]). (Done before but repeated here for the completion purposes, see the notebook \"Classification_Performances_FTD\")"
   ]
  },
  {
   "cell_type": "code",
   "execution_count": 13,
   "id": "e26ee1f9",
   "metadata": {},
   "outputs": [],
   "source": [
    "subject_data, freqs, targets = load_psds('all_psds.pickle')\n",
    "test_labels = align_test_labels(classes=['A','F'])\n",
    "features, targets = remove_class(subject_data,targets,'C')\n",
    "features, targets = remove_test(features,targets,test_labels)\n",
    "rbps = [relative_band_power(features[i],freqs,\n",
    "                            freq_bands=[0.5,4.0,7.0,9.0,11.0,13.0,25.0]) \n",
    "        for i in range(len(features))]"
   ]
  },
  {
   "cell_type": "code",
   "execution_count": 14,
   "id": "8549cf21",
   "metadata": {},
   "outputs": [
    {
     "data": {
      "text/plain": [
       "({'acc': 0.9101059240084501,\n",
       "  'sens': 0.8676867508136858,\n",
       "  'spec': 0.9355368360936608,\n",
       "  'f1': 0.8785756628854481},\n",
       " {'acc': 0.6062215477996965,\n",
       "  'sens': 0.4271255060728745,\n",
       "  'spec': 0.7135922330097088,\n",
       "  'f1': 0.4484590860786397})"
      ]
     },
     "execution_count": 14,
     "metadata": {},
     "output_type": "execute_result"
    }
   ],
   "source": [
    "train_metric_dict, val_metric_dict = svm_cross(rbps, targets,kernel='linear',\n",
    "                                               reg_parameter=1.0, PCA_components = 0)\n",
    "train_metric_dict, val_metric_dict"
   ]
  },
  {
   "cell_type": "code",
   "execution_count": 15,
   "id": "09f6a4d3",
   "metadata": {},
   "outputs": [
    {
     "data": {
      "text/plain": [
       "({'acc': 0.7061501383557975,\n",
       "  'sens': 0.2789553068190839,\n",
       "  'spec': 0.9622596611460118,\n",
       "  'f1': 0.4157595835305253},\n",
       " {'acc': 0.629742033383915,\n",
       "  'sens': 0.12651821862348178,\n",
       "  'spec': 0.9314320388349514,\n",
       "  'f1': 0.2039151712887439})"
      ]
     },
     "execution_count": 15,
     "metadata": {},
     "output_type": "execute_result"
    }
   ],
   "source": [
    "train_metric_dict, val_metric_dict = svm_cross(rbps, targets,kernel='linear',\n",
    "                                               reg_parameter=1.0, PCA_components = 0.9)\n",
    "train_metric_dict, val_metric_dict"
   ]
  },
  {
   "cell_type": "code",
   "execution_count": 16,
   "id": "182d364b",
   "metadata": {},
   "outputs": [],
   "source": [
    "X, y = train_prep(rbps,targets,exclude=None,flatten_final=True)"
   ]
  },
  {
   "cell_type": "code",
   "execution_count": 17,
   "id": "e94b8a7f",
   "metadata": {},
   "outputs": [
    {
     "name": "stdout",
     "output_type": "stream",
     "text": [
      "('Fp1', 3)\n",
      "('Fp1', 3)\n",
      "('P4', 4)\n",
      "('Fz', 4)\n",
      "('O1', 3)\n",
      "('F3', 4)\n",
      "('O1', 3)\n",
      "('T5', 4)\n",
      "('T6', 3)\n",
      "('Fp2', 5)\n",
      "('T5', 4)\n",
      "('P3', 0)\n",
      "('Pz', 2)\n",
      "('F3', 5)\n",
      "('Fz', 2)\n",
      "('Pz', 0)\n",
      "('C3', 2)\n",
      "('T6', 3)\n",
      "('P4', 5)\n",
      "('F7', 2)\n",
      "('T3', 0)\n",
      "('F7', 2)\n",
      "('Pz', 0)\n",
      "('Fz', 4)\n",
      "('Fp2', 5)\n",
      "('T3', 0)\n",
      "('Cz', 1)\n",
      "('F8', 0)\n",
      "('T5', 3)\n",
      "('T4', 5)\n",
      "('O1', 3)\n",
      "('F7', 4)\n",
      "('P4', 0)\n",
      "('F7', 4)\n",
      "('T6', 5)\n"
     ]
    }
   ],
   "source": [
    "pca = PCA()\n",
    "pca.fit(X)\n",
    "for i in range(35):\n",
    "    channel, band = unroll(np.argmax(pca.components_[i]))\n",
    "    print((CHANNELS[channel], band))"
   ]
  },
  {
   "cell_type": "markdown",
   "id": "9bb844d8",
   "metadata": {},
   "source": [
    "# Part c \n",
    "Using \"only\" rbps analysis of all 19 nodes with regular epoch lengths and \"reduced\" frequency bands(freq_bands=[0.5,4.0,8.0,13.0,30.0])."
   ]
  },
  {
   "cell_type": "code",
   "execution_count": 18,
   "id": "c85d968b",
   "metadata": {},
   "outputs": [
    {
     "data": {
      "text/plain": [
       "({'acc': 0.8484111398732482,\n",
       "  'sens': 0.7518456775422719,\n",
       "  'spec': 0.9063035408338093,\n",
       "  'f1': 0.7880433086835782},\n",
       " {'acc': 0.5929438543247344,\n",
       "  'sens': 0.3491902834008097,\n",
       "  'spec': 0.7390776699029126,\n",
       "  'f1': 0.39137833238797504})"
      ]
     },
     "execution_count": 18,
     "metadata": {},
     "output_type": "execute_result"
    }
   ],
   "source": [
    "subject_data, freqs, targets = load_psds('all_psds.pickle')\n",
    "test_labels = align_test_labels(classes=['A','F'])\n",
    "features, targets = remove_class(subject_data,targets,'C')\n",
    "features, targets = remove_test(features,targets,test_labels)\n",
    "rbps = [relative_band_power(features[i],freqs,\n",
    "                            freq_bands=[0.5,4.0,8.0,13.0,30.0]) \n",
    "        for i in range(len(features))]\n",
    "\n",
    "train_metric_dict, val_metric_dict = svm_cross(rbps, targets,kernel='linear',\n",
    "                                               reg_parameter=1.0, PCA_components = 0)\n",
    "train_metric_dict, val_metric_dict"
   ]
  },
  {
   "cell_type": "code",
   "execution_count": 19,
   "id": "20dd556a",
   "metadata": {},
   "outputs": [
    {
     "data": {
      "text/plain": [
       "({'acc': 0.6952601981612068,\n",
       "  'sens': 0.2749662618083671,\n",
       "  'spec': 0.9472325337902151,\n",
       "  'f1': 0.40347709601327936},\n",
       " {'acc': 0.6111532625189682,\n",
       "  'sens': 0.11234817813765183,\n",
       "  'spec': 0.9101941747572816,\n",
       "  'f1': 0.17802726543704891})"
      ]
     },
     "execution_count": 19,
     "metadata": {},
     "output_type": "execute_result"
    }
   ],
   "source": [
    "train_metric_dict, val_metric_dict = svm_cross(rbps, targets,kernel='linear',\n",
    "                                               reg_parameter=1.0, PCA_components = 0.9)\n",
    "train_metric_dict, val_metric_dict"
   ]
  },
  {
   "cell_type": "markdown",
   "id": "99f544e7",
   "metadata": {},
   "source": [
    "# Method 1 \n",
    "Using \"only\" rbps analysis of some nodes removed with long epoch lengths."
   ]
  },
  {
   "cell_type": "markdown",
   "id": "08f8026c",
   "metadata": {},
   "source": [
    "# i) removing ['F4','T4','Cz', 'O1','F8','T5','P4'] with freq_bands=[0.5,4.0,7.0,9.0,11.0,13.0,25.0]"
   ]
  },
  {
   "cell_type": "code",
   "execution_count": 20,
   "id": "316cff5c",
   "metadata": {},
   "outputs": [],
   "source": [
    "#uncomment to generate the data\n",
    "#subject_data, freqs, targets = load_data(duration=120,overlap=60,seg_length=4)\n",
    "#save_psds(subject_data,freqs,targets,'all_psds_very_long.pickle')"
   ]
  },
  {
   "cell_type": "code",
   "execution_count": 21,
   "id": "a3d0f329",
   "metadata": {},
   "outputs": [],
   "source": [
    "subject_data, freqs, targets = load_psds('all_psds_very_long.pickle')\n",
    "test_labels = align_test_labels(classes=['A','F'])\n",
    "featuress, targetss = remove_class(subject_data,targets,'C')\n",
    "features, targets = remove_test(featuress,targetss,test_labels)\n",
    "rbps = [relative_band_power(features[i],freqs,freq_bands=[0.5,4.0,7.0,9.0,11.0,13.0,25.0]) \n",
    "        for i in range(len(features))]"
   ]
  },
  {
   "cell_type": "code",
   "execution_count": 22,
   "id": "2f7ad6fe",
   "metadata": {},
   "outputs": [],
   "source": [
    "rbps = remove_channel(rbps, ['F4','T4','Cz', 'O1','F8','T5','P4'])"
   ]
  },
  {
   "cell_type": "code",
   "execution_count": 23,
   "id": "667f0a00",
   "metadata": {},
   "outputs": [
    {
     "data": {
      "text/plain": [
       "({'acc': 0.949547260764771,\n",
       "  'sens': 0.9431988041853513,\n",
       "  'spec': 0.9532826323141393,\n",
       "  'f1': 0.9326609572664436},\n",
       " {'acc': 0.6794019933554817,\n",
       "  'sens': 0.5112107623318386,\n",
       "  'spec': 0.7783641160949868,\n",
       "  'f1': 0.5415676959619954})"
      ]
     },
     "execution_count": 23,
     "metadata": {},
     "output_type": "execute_result"
    }
   ],
   "source": [
    "train_metric_dict, val_metric_dict = svm_cross(rbps, targets,kernel='linear',\n",
    "                                               reg_parameter=1.0, PCA_components = 0)\n",
    "train_metric_dict, val_metric_dict"
   ]
  },
  {
   "cell_type": "code",
   "execution_count": 24,
   "id": "79dea6ba",
   "metadata": {},
   "outputs": [
    {
     "data": {
      "text/plain": [
       "({'acc': 0.930265129307537,\n",
       "  'sens': 0.8892992174448254,\n",
       "  'spec': 0.9543690827254384,\n",
       "  'f1': 0.9042871831552595},\n",
       " {'acc': 0.6627906976744186,\n",
       "  'sens': 0.45739910313901344,\n",
       "  'spec': 0.783641160949868,\n",
       "  'f1': 0.5012285012285013})"
      ]
     },
     "execution_count": 24,
     "metadata": {},
     "output_type": "execute_result"
    }
   ],
   "source": [
    "train_metric_dict, val_metric_dict = log_reg_cross(rbps, targets, PCA_components = 0, reg_parameter = 1)\n",
    "train_metric_dict, val_metric_dict"
   ]
  },
  {
   "cell_type": "code",
   "execution_count": 25,
   "id": "6aab53ff",
   "metadata": {},
   "outputs": [
    {
     "data": {
      "text/plain": [
       "({'acc': 0.915998957722624,\n",
       "  'sens': 0.8527213576013365,\n",
       "  'spec': 0.9532308965802679,\n",
       "  'f1': 0.8826393629124005},\n",
       " {'acc': 0.6644518272425249,\n",
       "  'sens': 0.4439461883408072,\n",
       "  'spec': 0.7941952506596306,\n",
       "  'f1': 0.495})"
      ]
     },
     "execution_count": 25,
     "metadata": {},
     "output_type": "execute_result"
    }
   ],
   "source": [
    "train_metric_dict, val_metric_dict = log_reg_cross(rbps, targets, PCA_components = 0, reg_parameter = 0.5)\n",
    "train_metric_dict, val_metric_dict"
   ]
  },
  {
   "cell_type": "code",
   "execution_count": 26,
   "id": "bb61a59b",
   "metadata": {},
   "outputs": [
    {
     "data": {
      "text/plain": [
       "({'acc': 0.9209823464269429,\n",
       "  'sens': 0.8774289985052317,\n",
       "  'spec': 0.9466087226447307,\n",
       "  'f1': 0.8916190135811293},\n",
       " {'acc': 0.6561461794019934,\n",
       "  'sens': 0.4484304932735426,\n",
       "  'spec': 0.7783641160949868,\n",
       "  'f1': 0.4914004914004914})"
      ]
     },
     "execution_count": 26,
     "metadata": {},
     "output_type": "execute_result"
    }
   ],
   "source": [
    "train_metric_dict, val_metric_dict = log_reg_cross(rbps, targets, PCA_components = 50, reg_parameter = 1)\n",
    "train_metric_dict, val_metric_dict"
   ]
  },
  {
   "cell_type": "code",
   "execution_count": 27,
   "id": "d705a033",
   "metadata": {},
   "outputs": [
    {
     "data": {
      "text/plain": [
       "({'acc': 0.9374959286039998,\n",
       "  'sens': 0.9229754682141915,\n",
       "  'spec': 0.9460396295721455,\n",
       "  'f1': 0.9162484179286867},\n",
       " {'acc': 0.6677740863787376,\n",
       "  'sens': 0.484304932735426,\n",
       "  'spec': 0.7757255936675461,\n",
       "  'f1': 0.5192307692307692})"
      ]
     },
     "execution_count": 27,
     "metadata": {},
     "output_type": "execute_result"
    }
   ],
   "source": [
    "train_metric_dict, val_metric_dict = svm_cross(rbps, targets,kernel='linear',\n",
    "                                               reg_parameter=1.0, PCA_components = 50)\n",
    "train_metric_dict, val_metric_dict"
   ]
  },
  {
   "cell_type": "markdown",
   "id": "158cf35b",
   "metadata": {},
   "source": [
    "# ii) Removing ['T4','Cz','F8','Fp2','F4'] with freq_bands=[0.5,4.0,7.0,9.0,11.0,13.0,25.0]"
   ]
  },
  {
   "cell_type": "code",
   "execution_count": 28,
   "id": "658ce7d2",
   "metadata": {},
   "outputs": [
    {
     "data": {
      "text/plain": [
       "({'acc': 0.9422513191323041,\n",
       "  'sens': 0.9106656115360943,\n",
       "  'spec': 0.9608360494593616,\n",
       "  'f1': 0.9211544447903233},\n",
       " {'acc': 0.6644518272425249,\n",
       "  'sens': 0.47533632286995514,\n",
       "  'spec': 0.7757255936675461,\n",
       "  'f1': 0.5120772946859903})"
      ]
     },
     "execution_count": 28,
     "metadata": {},
     "output_type": "execute_result"
    }
   ],
   "source": [
    "subject_data, freqs, targets = load_psds('all_psds_very_long.pickle')\n",
    "test_labels = align_test_labels(classes=['A','F'])\n",
    "featuress, targetss = remove_class(subject_data,targets,'C')\n",
    "features, targets = remove_test(featuress,targetss,test_labels)\n",
    "rbps = [relative_band_power(features[i],freqs,freq_bands=[0.5,4.0,7.0,9.0,11.0,13.0,25.0]) \n",
    "        for i in range(len(features))]\n",
    "rbps = remove_channel(rbps, ['T4','Cz','F8','Fp2','F4'])\n",
    "train_metric_dict, val_metric_dict = log_reg_cross(rbps, targets, PCA_components = 0, reg_parameter = 1)\n",
    "train_metric_dict, val_metric_dict"
   ]
  },
  {
   "cell_type": "code",
   "execution_count": 29,
   "id": "63cb5116",
   "metadata": {},
   "outputs": [
    {
     "data": {
      "text/plain": [
       "({'acc': 0.9319914012116475,\n",
       "  'sens': 0.9014332190275213,\n",
       "  'spec': 0.9499715453463707,\n",
       "  'f1': 0.9075779036827195},\n",
       " {'acc': 0.6644518272425249,\n",
       "  'sens': 0.47533632286995514,\n",
       "  'spec': 0.7757255936675461,\n",
       "  'f1': 0.5120772946859903})"
      ]
     },
     "execution_count": 29,
     "metadata": {},
     "output_type": "execute_result"
    }
   ],
   "source": [
    "train_metric_dict, val_metric_dict = log_reg_cross(rbps, targets, PCA_components = 50, reg_parameter = 1)\n",
    "train_metric_dict, val_metric_dict"
   ]
  },
  {
   "cell_type": "code",
   "execution_count": 30,
   "id": "cb8fd0a8",
   "metadata": {},
   "outputs": [
    {
     "data": {
      "text/plain": [
       "({'acc': 0.9595140381734089,\n",
       "  'sens': 0.9560362261496527,\n",
       "  'spec': 0.961560349733561,\n",
       "  'f1': 0.9459306624907564},\n",
       " {'acc': 0.6461794019933554,\n",
       "  'sens': 0.4798206278026906,\n",
       "  'spec': 0.7440633245382586,\n",
       "  'f1': 0.5011709601873536})"
      ]
     },
     "execution_count": 30,
     "metadata": {},
     "output_type": "execute_result"
    }
   ],
   "source": [
    "train_metric_dict, val_metric_dict = svm_cross(rbps, targets,kernel='linear',\n",
    "                                               reg_parameter=1.0, PCA_components = 0)\n",
    "train_metric_dict, val_metric_dict"
   ]
  },
  {
   "cell_type": "code",
   "execution_count": 31,
   "id": "790b59d9",
   "metadata": {},
   "outputs": [
    {
     "data": {
      "text/plain": [
       "({'acc': 0.9465507133085792,\n",
       "  'sens': 0.93924206453882,\n",
       "  'spec': 0.9508510528221843,\n",
       "  'f1': 0.9286676809389263},\n",
       " {'acc': 0.6760797342192691,\n",
       "  'sens': 0.5246636771300448,\n",
       "  'spec': 0.7651715039577837,\n",
       "  'f1': 0.5454545454545454})"
      ]
     },
     "execution_count": 31,
     "metadata": {},
     "output_type": "execute_result"
    }
   ],
   "source": [
    "train_metric_dict, val_metric_dict = svm_cross(rbps, targets,kernel='linear',\n",
    "                                               reg_parameter=1.0, PCA_components = 50)\n",
    "train_metric_dict, val_metric_dict"
   ]
  },
  {
   "cell_type": "markdown",
   "id": "d7c949fa",
   "metadata": {},
   "source": [
    "# iii) Removing ['T4','Cz','F8','Fp2','F4'] with freq_bands=[0.5,4.0,8.0,13.0,30.0]"
   ]
  },
  {
   "cell_type": "code",
   "execution_count": 32,
   "id": "3bbec019",
   "metadata": {},
   "outputs": [
    {
     "data": {
      "text/plain": [
       "({'acc': 0.8123642476717546,\n",
       "  'sens': 0.6679566563467493,\n",
       "  'spec': 0.8989387016942699,\n",
       "  'f1': 0.7274122261965226},\n",
       " {'acc': 0.6134294385432474,\n",
       "  'sens': 0.3674089068825911,\n",
       "  'spec': 0.7609223300970874,\n",
       "  'f1': 0.4160458452722063})"
      ]
     },
     "execution_count": 32,
     "metadata": {},
     "output_type": "execute_result"
    }
   ],
   "source": [
    "subject_data, freqs, targets = load_psds('all_psds.pickle')\n",
    "test_labels = align_test_labels(classes=['A','F'])\n",
    "features, targets = remove_class(subject_data,targets,'C')\n",
    "features, targets = remove_test(features,targets,test_labels)\n",
    "rbps = [relative_band_power(features[i],freqs,\n",
    "                            freq_bands=[0.5,4.0,8.0,13.0,30.0]) \n",
    "        for i in range(len(features))]\n",
    "rbps = remove_channel(rbps, ['T4','Cz','F8','Fp2','F4'])\n",
    "train_metric_dict, val_metric_dict = log_reg_cross(rbps, targets, PCA_components = 0, reg_parameter = 1)\n",
    "train_metric_dict, val_metric_dict"
   ]
  },
  {
   "cell_type": "code",
   "execution_count": 33,
   "id": "7e71668d",
   "metadata": {},
   "outputs": [
    {
     "data": {
      "text/plain": [
       "({'acc': 0.8246823767443244,\n",
       "  'sens': 0.6942129078351988,\n",
       "  'spec': 0.9029007233961546,\n",
       "  'f1': 0.7480032930962589},\n",
       " {'acc': 0.6191198786039454,\n",
       "  'sens': 0.3633603238866397,\n",
       "  'spec': 0.7724514563106796,\n",
       "  'f1': 0.4169570267131243})"
      ]
     },
     "execution_count": 33,
     "metadata": {},
     "output_type": "execute_result"
    }
   ],
   "source": [
    "train_metric_dict, val_metric_dict = svm_cross(rbps, targets,kernel='linear',\n",
    "                                               reg_parameter=1.0, PCA_components = 0)\n",
    "train_metric_dict, val_metric_dict"
   ]
  },
  {
   "cell_type": "code",
   "execution_count": 34,
   "id": "400a0cd4",
   "metadata": {},
   "outputs": [
    {
     "data": {
      "text/plain": [
       "({'acc': 0.8246823767443244,\n",
       "  'sens': 0.6942129078351988,\n",
       "  'spec': 0.9029007233961546,\n",
       "  'f1': 0.7480032930962589},\n",
       " {'acc': 0.6191198786039454,\n",
       "  'sens': 0.3633603238866397,\n",
       "  'spec': 0.7724514563106796,\n",
       "  'f1': 0.4169570267131243})"
      ]
     },
     "execution_count": 34,
     "metadata": {},
     "output_type": "execute_result"
    }
   ],
   "source": [
    "train_metric_dict, val_metric_dict = svm_cross(rbps, targets,kernel='linear',\n",
    "                                               reg_parameter=1.0, PCA_components = 50)\n",
    "train_metric_dict, val_metric_dict"
   ]
  },
  {
   "cell_type": "code",
   "execution_count": 35,
   "id": "1effefba",
   "metadata": {},
   "outputs": [
    {
     "data": {
      "text/plain": [
       "({'acc': 0.8253964711833139,\n",
       "  'sens': 0.6984599507819322,\n",
       "  'spec': 0.9014967637540453,\n",
       "  'f1': 0.7499174310949169},\n",
       " {'acc': 0.6168437025796661,\n",
       "  'sens': 0.3694331983805668,\n",
       "  'spec': 0.7651699029126213,\n",
       "  'f1': 0.4195402298850575})"
      ]
     },
     "execution_count": 35,
     "metadata": {},
     "output_type": "execute_result"
    }
   ],
   "source": [
    "train_metric_dict, val_metric_dict = svm_cross(rbps, targets,kernel='linear',\n",
    "                                               reg_parameter=7, PCA_components = 50)\n",
    "train_metric_dict, val_metric_dict"
   ]
  },
  {
   "cell_type": "markdown",
   "id": "27736002",
   "metadata": {},
   "source": [
    "# Method 2\n",
    "Using \"only\" spectral connectivity features of 5 many quadraples of homotopic nodes with a single frequency band with long epoch lengths.\n",
    "1) P3,P4,O1,O2 nodes for delta band \n",
    "2) C3,C4,F3,F4 nodes for theta band \n",
    "3) C3,C4,F3,F4 nodes for delta band \n",
    "4) C3,C4,T3,T4 nodes for theta band\n",
    "5) C3,C4,P3,P4 nodes for theta band\n",
    "\n",
    "Freq. Band: {\"delta\": [0.5, 4.0],\n",
    "              \"theta\": [4.0, 8.0],\n",
    "              \"alpha\": [8.0, 13.0],\n",
    "              \"beta\": [13.0, 30.0]}"
   ]
  },
  {
   "cell_type": "code",
   "execution_count": 36,
   "id": "f63f18b8",
   "metadata": {},
   "outputs": [],
   "source": [
    "conn_data_1 = np.load('con_data_01.npy',allow_pickle=True)\n",
    "conn_data_2 = np.load('con_data_02.npy',allow_pickle=True)\n",
    "conn_data_3 = np.load('con_data_03.npy',allow_pickle=True)\n",
    "conn_data_4 = np.load('con_data_04.npy',allow_pickle=True)\n",
    "conn_data_5 = np.load('con_data_05.npy',allow_pickle=True)"
   ]
  },
  {
   "cell_type": "code",
   "execution_count": 37,
   "id": "6ac2d93d",
   "metadata": {},
   "outputs": [],
   "source": [
    "def my_remove_test(features,test):\n",
    "    features_train = [features[i] for i in range(len(features)) if i not in test]\n",
    "    return features_train\n",
    "def remove_test_targets(targets, test):\n",
    "    target_train = [targets[i] for i in range(len(targets)) if i not in test]\n",
    "    return target_train\n",
    "\n",
    "test= [4,6,8,20,33,71,72]\n",
    "cn_list= [i for i in range(38,67)]"
   ]
  },
  {
   "cell_type": "code",
   "execution_count": 38,
   "id": "19fe7546",
   "metadata": {},
   "outputs": [
    {
     "data": {
      "text/plain": [
       "36"
      ]
     },
     "execution_count": 38,
     "metadata": {},
     "output_type": "execute_result"
    }
   ],
   "source": [
    "len(np.append(test,cn_list))"
   ]
  },
  {
   "cell_type": "code",
   "execution_count": 39,
   "id": "30fdc1ea",
   "metadata": {},
   "outputs": [],
   "source": [
    "data_1 = my_remove_test(conn_data_1, np.append(test,cn_list))\n",
    "data_2 = my_remove_test(conn_data_2,np.append(test,cn_list))\n",
    "data_3 = my_remove_test(conn_data_3,np.append(test,cn_list))\n",
    "data_4 = my_remove_test(conn_data_4,np.append(test,cn_list))\n",
    "data_5 = my_remove_test(conn_data_5, np.append(test,cn_list))"
   ]
  },
  {
   "cell_type": "code",
   "execution_count": 40,
   "id": "a47517f1",
   "metadata": {},
   "outputs": [
    {
     "data": {
      "text/plain": [
       "52"
      ]
     },
     "execution_count": 40,
     "metadata": {},
     "output_type": "execute_result"
    }
   ],
   "source": [
    "targets= np.array(targets)\n",
    "len(targets)"
   ]
  },
  {
   "cell_type": "code",
   "execution_count": 41,
   "id": "6141dfab",
   "metadata": {},
   "outputs": [],
   "source": [
    "data_1 = [data_1[i] for i in range(52)]\n",
    "data_2 = [data_2[i] for i in range(52)]\n",
    "data_3 = [data_3[i] for i in range(52)]\n",
    "data_4 = [data_4[i] for i in range(52)]\n",
    "data_5 = [data_5[i] for i in range(52)]\n",
    "\n",
    "all_data = [data_1,data_2,data_3,data_4,data_5]"
   ]
  },
  {
   "cell_type": "code",
   "execution_count": 42,
   "id": "0f9af2b6",
   "metadata": {},
   "outputs": [],
   "source": [
    "def get_arr(data, idx , epoch): \n",
    "    trials = [(data[idx][epoch].reshape(-1,))[i] for i in range(16) if (data[idx][epoch].reshape(-1,))[i] != 0]\n",
    "    m = len(trials)\n",
    "    return (np.array(trials)).reshape((1,m))\n",
    "\n",
    "def get_all_freq_arr(all_data,idx, epoch):\n",
    "    r = get_arr(all_data[0], idx , epoch)\n",
    "    for i in range(1,len(all_data)):\n",
    "        r = np.concatenate((r,get_arr(all_data[i], idx , epoch)),axis =1)\n",
    "        \n",
    "    #r=np.concatenate((get_arr(all_data[0], idx , epoch),get_arr(all_data[1], idx , epoch),get_arr(all_data[2], idx , epoch),get_arr(all_data[3], idx , epoch),get_arr(all_data[4], idx , epoch)), axis=1)\n",
    "    return r\n",
    "\n",
    "def get_all_epochs_data(all_data,idx):\n",
    "    r = get_all_freq_arr(all_data,idx,0)\n",
    "    for j in range(1,len(all_data[0][idx])):\n",
    "        r = np.concatenate((r,get_all_freq_arr(all_data,idx,j)),axis = 0)\n",
    "    return r   \n",
    "\n",
    "def get_all_features(all_data):\n",
    "    output_array = [];\n",
    "    for j in range(len(all_data[0])):\n",
    "        r = get_all_epochs_data(all_data,j)\n",
    "        output_array = output_array + [r]\n",
    "    return output_array\n",
    "\n",
    "#the following is from the train_prep code from model_functions.npy\n",
    "def train_prep(features,targets,exclude=None,flatten_final=True):\n",
    "    total_subjects = len(targets)\n",
    "    target_list = []\n",
    "    for i in range(total_subjects):\n",
    "        num_epochs = features[i].shape[0]\n",
    "        target_list.append(targets[i]*np.ones(num_epochs))\n",
    "    if exclude==None: \n",
    "        features_array = np.concatenate(features)\n",
    "        targets_array = np.concatenate(target_list)\n",
    "    else:\n",
    "        features_array = np.concatenate(features[:exclude] + features[exclude+1:])\n",
    "        targets_array  = np.concatenate(target_list[:exclude] + target_list[exclude+1:])\n",
    "    if flatten_final:\n",
    "        features_array = features_array.reshape((features_array.shape[0],-1))\n",
    "    return features_array, targets_array\n",
    "\n",
    "def kNN_cross(features,targets,n_neighbors, PCA_components = 0):\n",
    "   \n",
    "    confusion_matrices_train = []\n",
    "    confusion_matrices_test = []\n",
    "    labels = np.unique(targets)\n",
    "    for i in range(len(targets)):\n",
    "        train_X, train_y = train_prep(features,targets,exclude=i,flatten_final=True)\n",
    "        test_X = features[i].reshape(features[i].shape[0],-1)\n",
    "        test_y = targets[i]*np.ones(features[i].shape[0])\n",
    "\n",
    "        scaler = StandardScaler()\n",
    "        train_X = scaler.fit_transform(train_X)\n",
    "        test_X = scaler.transform(test_X)\n",
    "        \n",
    "        if PCA_components != 0:\n",
    "            pca = PCA(n_components = PCA_components)\n",
    "            train_X = pca.fit_transform(train_X, y = None)\n",
    "            test_X = pca.transform(test_X)\n",
    "        \n",
    "        ThreeNN = KNeighborsClassifier(n_neighbors=n_neighbors)\n",
    "        ThreeNN.fit(train_X, train_y)\n",
    "        labels=[1,2]\n",
    "        confusion_matrices_train += [confusion_matrix(train_y, ThreeNN.predict(train_X),labels=labels)]\n",
    "        confusion_matrices_test += [confusion_matrix(test_y,ThreeNN.predict(test_X),labels=labels)]\n",
    "    \n",
    "    confusion_matrices_train = np.array(confusion_matrices_train)\n",
    "    confusion_matrices_test = np.array(confusion_matrices_test)\n",
    "    total_confusion_train = np.sum(confusion_matrices_train, axis= 0)\n",
    "    total_confusion_test = np.sum(confusion_matrices_test, axis= 0)\n",
    "    \n",
    "    train_metrics_dict = {'acc':accuracy(total_confusion_train), 'sens':sensitivity(total_confusion_train), \n",
    "                            'spec':specificity(total_confusion_train), 'f1':f1(total_confusion_train)}\n",
    "    test_metrics_dict = {'acc':accuracy(total_confusion_test), 'sens':sensitivity(total_confusion_test), \n",
    "                            'spec':specificity(total_confusion_test), 'f1':f1(total_confusion_test)}\n",
    "    \n",
    "    \n",
    "    return train_metrics_dict, test_metrics_dict\n"
   ]
  },
  {
   "cell_type": "code",
   "execution_count": 43,
   "id": "b8b63dc8",
   "metadata": {},
   "outputs": [],
   "source": [
    "features = get_all_features(all_data)"
   ]
  },
  {
   "cell_type": "code",
   "execution_count": 44,
   "id": "4ff82657",
   "metadata": {},
   "outputs": [
    {
     "data": {
      "text/plain": [
       "({'acc': 0.9985749346845064,\n",
       "  'sens': 1.0,\n",
       "  'spec': 0.9976982097186701,\n",
       "  'f1': 0.9981327800829876},\n",
       " {'acc': 0.49663526244952894,\n",
       "  'sens': 0.4558303886925795,\n",
       "  'spec': 0.5217391304347826,\n",
       "  'f1': 0.4082278481012658})"
      ]
     },
     "execution_count": 44,
     "metadata": {},
     "output_type": "execute_result"
    }
   ],
   "source": [
    "kNN_cross(features, targets, n_neighbors=3, PCA_components = 0)"
   ]
  },
  {
   "cell_type": "code",
   "execution_count": 45,
   "id": "47251ec8",
   "metadata": {},
   "outputs": [
    {
     "data": {
      "text/plain": [
       "({'acc': 0.8124719605204127,\n",
       "  'sens': 0.6934109332779048,\n",
       "  'spec': 0.8857203751065643,\n",
       "  'f1': 0.7379986726642578},\n",
       " {'acc': 0.4993270524899058,\n",
       "  'sens': 0.3321554770318021,\n",
       "  'spec': 0.6021739130434782,\n",
       "  'f1': 0.3357142857142857})"
      ]
     },
     "execution_count": 45,
     "metadata": {},
     "output_type": "execute_result"
    }
   ],
   "source": [
    "train_metric_dict, val_metric_dict = log_reg_cross(features, targets, PCA_components = 0, reg_parameter = 1)\n",
    "train_metric_dict, val_metric_dict"
   ]
  },
  {
   "cell_type": "code",
   "execution_count": 46,
   "id": "d4ad7600",
   "metadata": {},
   "outputs": [
    {
     "data": {
      "text/plain": [
       "({'acc': 0.8354313461589211,\n",
       "  'sens': 0.7692094505646782,\n",
       "  'spec': 0.8761722080136403,\n",
       "  'f1': 0.780731364275668},\n",
       " {'acc': 0.49663526244952894,\n",
       "  'sens': 0.38869257950530034,\n",
       "  'spec': 0.5630434782608695,\n",
       "  'f1': 0.3703703703703704})"
      ]
     },
     "execution_count": 46,
     "metadata": {},
     "output_type": "execute_result"
    }
   ],
   "source": [
    "train_metric_dict, val_metric_dict = svm_cross(features, targets,kernel='linear',\n",
    "                                               reg_parameter=100)\n",
    "train_metric_dict, val_metric_dict"
   ]
  },
  {
   "cell_type": "markdown",
   "id": "82171e8d",
   "metadata": {},
   "source": [
    "# Method 3\n",
    "Using \"only\" spectral connectivity features of all 19 nodes with all frequency bands with long epoch lengths."
   ]
  },
  {
   "cell_type": "code",
   "execution_count": 47,
   "id": "bd7eb820",
   "metadata": {},
   "outputs": [],
   "source": [
    "def get_arr(data, idx , epoch): \n",
    "    trials = [(data[idx][epoch].reshape(-1,))[i] for i in range(361) if (data[idx][epoch].reshape(-1,))[i] != 0]\n",
    "    m = len(trials)\n",
    "    return (np.array(trials)).reshape((1,m))\n",
    "\n",
    "\n",
    "def get_all_freq_arr(all_data,idx, epoch):\n",
    "    r = get_arr(all_data[0], idx , epoch)\n",
    "    for i in range(1,len(all_data)):\n",
    "        r = np.concatenate((r,get_arr(all_data[i], idx , epoch)),axis =1)\n",
    "        \n",
    "    #r=np.concatenate((get_arr(all_data[0], idx , epoch),get_arr(all_data[1], idx , epoch),get_arr(all_data[2], idx , epoch),get_arr(all_data[3], idx , epoch),get_arr(all_data[4], idx , epoch)), axis=1)\n",
    "    return r\n",
    "\n",
    "def get_all_epochs_data(all_data,idx):\n",
    "    r = get_all_freq_arr(all_data,idx,0)\n",
    "    for j in range(1,len(all_data[0][idx])):\n",
    "        r = np.concatenate((r,get_all_freq_arr(all_data,idx,j)),axis = 0)\n",
    "    return r\n",
    "\n",
    "def get_all_features(all_data):\n",
    "    output_array = [];\n",
    "    for j in range(len(all_data[0])):\n",
    "        r = get_all_epochs_data(all_data,j)\n",
    "        output_array = output_array + [r]\n",
    "    return output_array"
   ]
  },
  {
   "cell_type": "code",
   "execution_count": 48,
   "id": "07502e18",
   "metadata": {},
   "outputs": [],
   "source": [
    "conn_data_1 = np.load('con_data_19_delta.npy', allow_pickle=True)\n",
    "conn_data_2 = np.load('con_data_19_theta.npy', allow_pickle=True)\n",
    "conn_data_3 = np.load('con_data_19_alpha.npy', allow_pickle=True)\n",
    "conn_data_4 = np.load('con_data_19_beta.npy',allow_pickle=True)\n",
    "conn_data_5 = np.load('con_data_19_gamma.npy',allow_pickle=True)\n",
    "\n",
    "data_1 = my_remove_test(conn_data_1, test)\n",
    "data_2 = my_remove_test(conn_data_2,test)\n",
    "data_3 = my_remove_test(conn_data_3, test)\n",
    "data_4 = my_remove_test(conn_data_4,test)\n",
    "data_5 = my_remove_test(conn_data_5, test)\n",
    "\n",
    "data_1 = [data_1[i] for i in range(52)]\n",
    "data_2 = [data_2[i] for i in range(52)]\n",
    "data_3 = [data_3[i] for i in range(52)]\n",
    "data_4 = [data_4[i] for i in range(52)]\n",
    "data_5 = [data_5[i] for i in range(52)]\n",
    "\n",
    "all_data = [data_1,data_2,data_3,data_4,data_5]"
   ]
  },
  {
   "cell_type": "code",
   "execution_count": 49,
   "id": "e7156e2f",
   "metadata": {},
   "outputs": [],
   "source": [
    "features = get_all_features(all_data)"
   ]
  },
  {
   "cell_type": "code",
   "execution_count": 50,
   "id": "05e92224",
   "metadata": {},
   "outputs": [
    {
     "data": {
      "text/plain": [
       "({'acc': 1.0, 'sens': 1.0, 'spec': 1.0, 'f1': 1.0},\n",
       " {'acc': 0.7665816326530612,\n",
       "  'sens': 0.7530864197530864,\n",
       "  'spec': 0.7760869565217391,\n",
       "  'f1': 0.7272727272727272})"
      ]
     },
     "execution_count": 50,
     "metadata": {},
     "output_type": "execute_result"
    }
   ],
   "source": [
    "train_metric_dict, val_metric_dict = log_reg_cross(features, targets, PCA_components = 0, reg_parameter = 1)\n",
    "train_metric_dict, val_metric_dict"
   ]
  },
  {
   "cell_type": "code",
   "execution_count": 51,
   "id": "defa29d3",
   "metadata": {},
   "outputs": [
    {
     "data": {
      "text/plain": [
       "({'acc': 1.0, 'sens': 1.0, 'spec': 1.0, 'f1': 1.0},\n",
       " {'acc': 0.7538265306122449,\n",
       "  'sens': 0.8055555555555556,\n",
       "  'spec': 0.717391304347826,\n",
       "  'f1': 0.73006993006993})"
      ]
     },
     "execution_count": 51,
     "metadata": {},
     "output_type": "execute_result"
    }
   ],
   "source": [
    "kNN_cross(features, targets, n_neighbors=3, PCA_components = 0 )"
   ]
  },
  {
   "cell_type": "code",
   "execution_count": 52,
   "id": "b15cd9bf",
   "metadata": {},
   "outputs": [
    {
     "data": {
      "text/plain": [
       "({'acc': 0.9981742697078831,\n",
       "  'sens': 1.0,\n",
       "  'spec': 0.9968883205456095,\n",
       "  'f1': 0.9977959602669002},\n",
       " {'acc': 0.7206632653061225,\n",
       "  'sens': 0.7530864197530864,\n",
       "  'spec': 0.6978260869565217,\n",
       "  'f1': 0.6902404526166902})"
      ]
     },
     "execution_count": 52,
     "metadata": {},
     "output_type": "execute_result"
    }
   ],
   "source": [
    "kNN_cross(features, targets, n_neighbors=5, PCA_components = 15)"
   ]
  },
  {
   "cell_type": "code",
   "execution_count": 53,
   "id": "9962fa63",
   "metadata": {},
   "outputs": [
    {
     "data": {
      "text/plain": [
       "({'acc': 1.0, 'sens': 1.0, 'spec': 1.0, 'f1': 1.0},\n",
       " {'acc': 0.7206632653061225,\n",
       "  'sens': 0.6820987654320988,\n",
       "  'spec': 0.7478260869565218,\n",
       "  'f1': 0.6686838124054463})"
      ]
     },
     "execution_count": 53,
     "metadata": {},
     "output_type": "execute_result"
    }
   ],
   "source": [
    "train_metric_dict, val_metric_dict = svm_cross(features, targets, kernel= \"linear\", reg_parameter = 1.0, degree=2, PCA_components= 0)\n",
    "train_metric_dict, val_metric_dict"
   ]
  },
  {
   "cell_type": "code",
   "execution_count": 54,
   "id": "3dd86a73",
   "metadata": {},
   "outputs": [
    {
     "data": {
      "text/plain": [
       "({'acc': 1.0, 'sens': 1.0, 'spec': 1.0, 'f1': 1.0},\n",
       " {'acc': 0.7206632653061225,\n",
       "  'sens': 0.6820987654320988,\n",
       "  'spec': 0.7478260869565218,\n",
       "  'f1': 0.6686838124054463})"
      ]
     },
     "execution_count": 54,
     "metadata": {},
     "output_type": "execute_result"
    }
   ],
   "source": [
    "train_metric_dict, val_metric_dict = svm_cross(features, targets,kernel='linear',\n",
    "                                               reg_parameter=100)\n",
    "train_metric_dict, val_metric_dict"
   ]
  },
  {
   "cell_type": "markdown",
   "id": "06345f19",
   "metadata": {},
   "source": [
    "# Method 4\n",
    "Using \"both\" the combination of rbps analysis of 15 nodes (4 nodes removed) with long epoch lengths and spectral connectivity features of 5 many quadraples of homotopic nodes with a single frequency band(delta or theta for a certain quadraples) with long epoch lengths."
   ]
  },
  {
   "cell_type": "markdown",
   "id": "0f1ac059",
   "metadata": {},
   "source": [
    "In this analysis, we have the connectivity data of the following nodes:\n",
    "1) P3,P4,O1,O2 nodes for delta band (6 entries in total)\n",
    "2) C3,C4,F3,F4 nodes for theta band (6 entries in total)\n",
    "3) C3,C4,F3,F4 nodes for delta band (6 entries in total)\n",
    "4) C3,C4,T3,T4 nodes for theta band (6 entries in total)\n",
    "5) C3,C4,P3,P4 nodes for theta band (6 entries in total)\n",
    "\n",
    "which we joined with rbps data of 15 nodes(F3,F4,C4,F8 removed) on the frequency bands 0.5-4.0, 4.0-7.0, 7.0-9.0, 9.0-11.0, 11.0-13.0, 13.0-25.0 with (2 mins long epochs)very long epochs. "
   ]
  },
  {
   "cell_type": "code",
   "execution_count": 55,
   "id": "0a1367a9",
   "metadata": {},
   "outputs": [],
   "source": [
    "features= np.load('rbp_plus_all_con_long_epochs.npy',allow_pickle=True)"
   ]
  },
  {
   "cell_type": "code",
   "execution_count": 56,
   "id": "56b51a45",
   "metadata": {},
   "outputs": [],
   "source": [
    "#make sure to run targets as below if you didn't before above.\n",
    "#features, targets = remove_class(subject_data,targets,'C')\n",
    "#features, targets = remove_test(features,targets,test_labels)"
   ]
  },
  {
   "cell_type": "code",
   "execution_count": 57,
   "id": "272d5679",
   "metadata": {},
   "outputs": [],
   "source": [
    "def my_remove_test(features,test):\n",
    "    features_train = [features[i] for i in range(len(features)) if i not in test]\n",
    "    return features_train\n",
    "def remove_test_targets(targets, test):\n",
    "    target_train = [targets[i] for i in range(len(targets)) if i not in test]\n",
    "    return target_train\n",
    "\n",
    "test= [4,6,8,20,33,71,72]\n",
    "cn_list= [i for i in range(38,67)]"
   ]
  },
  {
   "cell_type": "code",
   "execution_count": 58,
   "id": "16932c5a",
   "metadata": {},
   "outputs": [
    {
     "data": {
      "text/plain": [
       "36"
      ]
     },
     "execution_count": 58,
     "metadata": {},
     "output_type": "execute_result"
    }
   ],
   "source": [
    "len(np.append(test,cn_list))"
   ]
  },
  {
   "cell_type": "code",
   "execution_count": 60,
   "id": "42730c04",
   "metadata": {},
   "outputs": [],
   "source": [
    "data = my_remove_test(features, np.append(test,cn_list))"
   ]
  },
  {
   "cell_type": "code",
   "execution_count": 61,
   "id": "86546663",
   "metadata": {},
   "outputs": [
    {
     "data": {
      "text/plain": [
       "52"
      ]
     },
     "execution_count": 61,
     "metadata": {},
     "output_type": "execute_result"
    }
   ],
   "source": [
    "targets= np.array(targets)\n",
    "len(targets)"
   ]
  },
  {
   "cell_type": "code",
   "execution_count": 62,
   "id": "3a8cda98",
   "metadata": {},
   "outputs": [
    {
     "data": {
      "text/plain": [
       "({'acc': 1.0, 'sens': 1.0, 'spec': 1.0, 'f1': 1.0},\n",
       " {'acc': 0.4508748317631225,\n",
       "  'sens': 0.3003533568904594,\n",
       "  'spec': 0.5434782608695652,\n",
       "  'f1': 0.29411764705882354})"
      ]
     },
     "execution_count": 62,
     "metadata": {},
     "output_type": "execute_result"
    }
   ],
   "source": [
    "kNN_cross(data,targets,n_neighbors=3, PCA_components = 0)"
   ]
  },
  {
   "cell_type": "code",
   "execution_count": 63,
   "id": "1a5bae71",
   "metadata": {},
   "outputs": [
    {
     "data": {
      "text/plain": [
       "({'acc': 1.0, 'sens': 1.0, 'spec': 1.0, 'f1': 1.0},\n",
       " {'acc': 0.4858681022880215,\n",
       "  'sens': 0.26855123674911663,\n",
       "  'spec': 0.6195652173913043,\n",
       "  'f1': 0.2846441947565543})"
      ]
     },
     "execution_count": 63,
     "metadata": {},
     "output_type": "execute_result"
    }
   ],
   "source": [
    "train_metric_dict, val_metric_dict = svm_cross(data, targets, kernel= \"linear\", reg_parameter = 1.0, degree=2, PCA_components= 0)\n",
    "train_metric_dict, val_metric_dict"
   ]
  },
  {
   "cell_type": "code",
   "execution_count": 64,
   "id": "d8d47832",
   "metadata": {},
   "outputs": [
    {
     "data": {
      "text/plain": [
       "({'acc': 0.9229409125696039,\n",
       "  'sens': 0.9245479110372063,\n",
       "  'spec': 0.9219522591645354,\n",
       "  'f1': 0.9013780059443394},\n",
       " {'acc': 0.5437415881561238,\n",
       "  'sens': 0.3568904593639576,\n",
       "  'spec': 0.658695652173913,\n",
       "  'f1': 0.3733826247689464})"
      ]
     },
     "execution_count": 64,
     "metadata": {},
     "output_type": "execute_result"
    }
   ],
   "source": [
    "train_metric_dict, val_metric_dict = svm_cross(data, targets, kernel= \"linear\", reg_parameter=0.085, PCA_components = 32)\n",
    "train_metric_dict, val_metric_dict"
   ]
  },
  {
   "cell_type": "code",
   "execution_count": 66,
   "id": "47d16eab",
   "metadata": {},
   "outputs": [
    {
     "data": {
      "text/plain": [
       "({'acc': 1.0, 'sens': 1.0, 'spec': 1.0, 'f1': 1.0},\n",
       " {'acc': 0.5006729475100942,\n",
       "  'sens': 0.2862190812720848,\n",
       "  'spec': 0.6326086956521739,\n",
       "  'f1': 0.30393996247654786})"
      ]
     },
     "execution_count": 66,
     "metadata": {},
     "output_type": "execute_result"
    }
   ],
   "source": [
    "train_metric_dict, val_metric_dict = log_reg_cross(data, targets)\n",
    "train_metric_dict, val_metric_dict"
   ]
  },
  {
   "cell_type": "code",
   "execution_count": 67,
   "id": "773cae2e",
   "metadata": {},
   "outputs": [],
   "source": [
    "X, y = train_prep(data,targets,exclude=None,flatten_final=True)"
   ]
  },
  {
   "cell_type": "code",
   "execution_count": 68,
   "id": "5c79b42a",
   "metadata": {},
   "outputs": [
    {
     "name": "stdout",
     "output_type": "stream",
     "text": [
      "('O2', 18)\n",
      "('T3', 15)\n",
      "('F8', 30)\n",
      "('T5', 42)\n",
      "('O2', 40)\n",
      "('P3', 28)\n",
      "('O1', 41)\n",
      "('O2', 39)\n",
      "('Fp2', 18)\n",
      "('O1', 41)\n",
      "('Fp1', 27)\n",
      "('T5', 36)\n",
      "('T3', 39)\n",
      "('P3', 43)\n",
      "('Cz', 42)\n",
      "('Fp2', 36)\n",
      "('T5', 36)\n",
      "('C3', 36)\n",
      "('F7', 37)\n",
      "('O1', 21)\n",
      "('C4', 41)\n",
      "('T5', 25)\n",
      "('Fp1', 39)\n",
      "('Fp2', 18)\n",
      "('Pz', 38)\n",
      "('P4', 38)\n",
      "('Pz', 38)\n",
      "('Fp2', 27)\n",
      "('T4', 36)\n",
      "('Fp2', 39)\n",
      "('Fp2', 36)\n",
      "('T5', 41)\n",
      "('O2', 13)\n",
      "('T5', 36)\n",
      "('Cz', 38)\n"
     ]
    }
   ],
   "source": [
    "pca = PCA()\n",
    "pca.fit(X)\n",
    "for i in range(35):\n",
    "    channel, band = unroll(np.argmax(pca.components_[i]))\n",
    "    print((CHANNELS[channel], band))"
   ]
  },
  {
   "cell_type": "code",
   "execution_count": 69,
   "id": "77722757",
   "metadata": {},
   "outputs": [
    {
     "data": {
      "image/png": "[encoded data removed]",
      "text/plain": [
       "<Figure size 700x500 with 1 Axes>"
      ]
     },
     "metadata": {},
     "output_type": "display_data"
    }
   ],
   "source": [
    "## make the explained variance curve\n",
    "plt.figure(figsize=(7,5))\n",
    "\n",
    "\n",
    "plt.plot(range(1, len(pca.explained_variance_ratio_)+1),\n",
    "            np.cumsum(pca.explained_variance_ratio_))\n",
    "\n",
    "plt.ylabel(\"Cumulative Explained Variance Ratio\", fontsize=12)\n",
    "plt.xlabel(\"Number of Principal Components\", fontsize=12)\n",
    "plt.xticks(range(0,100,5),fontsize=10)\n",
    "plt.yticks(fontsize=10)\n",
    "\n",
    "plt.xlim(0,100)\n",
    "\n",
    "plt.show()"
   ]
  },
  {
   "cell_type": "markdown",
   "id": "77078ee0",
   "metadata": {},
   "source": [
    "# Method 5\n",
    "Using \"both\" the combination of rbps analysis of 15 nodes (4 nodes removed) with long epoch lengths and spectral connectivity features of all 19 nodes with all frequency bands with long epoch lengths.\n"
   ]
  },
  {
   "cell_type": "code",
   "execution_count": 70,
   "id": "eb22455a",
   "metadata": {},
   "outputs": [],
   "source": [
    "features= np.load('con_data_19_plus_rbps_long_epoch.npy',allow_pickle=True)"
   ]
  },
  {
   "cell_type": "code",
   "execution_count": 71,
   "id": "d6097727",
   "metadata": {},
   "outputs": [],
   "source": [
    "#make sure to run targets as below if you didn't before above.\n",
    "test= [4,6,8,20,33,71,72]"
   ]
  },
  {
   "cell_type": "code",
   "execution_count": 72,
   "id": "489e91a6",
   "metadata": {},
   "outputs": [],
   "source": [
    "cn_list= [i for i in range(38,67)]"
   ]
  },
  {
   "cell_type": "code",
   "execution_count": 73,
   "id": "7ad3f558",
   "metadata": {},
   "outputs": [
    {
     "data": {
      "text/plain": [
       "36"
      ]
     },
     "execution_count": 73,
     "metadata": {},
     "output_type": "execute_result"
    }
   ],
   "source": [
    "len(np.append(test,cn_list))"
   ]
  },
  {
   "cell_type": "code",
   "execution_count": 74,
   "id": "35962424",
   "metadata": {},
   "outputs": [],
   "source": [
    "data = my_remove_test(features, np.append(test,cn_list))"
   ]
  },
  {
   "cell_type": "code",
   "execution_count": 75,
   "id": "00ec87f5",
   "metadata": {},
   "outputs": [
    {
     "data": {
      "text/plain": [
       "52"
      ]
     },
     "execution_count": 75,
     "metadata": {},
     "output_type": "execute_result"
    }
   ],
   "source": [
    "targets= np.array(targets)\n",
    "len(targets)"
   ]
  },
  {
   "cell_type": "code",
   "execution_count": 85,
   "id": "0f695afb",
   "metadata": {},
   "outputs": [
    {
     "data": {
      "text/plain": [
       "({'acc': 1.0, 'sens': 1.0, 'spec': 1.0, 'f1': 1.0},\n",
       " {'acc': 0.4508748317631225,\n",
       "  'sens': 0.3003533568904594,\n",
       "  'spec': 0.5434782608695652,\n",
       "  'f1': 0.29411764705882354})"
      ]
     },
     "execution_count": 85,
     "metadata": {},
     "output_type": "execute_result"
    }
   ],
   "source": [
    "kNN_cross(data,targets,n_neighbors=3, PCA_components = 0)"
   ]
  },
  {
   "cell_type": "code",
   "execution_count": 77,
   "id": "a6e6cae8",
   "metadata": {},
   "outputs": [
    {
     "data": {
      "text/plain": [
       "({'acc': 1.0, 'sens': 1.0, 'spec': 1.0, 'f1': 1.0},\n",
       " {'acc': 0.4858681022880215,\n",
       "  'sens': 0.26855123674911663,\n",
       "  'spec': 0.6195652173913043,\n",
       "  'f1': 0.2846441947565543})"
      ]
     },
     "execution_count": 77,
     "metadata": {},
     "output_type": "execute_result"
    }
   ],
   "source": [
    "train_metric_dict, val_metric_dict = svm_cross(data, targets, kernel= \"linear\", reg_parameter = 1.0, degree=2, PCA_components= 0)\n",
    "train_metric_dict, val_metric_dict"
   ]
  },
  {
   "cell_type": "code",
   "execution_count": 78,
   "id": "b45eec17",
   "metadata": {},
   "outputs": [
    {
     "data": {
      "text/plain": [
       "({'acc': 0.9228089620774286,\n",
       "  'sens': 0.9242014827132267,\n",
       "  'spec': 0.9219522591645354,\n",
       "  'f1': 0.901192446711482},\n",
       " {'acc': 0.5410497981157469,\n",
       "  'sens': 0.3568904593639576,\n",
       "  'spec': 0.6543478260869565,\n",
       "  'f1': 0.3720073664825046})"
      ]
     },
     "execution_count": 78,
     "metadata": {},
     "output_type": "execute_result"
    }
   ],
   "source": [
    "train_metric_dict, val_metric_dict = svm_cross(data, targets, kernel= \"linear\", reg_parameter=0.085, PCA_components = 32)\n",
    "train_metric_dict, val_metric_dict"
   ]
  },
  {
   "cell_type": "code",
   "execution_count": 86,
   "id": "0874cd7f",
   "metadata": {},
   "outputs": [
    {
     "data": {
      "text/plain": [
       "({'acc': 0.9987068851766817,\n",
       "  'sens': 0.9982678583801011,\n",
       "  'spec': 0.9989769820971867,\n",
       "  'f1': 0.9983024424042957},\n",
       " {'acc': 0.5356662180349933,\n",
       "  'sens': 0.2968197879858657,\n",
       "  'spec': 0.6826086956521739,\n",
       "  'f1': 0.32748538011695905})"
      ]
     },
     "execution_count": 86,
     "metadata": {},
     "output_type": "execute_result"
    }
   ],
   "source": [
    "train_metric_dict, val_metric_dict = svm_cross(data, targets, kernel= \"linear\", reg_parameter=1.5, PCA_components = 45)\n",
    "train_metric_dict, val_metric_dict"
   ]
  },
  {
   "cell_type": "code",
   "execution_count": 79,
   "id": "f8370298",
   "metadata": {},
   "outputs": [
    {
     "data": {
      "text/plain": [
       "({'acc': 1.0, 'sens': 1.0, 'spec': 1.0, 'f1': 1.0},\n",
       " {'acc': 0.5006729475100942,\n",
       "  'sens': 0.2862190812720848,\n",
       "  'spec': 0.6326086956521739,\n",
       "  'f1': 0.30393996247654786})"
      ]
     },
     "execution_count": 79,
     "metadata": {},
     "output_type": "execute_result"
    }
   ],
   "source": [
    "train_metric_dict, val_metric_dict = log_reg_cross(data, targets)\n",
    "train_metric_dict, val_metric_dict"
   ]
  }
 ],
 "metadata": {
  "kernelspec": {
   "display_name": "Python 3 (ipykernel)",
   "language": "python",
   "name": "python3"
  },
  "language_info": {
   "codemirror_mode": {
    "name": "ipython",
    "version": 3
   },
   "file_extension": ".py",
   "mimetype": "text/x-python",
   "name": "python",
   "nbconvert_exporter": "python",
   "pygments_lexer": "ipython3",
   "version": "3.10.12"
  }
 },
 "nbformat": 4,
 "nbformat_minor": 5
}

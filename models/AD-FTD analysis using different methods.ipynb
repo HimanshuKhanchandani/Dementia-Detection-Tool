{
 "cells": [
  {
   "cell_type": "markdown",
   "id": "eb63b57d",
   "metadata": {},
   "source": [
    "# Detection for Alzheimer's patients vs Frontotemporal dementia patients via various methods:\n",
    "\n",
    "<span style='color:red'> OUTLINE <span>\n",
    "\n",
    "1) Using \"only\" spectral connectivity features of 5 many quadraples of homotopic nodes with a single frequency band with long epoch lengths.\n",
    "       \n",
    "   <span style='color:red'> Conclusion: best training accuracy-validation accuracy pair (%83, %49)\n",
    "    \n",
    "\n",
    "2) Using \"only\" spectral connectivity features of all 19 nodes with all frequency bands with long epoch lengths.\n",
    "       \n",
    "   <span style='color:red'> Conclusion: best training accuracy-validation accuracy pair (%100, %76)\n",
    "       \n",
    "\n",
    "3) Using \"both\" the combination of rbps analysis of 15 nodes (4 nodes removed) with long epoch lengths and spectral connectivity features of 5 many quadraples of homotopic nodes with a single frequency band with long epoch lengths.\n",
    "       \n",
    "   <span style='color:red'> Conclusion: best training accuracy-validation accuracy pair (%92.3,%54)\n",
    "       \n",
    "4) Using \"both\" the combination of rbps analysis of 15 nodes (4 nodes removed) with long epoch lengths and spectral connectivity features of all 19 nodes with all frequency bands with long epoch lengths.\n",
    "\n",
    "   <span style='color:red'> Conclusion: best training accuracy-validation accuracy pair (%92.1,%54)"
   ]
  },
  {
   "cell_type": "code",
   "execution_count": 3,
   "id": "02f64b58",
   "metadata": {},
   "outputs": [],
   "source": [
    "import numpy as np\n",
    "from model_functions import *\n",
    "from Classification_models_LOSO_2Class import *\n",
    "import matplotlib.pyplot as plt"
   ]
  },
  {
   "cell_type": "code",
   "execution_count": 21,
   "id": "a3d0f329",
   "metadata": {},
   "outputs": [],
   "source": [
    "subject_data, freqs, targets = load_psds('all_psds_very_long.pickle')\n",
    "test_labels = align_test_labels(classes=['A','F'])\n",
    "featuress, targetss = remove_class(subject_data,targets,'C')\n",
    "features, targets = remove_test(featuress,targetss,test_labels)\n",
    "rbps = [relative_band_power(features[i],freqs,freq_bands=[0.5,4.0,7.0,9.0,11.0,13.0,25.0]) \n",
    "        for i in range(len(features))]"
   ]
  },
  {
   "cell_type": "markdown",
   "id": "27736002",
   "metadata": {},
   "source": [
    "# Method 1\n",
    "Using \"only\" spectral connectivity features of 5 many quadraples of homotopic nodes with a single frequency band with long epoch lengths.\n",
    "1) P3,P4,O1,O2 nodes for delta band \n",
    "2) C3,C4,F3,F4 nodes for theta band \n",
    "3) C3,C4,F3,F4 nodes for delta band \n",
    "4) C3,C4,T3,T4 nodes for theta band\n",
    "5) C3,C4,P3,P4 nodes for theta band\n",
    "\n",
    "Freq. Band: {\"delta\": [0.5, 4.0],\n",
    "              \"theta\": [4.0, 8.0],\n",
    "              \"alpha\": [8.0, 13.0],\n",
    "              \"beta\": [13.0, 30.0]}"
   ]
  },
  {
   "cell_type": "code",
   "execution_count": 36,
   "id": "f63f18b8",
   "metadata": {},
   "outputs": [],
   "source": [
    "conn_data_1 = np.load('con_data_01.npy',allow_pickle=True)\n",
    "conn_data_2 = np.load('con_data_02.npy',allow_pickle=True)\n",
    "conn_data_3 = np.load('con_data_03.npy',allow_pickle=True)\n",
    "conn_data_4 = np.load('con_data_04.npy',allow_pickle=True)\n",
    "conn_data_5 = np.load('con_data_05.npy',allow_pickle=True)"
   ]
  },
  {
   "cell_type": "code",
   "execution_count": 37,
   "id": "6ac2d93d",
   "metadata": {},
   "outputs": [],
   "source": [
    "def my_remove_test(features,test):\n",
    "    features_train = [features[i] for i in range(len(features)) if i not in test]\n",
    "    return features_train\n",
    "def remove_test_targets(targets, test):\n",
    "    target_train = [targets[i] for i in range(len(targets)) if i not in test]\n",
    "    return target_train\n",
    "\n",
    "test= [4,6,8,20,33,71,72]\n",
    "cn_list= [i for i in range(38,67)]"
   ]
  },
  {
   "cell_type": "code",
   "execution_count": 38,
   "id": "19fe7546",
   "metadata": {},
   "outputs": [
    {
     "data": {
      "text/plain": [
       "36"
      ]
     },
     "execution_count": 38,
     "metadata": {},
     "output_type": "execute_result"
    }
   ],
   "source": [
    "len(np.append(test,cn_list))"
   ]
  },
  {
   "cell_type": "code",
   "execution_count": 39,
   "id": "30fdc1ea",
   "metadata": {},
   "outputs": [],
   "source": [
    "data_1 = my_remove_test(conn_data_1, np.append(test,cn_list))\n",
    "data_2 = my_remove_test(conn_data_2,np.append(test,cn_list))\n",
    "data_3 = my_remove_test(conn_data_3,np.append(test,cn_list))\n",
    "data_4 = my_remove_test(conn_data_4,np.append(test,cn_list))\n",
    "data_5 = my_remove_test(conn_data_5, np.append(test,cn_list))"
   ]
  },
  {
   "cell_type": "code",
   "execution_count": 40,
   "id": "a47517f1",
   "metadata": {},
   "outputs": [
    {
     "data": {
      "text/plain": [
       "52"
      ]
     },
     "execution_count": 40,
     "metadata": {},
     "output_type": "execute_result"
    }
   ],
   "source": [
    "targets= np.array(targets)"
   ]
  },
  {
   "cell_type": "code",
   "execution_count": 41,
   "id": "6141dfab",
   "metadata": {},
   "outputs": [],
   "source": [
    "data_1 = [data_1[i] for i in range(52)]\n",
    "data_2 = [data_2[i] for i in range(52)]\n",
    "data_3 = [data_3[i] for i in range(52)]\n",
    "data_4 = [data_4[i] for i in range(52)]\n",
    "data_5 = [data_5[i] for i in range(52)]\n",
    "\n",
    "all_data = [data_1,data_2,data_3,data_4,data_5]"
   ]
  },
  {
   "cell_type": "code",
   "execution_count": 42,
   "id": "0f9af2b6",
   "metadata": {},
   "outputs": [],
   "source": [
    "def get_arr(data, idx , epoch): \n",
    "    trials = [(data[idx][epoch].reshape(-1,))[i] for i in range(16) if (data[idx][epoch].reshape(-1,))[i] != 0]\n",
    "    m = len(trials)\n",
    "    return (np.array(trials)).reshape((1,m))\n",
    "\n",
    "def get_all_freq_arr(all_data,idx, epoch):\n",
    "    r = get_arr(all_data[0], idx , epoch)\n",
    "    for i in range(1,len(all_data)):\n",
    "        r = np.concatenate((r,get_arr(all_data[i], idx , epoch)),axis =1)\n",
    "        \n",
    "    #r=np.concatenate((get_arr(all_data[0], idx , epoch),get_arr(all_data[1], idx , epoch),get_arr(all_data[2], idx , epoch),get_arr(all_data[3], idx , epoch),get_arr(all_data[4], idx , epoch)), axis=1)\n",
    "    return r\n",
    "\n",
    "def get_all_epochs_data(all_data,idx):\n",
    "    r = get_all_freq_arr(all_data,idx,0)\n",
    "    for j in range(1,len(all_data[0][idx])):\n",
    "        r = np.concatenate((r,get_all_freq_arr(all_data,idx,j)),axis = 0)\n",
    "    return r   \n",
    "\n",
    "def get_all_features(all_data):\n",
    "    output_array = [];\n",
    "    for j in range(len(all_data[0])):\n",
    "        r = get_all_epochs_data(all_data,j)\n",
    "        output_array = output_array + [r]\n",
    "    return output_array\n",
    "\n",
    "#the following is from the train_prep code from model_functions.npy\n",
    "def train_prep(features,targets,exclude=None,flatten_final=True):\n",
    "    total_subjects = len(targets)\n",
    "    target_list = []\n",
    "    for i in range(total_subjects):\n",
    "        num_epochs = features[i].shape[0]\n",
    "        target_list.append(targets[i]*np.ones(num_epochs))\n",
    "    if exclude==None: \n",
    "        features_array = np.concatenate(features)\n",
    "        targets_array = np.concatenate(target_list)\n",
    "    else:\n",
    "        features_array = np.concatenate(features[:exclude] + features[exclude+1:])\n",
    "        targets_array  = np.concatenate(target_list[:exclude] + target_list[exclude+1:])\n",
    "    if flatten_final:\n",
    "        features_array = features_array.reshape((features_array.shape[0],-1))\n",
    "    return features_array, targets_array\n",
    "\n",
    "def kNN_cross(features,targets,n_neighbors, PCA_components = 0):\n",
    "   \n",
    "    confusion_matrices_train = []\n",
    "    confusion_matrices_test = []\n",
    "    labels = np.unique(targets)\n",
    "    for i in range(len(targets)):\n",
    "        train_X, train_y = train_prep(features,targets,exclude=i,flatten_final=True)\n",
    "        test_X = features[i].reshape(features[i].shape[0],-1)\n",
    "        test_y = targets[i]*np.ones(features[i].shape[0])\n",
    "\n",
    "        scaler = StandardScaler()\n",
    "        train_X = scaler.fit_transform(train_X)\n",
    "        test_X = scaler.transform(test_X)\n",
    "        \n",
    "        if PCA_components != 0:\n",
    "            pca = PCA(n_components = PCA_components)\n",
    "            train_X = pca.fit_transform(train_X, y = None)\n",
    "            test_X = pca.transform(test_X)\n",
    "        \n",
    "        ThreeNN = KNeighborsClassifier(n_neighbors=n_neighbors)\n",
    "        ThreeNN.fit(train_X, train_y)\n",
    "        labels=[1,2]\n",
    "        confusion_matrices_train += [confusion_matrix(train_y, ThreeNN.predict(train_X),labels=labels)]\n",
    "        confusion_matrices_test += [confusion_matrix(test_y,ThreeNN.predict(test_X),labels=labels)]\n",
    "    \n",
    "    confusion_matrices_train = np.array(confusion_matrices_train)\n",
    "    confusion_matrices_test = np.array(confusion_matrices_test)\n",
    "    total_confusion_train = np.sum(confusion_matrices_train, axis= 0)\n",
    "    total_confusion_test = np.sum(confusion_matrices_test, axis= 0)\n",
    "    \n",
    "    train_metrics_dict = {'acc':accuracy(total_confusion_train), 'sens':sensitivity(total_confusion_train), \n",
    "                            'spec':specificity(total_confusion_train), 'f1':f1(total_confusion_train)}\n",
    "    test_metrics_dict = {'acc':accuracy(total_confusion_test), 'sens':sensitivity(total_confusion_test), \n",
    "                            'spec':specificity(total_confusion_test), 'f1':f1(total_confusion_test)}\n",
    "    \n",
    "    \n",
    "    return train_metrics_dict, test_metrics_dict\n"
   ]
  },
  {
   "cell_type": "code",
   "execution_count": 43,
   "id": "b8b63dc8",
   "metadata": {},
   "outputs": [],
   "source": [
    "features = get_all_features(all_data)"
   ]
  },
  {
   "cell_type": "code",
   "execution_count": 44,
   "id": "4ff82657",
   "metadata": {},
   "outputs": [
    {
     "data": {
      "text/plain": [
       "({'acc': 0.9985749346845064,\n",
       "  'sens': 1.0,\n",
       "  'spec': 0.9976982097186701,\n",
       "  'f1': 0.9981327800829876},\n",
       " {'acc': 0.49663526244952894,\n",
       "  'sens': 0.4558303886925795,\n",
       "  'spec': 0.5217391304347826,\n",
       "  'f1': 0.4082278481012658})"
      ]
     },
     "execution_count": 44,
     "metadata": {},
     "output_type": "execute_result"
    }
   ],
   "source": [
    "kNN_cross(features, targets, n_neighbors=3, PCA_components = 0)"
   ]
  },
  {
   "cell_type": "code",
   "execution_count": 45,
   "id": "47251ec8",
   "metadata": {},
   "outputs": [
    {
     "data": {
      "text/plain": [
       "({'acc': 0.8124719605204127,\n",
       "  'sens': 0.6934109332779048,\n",
       "  'spec': 0.8857203751065643,\n",
       "  'f1': 0.7379986726642578},\n",
       " {'acc': 0.4993270524899058,\n",
       "  'sens': 0.3321554770318021,\n",
       "  'spec': 0.6021739130434782,\n",
       "  'f1': 0.3357142857142857})"
      ]
     },
     "execution_count": 45,
     "metadata": {},
     "output_type": "execute_result"
    }
   ],
   "source": [
    "train_metric_dict, val_metric_dict = log_reg_cross(features, targets, PCA_components = 0, reg_parameter = 1)\n",
    "train_metric_dict, val_metric_dict"
   ]
  },
  {
   "cell_type": "code",
   "execution_count": 46,
   "id": "d4ad7600",
   "metadata": {},
   "outputs": [
    {
     "data": {
      "text/plain": [
       "({'acc': 0.8354313461589211,\n",
       "  'sens': 0.7692094505646782,\n",
       "  'spec': 0.8761722080136403,\n",
       "  'f1': 0.780731364275668},\n",
       " {'acc': 0.49663526244952894,\n",
       "  'sens': 0.38869257950530034,\n",
       "  'spec': 0.5630434782608695,\n",
       "  'f1': 0.3703703703703704})"
      ]
     },
     "execution_count": 46,
     "metadata": {},
     "output_type": "execute_result"
    }
   ],
   "source": [
    "train_metric_dict, val_metric_dict = svm_cross(features, targets,kernel='linear',\n",
    "                                               reg_parameter=100)\n",
    "train_metric_dict, val_metric_dict"
   ]
  },
  {
   "cell_type": "markdown",
   "id": "82171e8d",
   "metadata": {},
   "source": [
    "# Method 2\n",
    "Using \"only\" spectral connectivity features of all 19 nodes with all frequency bands with long epoch lengths."
   ]
  },
  {
   "cell_type": "code",
   "execution_count": 47,
   "id": "bd7eb820",
   "metadata": {},
   "outputs": [],
   "source": [
    "def get_arr(data, idx , epoch): \n",
    "    trials = [(data[idx][epoch].reshape(-1,))[i] for i in range(361) if (data[idx][epoch].reshape(-1,))[i] != 0]\n",
    "    m = len(trials)\n",
    "    return (np.array(trials)).reshape((1,m))\n",
    "\n",
    "\n",
    "def get_all_freq_arr(all_data,idx, epoch):\n",
    "    r = get_arr(all_data[0], idx , epoch)\n",
    "    for i in range(1,len(all_data)):\n",
    "        r = np.concatenate((r,get_arr(all_data[i], idx , epoch)),axis =1)\n",
    "        \n",
    "    #r=np.concatenate((get_arr(all_data[0], idx , epoch),get_arr(all_data[1], idx , epoch),get_arr(all_data[2], idx , epoch),get_arr(all_data[3], idx , epoch),get_arr(all_data[4], idx , epoch)), axis=1)\n",
    "    return r\n",
    "\n",
    "def get_all_epochs_data(all_data,idx):\n",
    "    r = get_all_freq_arr(all_data,idx,0)\n",
    "    for j in range(1,len(all_data[0][idx])):\n",
    "        r = np.concatenate((r,get_all_freq_arr(all_data,idx,j)),axis = 0)\n",
    "    return r\n",
    "\n",
    "def get_all_features(all_data):\n",
    "    output_array = [];\n",
    "    for j in range(len(all_data[0])):\n",
    "        r = get_all_epochs_data(all_data,j)\n",
    "        output_array = output_array + [r]\n",
    "    return output_array"
   ]
  },
  {
   "cell_type": "code",
   "execution_count": 48,
   "id": "07502e18",
   "metadata": {},
   "outputs": [],
   "source": [
    "conn_data_1 = np.load('con_data_19_delta.npy', allow_pickle=True)\n",
    "conn_data_2 = np.load('con_data_19_theta.npy', allow_pickle=True)\n",
    "conn_data_3 = np.load('con_data_19_alpha.npy', allow_pickle=True)\n",
    "conn_data_4 = np.load('con_data_19_beta.npy',allow_pickle=True)\n",
    "conn_data_5 = np.load('con_data_19_gamma.npy',allow_pickle=True)\n",
    "\n",
    "data_1 = my_remove_test(conn_data_1, test)\n",
    "data_2 = my_remove_test(conn_data_2,test)\n",
    "data_3 = my_remove_test(conn_data_3, test)\n",
    "data_4 = my_remove_test(conn_data_4,test)\n",
    "data_5 = my_remove_test(conn_data_5, test)\n",
    "\n",
    "data_1 = [data_1[i] for i in range(52)]\n",
    "data_2 = [data_2[i] for i in range(52)]\n",
    "data_3 = [data_3[i] for i in range(52)]\n",
    "data_4 = [data_4[i] for i in range(52)]\n",
    "data_5 = [data_5[i] for i in range(52)]\n",
    "\n",
    "all_data = [data_1,data_2,data_3,data_4,data_5]"
   ]
  },
  {
   "cell_type": "code",
   "execution_count": 49,
   "id": "e7156e2f",
   "metadata": {},
   "outputs": [],
   "source": [
    "features = get_all_features(all_data)"
   ]
  },
  {
   "cell_type": "code",
   "execution_count": 50,
   "id": "05e92224",
   "metadata": {},
   "outputs": [
    {
     "data": {
      "text/plain": [
       "({'acc': 1.0, 'sens': 1.0, 'spec': 1.0, 'f1': 1.0},\n",
       " {'acc': 0.7665816326530612,\n",
       "  'sens': 0.7530864197530864,\n",
       "  'spec': 0.7760869565217391,\n",
       "  'f1': 0.7272727272727272})"
      ]
     },
     "execution_count": 50,
     "metadata": {},
     "output_type": "execute_result"
    }
   ],
   "source": [
    "train_metric_dict, val_metric_dict = log_reg_cross(features, targets, PCA_components = 0, reg_parameter = 1)\n",
    "train_metric_dict, val_metric_dict"
   ]
  },
  {
   "cell_type": "code",
   "execution_count": 51,
   "id": "defa29d3",
   "metadata": {},
   "outputs": [
    {
     "data": {
      "text/plain": [
       "({'acc': 1.0, 'sens': 1.0, 'spec': 1.0, 'f1': 1.0},\n",
       " {'acc': 0.7538265306122449,\n",
       "  'sens': 0.8055555555555556,\n",
       "  'spec': 0.717391304347826,\n",
       "  'f1': 0.73006993006993})"
      ]
     },
     "execution_count": 51,
     "metadata": {},
     "output_type": "execute_result"
    }
   ],
   "source": [
    "kNN_cross(features, targets, n_neighbors=3, PCA_components = 0 )"
   ]
  },
  {
   "cell_type": "code",
   "execution_count": 52,
   "id": "b15cd9bf",
   "metadata": {},
   "outputs": [
    {
     "data": {
      "text/plain": [
       "({'acc': 0.9981742697078831,\n",
       "  'sens': 1.0,\n",
       "  'spec': 0.9968883205456095,\n",
       "  'f1': 0.9977959602669002},\n",
       " {'acc': 0.7206632653061225,\n",
       "  'sens': 0.7530864197530864,\n",
       "  'spec': 0.6978260869565217,\n",
       "  'f1': 0.6902404526166902})"
      ]
     },
     "execution_count": 52,
     "metadata": {},
     "output_type": "execute_result"
    }
   ],
   "source": [
    "kNN_cross(features, targets, n_neighbors=5, PCA_components = 15)"
   ]
  },
  {
   "cell_type": "code",
   "execution_count": 53,
   "id": "9962fa63",
   "metadata": {},
   "outputs": [
    {
     "data": {
      "text/plain": [
       "({'acc': 1.0, 'sens': 1.0, 'spec': 1.0, 'f1': 1.0},\n",
       " {'acc': 0.7206632653061225,\n",
       "  'sens': 0.6820987654320988,\n",
       "  'spec': 0.7478260869565218,\n",
       "  'f1': 0.6686838124054463})"
      ]
     },
     "execution_count": 53,
     "metadata": {},
     "output_type": "execute_result"
    }
   ],
   "source": [
    "train_metric_dict, val_metric_dict = svm_cross(features, targets, kernel= \"linear\", reg_parameter = 1.0, degree=2, PCA_components= 0)\n",
    "train_metric_dict, val_metric_dict"
   ]
  },
  {
   "cell_type": "code",
   "execution_count": 54,
   "id": "3dd86a73",
   "metadata": {},
   "outputs": [
    {
     "data": {
      "text/plain": [
       "({'acc': 1.0, 'sens': 1.0, 'spec': 1.0, 'f1': 1.0},\n",
       " {'acc': 0.7206632653061225,\n",
       "  'sens': 0.6820987654320988,\n",
       "  'spec': 0.7478260869565218,\n",
       "  'f1': 0.6686838124054463})"
      ]
     },
     "execution_count": 54,
     "metadata": {},
     "output_type": "execute_result"
    }
   ],
   "source": [
    "train_metric_dict, val_metric_dict = svm_cross(features, targets,kernel='linear',\n",
    "                                               reg_parameter=100)\n",
    "train_metric_dict, val_metric_dict"
   ]
  },
  {
   "cell_type": "markdown",
   "id": "06345f19",
   "metadata": {},
   "source": [
    "# Method 3\n",
    "Using \"both\" the combination of rbps analysis of 15 nodes (4 nodes removed) with long epoch lengths and spectral connectivity features of 5 many quadraples of homotopic nodes with a single frequency band(delta or theta for a certain quadraples) with long epoch lengths."
   ]
  },
  {
   "cell_type": "markdown",
   "id": "0f1ac059",
   "metadata": {},
   "source": [
    "In this analysis, we have the connectivity data of the following nodes:\n",
    "1) P3,P4,O1,O2 nodes for delta band (6 entries in total)\n",
    "2) C3,C4,F3,F4 nodes for theta band (6 entries in total)\n",
    "3) C3,C4,F3,F4 nodes for delta band (6 entries in total)\n",
    "4) C3,C4,T3,T4 nodes for theta band (6 entries in total)\n",
    "5) C3,C4,P3,P4 nodes for theta band (6 entries in total)\n",
    "\n",
    "which we joined with rbps data of 15 nodes(F3,F4,C4,F8 removed) on the frequency bands 0.5-4.0, 4.0-7.0, 7.0-9.0, 9.0-11.0, 11.0-13.0, 13.0-25.0 with (2 mins long epochs)very long epochs. "
   ]
  },
  {
   "cell_type": "code",
   "execution_count": 55,
   "id": "0a1367a9",
   "metadata": {},
   "outputs": [],
   "source": [
    "features= np.load('rbp_plus_all_con_long_epochs.npy',allow_pickle=True)"
   ]
  },
  {
   "cell_type": "code",
   "execution_count": 56,
   "id": "56b51a45",
   "metadata": {},
   "outputs": [],
   "source": [
    "#make sure to run targets as below if you didn't before above.\n",
    "#features, targets = remove_class(subject_data,targets,'C')\n",
    "#features, targets = remove_test(features,targets,test_labels)"
   ]
  },
  {
   "cell_type": "code",
   "execution_count": 57,
   "id": "272d5679",
   "metadata": {},
   "outputs": [],
   "source": [
    "def my_remove_test(features,test):\n",
    "    features_train = [features[i] for i in range(len(features)) if i not in test]\n",
    "    return features_train\n",
    "def remove_test_targets(targets, test):\n",
    "    target_train = [targets[i] for i in range(len(targets)) if i not in test]\n",
    "    return target_train\n",
    "\n",
    "test= [4,6,8,20,33,71,72]\n",
    "cn_list= [i for i in range(38,67)]"
   ]
  },
  {
   "cell_type": "code",
   "execution_count": 58,
   "id": "16932c5a",
   "metadata": {},
   "outputs": [
    {
     "data": {
      "text/plain": [
       "36"
      ]
     },
     "execution_count": 58,
     "metadata": {},
     "output_type": "execute_result"
    }
   ],
   "source": [
    "len(np.append(test,cn_list))"
   ]
  },
  {
   "cell_type": "code",
   "execution_count": 60,
   "id": "42730c04",
   "metadata": {},
   "outputs": [],
   "source": [
    "data = my_remove_test(features, np.append(test,cn_list))"
   ]
  },
  {
   "cell_type": "code",
   "execution_count": 61,
   "id": "86546663",
   "metadata": {},
   "outputs": [
    {
     "data": {
      "text/plain": [
       "52"
      ]
     },
     "execution_count": 61,
     "metadata": {},
     "output_type": "execute_result"
    }
   ],
   "source": [
    "targets= np.array(targets)\n",
    "len(targets)"
   ]
  },
  {
   "cell_type": "code",
   "execution_count": 62,
   "id": "3a8cda98",
   "metadata": {},
   "outputs": [
    {
     "data": {
      "text/plain": [
       "({'acc': 1.0, 'sens': 1.0, 'spec': 1.0, 'f1': 1.0},\n",
       " {'acc': 0.4508748317631225,\n",
       "  'sens': 0.3003533568904594,\n",
       "  'spec': 0.5434782608695652,\n",
       "  'f1': 0.29411764705882354})"
      ]
     },
     "execution_count": 62,
     "metadata": {},
     "output_type": "execute_result"
    }
   ],
   "source": [
    "kNN_cross(data,targets,n_neighbors=3, PCA_components = 0)"
   ]
  },
  {
   "cell_type": "code",
   "execution_count": 63,
   "id": "1a5bae71",
   "metadata": {},
   "outputs": [
    {
     "data": {
      "text/plain": [
       "({'acc': 1.0, 'sens': 1.0, 'spec': 1.0, 'f1': 1.0},\n",
       " {'acc': 0.4858681022880215,\n",
       "  'sens': 0.26855123674911663,\n",
       "  'spec': 0.6195652173913043,\n",
       "  'f1': 0.2846441947565543})"
      ]
     },
     "execution_count": 63,
     "metadata": {},
     "output_type": "execute_result"
    }
   ],
   "source": [
    "train_metric_dict, val_metric_dict = svm_cross(data, targets, kernel= \"linear\", reg_parameter = 1.0, degree=2, PCA_components= 0)\n",
    "train_metric_dict, val_metric_dict"
   ]
  },
  {
   "cell_type": "code",
   "execution_count": 64,
   "id": "d8d47832",
   "metadata": {},
   "outputs": [
    {
     "data": {
      "text/plain": [
       "({'acc': 0.9229409125696039,\n",
       "  'sens': 0.9245479110372063,\n",
       "  'spec': 0.9219522591645354,\n",
       "  'f1': 0.9013780059443394},\n",
       " {'acc': 0.5437415881561238,\n",
       "  'sens': 0.3568904593639576,\n",
       "  'spec': 0.658695652173913,\n",
       "  'f1': 0.3733826247689464})"
      ]
     },
     "execution_count": 64,
     "metadata": {},
     "output_type": "execute_result"
    }
   ],
   "source": [
    "train_metric_dict, val_metric_dict = svm_cross(data, targets, kernel= \"linear\", reg_parameter=0.085, PCA_components = 32)\n",
    "train_metric_dict, val_metric_dict"
   ]
  },
  {
   "cell_type": "code",
   "execution_count": 66,
   "id": "47d16eab",
   "metadata": {},
   "outputs": [
    {
     "data": {
      "text/plain": [
       "({'acc': 1.0, 'sens': 1.0, 'spec': 1.0, 'f1': 1.0},\n",
       " {'acc': 0.5006729475100942,\n",
       "  'sens': 0.2862190812720848,\n",
       "  'spec': 0.6326086956521739,\n",
       "  'f1': 0.30393996247654786})"
      ]
     },
     "execution_count": 66,
     "metadata": {},
     "output_type": "execute_result"
    }
   ],
   "source": [
    "train_metric_dict, val_metric_dict = log_reg_cross(data, targets)\n",
    "train_metric_dict, val_metric_dict"
   ]
  },
  {
   "cell_type": "code",
   "execution_count": 67,
   "id": "773cae2e",
   "metadata": {},
   "outputs": [],
   "source": [
    "X, y = train_prep(data,targets,exclude=None,flatten_final=True)"
   ]
  },
  {
   "cell_type": "code",
   "execution_count": 68,
   "id": "5c79b42a",
   "metadata": {},
   "outputs": [
    {
     "name": "stdout",
     "output_type": "stream",
     "text": [
      "('O2', 18)\n",
      "('T3', 15)\n",
      "('F8', 30)\n",
      "('T5', 42)\n",
      "('O2', 40)\n",
      "('P3', 28)\n",
      "('O1', 41)\n",
      "('O2', 39)\n",
      "('Fp2', 18)\n",
      "('O1', 41)\n",
      "('Fp1', 27)\n",
      "('T5', 36)\n",
      "('T3', 39)\n",
      "('P3', 43)\n",
      "('Cz', 42)\n",
      "('Fp2', 36)\n",
      "('T5', 36)\n",
      "('C3', 36)\n",
      "('F7', 37)\n",
      "('O1', 21)\n",
      "('C4', 41)\n",
      "('T5', 25)\n",
      "('Fp1', 39)\n",
      "('Fp2', 18)\n",
      "('Pz', 38)\n",
      "('P4', 38)\n",
      "('Pz', 38)\n",
      "('Fp2', 27)\n",
      "('T4', 36)\n",
      "('Fp2', 39)\n",
      "('Fp2', 36)\n",
      "('T5', 41)\n",
      "('O2', 13)\n",
      "('T5', 36)\n",
      "('Cz', 38)\n"
     ]
    }
   ],
   "source": [
    "pca = PCA()\n",
    "pca.fit(X)\n",
    "for i in range(35):\n",
    "    channel, band = unroll(np.argmax(pca.components_[i]))\n",
    "    print((CHANNELS[channel], band))"
   ]
  },
  {
   "cell_type": "code",
   "execution_count": 69,
   "id": "77722757",
   "metadata": {},
   "outputs": [
    {
     "data": {
      "image/png": "[encoded data removed]",
      "text/plain": [
       "<Figure size 700x500 with 1 Axes>"
      ]
     },
     "metadata": {},
     "output_type": "display_data"
    }
   ],
   "source": [
    "## make the explained variance curve\n",
    "plt.figure(figsize=(7,5))\n",
    "\n",
    "\n",
    "plt.plot(range(1, len(pca.explained_variance_ratio_)+1),\n",
    "            np.cumsum(pca.explained_variance_ratio_))\n",
    "\n",
    "plt.ylabel(\"Cumulative Explained Variance Ratio\", fontsize=12)\n",
    "plt.xlabel(\"Number of Principal Components\", fontsize=12)\n",
    "plt.xticks(range(0,100,5),fontsize=10)\n",
    "plt.yticks(fontsize=10)\n",
    "\n",
    "plt.xlim(0,100)\n",
    "\n",
    "plt.show()"
   ]
  },
  {
   "cell_type": "markdown",
   "id": "77078ee0",
   "metadata": {},
   "source": [
    "# Method 4\n",
    "Using \"both\" the combination of rbps analysis of 15 nodes (4 nodes removed) with long epoch lengths and spectral connectivity features of all 19 nodes with all frequency bands with long epoch lengths.\n"
   ]
  },
  {
   "cell_type": "code",
   "execution_count": 70,
   "id": "eb22455a",
   "metadata": {},
   "outputs": [],
   "source": [
    "features= np.load('con_data_19_plus_rbps_long_epoch.npy',allow_pickle=True)"
   ]
  },
  {
   "cell_type": "code",
   "execution_count": 71,
   "id": "d6097727",
   "metadata": {},
   "outputs": [],
   "source": [
    "#make sure to run targets as below if you didn't before above.\n",
    "test= [4,6,8,20,33,71,72]"
   ]
  },
  {
   "cell_type": "code",
   "execution_count": 72,
   "id": "489e91a6",
   "metadata": {},
   "outputs": [],
   "source": [
    "cn_list= [i for i in range(38,67)]"
   ]
  },
  {
   "cell_type": "code",
   "execution_count": 73,
   "id": "7ad3f558",
   "metadata": {},
   "outputs": [
    {
     "data": {
      "text/plain": [
       "36"
      ]
     },
     "execution_count": 73,
     "metadata": {},
     "output_type": "execute_result"
    }
   ],
   "source": [
    "len(np.append(test,cn_list))"
   ]
  },
  {
   "cell_type": "code",
   "execution_count": 74,
   "id": "35962424",
   "metadata": {},
   "outputs": [],
   "source": [
    "data = my_remove_test(features, np.append(test,cn_list))"
   ]
  },
  {
   "cell_type": "code",
   "execution_count": 75,
   "id": "00ec87f5",
   "metadata": {},
   "outputs": [
    {
     "data": {
      "text/plain": [
       "52"
      ]
     },
     "execution_count": 75,
     "metadata": {},
     "output_type": "execute_result"
    }
   ],
   "source": [
    "targets= np.array(targets)\n",
    "len(targets)"
   ]
  },
  {
   "cell_type": "code",
   "execution_count": 85,
   "id": "0f695afb",
   "metadata": {},
   "outputs": [
    {
     "data": {
      "text/plain": [
       "({'acc': 1.0, 'sens': 1.0, 'spec': 1.0, 'f1': 1.0},\n",
       " {'acc': 0.4508748317631225,\n",
       "  'sens': 0.3003533568904594,\n",
       "  'spec': 0.5434782608695652,\n",
       "  'f1': 0.29411764705882354})"
      ]
     },
     "execution_count": 85,
     "metadata": {},
     "output_type": "execute_result"
    }
   ],
   "source": [
    "kNN_cross(data,targets,n_neighbors=3, PCA_components = 0)"
   ]
  },
  {
   "cell_type": "code",
   "execution_count": 77,
   "id": "a6e6cae8",
   "metadata": {},
   "outputs": [
    {
     "data": {
      "text/plain": [
       "({'acc': 1.0, 'sens': 1.0, 'spec': 1.0, 'f1': 1.0},\n",
       " {'acc': 0.4858681022880215,\n",
       "  'sens': 0.26855123674911663,\n",
       "  'spec': 0.6195652173913043,\n",
       "  'f1': 0.2846441947565543})"
      ]
     },
     "execution_count": 77,
     "metadata": {},
     "output_type": "execute_result"
    }
   ],
   "source": [
    "train_metric_dict, val_metric_dict = svm_cross(data, targets, kernel= \"linear\", reg_parameter = 1.0, degree=2, PCA_components= 0)\n",
    "train_metric_dict, val_metric_dict"
   ]
  },
  {
   "cell_type": "code",
   "execution_count": 78,
   "id": "b45eec17",
   "metadata": {},
   "outputs": [
    {
     "data": {
      "text/plain": [
       "({'acc': 0.9228089620774286,\n",
       "  'sens': 0.9242014827132267,\n",
       "  'spec': 0.9219522591645354,\n",
       "  'f1': 0.901192446711482},\n",
       " {'acc': 0.5410497981157469,\n",
       "  'sens': 0.3568904593639576,\n",
       "  'spec': 0.6543478260869565,\n",
       "  'f1': 0.3720073664825046})"
      ]
     },
     "execution_count": 78,
     "metadata": {},
     "output_type": "execute_result"
    }
   ],
   "source": [
    "train_metric_dict, val_metric_dict = svm_cross(data, targets, kernel= \"linear\", reg_parameter=0.085, PCA_components = 32)\n",
    "train_metric_dict, val_metric_dict"
   ]
  },
  {
   "cell_type": "code",
   "execution_count": 86,
   "id": "0874cd7f",
   "metadata": {},
   "outputs": [
    {
     "data": {
      "text/plain": [
       "({'acc': 0.9987068851766817,\n",
       "  'sens': 0.9982678583801011,\n",
       "  'spec': 0.9989769820971867,\n",
       "  'f1': 0.9983024424042957},\n",
       " {'acc': 0.5356662180349933,\n",
       "  'sens': 0.2968197879858657,\n",
       "  'spec': 0.6826086956521739,\n",
       "  'f1': 0.32748538011695905})"
      ]
     },
     "execution_count": 86,
     "metadata": {},
     "output_type": "execute_result"
    }
   ],
   "source": [
    "train_metric_dict, val_metric_dict = svm_cross(data, targets, kernel= \"linear\", reg_parameter=1.5, PCA_components = 45)\n",
    "train_metric_dict, val_metric_dict"
   ]
  },
  {
   "cell_type": "code",
   "execution_count": 79,
   "id": "f8370298",
   "metadata": {},
   "outputs": [
    {
     "data": {
      "text/plain": [
       "({'acc': 1.0, 'sens': 1.0, 'spec': 1.0, 'f1': 1.0},\n",
       " {'acc': 0.5006729475100942,\n",
       "  'sens': 0.2862190812720848,\n",
       "  'spec': 0.6326086956521739,\n",
       "  'f1': 0.30393996247654786})"
      ]
     },
     "execution_count": 79,
     "metadata": {},
     "output_type": "execute_result"
    }
   ],
   "source": [
    "train_metric_dict, val_metric_dict = log_reg_cross(data, targets)\n",
    "train_metric_dict, val_metric_dict"
   ]
  }
 ],
 "metadata": {
  "kernelspec": {
   "display_name": "Python 3 (ipykernel)",
   "language": "python",
   "name": "python3"
  },
  "language_info": {
   "codemirror_mode": {
    "name": "ipython",
    "version": 3
   },
   "file_extension": ".py",
   "mimetype": "text/x-python",
   "name": "python",
   "nbconvert_exporter": "python",
   "pygments_lexer": "ipython3",
   "version": "3.10.12"
  }
 },
 "nbformat": 4,
 "nbformat_minor": 5
}

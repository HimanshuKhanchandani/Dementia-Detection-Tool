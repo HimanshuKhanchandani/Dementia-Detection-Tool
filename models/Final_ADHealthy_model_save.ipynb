{
 "cells": [
  {
   "cell_type": "markdown",
   "id": "6840aa58",
   "metadata": {},
   "source": [
    "### This file trains the final model we chose from cross validation and saves the trained model as a Json file. "
   ]
  },
  {
   "cell_type": "code",
   "execution_count": 1,
   "id": "f914acb4",
   "metadata": {},
   "outputs": [],
   "source": [
    "import numpy as np\n",
    "from model_functions import *\n",
    "from sklearn.svm import SVC\n",
    "from sklearn.preprocessing import StandardScaler\n",
    "import mne\n",
    "from sklearn.pipeline import Pipeline\n",
    "from sklearn.metrics import confusion_matrix"
   ]
  },
  {
   "cell_type": "markdown",
   "id": "587e7b91",
   "metadata": {},
   "source": [
    "First we load the precalculated relative band powers of all subjects. Then we remove the test set. We calculated this data in the \"very_long_epoch_performance\" notebook. "
   ]
  },
  {
   "cell_type": "code",
   "execution_count": 2,
   "id": "72bf43ac",
   "metadata": {},
   "outputs": [],
   "source": [
    "subject_data, freqs, targets = load_psds('all_psds_very_long.pickle')\n",
    "test_labels = align_test_labels(classes=['A','C'])\n",
    "features, targets = remove_class(subject_data,targets,'F')\n",
    "features, targets = remove_test(features,targets,test_labels)\n",
    "rbps = [relative_band_power(features[i],freqs,freq_bands=[0.5,4.0,7.0,9.0,11.0,13.0,25.0]) \n",
    "        for i in range(len(features))]\n",
    "rbps = remove_channel(rbps, ['F3','F4', 'C4', 'F8'])"
   ]
  },
  {
   "cell_type": "code",
   "execution_count": 3,
   "id": "dc0582eb",
   "metadata": {},
   "outputs": [
    {
     "data": {
      "text/html": [
       "<style>#sk-container-id-1 {color: black;background-color: white;}#sk-container-id-1 pre{padding: 0;}#sk-container-id-1 div.sk-toggleable {background-color: white;}#sk-container-id-1 label.sk-toggleable__label {cursor: pointer;display: block;width: 100%;margin-bottom: 0;padding: 0.3em;box-sizing: border-box;text-align: center;}#sk-container-id-1 label.sk-toggleable__label-arrow:before {content: \"▸\";float: left;margin-right: 0.25em;color: #696969;}#sk-container-id-1 label.sk-toggleable__label-arrow:hover:before {color: black;}#sk-container-id-1 div.sk-estimator:hover label.sk-toggleable__label-arrow:before {color: black;}#sk-container-id-1 div.sk-toggleable__content {max-height: 0;max-width: 0;overflow: hidden;text-align: left;background-color: #f0f8ff;}#sk-container-id-1 div.sk-toggleable__content pre {margin: 0.2em;color: black;border-radius: 0.25em;background-color: #f0f8ff;}#sk-container-id-1 input.sk-toggleable__control:checked~div.sk-toggleable__content {max-height: 200px;max-width: 100%;overflow: auto;}#sk-container-id-1 input.sk-toggleable__control:checked~label.sk-toggleable__label-arrow:before {content: \"▾\";}#sk-container-id-1 div.sk-estimator input.sk-toggleable__control:checked~label.sk-toggleable__label {background-color: #d4ebff;}#sk-container-id-1 div.sk-label input.sk-toggleable__control:checked~label.sk-toggleable__label {background-color: #d4ebff;}#sk-container-id-1 input.sk-hidden--visually {border: 0;clip: rect(1px 1px 1px 1px);clip: rect(1px, 1px, 1px, 1px);height: 1px;margin: -1px;overflow: hidden;padding: 0;position: absolute;width: 1px;}#sk-container-id-1 div.sk-estimator {font-family: monospace;background-color: #f0f8ff;border: 1px dotted black;border-radius: 0.25em;box-sizing: border-box;margin-bottom: 0.5em;}#sk-container-id-1 div.sk-estimator:hover {background-color: #d4ebff;}#sk-container-id-1 div.sk-parallel-item::after {content: \"\";width: 100%;border-bottom: 1px solid gray;flex-grow: 1;}#sk-container-id-1 div.sk-label:hover label.sk-toggleable__label {background-color: #d4ebff;}#sk-container-id-1 div.sk-serial::before {content: \"\";position: absolute;border-left: 1px solid gray;box-sizing: border-box;top: 0;bottom: 0;left: 50%;z-index: 0;}#sk-container-id-1 div.sk-serial {display: flex;flex-direction: column;align-items: center;background-color: white;padding-right: 0.2em;padding-left: 0.2em;position: relative;}#sk-container-id-1 div.sk-item {position: relative;z-index: 1;}#sk-container-id-1 div.sk-parallel {display: flex;align-items: stretch;justify-content: center;background-color: white;position: relative;}#sk-container-id-1 div.sk-item::before, #sk-container-id-1 div.sk-parallel-item::before {content: \"\";position: absolute;border-left: 1px solid gray;box-sizing: border-box;top: 0;bottom: 0;left: 50%;z-index: -1;}#sk-container-id-1 div.sk-parallel-item {display: flex;flex-direction: column;z-index: 1;position: relative;background-color: white;}#sk-container-id-1 div.sk-parallel-item:first-child::after {align-self: flex-end;width: 50%;}#sk-container-id-1 div.sk-parallel-item:last-child::after {align-self: flex-start;width: 50%;}#sk-container-id-1 div.sk-parallel-item:only-child::after {width: 0;}#sk-container-id-1 div.sk-dashed-wrapped {border: 1px dashed gray;margin: 0 0.4em 0.5em 0.4em;box-sizing: border-box;padding-bottom: 0.4em;background-color: white;}#sk-container-id-1 div.sk-label label {font-family: monospace;font-weight: bold;display: inline-block;line-height: 1.2em;}#sk-container-id-1 div.sk-label-container {text-align: center;}#sk-container-id-1 div.sk-container {/* jupyter's `normalize.less` sets `[hidden] { display: none; }` but bootstrap.min.css set `[hidden] { display: none !important; }` so we also need the `!important` here to be able to override the default hidden behavior on the sphinx rendered scikit-learn.org. See: https://github.com/scikit-learn/scikit-learn/issues/21755 */display: inline-block !important;position: relative;}#sk-container-id-1 div.sk-text-repr-fallback {display: none;}</style><div id=\"sk-container-id-1\" class=\"sk-top-container\"><div class=\"sk-text-repr-fallback\"><pre>Pipeline(steps=[(&#x27;scale&#x27;, StandardScaler()),\n",
       "                (&#x27;svc&#x27;, SVC(C=1.2, kernel=&#x27;linear&#x27;))])</pre><b>In a Jupyter environment, please rerun this cell to show the HTML representation or trust the notebook. <br />On GitHub, the HTML representation is unable to render, please try loading this page with nbviewer.org.</b></div><div class=\"sk-container\" hidden><div class=\"sk-item sk-dashed-wrapped\"><div class=\"sk-label-container\"><div class=\"sk-label sk-toggleable\"><input class=\"sk-toggleable__control sk-hidden--visually\" id=\"sk-estimator-id-1\" type=\"checkbox\" ><label for=\"sk-estimator-id-1\" class=\"sk-toggleable__label sk-toggleable__label-arrow\">Pipeline</label><div class=\"sk-toggleable__content\"><pre>Pipeline(steps=[(&#x27;scale&#x27;, StandardScaler()),\n",
       "                (&#x27;svc&#x27;, SVC(C=1.2, kernel=&#x27;linear&#x27;))])</pre></div></div></div><div class=\"sk-serial\"><div class=\"sk-item\"><div class=\"sk-estimator sk-toggleable\"><input class=\"sk-toggleable__control sk-hidden--visually\" id=\"sk-estimator-id-2\" type=\"checkbox\" ><label for=\"sk-estimator-id-2\" class=\"sk-toggleable__label sk-toggleable__label-arrow\">StandardScaler</label><div class=\"sk-toggleable__content\"><pre>StandardScaler()</pre></div></div></div><div class=\"sk-item\"><div class=\"sk-estimator sk-toggleable\"><input class=\"sk-toggleable__control sk-hidden--visually\" id=\"sk-estimator-id-3\" type=\"checkbox\" ><label for=\"sk-estimator-id-3\" class=\"sk-toggleable__label sk-toggleable__label-arrow\">SVC</label><div class=\"sk-toggleable__content\"><pre>SVC(C=1.2, kernel=&#x27;linear&#x27;)</pre></div></div></div></div></div></div></div>"
      ],
      "text/plain": [
       "Pipeline(steps=[('scale', StandardScaler()),\n",
       "                ('svc', SVC(C=1.2, kernel='linear'))])"
      ]
     },
     "execution_count": 3,
     "metadata": {},
     "output_type": "execute_result"
    }
   ],
   "source": [
    "train_X, train_y = train_prep(rbps,targets,flatten_final=True)\n",
    "\n",
    "svc_pipe = Pipeline([('scale', StandardScaler()),\n",
    "                    ('svc', SVC(C = 1.2, kernel= 'linear') )])\n",
    "svc_pipe.fit(train_X, train_y)\n"
   ]
  },
  {
   "cell_type": "markdown",
   "id": "783b1e6b",
   "metadata": {},
   "source": [
    "## Evaluating performance on the test set "
   ]
  },
  {
   "cell_type": "code",
   "execution_count": 4,
   "id": "a5cc7b85",
   "metadata": {},
   "outputs": [],
   "source": [
    "subject_data, freqs, targets = load_psds('all_psds_very_long.pickle')\n",
    "test_labels = align_test_labels(classes=['A','C'])\n",
    "features, targets = remove_class(subject_data,targets,'F')\n",
    "features, targets = select_test(features,targets,test_labels)\n",
    "rbps = [relative_band_power(features[i],freqs,freq_bands=[0.5,4.0,7.0,9.0,11.0,13.0,25.0]) \n",
    "        for i in range(len(features))]\n",
    "rbps = remove_channel(rbps, ['F3','F4', 'C4', 'F8'])"
   ]
  },
  {
   "cell_type": "code",
   "execution_count": 5,
   "id": "9971b524",
   "metadata": {},
   "outputs": [],
   "source": [
    "test_X, test_y = train_prep(rbps,targets,flatten_final=True)\n",
    "test_pred = svc_pipe.predict(test_X)\n",
    "test_confusion = confusion_matrix(test_y, test_pred)"
   ]
  },
  {
   "cell_type": "code",
   "execution_count": 6,
   "id": "29ac14d7",
   "metadata": {
    "scrolled": true
   },
   "outputs": [
    {
     "name": "stdout",
     "output_type": "stream",
     "text": [
      "{'acc': 0.8111111111111111, 'sens': 0.8888888888888888, 'spec': 0.6944444444444444, 'f1': 0.8495575221238938}\n"
     ]
    }
   ],
   "source": [
    "test_metrics_dict = {'acc':accuracy(test_confusion), 'sens':sensitivity(test_confusion), \n",
    "                            'spec':specificity(test_confusion), 'f1':f1(test_confusion)}\n",
    "print(test_metrics_dict)"
   ]
  },
  {
   "cell_type": "code",
   "execution_count": 7,
   "id": "106ea2ea",
   "metadata": {},
   "outputs": [
    {
     "data": {
      "text/plain": [
       "8"
      ]
     },
     "execution_count": 7,
     "metadata": {},
     "output_type": "execute_result"
    }
   ],
   "source": [
    "len(features)"
   ]
  },
  {
   "cell_type": "markdown",
   "id": "b58be39f",
   "metadata": {},
   "source": [
    "The following code will save the above pipeline as a json file. This is useful for the app that we build from it.  "
   ]
  },
  {
   "cell_type": "code",
   "execution_count": 9,
   "id": "b5cc52c5",
   "metadata": {},
   "outputs": [],
   "source": [
    "import json\n",
    "import pickle"
   ]
  },
  {
   "cell_type": "code",
   "execution_count": 10,
   "id": "326be0b5",
   "metadata": {},
   "outputs": [],
   "source": [
    "\n",
    "model = pickle.dumps(svc_pipe).decode('latin1')\n",
    "with open('svc_classifier_AD.json', 'w') as file:\n",
    "    json.dump(model, file)"
   ]
  },
  {
   "cell_type": "markdown",
   "id": "da7a3ea2",
   "metadata": {},
   "source": [
    "The following code demonstrates how to load the model from the json file and make predictions on a test example. "
   ]
  },
  {
   "cell_type": "code",
   "execution_count": 11,
   "id": "f6fd4d3b",
   "metadata": {},
   "outputs": [],
   "source": [
    "with open('svc_classifier_AD.json', 'r') as file:\n",
    "    model_data = json.load(file)\n",
    "    loaded_model = pickle.loads(model_data.encode('latin1'))\n",
    "    "
   ]
  },
  {
   "cell_type": "code",
   "execution_count": 12,
   "id": "d3ffecee",
   "metadata": {},
   "outputs": [],
   "source": [
    "raw  = load_subject(38)\n",
    "epochs = mne.make_fixed_length_epochs(raw,duration=120,preload=True,overlap=60,verbose=False)\n",
    "epochs_psd = epochs.compute_psd(method='welch', fmin=0.5,fmax=45,\n",
    "                                n_fft=int(4*raw.info['sfreq']),verbose=False)\n",
    "epochs_psd_array, freqs = epochs_psd.get_data(return_freqs=True)\n",
    "test_X = relative_band_power(epochs_psd_array, freqs,freq_bands=[0.5,4.0,7.0,9.0,11.0,13.0,25.0])\n",
    "test_X = remove_channel([test_X], ['F3','F4', 'C4', 'F8'])\n",
    "test_X, dummy = train_prep(test_X,[0],flatten_final=True)\n",
    "pred = loaded_model.predict(test_X)"
   ]
  },
  {
   "cell_type": "code",
   "execution_count": 13,
   "id": "cd8f0e63",
   "metadata": {},
   "outputs": [
    {
     "data": {
      "text/plain": [
       "'0.0'"
      ]
     },
     "execution_count": 13,
     "metadata": {},
     "output_type": "execute_result"
    }
   ],
   "source": [
    "pred_mean = str(round(np.mean(pred, axis = 0),2))\n",
    "pred_mean"
   ]
  },
  {
   "cell_type": "code",
   "execution_count": null,
   "id": "402d813c",
   "metadata": {},
   "outputs": [],
   "source": []
  }
 ],
 "metadata": {
  "kernelspec": {
   "display_name": "Python 3 (ipykernel)",
   "language": "python",
   "name": "python3"
  },
  "language_info": {
   "codemirror_mode": {
    "name": "ipython",
    "version": 3
   },
   "file_extension": ".py",
   "mimetype": "text/x-python",
   "name": "python",
   "nbconvert_exporter": "python",
   "pygments_lexer": "ipython3",
   "version": "3.10.11"
  }
 },
 "nbformat": 4,
 "nbformat_minor": 5
}

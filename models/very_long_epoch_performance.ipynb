{
 "cells": [
  {
   "cell_type": "code",
   "execution_count": 6,
   "id": "07015d56",
   "metadata": {},
   "outputs": [],
   "source": [
    "import numpy as np\n",
    "from model_functions import *\n",
    "from Classification_models_LOSO_2Class import *"
   ]
  },
  {
   "cell_type": "code",
   "execution_count": 2,
   "id": "dd9e51ef",
   "metadata": {},
   "outputs": [],
   "source": [
    "#uncomment to run and create the all_psds_very_long file. \n",
    "\n",
    "#subject_data, freqs, targets = load_data(duration=120,overlap=60,seg_length=4)\n",
    "#save_psds(subject_data,freqs,targets,'all_psds_very_long.pickle')\n"
   ]
  },
  {
   "cell_type": "code",
   "execution_count": 102,
   "id": "be45b354",
   "metadata": {},
   "outputs": [],
   "source": [
    "subject_data, freqs, targets = load_psds('all_psds_very_long.pickle')\n",
    "test_labels = align_test_labels(classes=['A','C'])\n",
    "features, targets = remove_class(subject_data,targets,'F')\n",
    "features, targets = remove_test(features,targets,test_labels)\n",
    "rbps = [relative_band_power(features[i],freqs,freq_bands=[0.5,4.0,7.0,9.0,11.0,13.0,25.0]) \n",
    "        for i in range(len(features))]"
   ]
  },
  {
   "cell_type": "code",
   "execution_count": 103,
   "id": "d00305d5",
   "metadata": {},
   "outputs": [],
   "source": [
    "rbps = remove_channel(rbps, ['F3','F4', 'C4', 'F8', 'Pz'])"
   ]
  },
  {
   "cell_type": "code",
   "execution_count": 14,
   "id": "8b63132b",
   "metadata": {},
   "outputs": [
    {
     "data": {
      "text/plain": [
       "702"
      ]
     },
     "execution_count": 14,
     "metadata": {},
     "output_type": "execute_result"
    }
   ],
   "source": [
    "sum(rbps[i].shape[0] for i in range(len(rbps)))"
   ]
  },
  {
   "cell_type": "code",
   "execution_count": 24,
   "id": "17c376c4",
   "metadata": {},
   "outputs": [
    {
     "data": {
      "text/plain": [
       "(12, 18, 6)"
      ]
     },
     "execution_count": 24,
     "metadata": {},
     "output_type": "execute_result"
    }
   ],
   "source": [
    "rbps[1].shape"
   ]
  },
  {
   "cell_type": "markdown",
   "id": "3b2ebb01",
   "metadata": {},
   "source": [
    "### Logistic Regression"
   ]
  },
  {
   "cell_type": "code",
   "execution_count": 82,
   "id": "ab6fb769",
   "metadata": {
    "scrolled": false
   },
   "outputs": [
    {
     "data": {
      "text/plain": [
       "({'acc': 0.983058608058608,\n",
       "  'sens': 0.9906709385601207,\n",
       "  'spec': 0.9741264927023441,\n",
       "  'f1': 0.9844093824617259},\n",
       " {'acc': 0.8290598290598291,\n",
       "  'sens': 0.8337730870712401,\n",
       "  'spec': 0.8235294117647058,\n",
       "  'f1': 0.8404255319148937})"
      ]
     },
     "execution_count": 82,
     "metadata": {},
     "output_type": "execute_result"
    }
   ],
   "source": [
    "train_metric_dict, val_metric_dict = log_reg_cross(rbps, targets, PCA_components = 85, reg_parameter = 1)\n",
    "train_metric_dict, val_metric_dict"
   ]
  },
  {
   "cell_type": "markdown",
   "id": "cbd9c0c5",
   "metadata": {},
   "source": [
    "### SVM"
   ]
  },
  {
   "cell_type": "code",
   "execution_count": 104,
   "id": "6f89431e",
   "metadata": {},
   "outputs": [
    {
     "data": {
      "text/plain": [
       "({'acc': 0.9923687423687424,\n",
       "  'sens': 0.9950056539766302,\n",
       "  'spec': 0.9892746572313136,\n",
       "  'f1': 0.9929471506488621},\n",
       " {'acc': 0.8632478632478633,\n",
       "  'sens': 0.8918205804749341,\n",
       "  'spec': 0.8297213622291022,\n",
       "  'f1': 0.8756476683937825})"
      ]
     },
     "execution_count": 104,
     "metadata": {},
     "output_type": "execute_result"
    }
   ],
   "source": [
    "train_metric_dict, val_metric_dict = svm_cross(rbps, targets,kernel='linear',\n",
    "                                               reg_parameter=1)\n",
    "train_metric_dict, val_metric_dict"
   ]
  },
  {
   "cell_type": "code",
   "execution_count": null,
   "id": "e330e194",
   "metadata": {},
   "outputs": [],
   "source": []
  }
 ],
 "metadata": {
  "kernelspec": {
   "display_name": "Python 3 (ipykernel)",
   "language": "python",
   "name": "python3"
  },
  "language_info": {
   "codemirror_mode": {
    "name": "ipython",
    "version": 3
   },
   "file_extension": ".py",
   "mimetype": "text/x-python",
   "name": "python",
   "nbconvert_exporter": "python",
   "pygments_lexer": "ipython3",
   "version": "3.10.11"
  }
 },
 "nbformat": 4,
 "nbformat_minor": 5
}

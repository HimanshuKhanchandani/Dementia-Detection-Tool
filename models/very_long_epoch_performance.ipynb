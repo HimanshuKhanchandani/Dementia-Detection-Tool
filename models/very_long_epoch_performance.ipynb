{
 "cells": [
  {
   "cell_type": "code",
   "execution_count": 1,
   "id": "07015d56",
   "metadata": {},
   "outputs": [],
   "source": [
    "import numpy as np\n",
    "from model_functions import *\n",
    "from Classification_models_LOSO_2Class import *"
   ]
  },
  {
   "cell_type": "code",
   "execution_count": 2,
   "id": "dd9e51ef",
   "metadata": {},
   "outputs": [],
   "source": [
    "#uncomment to run and create the all_psds_very_long file. \n",
    "\n",
    "#subject_data, freqs, targets = load_data(duration=120,overlap=60,seg_length=4)\n",
    "#save_psds(subject_data,freqs,targets,'all_psds_very_long.pickle')\n"
   ]
  },
  {
   "cell_type": "code",
   "execution_count": 3,
   "id": "be45b354",
   "metadata": {},
   "outputs": [],
   "source": [
    "subject_data, freqs, targets = load_psds('all_psds_very_long.pickle')\n",
    "test_labels = align_test_labels(classes=['A','C'])\n",
    "features, targets = remove_class(subject_data,targets,'F')\n",
    "features, targets = remove_test(features,targets,test_labels)\n",
    "rbps = [relative_band_power(features[i],freqs,freq_bands=[0.5,4.0,7.0,9.0,11.0,13.0,25.0,45.0]) \n",
    "        for i in range(len(features))]"
   ]
  },
  {
   "cell_type": "code",
   "execution_count": 4,
   "id": "8b63132b",
   "metadata": {},
   "outputs": [
    {
     "data": {
      "text/plain": [
       "702"
      ]
     },
     "execution_count": 4,
     "metadata": {},
     "output_type": "execute_result"
    }
   ],
   "source": [
    "sum(rbps[i].shape[0] for i in range(len(rbps)))"
   ]
  },
  {
   "cell_type": "code",
   "execution_count": 5,
   "id": "17c376c4",
   "metadata": {},
   "outputs": [
    {
     "data": {
      "text/plain": [
       "57"
      ]
     },
     "execution_count": 5,
     "metadata": {},
     "output_type": "execute_result"
    }
   ],
   "source": [
    "len(rbps)"
   ]
  },
  {
   "cell_type": "markdown",
   "id": "3b2ebb01",
   "metadata": {},
   "source": [
    "### Logistic Regression"
   ]
  },
  {
   "cell_type": "code",
   "execution_count": 6,
   "id": "ab6fb769",
   "metadata": {
    "scrolled": false
   },
   "outputs": [
    {
     "data": {
      "text/plain": [
       "({'acc': 0.992979242979243,\n",
       "  'sens': 0.9948643045608745,\n",
       "  'spec': 0.9907673595754091,\n",
       "  'f1': 0.9935067990401355},\n",
       " {'acc': 0.8319088319088319,\n",
       "  'sens': 0.8284960422163589,\n",
       "  'spec': 0.8359133126934984,\n",
       "  'f1': 0.8418230563002682})"
      ]
     },
     "execution_count": 6,
     "metadata": {},
     "output_type": "execute_result"
    }
   ],
   "source": [
    "train_metric_dict, val_metric_dict = log_reg_cross(rbps, targets)\n",
    "train_metric_dict, val_metric_dict"
   ]
  },
  {
   "cell_type": "markdown",
   "id": "cbd9c0c5",
   "metadata": {},
   "source": [
    "### SVM"
   ]
  },
  {
   "cell_type": "code",
   "execution_count": 7,
   "id": "6f89431e",
   "metadata": {},
   "outputs": [
    {
     "data": {
      "text/plain": [
       "({'acc': 0.9830840455840456,\n",
       "  'sens': 0.9866189219751225,\n",
       "  'spec': 0.9789363113666519,\n",
       "  'f1': 0.984369491127042},\n",
       " {'acc': 0.8333333333333334,\n",
       "  'sens': 0.8469656992084432,\n",
       "  'spec': 0.8173374613003096,\n",
       "  'f1': 0.8458498023715415})"
      ]
     },
     "execution_count": 7,
     "metadata": {},
     "output_type": "execute_result"
    }
   ],
   "source": [
    "train_metric_dict, val_metric_dict = svm_cross(rbps, targets,kernel='linear',reg_parameter=0.1, PCA_components = 0)\n",
    "train_metric_dict, val_metric_dict"
   ]
  }
 ],
 "metadata": {
  "kernelspec": {
   "display_name": "Python 3 (ipykernel)",
   "language": "python",
   "name": "python3"
  },
  "language_info": {
   "codemirror_mode": {
    "name": "ipython",
    "version": 3
   },
   "file_extension": ".py",
   "mimetype": "text/x-python",
   "name": "python",
   "nbconvert_exporter": "python",
   "pygments_lexer": "ipython3",
   "version": "3.11.5"
  }
 },
 "nbformat": 4,
 "nbformat_minor": 5
}

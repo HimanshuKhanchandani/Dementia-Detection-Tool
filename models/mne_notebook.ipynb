{
 "cells": [
  {
   "cell_type": "code",
   "execution_count": 1,
   "metadata": {},
   "outputs": [],
   "source": [
    "import mne\n",
    "import numpy as np\n",
    "import pandas as pd\n",
    "from mne_processing_functions import load_subject"
   ]
  },
  {
   "cell_type": "code",
   "execution_count": 2,
   "metadata": {},
   "outputs": [],
   "source": [
    "import matplotlib\n",
    "matplotlib.use('Qt5Agg')"
   ]
  },
  {
   "cell_type": "code",
   "execution_count": 111,
   "metadata": {},
   "outputs": [
    {
     "name": "stdout",
     "output_type": "stream",
     "text": [
      "Effective window size : 4.096 (s)\n",
      "Effective window size : 4.096 (s)\n",
      "Effective window size : 4.096 (s)\n"
     ]
    }
   ],
   "source": [
    "anchor_A = load_subject(1)\n",
    "anchor_A_spectrum = anchor_A.compute_psd(fmin=0.5,fmax=45)\n",
    "anchor_C = load_subject(1)\n",
    "anchor_C_spectrum = anchor_C.compute_psd(fmin=0.5,fmax=45)\n",
    "anchor_F = load_subject(1)\n",
    "anchor_F_spectrum = anchor_F.compute_psd(fmin=0.5,fmax=45)"
   ]
  },
  {
   "cell_type": "code",
   "execution_count": 106,
   "metadata": {},
   "outputs": [
    {
     "name": "stdout",
     "output_type": "stream",
     "text": [
      "Effective window size : 4.096 (s)\n"
     ]
    },
    {
     "data": {
      "text/plain": [
       "<MNELineFigure size 1000x350 with 2 Axes>"
      ]
     },
     "execution_count": 106,
     "metadata": {},
     "output_type": "execute_result"
    }
   ],
   "source": [
    "raw = load_subject(49)\n",
    "spectrum = raw.compute_psd(fmin=0.5,fmax=45)\n",
    "spectrum.plot()"
   ]
  },
  {
   "cell_type": "code",
   "execution_count": 100,
   "metadata": {},
   "outputs": [
    {
     "data": {
      "text/plain": [
       "<mne_qt_browser._pg_figure.MNEQtBrowser at 0x292854824d0>"
      ]
     },
     "execution_count": 100,
     "metadata": {},
     "output_type": "execute_result"
    }
   ],
   "source": [
    "raw.plot()"
   ]
  },
  {
   "cell_type": "code",
   "execution_count": 107,
   "metadata": {},
   "outputs": [
    {
     "data": {
      "text/plain": [
       "<Figure size 1000x150 with 10 Axes>"
      ]
     },
     "execution_count": 107,
     "metadata": {},
     "output_type": "execute_result"
    }
   ],
   "source": [
    "spectrum.plot_topomap()"
   ]
  },
  {
   "cell_type": "code",
   "execution_count": 113,
   "metadata": {},
   "outputs": [
    {
     "name": "stdout",
     "output_type": "stream",
     "text": [
      "Effective window size : 4.096 (s)\n",
      "Effective window size : 4.096 (s)\n",
      "Effective window size : 4.096 (s)\n",
      "Effective window size : 4.096 (s)\n",
      "Effective window size : 4.096 (s)\n",
      "Effective window size : 4.096 (s)\n",
      "Effective window size : 4.096 (s)\n",
      "Effective window size : 4.096 (s)\n",
      "Effective window size : 4.096 (s)\n",
      "Effective window size : 4.096 (s)\n",
      "Effective window size : 4.096 (s)\n",
      "Effective window size : 4.096 (s)\n",
      "Effective window size : 4.096 (s)\n",
      "Effective window size : 4.096 (s)\n",
      "Effective window size : 4.096 (s)\n",
      "Effective window size : 4.096 (s)\n",
      "Effective window size : 4.096 (s)\n",
      "Effective window size : 4.096 (s)\n",
      "Effective window size : 4.096 (s)\n",
      "Effective window size : 4.096 (s)\n",
      "Effective window size : 4.096 (s)\n",
      "Effective window size : 4.096 (s)\n",
      "Effective window size : 4.096 (s)\n",
      "Effective window size : 4.096 (s)\n",
      "Effective window size : 4.096 (s)\n",
      "Effective window size : 4.096 (s)\n",
      "Effective window size : 4.096 (s)\n",
      "Effective window size : 4.096 (s)\n",
      "Effective window size : 4.096 (s)\n",
      "Effective window size : 4.096 (s)\n",
      "Effective window size : 4.096 (s)\n",
      "Effective window size : 4.096 (s)\n",
      "Effective window size : 4.096 (s)\n",
      "Effective window size : 4.096 (s)\n",
      "Effective window size : 4.096 (s)\n",
      "Effective window size : 4.096 (s)\n"
     ]
    },
    {
     "ename": "AttributeError",
     "evalue": "property 'freqs' of 'Spectrum' object has no setter",
     "output_type": "error",
     "traceback": [
      "\u001b[1;31m---------------------------------------------------------------------------\u001b[0m",
      "\u001b[1;31mAttributeError\u001b[0m                            Traceback (most recent call last)",
      "\u001b[1;32mc:\\Users\\Clark\\Documents\\GitHub\\Demential-Detection-Tool\\mne_analysis\\mne_notebook.ipynb Cell 7\u001b[0m line \u001b[0;36m9\n\u001b[0;32m      <a href='vscode-notebook-cell:/c%3A/Users/Clark/Documents/GitHub/Demential-Detection-Tool/mne_analysis/mne_notebook.ipynb#X23sZmlsZQ%3D%3D?line=6'>7</a>\u001b[0m total \u001b[39m=\u001b[39m np\u001b[39m.\u001b[39marray(temp)\n\u001b[0;32m      <a href='vscode-notebook-cell:/c%3A/Users/Clark/Documents/GitHub/Demential-Detection-Tool/mne_analysis/mne_notebook.ipynb#X23sZmlsZQ%3D%3D?line=7'>8</a>\u001b[0m average \u001b[39m=\u001b[39m np\u001b[39m.\u001b[39mmean(temp,axis\u001b[39m=\u001b[39m\u001b[39m0\u001b[39m)\n\u001b[1;32m----> <a href='vscode-notebook-cell:/c%3A/Users/Clark/Documents/GitHub/Demential-Detection-Tool/mne_analysis/mne_notebook.ipynb#X23sZmlsZQ%3D%3D?line=8'>9</a>\u001b[0m anchor_A_spectrum\u001b[39m.\u001b[39;49mfreqs \u001b[39m=\u001b[39m average\n",
      "\u001b[1;31mAttributeError\u001b[0m: property 'freqs' of 'Spectrum' object has no setter"
     ]
    }
   ],
   "source": [
    "for i in range(1,37):\n",
    "    temp = []\n",
    "    raw = load_subject(i)\n",
    "    spectrum = raw.compute_psd(fmin=0.5,fmax=45,verbose=False)\n",
    "    array = spectrum.get_data()\n",
    "    temp.append(array)\n",
    "total = np.array(temp)\n",
    "average = np.mean(temp,axis=0)\n",
    "anchor_A_spectrum.freqs = average"
   ]
  },
  {
   "cell_type": "code",
   "execution_count": 114,
   "metadata": {},
   "outputs": [
    {
     "data": {
      "text/plain": [
       "(19, 182)"
      ]
     },
     "execution_count": 114,
     "metadata": {},
     "output_type": "execute_result"
    }
   ],
   "source": [
    "average.shape"
   ]
  },
  {
   "cell_type": "code",
   "execution_count": null,
   "metadata": {},
   "outputs": [],
   "source": []
  }
 ],
 "metadata": {
  "kernelspec": {
   "display_name": "py_3-11",
   "language": "python",
   "name": "python3"
  },
  "language_info": {
   "codemirror_mode": {
    "name": "ipython",
    "version": 3
   },
   "file_extension": ".py",
   "mimetype": "text/x-python",
   "name": "python",
   "nbconvert_exporter": "python",
   "pygments_lexer": "ipython3",
   "version": "3.11.5"
  }
 },
 "nbformat": 4,
 "nbformat_minor": 2
}

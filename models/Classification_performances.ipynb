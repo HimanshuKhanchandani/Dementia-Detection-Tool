{
 "cells": [
  {
   "cell_type": "code",
   "execution_count": 6,
   "id": "07015d56",
   "metadata": {},
   "outputs": [],
   "source": [
    "import numpy as np\n",
    "from model_functions import *\n",
    "from Classification_models_LOSO_2Class import *"
   ]
  },
  {
   "cell_type": "code",
   "execution_count": null,
   "id": "dd9e51ef",
   "metadata": {},
   "outputs": [],
   "source": [
    "#uncomment to run and create the all_psds file. \n",
    "\n",
    "#subject_data, freqs, targets = load_data(duration=30,overlap=15,seg_length=4)\n",
    "#save_psds(subject_data,freqs,targets,'all_psds.npy')\n"
   ]
  },
  {
   "cell_type": "code",
   "execution_count": 21,
   "id": "be45b354",
   "metadata": {},
   "outputs": [],
   "source": [
    "subject_data, freqs, targets = load_psds('all_psds.npy')\n",
    "test_labels = align_test_labels(classes=['A','C'])\n",
    "features, targets = remove_class(subject_data,targets,'F')\n",
    "features, targets = remove_test(features,targets,test_labels)\n",
    "rbps = [relative_band_power(features[i],freqs,freq_bands=[0.5,4.0,7.0,9.0,11.0,13.0,25.0,45.0]) \n",
    "        for i in range(len(features))]"
   ]
  },
  {
   "cell_type": "markdown",
   "id": "73369bff",
   "metadata": {},
   "source": [
    "### k nearest neighbor classifier"
   ]
  },
  {
   "cell_type": "code",
   "execution_count": 22,
   "id": "6473b481",
   "metadata": {},
   "outputs": [],
   "source": [
    "train_metric_dict, val_metric_dict = kNN_cross(rbps, targets, n_neighbors = 3)"
   ]
  },
  {
   "cell_type": "code",
   "execution_count": 23,
   "id": "e8f4242f",
   "metadata": {
    "scrolled": true
   },
   "outputs": [
    {
     "data": {
      "text/plain": [
       "({'acc': 0.977195196037198,\n",
       "  'sens': 0.9817202669902912,\n",
       "  'spec': 0.9719025651424515,\n",
       "  'f1': 0.9789093816515944},\n",
       " {'acc': 0.671573438011122,\n",
       "  'sens': 0.6644417475728155,\n",
       "  'spec': 0.6799148332150461,\n",
       "  'f1': 0.6856606136505948})"
      ]
     },
     "execution_count": 23,
     "metadata": {},
     "output_type": "execute_result"
    }
   ],
   "source": [
    "train_metric_dict, val_metric_dict"
   ]
  },
  {
   "cell_type": "markdown",
   "id": "e1cf7085",
   "metadata": {},
   "source": [
    "### Random Forest classifier"
   ]
  },
  {
   "cell_type": "code",
   "execution_count": 24,
   "id": "17a346b6",
   "metadata": {},
   "outputs": [],
   "source": [
    "train_metric_dict, val_metric_dict = RF_cross(rbps, targets, min_samples_split = 10)"
   ]
  },
  {
   "cell_type": "code",
   "execution_count": 14,
   "id": "ed63ed49",
   "metadata": {},
   "outputs": [
    {
     "data": {
      "text/plain": [
       "({'acc': 0.9972078134492266,\n",
       "  'sens': 0.9981687760055479,\n",
       "  'spec': 0.9960838487275677,\n",
       "  'f1': 0.9974122436605384},\n",
       " {'acc': 0.7474648348053647,\n",
       "  'sens': 0.7809466019417476,\n",
       "  'spec': 0.7083037615330021,\n",
       "  'f1': 0.7692767483562463})"
      ]
     },
     "execution_count": 14,
     "metadata": {},
     "output_type": "execute_result"
    }
   ],
   "source": [
    "train_metric_dict, val_metric_dict"
   ]
  },
  {
   "cell_type": "code",
   "execution_count": null,
   "id": "f36c18b9",
   "metadata": {},
   "outputs": [],
   "source": []
  }
 ],
 "metadata": {
  "kernelspec": {
   "display_name": "Python 3 (ipykernel)",
   "language": "python",
   "name": "python3"
  },
  "language_info": {
   "codemirror_mode": {
    "name": "ipython",
    "version": 3
   },
   "file_extension": ".py",
   "mimetype": "text/x-python",
   "name": "python",
   "nbconvert_exporter": "python",
   "pygments_lexer": "ipython3",
   "version": "3.10.11"
  }
 },
 "nbformat": 4,
 "nbformat_minor": 5
}

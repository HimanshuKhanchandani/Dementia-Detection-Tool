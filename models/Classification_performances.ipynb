{
 "cells": [
  {
   "cell_type": "code",
   "execution_count": 3,
   "id": "07015d56",
   "metadata": {},
   "outputs": [],
   "source": [
    "import numpy as np\n",
    "from model_functions import *\n",
    "from Classification_models_LOSO_2Class import *"
   ]
  },
  {
   "cell_type": "code",
   "execution_count": null,
   "id": "dd9e51ef",
   "metadata": {},
   "outputs": [],
   "source": [
    "#uncomment to run and create the all_psds file. \n",
    "\n",
    "#subject_data, freqs, targets = load_data(duration=30,overlap=15,seg_length=4)\n",
    "#save_psds(subject_data,freqs,targets,'all_psds.pickle')\n"
   ]
  },
  {
   "cell_type": "code",
   "execution_count": 4,
   "id": "be45b354",
   "metadata": {},
   "outputs": [],
   "source": [
    "subject_data, freqs, targets = load_psds('all_psds.pickle')\n",
    "test_labels = align_test_labels(classes=['A','C'])\n",
    "features, targets = remove_class(subject_data,targets,'F')\n",
    "features, targets = remove_test(features,targets,test_labels)\n",
    "rbps = [relative_band_power(features[i],freqs,freq_bands=[0.5,4.0,7.0,9.0,11.0,13.0,25.0,45.0]) \n",
    "        for i in range(len(features))]"
   ]
  },
  {
   "cell_type": "markdown",
   "id": "73369bff",
   "metadata": {},
   "source": [
    "### k nearest neighbor classifier"
   ]
  },
  {
   "cell_type": "code",
   "execution_count": null,
   "id": "6473b481",
   "metadata": {},
   "outputs": [],
   "source": [
    "train_metric_dict, val_metric_dict = kNN_cross(rbps, targets, n_neighbors = 3)"
   ]
  },
  {
   "cell_type": "code",
   "execution_count": null,
   "id": "e8f4242f",
   "metadata": {
    "scrolled": true
   },
   "outputs": [],
   "source": [
    "train_metric_dict, val_metric_dict"
   ]
  },
  {
   "cell_type": "markdown",
   "id": "e1cf7085",
   "metadata": {},
   "source": [
    "### Random Forest classifier"
   ]
  },
  {
   "cell_type": "markdown",
   "id": "f3157b88",
   "metadata": {},
   "source": [
    "Here is a run of random Forest without doing PCA. As you can see in the definition of the method, PCA = 0, means we do not do PCA"
   ]
  },
  {
   "cell_type": "code",
   "execution_count": 5,
   "id": "889c8ea4",
   "metadata": {},
   "outputs": [
    {
     "data": {
      "text/plain": [
       "({'acc': 0.9912203841300995,\n",
       "  'sens': 0.995752427184466,\n",
       "  'spec': 0.9859195984994423,\n",
       "  'f1': 0.9918886100542379},\n",
       " {'acc': 0.745829244357213,\n",
       "  'sens': 0.7785194174757282,\n",
       "  'spec': 0.7075940383250532,\n",
       "  'f1': 0.7675740352976368})"
      ]
     },
     "execution_count": 5,
     "metadata": {},
     "output_type": "execute_result"
    }
   ],
   "source": [
    "train_metric_dict, val_metric_dict = RF_cross(rbps, targets, n_estimators = 100, \n",
    "                                              min_samples_split = 16, PCA_components = 0)\n",
    "train_metric_dict, val_metric_dict"
   ]
  },
  {
   "cell_type": "markdown",
   "id": "10dcaeca",
   "metadata": {},
   "source": [
    "Here is a run of random Forest with PCA. The maximum number of features is 133 here. \n",
    "As you can see, there is a significant reduction in validation set accuracy (from 75% to 71% )"
   ]
  },
  {
   "cell_type": "code",
   "execution_count": 6,
   "id": "036d1fcd",
   "metadata": {},
   "outputs": [
    {
     "data": {
      "text/plain": [
       "({'acc': 0.9990887424646011,\n",
       "  'sens': 0.9998266296809986,\n",
       "  'spec': 0.9982256919801278,\n",
       "  'f1': 0.9991553871142393},\n",
       " {'acc': 0.7101733725875041,\n",
       "  'sens': 0.7536407766990292,\n",
       "  'spec': 0.6593328601845281,\n",
       "  'f1': 0.7370919881305638})"
      ]
     },
     "execution_count": 6,
     "metadata": {},
     "output_type": "execute_result"
    }
   ],
   "source": [
    "train_metric_dict, val_metric_dict = RF_cross(rbps, targets, n_estimators = 100, \n",
    "                                              min_samples_split = 16, PCA_components = 133)\n",
    "train_metric_dict, val_metric_dict"
   ]
  },
  {
   "cell_type": "code",
   "execution_count": null,
   "id": "17a346b6",
   "metadata": {},
   "outputs": [],
   "source": [
    "PCA_components = [5, 10, 20, 40, 60, 80, 100, 133]\n",
    "val_acc = []\n",
    "train_acc = []\n",
    "for n in PCA_components: \n",
    "    train_metric_dict, val_metric_dict = RF_cross(rbps, targets, n_estimators = 100, \n",
    "                                              min_samples_split = 16, PCA_components = n)\n",
    "    val_acc += [val_metric_dict['acc']]\n",
    "    train_acc += [train_metric_dict['acc']]"
   ]
  }
 ],
 "metadata": {
  "kernelspec": {
   "display_name": "Python 3 (ipykernel)",
   "language": "python",
   "name": "python3"
  },
  "language_info": {
   "codemirror_mode": {
    "name": "ipython",
    "version": 3
   },
   "file_extension": ".py",
   "mimetype": "text/x-python",
   "name": "python",
   "nbconvert_exporter": "python",
   "pygments_lexer": "ipython3",
   "version": "3.10.11"
  }
 },
 "nbformat": 4,
 "nbformat_minor": 5
}

{
 "cells": [
  {
   "cell_type": "code",
   "execution_count": 1,
   "id": "07015d56",
   "metadata": {},
   "outputs": [],
   "source": [
    "import numpy as np\n",
    "from model_functions import *\n",
    "from Classification_models_LOSO_2Class import *"
   ]
  },
  {
   "cell_type": "code",
   "execution_count": 5,
   "id": "dd9e51ef",
   "metadata": {},
   "outputs": [],
   "source": [
    "#uncomment to run and create the all_psds file. \n",
    "\n",
    "#subject_data, freqs, targets = load_data(duration=30,overlap=15,seg_length=4)\n",
    "#save_psds(subject_data,freqs,targets,'all_psds.pickle')\n"
   ]
  },
  {
   "cell_type": "code",
   "execution_count": 2,
   "id": "be45b354",
   "metadata": {},
   "outputs": [],
   "source": [
    "subject_data, freqs, targets = load_psds('all_psds.pickle')\n",
    "test_labels = align_test_labels(classes=['A','C'])\n",
    "features, targets = remove_class(subject_data,targets,'F')\n",
    "features, targets = remove_test(features,targets,test_labels)\n",
    "rbps = [relative_band_power(features[i],freqs,freq_bands=[0.5,4.0,7.0,9.0,11.0,13.0,25.0,45.0]) \n",
    "        for i in range(len(features))]"
   ]
  },
  {
   "cell_type": "markdown",
   "id": "3b2ebb01",
   "metadata": {},
   "source": [
    "### Logistic Regression"
   ]
  },
  {
   "cell_type": "code",
   "execution_count": 3,
   "id": "ab6fb769",
   "metadata": {
    "scrolled": false
   },
   "outputs": [
    {
     "data": {
      "text/plain": [
       "({'acc': 0.9515982055236226,\n",
       "  'sens': 0.9606124306518724,\n",
       "  'spec': 0.9410549528541012,\n",
       "  'f1': 0.9553536790378895},\n",
       " {'acc': 0.7595682041216879,\n",
       "  'sens': 0.7888349514563107,\n",
       "  'spec': 0.7253371185237757,\n",
       "  'f1': 0.7796101949025488})"
      ]
     },
     "execution_count": 3,
     "metadata": {},
     "output_type": "execute_result"
    }
   ],
   "source": [
    "train_metric_dict, val_metric_dict = log_reg_cross(rbps, targets)\n",
    "train_metric_dict, val_metric_dict"
   ]
  },
  {
   "cell_type": "code",
   "execution_count": 5,
   "id": "abd261b9",
   "metadata": {
    "scrolled": true
   },
   "outputs": [
    {
     "data": {
      "text/plain": [
       "({'acc': 0.9516040469180803,\n",
       "  'sens': 0.9606232662968099,\n",
       "  'spec': 0.9410549528541012,\n",
       "  'f1': 0.9553593077325115},\n",
       " {'acc': 0.7595682041216879,\n",
       "  'sens': 0.7888349514563107,\n",
       "  'spec': 0.7253371185237757,\n",
       "  'f1': 0.7796101949025488})"
      ]
     },
     "execution_count": 5,
     "metadata": {},
     "output_type": "execute_result"
    }
   ],
   "source": [
    "train_metric_dict, val_metric_dict = log_reg_cross(rbps, targets, PCA_components = 133)\n",
    "train_metric_dict, val_metric_dict"
   ]
  },
  {
   "cell_type": "code",
   "execution_count": 6,
   "id": "06f7e9d1",
   "metadata": {},
   "outputs": [],
   "source": [
    "PCA_components = [5, 10, 20, 40, 60, 80, 100, 133]\n",
    "val_acc = []\n",
    "train_acc = []\n",
    "for n in PCA_components: \n",
    "    train_metric_dict, val_metric_dict = log_reg_cross(rbps, targets, PCA_components = n)\n",
    "    val_acc += [val_metric_dict['acc']]\n",
    "    train_acc += [train_metric_dict['acc']]"
   ]
  },
  {
   "cell_type": "code",
   "execution_count": 7,
   "id": "a0534ded",
   "metadata": {
    "scrolled": false
   },
   "outputs": [
    {
     "data": {
      "text/plain": [
       "([0.7262021589793916,\n",
       "  0.7340529931305201,\n",
       "  0.7526987242394504,\n",
       "  0.774288518155054,\n",
       "  0.7392868825646058,\n",
       "  0.7592410860320575,\n",
       "  0.7579326136735361,\n",
       "  0.7595682041216879],\n",
       " [0.7583765596523202,\n",
       "  0.8085482966493761,\n",
       "  0.8636910603299219,\n",
       "  0.9034534324033834,\n",
       "  0.9224613299686901,\n",
       "  0.9415510070564045,\n",
       "  0.9474099256974625,\n",
       "  0.9516040469180803])"
      ]
     },
     "execution_count": 7,
     "metadata": {},
     "output_type": "execute_result"
    }
   ],
   "source": [
    "val_acc, train_acc"
   ]
  },
  {
   "cell_type": "code",
   "execution_count": 12,
   "id": "91ae91ef",
   "metadata": {},
   "outputs": [],
   "source": [
    "PCA_components = [30, 33, 35, 37, 40]\n",
    "val_acc = []\n",
    "train_acc = []\n",
    "for n in PCA_components: \n",
    "    train_metric_dict, val_metric_dict = log_reg_cross(rbps, targets, PCA_components = n)\n",
    "    val_acc += [val_metric_dict['acc']]\n",
    "    train_acc += [train_metric_dict['acc']]"
   ]
  },
  {
   "cell_type": "code",
   "execution_count": 13,
   "id": "4a5360e5",
   "metadata": {},
   "outputs": [
    {
     "data": {
      "text/plain": [
       "([0.7713444553483808,\n",
       "  0.7811579980372915,\n",
       "  0.7870461236506379,\n",
       "  0.7808308799476611,\n",
       "  0.7733071638861629],\n",
       " [0.8950126174120286,\n",
       "  0.8986225991868779,\n",
       "  0.901642600121501,\n",
       "  0.9020748633113697,\n",
       "  0.903476797981214])"
      ]
     },
     "execution_count": 13,
     "metadata": {},
     "output_type": "execute_result"
    }
   ],
   "source": [
    "val_acc, train_acc"
   ]
  },
  {
   "cell_type": "code",
   "execution_count": 14,
   "id": "96ceac70",
   "metadata": {},
   "outputs": [
    {
     "data": {
      "text/plain": [
       "({'acc': 0.9016951726716201,\n",
       "  'sens': 0.9201846393897365,\n",
       "  'spec': 0.8800694514853493,\n",
       "  'f1': 0.9098477015958386},\n",
       " {'acc': 0.7841020608439647,\n",
       "  'sens': 0.7979368932038835,\n",
       "  'spec': 0.7679205110007097,\n",
       "  'f1': 0.7993920972644377})"
      ]
     },
     "execution_count": 14,
     "metadata": {},
     "output_type": "execute_result"
    }
   ],
   "source": [
    "train_metric_dict, val_metric_dict = log_reg_cross(rbps, targets, PCA_components = 35)\n",
    "train_metric_dict, val_metric_dict"
   ]
  },
  {
   "cell_type": "code",
   "execution_count": 14,
   "id": "5eae9b40",
   "metadata": {},
   "outputs": [
    {
     "data": {
      "text/plain": [
       "({'acc': 0.9012629094817515,\n",
       "  'sens': 0.9189927184466019,\n",
       "  'spec': 0.8805257021190307,\n",
       "  'f1': 0.9093804114149695},\n",
       " {'acc': 0.7870461236506379,\n",
       "  'sens': 0.7985436893203883,\n",
       "  'spec': 0.7735982966643009,\n",
       "  'f1': 0.8017057569296375})"
      ]
     },
     "execution_count": 14,
     "metadata": {},
     "output_type": "execute_result"
    }
   ],
   "source": [
    "train_metric_dict, val_metric_dict = log_reg_cross(rbps, targets, PCA_components = 35,reg_parameter=100.0)\n",
    "train_metric_dict, val_metric_dict"
   ]
  },
  {
   "cell_type": "markdown",
   "id": "73369bff",
   "metadata": {},
   "source": [
    "### k nearest neighbor classifier"
   ]
  },
  {
   "cell_type": "code",
   "execution_count": 4,
   "id": "6473b481",
   "metadata": {},
   "outputs": [
    {
     "data": {
      "text/plain": [
       "({'acc': 0.977195196037198,\n",
       "  'sens': 0.9817202669902912,\n",
       "  'spec': 0.9719025651424515,\n",
       "  'f1': 0.9789093816515944},\n",
       " {'acc': 0.671573438011122,\n",
       "  'sens': 0.6644417475728155,\n",
       "  'spec': 0.6799148332150461,\n",
       "  'f1': 0.6856606136505948})"
      ]
     },
     "execution_count": 4,
     "metadata": {},
     "output_type": "execute_result"
    }
   ],
   "source": [
    "train_metric_dict, val_metric_dict = kNN_cross(rbps, targets, n_neighbors = 3, PCA_components = 0)\n",
    "train_metric_dict, val_metric_dict"
   ]
  },
  {
   "cell_type": "code",
   "execution_count": null,
   "id": "e8f4242f",
   "metadata": {
    "scrolled": true
   },
   "outputs": [],
   "source": [
    "train_metric_dict, val_metric_dict = kNN_cross(rbps, targets, n_neighbors = 3, PCA_components = 133)\n",
    "train_metric_dict, val_metric_dict"
   ]
  },
  {
   "cell_type": "code",
   "execution_count": 5,
   "id": "a052d304",
   "metadata": {},
   "outputs": [],
   "source": [
    "PCA_components = [5, 10, 20, 40, 60, 80, 100, 133]\n",
    "val_acc = []\n",
    "train_acc = []\n",
    "for n in PCA_components: \n",
    "    train_metric_dict, val_metric_dict = kNN_cross(rbps, targets, n_neighbors = 3, PCA_components = n)\n",
    "    val_acc += [val_metric_dict['acc']]\n",
    "    train_acc += [train_metric_dict['acc']]"
   ]
  },
  {
   "cell_type": "code",
   "execution_count": 6,
   "id": "5154638c",
   "metadata": {},
   "outputs": [
    {
     "data": {
      "text/plain": [
       "([0.6856395158652273,\n",
       "  0.6719005561007524,\n",
       "  0.6732090284592738,\n",
       "  0.6735361465489041,\n",
       "  0.6741903827281649,\n",
       "  0.6735361465489041,\n",
       "  0.6728819103696434,\n",
       "  0.671573438011122],\n",
       " [0.8914493667928408,\n",
       "  0.9308846207766718,\n",
       "  0.9611138370951914,\n",
       "  0.9741401467358288,\n",
       "  0.9774522173933361,\n",
       "  0.9764299733632412,\n",
       "  0.977212720220571,\n",
       "  0.977195196037198])"
      ]
     },
     "execution_count": 6,
     "metadata": {},
     "output_type": "execute_result"
    }
   ],
   "source": [
    "val_acc, train_acc"
   ]
  },
  {
   "cell_type": "markdown",
   "id": "e1cf7085",
   "metadata": {},
   "source": [
    "### Random Forest classifier"
   ]
  },
  {
   "cell_type": "markdown",
   "id": "3d80d1d5",
   "metadata": {},
   "source": [
    "Here is a run of random Forest without doing PCA. As you can see in the definition of the method, PCA = 0, means we do not do PCA"
   ]
  },
  {
   "cell_type": "code",
   "execution_count": 8,
   "id": "c570623f",
   "metadata": {},
   "outputs": [
    {
     "data": {
      "text/plain": [
       "({'acc': 0.999129632225805,\n",
       "  'sens': 0.9994690533980582,\n",
       "  'spec': 0.9987326371286627,\n",
       "  'f1': 0.999192967442465},\n",
       " {'acc': 0.7298004579653254,\n",
       "  'sens': 0.7578883495145631,\n",
       "  'spec': 0.6969481902058198,\n",
       "  'f1': 0.7515042117930205})"
      ]
     },
     "execution_count": 8,
     "metadata": {},
     "output_type": "execute_result"
    }
   ],
   "source": [
    "train_metric_dict, val_metric_dict = RF_cross(rbps, targets, n_estimators = 25, \n",
    "                                              min_samples_split = 4, PCA_components = 0)\n",
    "train_metric_dict, val_metric_dict"
   ]
  },
  {
   "cell_type": "markdown",
   "id": "e95e6f9e",
   "metadata": {},
   "source": [
    "Here is a run of random Forest with PCA. The maximum number of features is 133 here. \n",
    "As you can see, there is a significant reduction in validation set accuracy (from 75% to 71% )"
   ]
  },
  {
   "cell_type": "code",
   "execution_count": null,
   "id": "aa175b08",
   "metadata": {},
   "outputs": [],
   "source": [
    "train_metric_dict, val_metric_dict = RF_cross(rbps, targets, n_estimators = 100, \n",
    "                                              min_samples_split = 16, PCA_components = 133)\n",
    "train_metric_dict, val_metric_dict"
   ]
  },
  {
   "cell_type": "code",
   "execution_count": null,
   "id": "17a346b6",
   "metadata": {},
   "outputs": [],
   "source": [
    "PCA_components = [5, 10, 20, 40, 60, 80, 100, 133]\n",
    "val_acc = []\n",
    "train_acc = []\n",
    "for n in PCA_components: \n",
    "    train_metric_dict, val_metric_dict = RF_cross(rbps, targets, n_estimators = 100, \n",
    "                                              min_samples_split = 16, PCA_components = n)\n",
    "    val_acc += [val_metric_dict['acc']]\n",
    "    train_acc += [train_metric_dict['acc']]"
   ]
  },
  {
   "cell_type": "markdown",
   "id": "cbd9c0c5",
   "metadata": {},
   "source": [
    "### SVM"
   ]
  },
  {
   "cell_type": "code",
   "execution_count": 10,
   "id": "6f89431e",
   "metadata": {},
   "outputs": [
    {
     "data": {
      "text/plain": [
       "({'acc': 0.9074898359736436,\n",
       "  'sens': 0.9293732662968099,\n",
       "  'spec': 0.881894454020075,\n",
       "  'f1': 0.9154805552442401},\n",
       " {'acc': 0.8024206738632647,\n",
       "  'sens': 0.8240291262135923,\n",
       "  'spec': 0.7771469127040455,\n",
       "  'f1': 0.8180722891566266})"
      ]
     },
     "execution_count": 10,
     "metadata": {},
     "output_type": "execute_result"
    }
   ],
   "source": [
    "train_metric_dict, val_metric_dict = svm_cross(rbps, targets,kernel='linear',reg_parameter=0.1, PCA_components = 35)\n",
    "train_metric_dict, val_metric_dict"
   ]
  },
  {
   "cell_type": "code",
   "execution_count": 12,
   "id": "e7a8fea3",
   "metadata": {},
   "outputs": [
    {
     "data": {
      "text/plain": [
       "({'acc': 0.7810002803869339,\n",
       "  'sens': 0.9781228328710125,\n",
       "  'spec': 0.5504410422792254,\n",
       "  'f1': 0.8280458104197149},\n",
       " {'acc': 0.5757278377494276,\n",
       "  'sens': 0.8270631067961165,\n",
       "  'spec': 0.2817601135557133,\n",
       "  'f1': 0.6776037782749192})"
      ]
     },
     "execution_count": 12,
     "metadata": {},
     "output_type": "execute_result"
    }
   ],
   "source": [
    "train_metric_dict, val_metric_dict = svm_cross(rbps, targets,kernel='poly',reg_parameter=1.0,degree=2, PCA_components = 35)\n",
    "train_metric_dict, val_metric_dict"
   ]
  },
  {
   "cell_type": "code",
   "execution_count": 13,
   "id": "4275bf48",
   "metadata": {},
   "outputs": [
    {
     "data": {
      "text/plain": [
       "({'acc': 0.9252418337305481,\n",
       "  'sens': 0.9684682732316228,\n",
       "  'spec': 0.8746831592821657,\n",
       "  'f1': 0.933188552575253},\n",
       " {'acc': 0.652273470722931,\n",
       "  'sens': 0.7421116504854369,\n",
       "  'spec': 0.5471965933286018,\n",
       "  'f1': 0.6970646907950984})"
      ]
     },
     "execution_count": 13,
     "metadata": {},
     "output_type": "execute_result"
    }
   ],
   "source": [
    "train_metric_dict, val_metric_dict = svm_cross(rbps, targets,kernel='poly',reg_parameter=10.0,degree=2, PCA_components = 35)\n",
    "train_metric_dict, val_metric_dict"
   ]
  },
  {
   "cell_type": "code",
   "execution_count": 14,
   "id": "015c9ec7",
   "metadata": {},
   "outputs": [
    {
     "data": {
      "text/plain": [
       "({'acc': 0.9673933361372027,\n",
       "  'sens': 0.9839957524271845,\n",
       "  'spec': 0.9479747541316029,\n",
       "  'f1': 0.9701822610627978},\n",
       " {'acc': 0.6656853123977756,\n",
       "  'sens': 0.7032766990291263,\n",
       "  'spec': 0.6217175301632364,\n",
       "  'f1': 0.6940119760479042})"
      ]
     },
     "execution_count": 14,
     "metadata": {},
     "output_type": "execute_result"
    }
   ],
   "source": [
    "train_metric_dict, val_metric_dict = svm_cross(rbps, targets,kernel='poly',reg_parameter=100.0,degree=2, PCA_components = 35)\n",
    "train_metric_dict, val_metric_dict"
   ]
  },
  {
   "cell_type": "code",
   "execution_count": 15,
   "id": "efb8988f",
   "metadata": {},
   "outputs": [
    {
     "data": {
      "text/plain": [
       "({'acc': 0.9390333660451423,\n",
       "  'sens': 0.9639498092926491,\n",
       "  'spec': 0.9098904998479165,\n",
       "  'f1': 0.9445898523564045},\n",
       " {'acc': 0.7579326136735361,\n",
       "  'sens': 0.7888349514563107,\n",
       "  'spec': 0.7217885024840313,\n",
       "  'f1': 0.7784431137724551})"
      ]
     },
     "execution_count": 15,
     "metadata": {},
     "output_type": "execute_result"
    }
   ],
   "source": [
    "train_metric_dict, val_metric_dict = svm_cross(rbps, targets,kernel='rbf',reg_parameter=1.0, PCA_components = 35)\n",
    "train_metric_dict, val_metric_dict"
   ]
  },
  {
   "cell_type": "code",
   "execution_count": 16,
   "id": "b3dafbc4",
   "metadata": {},
   "outputs": [
    {
     "data": {
      "text/plain": [
       "({'acc': 0.9664587130239731,\n",
       "  'sens': 0.9756306345353676,\n",
       "  'spec': 0.9557310149041873,\n",
       "  'f1': 0.9690991281885696},\n",
       " {'acc': 0.7621851488387308,\n",
       "  'sens': 0.7930825242718447,\n",
       "  'spec': 0.7260468417317246,\n",
       "  'f1': 0.7824004788985334})"
      ]
     },
     "execution_count": 16,
     "metadata": {},
     "output_type": "execute_result"
    }
   ],
   "source": [
    "train_metric_dict, val_metric_dict = svm_cross(rbps, targets,kernel='rbf',reg_parameter=10.0, PCA_components = 35)\n",
    "train_metric_dict, val_metric_dict"
   ]
  },
  {
   "cell_type": "code",
   "execution_count": 17,
   "id": "f97b0101",
   "metadata": {},
   "outputs": [
    {
     "data": {
      "text/plain": [
       "({'acc': 0.9542852469741576,\n",
       "  'sens': 0.976118238557559,\n",
       "  'spec': 0.9287488593734158,\n",
       "  'f1': 0.9583710118408034},\n",
       " {'acc': 0.7500817795224076,\n",
       "  'sens': 0.7858009708737864,\n",
       "  'spec': 0.7083037615330021,\n",
       "  'f1': 0.7722122838401908})"
      ]
     },
     "execution_count": 17,
     "metadata": {},
     "output_type": "execute_result"
    }
   ],
   "source": [
    "train_metric_dict, val_metric_dict = svm_cross(rbps, targets,kernel='rbf',reg_parameter=1.0, PCA_components = 0)\n",
    "train_metric_dict, val_metric_dict"
   ]
  },
  {
   "cell_type": "code",
   "execution_count": 18,
   "id": "844ab583",
   "metadata": {},
   "outputs": [
    {
     "data": {
      "text/plain": [
       "({'acc': 0.9594607224636665,\n",
       "  'sens': 0.9613492545076283,\n",
       "  'spec': 0.9572518503497921,\n",
       "  'f1': 0.9623607510494517},\n",
       " {'acc': 0.7360157016683022,\n",
       "  'sens': 0.7682038834951457,\n",
       "  'spec': 0.6983676366217175,\n",
       "  'f1': 0.7583108715184187})"
      ]
     },
     "execution_count": 18,
     "metadata": {},
     "output_type": "execute_result"
    }
   ],
   "source": [
    "train_metric_dict, val_metric_dict = svm_cross(rbps, targets,kernel='linear',reg_parameter=1.0,degree=2, PCA_components = 0)\n",
    "train_metric_dict, val_metric_dict"
   ]
  },
  {
   "cell_type": "markdown",
   "id": "88d89db1",
   "metadata": {},
   "source": [
    "### MLP"
   ]
  },
  {
   "cell_type": "code",
   "execution_count": 22,
   "id": "db502f00",
   "metadata": {},
   "outputs": [
    {
     "name": "stderr",
     "output_type": "stream",
     "text": [
      "c:\\Users\\Clark\\anaconda3\\envs\\py_3_11\\Lib\\site-packages\\sklearn\\neural_network\\_multilayer_perceptron.py:691: ConvergenceWarning: Stochastic Optimizer: Maximum iterations (600) reached and the optimization hasn't converged yet.\n",
      "  warnings.warn(\n",
      "c:\\Users\\Clark\\anaconda3\\envs\\py_3_11\\Lib\\site-packages\\sklearn\\neural_network\\_multilayer_perceptron.py:691: ConvergenceWarning: Stochastic Optimizer: Maximum iterations (600) reached and the optimization hasn't converged yet.\n",
      "  warnings.warn(\n",
      "c:\\Users\\Clark\\anaconda3\\envs\\py_3_11\\Lib\\site-packages\\sklearn\\neural_network\\_multilayer_perceptron.py:691: ConvergenceWarning: Stochastic Optimizer: Maximum iterations (600) reached and the optimization hasn't converged yet.\n",
      "  warnings.warn(\n",
      "c:\\Users\\Clark\\anaconda3\\envs\\py_3_11\\Lib\\site-packages\\sklearn\\neural_network\\_multilayer_perceptron.py:691: ConvergenceWarning: Stochastic Optimizer: Maximum iterations (600) reached and the optimization hasn't converged yet.\n",
      "  warnings.warn(\n",
      "c:\\Users\\Clark\\anaconda3\\envs\\py_3_11\\Lib\\site-packages\\sklearn\\neural_network\\_multilayer_perceptron.py:691: ConvergenceWarning: Stochastic Optimizer: Maximum iterations (600) reached and the optimization hasn't converged yet.\n",
      "  warnings.warn(\n"
     ]
    },
    {
     "data": {
      "text/plain": [
       "({'acc': 0.9034359082200103,\n",
       "  'sens': 0.9509578710124826,\n",
       "  'spec': 0.8478530872959545,\n",
       "  'f1': 0.913925698367655},\n",
       " {'acc': 0.7612037945698397,\n",
       "  'sens': 0.8149271844660194,\n",
       "  'spec': 0.6983676366217175,\n",
       "  'f1': 0.7862997658079625})"
      ]
     },
     "execution_count": 22,
     "metadata": {},
     "output_type": "execute_result"
    }
   ],
   "source": [
    "train_metric_dict, val_metric_dict = mlp_cross(rbps, targets, PCA_components = 35, max_iter = 600, hidden_layer_sizes=(3,1))\n",
    "train_metric_dict, val_metric_dict"
   ]
  },
  {
   "cell_type": "code",
   "execution_count": 13,
   "id": "f2a0dac8",
   "metadata": {},
   "outputs": [
    {
     "name": "stderr",
     "output_type": "stream",
     "text": [
      "c:\\Users\\Clark\\anaconda3\\envs\\py_3_11\\Lib\\site-packages\\sklearn\\neural_network\\_multilayer_perceptron.py:691: ConvergenceWarning: Stochastic Optimizer: Maximum iterations (500) reached and the optimization hasn't converged yet.\n",
      "  warnings.warn(\n",
      "c:\\Users\\Clark\\anaconda3\\envs\\py_3_11\\Lib\\site-packages\\sklearn\\neural_network\\_multilayer_perceptron.py:691: ConvergenceWarning: Stochastic Optimizer: Maximum iterations (500) reached and the optimization hasn't converged yet.\n",
      "  warnings.warn(\n",
      "c:\\Users\\Clark\\anaconda3\\envs\\py_3_11\\Lib\\site-packages\\sklearn\\neural_network\\_multilayer_perceptron.py:691: ConvergenceWarning: Stochastic Optimizer: Maximum iterations (500) reached and the optimization hasn't converged yet.\n",
      "  warnings.warn(\n",
      "c:\\Users\\Clark\\anaconda3\\envs\\py_3_11\\Lib\\site-packages\\sklearn\\neural_network\\_multilayer_perceptron.py:691: ConvergenceWarning: Stochastic Optimizer: Maximum iterations (500) reached and the optimization hasn't converged yet.\n",
      "  warnings.warn(\n"
     ]
    },
    {
     "data": {
      "text/plain": [
       "({'acc': 0.9890415439973831,\n",
       "  'sens': 0.9856644417475728,\n",
       "  'spec': 0.9929914833215047,\n",
       "  'f1': 0.9897935867164293},\n",
       " {'acc': 0.7455021262675826,\n",
       "  'sens': 0.7785194174757282,\n",
       "  'spec': 0.7068843151171044,\n",
       "  'f1': 0.7673444976076554})"
      ]
     },
     "execution_count": 13,
     "metadata": {},
     "output_type": "execute_result"
    }
   ],
   "source": [
    "train_metric_dict, val_metric_dict = mlp_cross(rbps, targets, PCA_components = 0, max_iter = 500, hidden_layer_sizes=(10,1))\n",
    "train_metric_dict, val_metric_dict"
   ]
  },
  {
   "cell_type": "code",
   "execution_count": 21,
   "id": "3b08cfbf",
   "metadata": {},
   "outputs": [
    {
     "name": "stderr",
     "output_type": "stream",
     "text": [
      "c:\\Users\\Clark\\anaconda3\\envs\\py_3_11\\Lib\\site-packages\\sklearn\\neural_network\\_multilayer_perceptron.py:691: ConvergenceWarning: Stochastic Optimizer: Maximum iterations (500) reached and the optimization hasn't converged yet.\n",
      "  warnings.warn(\n",
      "c:\\Users\\Clark\\anaconda3\\envs\\py_3_11\\Lib\\site-packages\\sklearn\\neural_network\\_multilayer_perceptron.py:691: ConvergenceWarning: Stochastic Optimizer: Maximum iterations (500) reached and the optimization hasn't converged yet.\n",
      "  warnings.warn(\n",
      "c:\\Users\\Clark\\anaconda3\\envs\\py_3_11\\Lib\\site-packages\\sklearn\\neural_network\\_multilayer_perceptron.py:691: ConvergenceWarning: Stochastic Optimizer: Maximum iterations (500) reached and the optimization hasn't converged yet.\n",
      "  warnings.warn(\n",
      "c:\\Users\\Clark\\anaconda3\\envs\\py_3_11\\Lib\\site-packages\\sklearn\\neural_network\\_multilayer_perceptron.py:691: ConvergenceWarning: Stochastic Optimizer: Maximum iterations (500) reached and the optimization hasn't converged yet.\n",
      "  warnings.warn(\n",
      "c:\\Users\\Clark\\anaconda3\\envs\\py_3_11\\Lib\\site-packages\\sklearn\\neural_network\\_multilayer_perceptron.py:691: ConvergenceWarning: Stochastic Optimizer: Maximum iterations (500) reached and the optimization hasn't converged yet.\n",
      "  warnings.warn(\n",
      "c:\\Users\\Clark\\anaconda3\\envs\\py_3_11\\Lib\\site-packages\\sklearn\\neural_network\\_multilayer_perceptron.py:691: ConvergenceWarning: Stochastic Optimizer: Maximum iterations (500) reached and the optimization hasn't converged yet.\n",
      "  warnings.warn(\n"
     ]
    },
    {
     "data": {
      "text/plain": [
       "({'acc': 0.9609736436282069,\n",
       "  'sens': 0.9680456830790569,\n",
       "  'spec': 0.9527020176416912,\n",
       "  'f1': 0.963956430494338},\n",
       " {'acc': 0.765129211645404,\n",
       "  'sens': 0.787621359223301,\n",
       "  'spec': 0.7388218594748048,\n",
       "  'f1': 0.7833433916716959})"
      ]
     },
     "execution_count": 21,
     "metadata": {},
     "output_type": "execute_result"
    }
   ],
   "source": [
    "train_metric_dict, val_metric_dict = mlp_cross(rbps, targets, PCA_components = 35, alpha = 1.0, max_iter = 500, hidden_layer_sizes=(100,1))\n",
    "train_metric_dict, val_metric_dict"
   ]
  },
  {
   "cell_type": "code",
   "execution_count": null,
   "id": "1c090ab3",
   "metadata": {},
   "outputs": [],
   "source": []
  }
 ],
 "metadata": {
  "kernelspec": {
   "display_name": "Python 3 (ipykernel)",
   "language": "python",
   "name": "python3"
  },
  "language_info": {
   "codemirror_mode": {
    "name": "ipython",
    "version": 3
   },
   "file_extension": ".py",
   "mimetype": "text/x-python",
   "name": "python",
   "nbconvert_exporter": "python",
   "pygments_lexer": "ipython3",
   "version": "3.10.11"
  }
 },
 "nbformat": 4,
 "nbformat_minor": 5
}

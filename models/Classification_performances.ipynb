{
 "cells": [
  {
   "cell_type": "code",
   "execution_count": 1,
   "id": "07015d56",
   "metadata": {},
   "outputs": [],
   "source": [
    "import numpy as np\n",
    "from model_functions import *\n",
    "from Classification_models_LOSO_2Class import *"
   ]
  },
  {
   "cell_type": "code",
   "execution_count": null,
   "id": "dd9e51ef",
   "metadata": {},
   "outputs": [],
   "source": [
    "#uncomment to run and create the all_psds file. \n",
    "\n",
    "#subject_data, freqs, targets = load_data(duration=30,overlap=15,seg_length=4)\n",
    "#save_psds(subject_data,freqs,targets,'all_psds.pickle')\n"
   ]
  },
  {
   "cell_type": "code",
   "execution_count": 2,
   "id": "be45b354",
   "metadata": {},
   "outputs": [],
   "source": [
    "subject_data, freqs, targets = load_psds('all_psds.pickle')\n",
    "test_labels = align_test_labels(classes=['A','C'])\n",
    "features, targets = remove_class(subject_data,targets,'F')\n",
    "features, targets = remove_test(features,targets,test_labels)\n",
    "rbps = [relative_band_power(features[i],freqs,freq_bands=[0.5,4.0,7.0,9.0,11.0,13.0,25.0,45.0]) \n",
    "        for i in range(len(features))]"
   ]
  },
  {
   "cell_type": "markdown",
   "id": "3b2ebb01",
   "metadata": {},
   "source": [
    "### Logistic Regression"
   ]
  },
  {
   "cell_type": "code",
   "execution_count": 3,
   "id": "ab6fb769",
   "metadata": {
    "scrolled": false
   },
   "outputs": [
    {
     "data": {
      "text/plain": [
       "({'acc': 0.9515982055236226,\n",
       "  'sens': 0.9606124306518724,\n",
       "  'spec': 0.9410549528541012,\n",
       "  'f1': 0.9553536790378895},\n",
       " {'acc': 0.7595682041216879,\n",
       "  'sens': 0.7888349514563107,\n",
       "  'spec': 0.7253371185237757,\n",
       "  'f1': 0.7796101949025488})"
      ]
     },
     "execution_count": 3,
     "metadata": {},
     "output_type": "execute_result"
    }
   ],
   "source": [
    "train_metric_dict, val_metric_dict = log_reg_cross(rbps, targets)\n",
    "train_metric_dict, val_metric_dict"
   ]
  },
  {
   "cell_type": "code",
   "execution_count": 5,
   "id": "abd261b9",
   "metadata": {
    "scrolled": true
   },
   "outputs": [
    {
     "data": {
      "text/plain": [
       "({'acc': 0.9516040469180803,\n",
       "  'sens': 0.9606232662968099,\n",
       "  'spec': 0.9410549528541012,\n",
       "  'f1': 0.9553593077325115},\n",
       " {'acc': 0.7595682041216879,\n",
       "  'sens': 0.7888349514563107,\n",
       "  'spec': 0.7253371185237757,\n",
       "  'f1': 0.7796101949025488})"
      ]
     },
     "execution_count": 5,
     "metadata": {},
     "output_type": "execute_result"
    }
   ],
   "source": [
    "train_metric_dict, val_metric_dict = log_reg_cross(rbps, targets, PCA_components = 133)\n",
    "train_metric_dict, val_metric_dict"
   ]
  },
  {
   "cell_type": "code",
   "execution_count": 6,
   "id": "06f7e9d1",
   "metadata": {},
   "outputs": [],
   "source": [
    "PCA_components = [5, 10, 20, 40, 60, 80, 100, 133]\n",
    "val_acc = []\n",
    "train_acc = []\n",
    "for n in PCA_components: \n",
    "    train_metric_dict, val_metric_dict = log_reg_cross(rbps, targets, PCA_components = n)\n",
    "    val_acc += [val_metric_dict['acc']]\n",
    "    train_acc += [train_metric_dict['acc']]"
   ]
  },
  {
   "cell_type": "code",
   "execution_count": 7,
   "id": "a0534ded",
   "metadata": {
    "scrolled": false
   },
   "outputs": [
    {
     "data": {
      "text/plain": [
       "([0.7262021589793916,\n",
       "  0.7340529931305201,\n",
       "  0.7526987242394504,\n",
       "  0.774288518155054,\n",
       "  0.7392868825646058,\n",
       "  0.7592410860320575,\n",
       "  0.7579326136735361,\n",
       "  0.7595682041216879],\n",
       " [0.7583765596523202,\n",
       "  0.8085482966493761,\n",
       "  0.8636910603299219,\n",
       "  0.9034534324033834,\n",
       "  0.9224613299686901,\n",
       "  0.9415510070564045,\n",
       "  0.9474099256974625,\n",
       "  0.9516040469180803])"
      ]
     },
     "execution_count": 7,
     "metadata": {},
     "output_type": "execute_result"
    }
   ],
   "source": [
    "val_acc, train_acc"
   ]
  },
  {
   "cell_type": "code",
   "execution_count": 12,
   "id": "91ae91ef",
   "metadata": {},
   "outputs": [],
   "source": [
    "PCA_components = [30, 33, 35, 37, 40]\n",
    "val_acc = []\n",
    "train_acc = []\n",
    "for n in PCA_components: \n",
    "    train_metric_dict, val_metric_dict = log_reg_cross(rbps, targets, PCA_components = n)\n",
    "    val_acc += [val_metric_dict['acc']]\n",
    "    train_acc += [train_metric_dict['acc']]"
   ]
  },
  {
   "cell_type": "code",
   "execution_count": 13,
   "id": "4a5360e5",
   "metadata": {},
   "outputs": [
    {
     "data": {
      "text/plain": [
       "([0.7713444553483808,\n",
       "  0.7811579980372915,\n",
       "  0.7870461236506379,\n",
       "  0.7808308799476611,\n",
       "  0.7733071638861629],\n",
       " [0.8950126174120286,\n",
       "  0.8986225991868779,\n",
       "  0.901642600121501,\n",
       "  0.9020748633113697,\n",
       "  0.903476797981214])"
      ]
     },
     "execution_count": 13,
     "metadata": {},
     "output_type": "execute_result"
    }
   ],
   "source": [
    "val_acc, train_acc"
   ]
  },
  {
   "cell_type": "code",
   "execution_count": 14,
   "id": "96ceac70",
   "metadata": {},
   "outputs": [
    {
     "data": {
      "text/plain": [
       "({'acc': 0.9016951726716201,\n",
       "  'sens': 0.9201846393897365,\n",
       "  'spec': 0.8800694514853493,\n",
       "  'f1': 0.9098477015958386},\n",
       " {'acc': 0.7841020608439647,\n",
       "  'sens': 0.7979368932038835,\n",
       "  'spec': 0.7679205110007097,\n",
       "  'f1': 0.7993920972644377})"
      ]
     },
     "execution_count": 14,
     "metadata": {},
     "output_type": "execute_result"
    }
   ],
   "source": [
    "train_metric_dict, val_metric_dict = log_reg_cross(rbps, targets, PCA_components = 35)\n",
    "train_metric_dict, val_metric_dict"
   ]
  },
  {
   "cell_type": "markdown",
   "id": "73369bff",
   "metadata": {},
   "source": [
    "### k nearest neighbor classifier"
   ]
  },
  {
   "cell_type": "code",
   "execution_count": null,
   "id": "6473b481",
   "metadata": {},
   "outputs": [],
   "source": [
    "train_metric_dict, val_metric_dict = kNN_cross(rbps, targets, n_neighbors = 3, PCA_components = 0)\n",
    "train_metric_dict, val_metric_dict"
   ]
  },
  {
   "cell_type": "code",
   "execution_count": null,
   "id": "e8f4242f",
   "metadata": {
    "scrolled": true
   },
   "outputs": [],
   "source": [
    "train_metric_dict, val_metric_dict = kNN_cross(rbps, targets, n_neighbors = 3, PCA_components = 133)\n",
    "train_metric_dict, val_metric_dict"
   ]
  },
  {
   "cell_type": "code",
   "execution_count": null,
   "id": "a052d304",
   "metadata": {},
   "outputs": [],
   "source": [
    "PCA_components = [5, 10, 20, 40, 60, 80, 100, 133]\n",
    "val_acc = []\n",
    "train_acc = []\n",
    "for n in PCA_components: \n",
    "    train_metric_dict, val_metric_dict = kNN_cross(rbps, targets, n_neighbors = 3, PCA_components = n)\n",
    "    val_acc += [val_metric_dict['acc']]\n",
    "    train_acc += [train_metric_dict['acc']]"
   ]
  },
  {
   "cell_type": "code",
   "execution_count": null,
   "id": "5154638c",
   "metadata": {},
   "outputs": [],
   "source": [
    "val_acc, train_acc"
   ]
  },
  {
   "cell_type": "markdown",
   "id": "e1cf7085",
   "metadata": {},
   "source": [
    "### Random Forest classifier"
   ]
  },
  {
   "cell_type": "markdown",
   "id": "3d80d1d5",
   "metadata": {},
   "source": [
    "Here is a run of random Forest without doing PCA. As you can see in the definition of the method, PCA = 0, means we do not do PCA"
   ]
  },
  {
   "cell_type": "code",
   "execution_count": null,
   "id": "c570623f",
   "metadata": {},
   "outputs": [],
   "source": [
    "train_metric_dict, val_metric_dict = RF_cross(rbps, targets, n_estimators = 100, \n",
    "                                              min_samples_split = 16, PCA_components = 0)\n",
    "train_metric_dict, val_metric_dict"
   ]
  },
  {
   "cell_type": "markdown",
   "id": "e95e6f9e",
   "metadata": {},
   "source": [
    "Here is a run of random Forest with PCA. The maximum number of features is 133 here. \n",
    "As you can see, there is a significant reduction in validation set accuracy (from 75% to 71% )"
   ]
  },
  {
   "cell_type": "code",
   "execution_count": null,
   "id": "aa175b08",
   "metadata": {},
   "outputs": [],
   "source": [
    "train_metric_dict, val_metric_dict = RF_cross(rbps, targets, n_estimators = 100, \n",
    "                                              min_samples_split = 16, PCA_components = 133)\n",
    "train_metric_dict, val_metric_dict"
   ]
  },
  {
   "cell_type": "code",
   "execution_count": null,
   "id": "17a346b6",
   "metadata": {},
   "outputs": [],
   "source": [
    "PCA_components = [5, 10, 20, 40, 60, 80, 100, 133]\n",
    "val_acc = []\n",
    "train_acc = []\n",
    "for n in PCA_components: \n",
    "    train_metric_dict, val_metric_dict = RF_cross(rbps, targets, n_estimators = 100, \n",
    "                                              min_samples_split = 16, PCA_components = n)\n",
    "    val_acc += [val_metric_dict['acc']]\n",
    "    train_acc += [train_metric_dict['acc']]"
   ]
  }
 ],
 "metadata": {
  "kernelspec": {
   "display_name": "Python 3 (ipykernel)",
   "language": "python",
   "name": "python3"
  },
  "language_info": {
   "codemirror_mode": {
    "name": "ipython",
    "version": 3
   },
   "file_extension": ".py",
   "mimetype": "text/x-python",
   "name": "python",
   "nbconvert_exporter": "python",
   "pygments_lexer": "ipython3",
   "version": "3.10.11"
  }
 },
 "nbformat": 4,
 "nbformat_minor": 5
}

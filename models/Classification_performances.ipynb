{
 "cells": [
  {
   "cell_type": "code",
   "execution_count": 1,
   "id": "07015d56",
   "metadata": {},
   "outputs": [],
   "source": [
    "import numpy as np\n",
    "from model_functions import *\n",
    "from Classification_models_LOSO_2Class import *"
   ]
  },
  {
   "cell_type": "code",
   "execution_count": null,
   "id": "dd9e51ef",
   "metadata": {},
   "outputs": [],
   "source": [
    "#uncomment to run and create the all_psds file. \n",
    "\n",
    "#subject_data, freqs, targets = load_data(duration=30,overlap=15,seg_length=4)\n",
    "#save_psds(subject_data,freqs,targets,'all_psds.pickle')\n"
   ]
  },
  {
   "cell_type": "code",
   "execution_count": 6,
   "id": "be45b354",
   "metadata": {},
   "outputs": [],
   "source": [
    "subject_data, freqs, targets = load_psds('all_psds.pickle')\n",
    "test_labels = align_test_labels(classes=['A','C'])\n",
    "features, targets = remove_class(subject_data,targets,'F')\n",
    "features, targets = remove_test(features,targets,test_labels)\n",
    "rbps = [relative_band_power(features[i],freqs,\n",
    "                            freq_bands=[0.5,4.0,7.0,9.0,11.0,13.0,25.0, 45.0]) \n",
    "        for i in range(len(features))]"
   ]
  },
  {
   "cell_type": "markdown",
   "id": "9e9679a8",
   "metadata": {},
   "source": [
    "remove_channel function removes a list of channels before training and testing. This is done to see which channels contribute more to the discrimintating features between Alzheimer's and normal patients. "
   ]
  },
  {
   "cell_type": "code",
   "execution_count": 8,
   "id": "348e5404",
   "metadata": {},
   "outputs": [],
   "source": [
    "rbps = remove_channel(rbps, ['Cz', 'P4'])"
   ]
  },
  {
   "cell_type": "markdown",
   "id": "3b2ebb01",
   "metadata": {},
   "source": [
    "### Logistic Regression"
   ]
  },
  {
   "cell_type": "code",
   "execution_count": null,
   "id": "ab6fb769",
   "metadata": {
    "scrolled": false
   },
   "outputs": [],
   "source": [
    "train_metric_dict, val_metric_dict = log_reg_cross(rbps, targets)\n",
    "train_metric_dict, val_metric_dict"
   ]
  },
  {
   "cell_type": "code",
   "execution_count": null,
   "id": "abd261b9",
   "metadata": {
    "scrolled": true
   },
   "outputs": [],
   "source": [
    "train_metric_dict, val_metric_dict = log_reg_cross(rbps, targets, PCA_components = 133)\n",
    "train_metric_dict, val_metric_dict"
   ]
  },
  {
   "cell_type": "code",
   "execution_count": null,
   "id": "06f7e9d1",
   "metadata": {},
   "outputs": [],
   "source": [
    "PCA_components = [5, 10, 20, 40, 60, 80, 100, 133]\n",
    "val_acc = []\n",
    "train_acc = []\n",
    "for n in PCA_components: \n",
    "    train_metric_dict, val_metric_dict = log_reg_cross(rbps, targets, PCA_components = n)\n",
    "    val_acc += [val_metric_dict['acc']]\n",
    "    train_acc += [train_metric_dict['acc']]"
   ]
  },
  {
   "cell_type": "code",
   "execution_count": null,
   "id": "a0534ded",
   "metadata": {
    "scrolled": false
   },
   "outputs": [],
   "source": [
    "val_acc, train_acc"
   ]
  },
  {
   "cell_type": "code",
   "execution_count": null,
   "id": "91ae91ef",
   "metadata": {},
   "outputs": [],
   "source": [
    "PCA_components = [30, 33, 35, 37, 40]\n",
    "val_acc = []\n",
    "train_acc = []\n",
    "for n in PCA_components: \n",
    "    train_metric_dict, val_metric_dict = log_reg_cross(rbps, targets, PCA_components = n)\n",
    "    val_acc += [val_metric_dict['acc']]\n",
    "    train_acc += [train_metric_dict['acc']]"
   ]
  },
  {
   "cell_type": "code",
   "execution_count": null,
   "id": "4a5360e5",
   "metadata": {},
   "outputs": [],
   "source": [
    "val_acc, train_acc"
   ]
  },
  {
   "cell_type": "code",
   "execution_count": null,
   "id": "96ceac70",
   "metadata": {},
   "outputs": [],
   "source": [
    "train_metric_dict, val_metric_dict = log_reg_cross(rbps, targets, PCA_components = 35)\n",
    "train_metric_dict, val_metric_dict"
   ]
  },
  {
   "cell_type": "code",
   "execution_count": null,
   "id": "5eae9b40",
   "metadata": {},
   "outputs": [],
   "source": [
    "train_metric_dict, val_metric_dict = log_reg_cross(rbps, targets, PCA_components = 35,reg_parameter=100.0)\n",
    "train_metric_dict, val_metric_dict"
   ]
  },
  {
   "cell_type": "markdown",
   "id": "73369bff",
   "metadata": {},
   "source": [
    "### k nearest neighbor classifier"
   ]
  },
  {
   "cell_type": "code",
   "execution_count": null,
   "id": "6473b481",
   "metadata": {},
   "outputs": [],
   "source": [
    "train_metric_dict, val_metric_dict = kNN_cross(rbps, targets, n_neighbors = 3, PCA_components = 0)\n",
    "train_metric_dict, val_metric_dict"
   ]
  },
  {
   "cell_type": "code",
   "execution_count": null,
   "id": "e8f4242f",
   "metadata": {
    "scrolled": true
   },
   "outputs": [],
   "source": [
    "train_metric_dict, val_metric_dict = kNN_cross(rbps, targets, n_neighbors = 3, PCA_components = 133)\n",
    "train_metric_dict, val_metric_dict"
   ]
  },
  {
   "cell_type": "code",
   "execution_count": null,
   "id": "a052d304",
   "metadata": {},
   "outputs": [],
   "source": [
    "PCA_components = [5, 10, 20, 40, 60, 80, 100, 133]\n",
    "val_acc = []\n",
    "train_acc = []\n",
    "for n in PCA_components: \n",
    "    train_metric_dict, val_metric_dict = kNN_cross(rbps, targets, n_neighbors = 3, PCA_components = n)\n",
    "    val_acc += [val_metric_dict['acc']]\n",
    "    train_acc += [train_metric_dict['acc']]"
   ]
  },
  {
   "cell_type": "code",
   "execution_count": null,
   "id": "5154638c",
   "metadata": {},
   "outputs": [],
   "source": [
    "val_acc, train_acc"
   ]
  },
  {
   "cell_type": "markdown",
   "id": "e1cf7085",
   "metadata": {},
   "source": [
    "### Random Forest classifier"
   ]
  },
  {
   "cell_type": "markdown",
   "id": "3d80d1d5",
   "metadata": {},
   "source": [
    "Here is a run of random Forest without doing PCA. As you can see in the definition of the method, PCA = 0, means we do not do PCA"
   ]
  },
  {
   "cell_type": "code",
   "execution_count": null,
   "id": "c570623f",
   "metadata": {},
   "outputs": [],
   "source": [
    "train_metric_dict, val_metric_dict = RF_cross(rbps, targets, n_estimators = 25, \n",
    "                                              min_samples_split = 4, PCA_components = 0)\n",
    "train_metric_dict, val_metric_dict"
   ]
  },
  {
   "cell_type": "markdown",
   "id": "e95e6f9e",
   "metadata": {},
   "source": [
    "Here is a run of random Forest with PCA. The maximum number of features is 133 here. \n",
    "As you can see, there is a significant reduction in validation set accuracy (from 75% to 71% )"
   ]
  },
  {
   "cell_type": "code",
   "execution_count": null,
   "id": "aa175b08",
   "metadata": {},
   "outputs": [],
   "source": [
    "train_metric_dict, val_metric_dict = RF_cross(rbps, targets, n_estimators = 100, \n",
    "                                              min_samples_split = 16, PCA_components = 133)\n",
    "train_metric_dict, val_metric_dict"
   ]
  },
  {
   "cell_type": "code",
   "execution_count": null,
   "id": "17a346b6",
   "metadata": {},
   "outputs": [],
   "source": [
    "PCA_components = [5, 10, 20, 40, 60, 80, 100, 133]\n",
    "val_acc = []\n",
    "train_acc = []\n",
    "for n in PCA_components: \n",
    "    train_metric_dict, val_metric_dict = RF_cross(rbps, targets, n_estimators = 100, \n",
    "                                              min_samples_split = 16, PCA_components = n)\n",
    "    val_acc += [val_metric_dict['acc']]\n",
    "    train_acc += [train_metric_dict['acc']]"
   ]
  },
  {
   "cell_type": "markdown",
   "id": "cbd9c0c5",
   "metadata": {},
   "source": [
    "### SVM"
   ]
  },
  {
   "cell_type": "code",
   "execution_count": 9,
   "id": "81466d2e",
   "metadata": {},
   "outputs": [
    {
     "data": {
      "text/plain": [
       "({'acc': 0.9015024066545165,\n",
       "  'sens': 0.9266101768377254,\n",
       "  'spec': 0.8721357599107776,\n",
       "  'f1': 0.9102569561237306},\n",
       " {'acc': 0.7831207065750736,\n",
       "  'sens': 0.816747572815534,\n",
       "  'spec': 0.7437899219304471,\n",
       "  'f1': 0.8023845007451565})"
      ]
     },
     "execution_count": 9,
     "metadata": {},
     "output_type": "execute_result"
    }
   ],
   "source": [
    "train_metric_dict, val_metric_dict = svm_cross(rbps, targets,kernel='linear',\n",
    "                                               reg_parameter=0.085, PCA_components = 35)\n",
    "train_metric_dict, val_metric_dict"
   ]
  },
  {
   "cell_type": "code",
   "execution_count": null,
   "id": "e7a8fea3",
   "metadata": {},
   "outputs": [],
   "source": [
    "train_metric_dict, val_metric_dict = svm_cross(rbps, targets,kernel='poly',\n",
    "                                               reg_parameter=1.0,degree=2, PCA_components = 35)\n",
    "train_metric_dict, val_metric_dict"
   ]
  },
  {
   "cell_type": "code",
   "execution_count": null,
   "id": "4275bf48",
   "metadata": {},
   "outputs": [],
   "source": [
    "train_metric_dict, val_metric_dict = svm_cross(rbps, targets,kernel='poly',\n",
    "                                               reg_parameter=10.0,degree=2, PCA_components = 35)\n",
    "train_metric_dict, val_metric_dict"
   ]
  },
  {
   "cell_type": "code",
   "execution_count": null,
   "id": "015c9ec7",
   "metadata": {},
   "outputs": [],
   "source": [
    "train_metric_dict, val_metric_dict = svm_cross(rbps, targets,kernel='poly',\n",
    "                                               reg_parameter=100.0,degree=2, PCA_components = 35)\n",
    "train_metric_dict, val_metric_dict"
   ]
  },
  {
   "cell_type": "code",
   "execution_count": null,
   "id": "efb8988f",
   "metadata": {},
   "outputs": [],
   "source": [
    "train_metric_dict, val_metric_dict = svm_cross(rbps, targets,kernel='rbf',reg_parameter=1.0, PCA_components = 35)\n",
    "train_metric_dict, val_metric_dict"
   ]
  },
  {
   "cell_type": "code",
   "execution_count": null,
   "id": "b3dafbc4",
   "metadata": {},
   "outputs": [],
   "source": [
    "train_metric_dict, val_metric_dict = svm_cross(rbps, targets,kernel='rbf',reg_parameter=10.0, PCA_components = 35)\n",
    "train_metric_dict, val_metric_dict"
   ]
  },
  {
   "cell_type": "code",
   "execution_count": null,
   "id": "f97b0101",
   "metadata": {},
   "outputs": [],
   "source": [
    "train_metric_dict, val_metric_dict = svm_cross(rbps, targets,kernel='rbf',reg_parameter=1.0, PCA_components = 0)\n",
    "train_metric_dict, val_metric_dict"
   ]
  },
  {
   "cell_type": "code",
   "execution_count": null,
   "id": "844ab583",
   "metadata": {},
   "outputs": [],
   "source": [
    "train_metric_dict, val_metric_dict = svm_cross(rbps, targets,kernel='linear',\n",
    "                                               reg_parameter=1.0,degree=2, PCA_components = 0)\n",
    "train_metric_dict, val_metric_dict"
   ]
  },
  {
   "cell_type": "markdown",
   "id": "88d89db1",
   "metadata": {},
   "source": [
    "### Multilayer Perceptron"
   ]
  },
  {
   "cell_type": "code",
   "execution_count": null,
   "id": "db502f00",
   "metadata": {},
   "outputs": [],
   "source": [
    "train_metric_dict, val_metric_dict = mlp_cross(rbps, targets, PCA_components = 35, \n",
    "                                               max_iter = 600, hidden_layer_sizes=(3,1))\n",
    "train_metric_dict, val_metric_dict"
   ]
  },
  {
   "cell_type": "code",
   "execution_count": null,
   "id": "f2a0dac8",
   "metadata": {},
   "outputs": [],
   "source": [
    "train_metric_dict, val_metric_dict = mlp_cross(rbps, targets, PCA_components = 0, \n",
    "                                               max_iter = 500, hidden_layer_sizes=(10,1))\n",
    "train_metric_dict, val_metric_dict"
   ]
  },
  {
   "cell_type": "code",
   "execution_count": null,
   "id": "3b08cfbf",
   "metadata": {},
   "outputs": [],
   "source": [
    "train_metric_dict, val_metric_dict = mlp_cross(rbps, targets, PCA_components = 35, \n",
    "                                               alpha = 1.0, max_iter = 500, hidden_layer_sizes=(100,1))\n",
    "train_metric_dict, val_metric_dict"
   ]
  },
  {
   "cell_type": "code",
   "execution_count": null,
   "id": "1c090ab3",
   "metadata": {},
   "outputs": [],
   "source": []
  }
 ],
 "metadata": {
  "kernelspec": {
   "display_name": "Python 3 (ipykernel)",
   "language": "python",
   "name": "python3"
  },
  "language_info": {
   "codemirror_mode": {
    "name": "ipython",
    "version": 3
   },
   "file_extension": ".py",
   "mimetype": "text/x-python",
   "name": "python",
   "nbconvert_exporter": "python",
   "pygments_lexer": "ipython3",
   "version": "3.10.11"
  }
 },
 "nbformat": 4,
 "nbformat_minor": 5
}

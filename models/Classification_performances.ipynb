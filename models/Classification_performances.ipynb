{
 "cells": [
  {
   "cell_type": "code",
   "execution_count": 1,
   "id": "07015d56",
   "metadata": {},
   "outputs": [],
   "source": [
    "import numpy as np\n",
    "from model_functions import *\n",
    "from Classification_models_LOSO_2Class import *"
   ]
  },
  {
   "cell_type": "code",
   "execution_count": 2,
   "id": "dd9e51ef",
   "metadata": {},
   "outputs": [],
   "source": [
    "#uncomment to run and create the all_psds file. \n",
    "\n",
    "#subject_data, freqs, targets = load_data(duration=30,overlap=15,seg_length=4)\n",
    "#save_psds(subject_data,freqs,targets,'all_psds.pickle')\n"
   ]
  },
  {
   "cell_type": "code",
   "execution_count": 3,
   "id": "be45b354",
   "metadata": {},
   "outputs": [],
   "source": [
    "subject_data, freqs, targets = load_psds('all_psds.pickle')\n",
    "test_labels = align_test_labels(classes=['A','C'])\n",
    "features, targets = remove_class(subject_data,targets,'F')\n",
    "features, targets = remove_test(features,targets,test_labels)\n",
    "rbps = [relative_band_power(features[i],freqs,freq_bands=[0.5,4.0,7.0,9.0,11.0,13.0,25.0,45.0]) \n",
    "        for i in range(len(features))]"
   ]
  },
  {
   "cell_type": "markdown",
   "id": "3b2ebb01",
   "metadata": {},
   "source": [
    "### Logistic Regression"
   ]
  },
  {
   "cell_type": "code",
   "execution_count": 4,
   "id": "ab6fb769",
   "metadata": {
    "scrolled": false
   },
   "outputs": [
    {
     "data": {
      "text/plain": [
       "({'acc': 0.9515982055236226,\n",
       "  'sens': 0.9606124306518724,\n",
       "  'spec': 0.9410549528541012,\n",
       "  'f1': 0.9553536790378895},\n",
       " {'acc': 0.7595682041216879,\n",
       "  'sens': 0.7888349514563107,\n",
       "  'spec': 0.7253371185237757,\n",
       "  'f1': 0.7796101949025488})"
      ]
     },
     "execution_count": 4,
     "metadata": {},
     "output_type": "execute_result"
    }
   ],
   "source": [
    "train_metric_dict, val_metric_dict = log_reg_cross(rbps, targets)\n",
    "train_metric_dict, val_metric_dict"
   ]
  },
  {
   "cell_type": "code",
   "execution_count": 5,
   "id": "abd261b9",
   "metadata": {
    "scrolled": true
   },
   "outputs": [
    {
     "data": {
      "text/plain": [
       "({'acc': 0.9516040469180803,\n",
       "  'sens': 0.9606232662968099,\n",
       "  'spec': 0.9410549528541012,\n",
       "  'f1': 0.9553593077325115},\n",
       " {'acc': 0.7595682041216879,\n",
       "  'sens': 0.7888349514563107,\n",
       "  'spec': 0.7253371185237757,\n",
       "  'f1': 0.7796101949025488})"
      ]
     },
     "execution_count": 5,
     "metadata": {},
     "output_type": "execute_result"
    }
   ],
   "source": [
    "train_metric_dict, val_metric_dict = log_reg_cross(rbps, targets, PCA_components = 133)\n",
    "train_metric_dict, val_metric_dict"
   ]
  },
  {
   "cell_type": "code",
   "execution_count": 6,
   "id": "06f7e9d1",
   "metadata": {},
   "outputs": [],
   "source": [
    "PCA_components = [5, 10, 20, 40, 60, 80, 100, 133]\n",
    "val_acc = []\n",
    "train_acc = []\n",
    "for n in PCA_components: \n",
    "    train_metric_dict, val_metric_dict = log_reg_cross(rbps, targets, PCA_components = n)\n",
    "    val_acc += [val_metric_dict['acc']]\n",
    "    train_acc += [train_metric_dict['acc']]"
   ]
  },
  {
   "cell_type": "code",
   "execution_count": 7,
   "id": "a0534ded",
   "metadata": {
    "scrolled": false
   },
   "outputs": [
    {
     "data": {
      "text/plain": [
       "([0.7262021589793916,\n",
       "  0.7340529931305201,\n",
       "  0.7520444880601898,\n",
       "  0.7772325809617272,\n",
       "  0.7386326463853451,\n",
       "  0.7634936211972522,\n",
       "  0.7566241413150148,\n",
       "  0.7595682041216879],\n",
       " [0.7583765596523202,\n",
       "  0.8085424552549184,\n",
       "  0.863708584513295,\n",
       "  0.9034067012477218,\n",
       "  0.9228234964250666,\n",
       "  0.9415860554231507,\n",
       "  0.9474508154586663,\n",
       "  0.9516040469180803])"
      ]
     },
     "execution_count": 7,
     "metadata": {},
     "output_type": "execute_result"
    }
   ],
   "source": [
    "val_acc, train_acc"
   ]
  },
  {
   "cell_type": "code",
   "execution_count": 8,
   "id": "91ae91ef",
   "metadata": {},
   "outputs": [],
   "source": [
    "PCA_components = [30, 33, 35, 37, 40]\n",
    "val_acc = []\n",
    "train_acc = []\n",
    "for n in PCA_components: \n",
    "    train_metric_dict, val_metric_dict = log_reg_cross(rbps, targets, PCA_components = n)\n",
    "    val_acc += [val_metric_dict['acc']]\n",
    "    train_acc += [train_metric_dict['acc']]"
   ]
  },
  {
   "cell_type": "code",
   "execution_count": 9,
   "id": "4a5360e5",
   "metadata": {},
   "outputs": [
    {
     "data": {
      "text/plain": [
       "([0.7713444553483808,\n",
       "  0.7808308799476611,\n",
       "  0.7867190055610075,\n",
       "  0.7775596990513576,\n",
       "  0.7739614000654236],\n",
       " [0.8947906444226366,\n",
       "  0.8986751717369971,\n",
       "  0.9012337025094631,\n",
       "  0.9019405112388429,\n",
       "  0.9032197766250759])"
      ]
     },
     "execution_count": 9,
     "metadata": {},
     "output_type": "execute_result"
    }
   ],
   "source": [
    "val_acc, train_acc"
   ]
  },
  {
   "cell_type": "code",
   "execution_count": 10,
   "id": "96ceac70",
   "metadata": {},
   "outputs": [
    {
     "data": {
      "text/plain": [
       "({'acc': 0.9014264685265667,\n",
       "  'sens': 0.9196970353675451,\n",
       "  'spec': 0.8800567778566359,\n",
       "  'f1': 0.909579968815136},\n",
       " {'acc': 0.78900883218842,\n",
       "  'sens': 0.8046116504854369,\n",
       "  'spec': 0.7707594038325053,\n",
       "  'f1': 0.8043676069153778})"
      ]
     },
     "execution_count": 10,
     "metadata": {},
     "output_type": "execute_result"
    }
   ],
   "source": [
    "train_metric_dict, val_metric_dict = log_reg_cross(rbps, targets, PCA_components = 35)\n",
    "train_metric_dict, val_metric_dict"
   ]
  },
  {
   "cell_type": "code",
   "execution_count": 11,
   "id": "5eae9b40",
   "metadata": {},
   "outputs": [
    {
     "data": {
      "text/plain": [
       "({'acc': 0.9012337025094631,\n",
       "  'sens': 0.9188085124826629,\n",
       "  'spec': 0.8806777856635912,\n",
       "  'f1': 0.9093395103432744},\n",
       " {'acc': 0.7867190055610075,\n",
       "  'sens': 0.7985436893203883,\n",
       "  'spec': 0.772888573456352,\n",
       "  'f1': 0.8014616321559075})"
      ]
     },
     "execution_count": 11,
     "metadata": {},
     "output_type": "execute_result"
    }
   ],
   "source": [
    "train_metric_dict, val_metric_dict = log_reg_cross(rbps, targets, PCA_components = 35,reg_parameter=100.0)\n",
    "train_metric_dict, val_metric_dict"
   ]
  },
  {
   "cell_type": "markdown",
   "id": "73369bff",
   "metadata": {},
   "source": [
    "### k nearest neighbor classifier"
   ]
  },
  {
   "cell_type": "code",
   "execution_count": 12,
   "id": "6473b481",
   "metadata": {},
   "outputs": [
    {
     "data": {
      "text/plain": [
       "({'acc': 0.977195196037198,\n",
       "  'sens': 0.9817202669902912,\n",
       "  'spec': 0.9719025651424515,\n",
       "  'f1': 0.9789093816515944},\n",
       " {'acc': 0.671573438011122,\n",
       "  'sens': 0.6644417475728155,\n",
       "  'spec': 0.6799148332150461,\n",
       "  'f1': 0.6856606136505948})"
      ]
     },
     "execution_count": 12,
     "metadata": {},
     "output_type": "execute_result"
    }
   ],
   "source": [
    "train_metric_dict, val_metric_dict = kNN_cross(rbps, targets, n_neighbors = 3, PCA_components = 0)\n",
    "train_metric_dict, val_metric_dict"
   ]
  },
  {
   "cell_type": "code",
   "execution_count": 13,
   "id": "e8f4242f",
   "metadata": {
    "scrolled": true
   },
   "outputs": [
    {
     "data": {
      "text/plain": [
       "({'acc': 0.977195196037198,\n",
       "  'sens': 0.9817202669902912,\n",
       "  'spec': 0.9719025651424515,\n",
       "  'f1': 0.9789093816515944},\n",
       " {'acc': 0.671573438011122,\n",
       "  'sens': 0.6644417475728155,\n",
       "  'spec': 0.6799148332150461,\n",
       "  'f1': 0.6856606136505948})"
      ]
     },
     "execution_count": 13,
     "metadata": {},
     "output_type": "execute_result"
    }
   ],
   "source": [
    "train_metric_dict, val_metric_dict = kNN_cross(rbps, targets, n_neighbors = 3, PCA_components = 133)\n",
    "train_metric_dict, val_metric_dict"
   ]
  },
  {
   "cell_type": "code",
   "execution_count": 14,
   "id": "a052d304",
   "metadata": {},
   "outputs": [],
   "source": [
    "PCA_components = [5, 10, 20, 40, 60, 80, 100, 133]\n",
    "val_acc = []\n",
    "train_acc = []\n",
    "for n in PCA_components: \n",
    "    train_metric_dict, val_metric_dict = kNN_cross(rbps, targets, n_neighbors = 3, PCA_components = n)\n",
    "    val_acc += [val_metric_dict['acc']]\n",
    "    train_acc += [train_metric_dict['acc']]"
   ]
  },
  {
   "cell_type": "code",
   "execution_count": 15,
   "id": "5154638c",
   "metadata": {},
   "outputs": [
    {
     "data": {
      "text/plain": [
       "([0.6856395158652273,\n",
       "  0.6719005561007524,\n",
       "  0.6728819103696434,\n",
       "  0.6735361465489041,\n",
       "  0.6751717369970559,\n",
       "  0.6738632646385345,\n",
       "  0.6728819103696434,\n",
       "  0.671573438011122],\n",
       " [0.8914493667928408,\n",
       "  0.9308963035655872,\n",
       "  0.9610787887284452,\n",
       "  0.9741459881302864,\n",
       "  0.9775106313379129,\n",
       "  0.9763890836020375,\n",
       "  0.977212720220571,\n",
       "  0.977195196037198])"
      ]
     },
     "execution_count": 15,
     "metadata": {},
     "output_type": "execute_result"
    }
   ],
   "source": [
    "val_acc, train_acc"
   ]
  },
  {
   "cell_type": "markdown",
   "id": "e1cf7085",
   "metadata": {},
   "source": [
    "### Random Forest classifier"
   ]
  },
  {
   "cell_type": "markdown",
   "id": "3d80d1d5",
   "metadata": {},
   "source": [
    "Here is a run of random Forest without doing PCA. As you can see in the definition of the method, PCA = 0, means we do not do PCA"
   ]
  },
  {
   "cell_type": "code",
   "execution_count": 16,
   "id": "c570623f",
   "metadata": {},
   "outputs": [
    {
     "data": {
      "text/plain": [
       "({'acc': 0.9992055703537549,\n",
       "  'sens': 0.9994798890429958,\n",
       "  'spec': 0.9988847206732232,\n",
       "  'f1': 0.9992633357888807},\n",
       " {'acc': 0.741249591102388,\n",
       "  'sens': 0.7742718446601942,\n",
       "  'spec': 0.7026259758694109,\n",
       "  'f1': 0.7633861800777745})"
      ]
     },
     "execution_count": 16,
     "metadata": {},
     "output_type": "execute_result"
    }
   ],
   "source": [
    "train_metric_dict, val_metric_dict = RF_cross(rbps, targets, n_estimators = 25, \n",
    "                                              min_samples_split = 4, PCA_components = 0)\n",
    "train_metric_dict, val_metric_dict"
   ]
  },
  {
   "cell_type": "markdown",
   "id": "e95e6f9e",
   "metadata": {},
   "source": [
    "Here is a run of random Forest with PCA. The maximum number of features is 133 here. \n",
    "As you can see, there is a significant reduction in validation set accuracy (from 75% to 71% )"
   ]
  },
  {
   "cell_type": "code",
   "execution_count": 17,
   "id": "aa175b08",
   "metadata": {},
   "outputs": [
    {
     "data": {
      "text/plain": [
       "({'acc': 0.999240618720501,\n",
       "  'sens': 0.9999241504854369,\n",
       "  'spec': 0.9984411436682551,\n",
       "  'f1': 0.9992961254412753},\n",
       " {'acc': 0.7190055610075237,\n",
       "  'sens': 0.7688106796116505,\n",
       "  'spec': 0.6607523066004258,\n",
       "  'f1': 0.7468317123489536})"
      ]
     },
     "execution_count": 17,
     "metadata": {},
     "output_type": "execute_result"
    }
   ],
   "source": [
    "train_metric_dict, val_metric_dict = RF_cross(rbps, targets, n_estimators = 100, \n",
    "                                              min_samples_split = 16, PCA_components = 133)\n",
    "train_metric_dict, val_metric_dict"
   ]
  },
  {
   "cell_type": "code",
   "execution_count": 18,
   "id": "17a346b6",
   "metadata": {},
   "outputs": [],
   "source": [
    "PCA_components = [5, 10, 20, 40, 60, 80, 100, 133]\n",
    "val_acc = []\n",
    "train_acc = []\n",
    "for n in PCA_components: \n",
    "    train_metric_dict, val_metric_dict = RF_cross(rbps, targets, n_estimators = 100, \n",
    "                                              min_samples_split = 16, PCA_components = n)\n",
    "    val_acc += [val_metric_dict['acc']]\n",
    "    train_acc += [train_metric_dict['acc']]"
   ]
  },
  {
   "cell_type": "markdown",
   "id": "cbd9c0c5",
   "metadata": {},
   "source": [
    "### SVM"
   ]
  },
  {
   "cell_type": "code",
   "execution_count": 19,
   "id": "6f89431e",
   "metadata": {},
   "outputs": [
    {
     "data": {
      "text/plain": [
       "({'acc': 0.9073496425066592,\n",
       "  'sens': 0.9293299237170597,\n",
       "  'spec': 0.8816409814458076,\n",
       "  'f1': 0.9153596986013353},\n",
       " {'acc': 0.802747791952895,\n",
       "  'sens': 0.8222087378640777,\n",
       "  'spec': 0.7799858055358411,\n",
       "  'f1': 0.8179897373981286})"
      ]
     },
     "execution_count": 19,
     "metadata": {},
     "output_type": "execute_result"
    }
   ],
   "source": [
    "train_metric_dict, val_metric_dict = svm_cross(rbps, targets,kernel='linear',\n",
    "                                               reg_parameter=0.1, PCA_components = 35)\n",
    "train_metric_dict, val_metric_dict"
   ]
  },
  {
   "cell_type": "code",
   "execution_count": 20,
   "id": "e7a8fea3",
   "metadata": {},
   "outputs": [
    {
     "data": {
      "text/plain": [
       "({'acc': 0.7809710734146456,\n",
       "  'sens': 0.9781119972260749,\n",
       "  'spec': 0.5503903477643719,\n",
       "  'f1': 0.8280252440008805},\n",
       " {'acc': 0.5763820739286882,\n",
       "  'sens': 0.8276699029126213,\n",
       "  'spec': 0.28246983676366216,\n",
       "  'f1': 0.678100919711658})"
      ]
     },
     "execution_count": 20,
     "metadata": {},
     "output_type": "execute_result"
    }
   ],
   "source": [
    "train_metric_dict, val_metric_dict = svm_cross(rbps, targets,kernel='poly',\n",
    "                                               reg_parameter=1.0,degree=2, PCA_components = 35)\n",
    "train_metric_dict, val_metric_dict"
   ]
  },
  {
   "cell_type": "code",
   "execution_count": 21,
   "id": "4275bf48",
   "metadata": {},
   "outputs": [
    {
     "data": {
      "text/plain": [
       "({'acc': 0.9251658956025982,\n",
       "  'sens': 0.9685007801664355,\n",
       "  'spec': 0.8744803812227517,\n",
       "  'f1': 0.933127319611845},\n",
       " {'acc': 0.6499836440955185,\n",
       "  'sens': 0.7384708737864077,\n",
       "  'spec': 0.5464868701206529,\n",
       "  'f1': 0.694634703196347})"
      ]
     },
     "execution_count": 21,
     "metadata": {},
     "output_type": "execute_result"
    }
   ],
   "source": [
    "train_metric_dict, val_metric_dict = svm_cross(rbps, targets,kernel='poly',\n",
    "                                               reg_parameter=10.0,degree=2, PCA_components = 35)\n",
    "train_metric_dict, val_metric_dict"
   ]
  },
  {
   "cell_type": "code",
   "execution_count": 22,
   "id": "015c9ec7",
   "metadata": {},
   "outputs": [
    {
     "data": {
      "text/plain": [
       "({'acc': 0.9673173980092528,\n",
       "  'sens': 0.9840174237170597,\n",
       "  'spec': 0.9477846497009024,\n",
       "  'f1': 0.9701155319114843},\n",
       " {'acc': 0.6643768400392541,\n",
       "  'sens': 0.7032766990291263,\n",
       "  'spec': 0.6188786373314408,\n",
       "  'f1': 0.6931818181818182})"
      ]
     },
     "execution_count": 22,
     "metadata": {},
     "output_type": "execute_result"
    }
   ],
   "source": [
    "train_metric_dict, val_metric_dict = svm_cross(rbps, targets,kernel='poly',\n",
    "                                               reg_parameter=100.0,degree=2, PCA_components = 35)\n",
    "train_metric_dict, val_metric_dict"
   ]
  },
  {
   "cell_type": "code",
   "execution_count": 23,
   "id": "efb8988f",
   "metadata": {},
   "outputs": [
    {
     "data": {
      "text/plain": [
       "({'acc': 0.9391852423010421,\n",
       "  'sens': 0.9641773578363384,\n",
       "  'spec': 0.9099538679914834,\n",
       "  'f1': 0.9447325812873257},\n",
       " {'acc': 0.7579326136735361,\n",
       "  'sens': 0.7918689320388349,\n",
       "  'spec': 0.7182398864442867,\n",
       "  'f1': 0.7791044776119403})"
      ]
     },
     "execution_count": 23,
     "metadata": {},
     "output_type": "execute_result"
    }
   ],
   "source": [
    "train_metric_dict, val_metric_dict = svm_cross(rbps, targets,kernel='rbf',reg_parameter=1.0, PCA_components = 35)\n",
    "train_metric_dict, val_metric_dict"
   ]
  },
  {
   "cell_type": "code",
   "execution_count": 24,
   "id": "b3dafbc4",
   "metadata": {},
   "outputs": [
    {
     "data": {
      "text/plain": [
       "({'acc': 0.9663769335015655,\n",
       "  'sens': 0.975489771151179,\n",
       "  'spec': 0.955718341275474,\n",
       "  'f1': 0.9690217859295617},\n",
       " {'acc': 0.7621851488387308,\n",
       "  'sens': 0.7930825242718447,\n",
       "  'spec': 0.7260468417317246,\n",
       "  'f1': 0.7824004788985334})"
      ]
     },
     "execution_count": 24,
     "metadata": {},
     "output_type": "execute_result"
    }
   ],
   "source": [
    "train_metric_dict, val_metric_dict = svm_cross(rbps, targets,kernel='rbf',reg_parameter=10.0, PCA_components = 35)\n",
    "train_metric_dict, val_metric_dict"
   ]
  },
  {
   "cell_type": "code",
   "execution_count": 25,
   "id": "f97b0101",
   "metadata": {},
   "outputs": [
    {
     "data": {
      "text/plain": [
       "({'acc': 0.9542852469741576,\n",
       "  'sens': 0.976118238557559,\n",
       "  'spec': 0.9287488593734158,\n",
       "  'f1': 0.9583710118408034},\n",
       " {'acc': 0.7500817795224076,\n",
       "  'sens': 0.7858009708737864,\n",
       "  'spec': 0.7083037615330021,\n",
       "  'f1': 0.7722122838401908})"
      ]
     },
     "execution_count": 25,
     "metadata": {},
     "output_type": "execute_result"
    }
   ],
   "source": [
    "train_metric_dict, val_metric_dict = svm_cross(rbps, targets,kernel='rbf',reg_parameter=1.0, PCA_components = 0)\n",
    "train_metric_dict, val_metric_dict"
   ]
  },
  {
   "cell_type": "code",
   "execution_count": 26,
   "id": "844ab583",
   "metadata": {},
   "outputs": [
    {
     "data": {
      "text/plain": [
       "({'acc': 0.9594607224636665,\n",
       "  'sens': 0.9613492545076283,\n",
       "  'spec': 0.9572518503497921,\n",
       "  'f1': 0.9623607510494517},\n",
       " {'acc': 0.7360157016683022,\n",
       "  'sens': 0.7682038834951457,\n",
       "  'spec': 0.6983676366217175,\n",
       "  'f1': 0.7583108715184187})"
      ]
     },
     "execution_count": 26,
     "metadata": {},
     "output_type": "execute_result"
    }
   ],
   "source": [
    "train_metric_dict, val_metric_dict = svm_cross(rbps, targets,kernel='linear',\n",
    "                                               reg_parameter=1.0,degree=2, PCA_components = 0)\n",
    "train_metric_dict, val_metric_dict"
   ]
  },
  {
   "cell_type": "markdown",
   "id": "88d89db1",
   "metadata": {},
   "source": [
    "### MLP"
   ]
  },
  {
   "cell_type": "code",
   "execution_count": 27,
   "id": "db502f00",
   "metadata": {},
   "outputs": [
    {
     "name": "stderr",
     "output_type": "stream",
     "text": [
      "/Applications/miniconda3/lib/python3.10/site-packages/sklearn/neural_network/_multilayer_perceptron.py:686: ConvergenceWarning: Stochastic Optimizer: Maximum iterations (600) reached and the optimization hasn't converged yet.\n",
      "  warnings.warn(\n",
      "/Applications/miniconda3/lib/python3.10/site-packages/sklearn/neural_network/_multilayer_perceptron.py:686: ConvergenceWarning: Stochastic Optimizer: Maximum iterations (600) reached and the optimization hasn't converged yet.\n",
      "  warnings.warn(\n",
      "/Applications/miniconda3/lib/python3.10/site-packages/sklearn/neural_network/_multilayer_perceptron.py:686: ConvergenceWarning: Stochastic Optimizer: Maximum iterations (600) reached and the optimization hasn't converged yet.\n",
      "  warnings.warn(\n",
      "/Applications/miniconda3/lib/python3.10/site-packages/sklearn/neural_network/_multilayer_perceptron.py:686: ConvergenceWarning: Stochastic Optimizer: Maximum iterations (600) reached and the optimization hasn't converged yet.\n",
      "  warnings.warn(\n",
      "/Applications/miniconda3/lib/python3.10/site-packages/sklearn/neural_network/_multilayer_perceptron.py:686: ConvergenceWarning: Stochastic Optimizer: Maximum iterations (600) reached and the optimization hasn't converged yet.\n",
      "  warnings.warn(\n",
      "/Applications/miniconda3/lib/python3.10/site-packages/sklearn/neural_network/_multilayer_perceptron.py:686: ConvergenceWarning: Stochastic Optimizer: Maximum iterations (600) reached and the optimization hasn't converged yet.\n",
      "  warnings.warn(\n",
      "/Applications/miniconda3/lib/python3.10/site-packages/sklearn/neural_network/_multilayer_perceptron.py:686: ConvergenceWarning: Stochastic Optimizer: Maximum iterations (600) reached and the optimization hasn't converged yet.\n",
      "  warnings.warn(\n",
      "/Applications/miniconda3/lib/python3.10/site-packages/sklearn/neural_network/_multilayer_perceptron.py:686: ConvergenceWarning: Stochastic Optimizer: Maximum iterations (600) reached and the optimization hasn't converged yet.\n",
      "  warnings.warn(\n",
      "/Applications/miniconda3/lib/python3.10/site-packages/sklearn/neural_network/_multilayer_perceptron.py:686: ConvergenceWarning: Stochastic Optimizer: Maximum iterations (600) reached and the optimization hasn't converged yet.\n",
      "  warnings.warn(\n"
     ]
    },
    {
     "data": {
      "text/plain": [
       "({'acc': 0.9327597083975887,\n",
       "  'sens': 0.949245839112344,\n",
       "  'spec': 0.913477136773801,\n",
       "  'f1': 0.9383512122494229},\n",
       " {'acc': 0.7585868498527969,\n",
       "  'sens': 0.7724514563106796,\n",
       "  'spec': 0.7423704755145494,\n",
       "  'f1': 0.7752740560292327})"
      ]
     },
     "execution_count": 27,
     "metadata": {},
     "output_type": "execute_result"
    }
   ],
   "source": [
    "train_metric_dict, val_metric_dict = mlp_cross(rbps, targets, PCA_components = 35, \n",
    "                                               max_iter = 600, hidden_layer_sizes=(3,1))\n",
    "train_metric_dict, val_metric_dict"
   ]
  },
  {
   "cell_type": "code",
   "execution_count": 28,
   "id": "f2a0dac8",
   "metadata": {},
   "outputs": [
    {
     "name": "stderr",
     "output_type": "stream",
     "text": [
      "/Applications/miniconda3/lib/python3.10/site-packages/sklearn/neural_network/_multilayer_perceptron.py:686: ConvergenceWarning: Stochastic Optimizer: Maximum iterations (500) reached and the optimization hasn't converged yet.\n",
      "  warnings.warn(\n",
      "/Applications/miniconda3/lib/python3.10/site-packages/sklearn/neural_network/_multilayer_perceptron.py:686: ConvergenceWarning: Stochastic Optimizer: Maximum iterations (500) reached and the optimization hasn't converged yet.\n",
      "  warnings.warn(\n",
      "/Applications/miniconda3/lib/python3.10/site-packages/sklearn/neural_network/_multilayer_perceptron.py:686: ConvergenceWarning: Stochastic Optimizer: Maximum iterations (500) reached and the optimization hasn't converged yet.\n",
      "  warnings.warn(\n",
      "/Applications/miniconda3/lib/python3.10/site-packages/sklearn/neural_network/_multilayer_perceptron.py:686: ConvergenceWarning: Stochastic Optimizer: Maximum iterations (500) reached and the optimization hasn't converged yet.\n",
      "  warnings.warn(\n",
      "/Applications/miniconda3/lib/python3.10/site-packages/sklearn/neural_network/_multilayer_perceptron.py:686: ConvergenceWarning: Stochastic Optimizer: Maximum iterations (500) reached and the optimization hasn't converged yet.\n",
      "  warnings.warn(\n",
      "/Applications/miniconda3/lib/python3.10/site-packages/sklearn/neural_network/_multilayer_perceptron.py:686: ConvergenceWarning: Stochastic Optimizer: Maximum iterations (500) reached and the optimization hasn't converged yet.\n",
      "  warnings.warn(\n",
      "/Applications/miniconda3/lib/python3.10/site-packages/sklearn/neural_network/_multilayer_perceptron.py:686: ConvergenceWarning: Stochastic Optimizer: Maximum iterations (500) reached and the optimization hasn't converged yet.\n",
      "  warnings.warn(\n",
      "/Applications/miniconda3/lib/python3.10/site-packages/sklearn/neural_network/_multilayer_perceptron.py:686: ConvergenceWarning: Stochastic Optimizer: Maximum iterations (500) reached and the optimization hasn't converged yet.\n",
      "  warnings.warn(\n"
     ]
    },
    {
     "data": {
      "text/plain": [
       "({'acc': 0.9873416982101967,\n",
       "  'sens': 0.9824029126213593,\n",
       "  'spec': 0.9931182196086383,\n",
       "  'f1': 0.9881904139077359},\n",
       " {'acc': 0.7602224403009487,\n",
       "  'sens': 0.7402912621359223,\n",
       "  'spec': 0.7835344215755855,\n",
       "  'f1': 0.7689883391112512})"
      ]
     },
     "execution_count": 28,
     "metadata": {},
     "output_type": "execute_result"
    }
   ],
   "source": [
    "train_metric_dict, val_metric_dict = mlp_cross(rbps, targets, PCA_components = 0, \n",
    "                                               max_iter = 500, hidden_layer_sizes=(10,1))\n",
    "train_metric_dict, val_metric_dict"
   ]
  },
  {
   "cell_type": "code",
   "execution_count": 29,
   "id": "3b08cfbf",
   "metadata": {},
   "outputs": [
    {
     "name": "stderr",
     "output_type": "stream",
     "text": [
      "/Applications/miniconda3/lib/python3.10/site-packages/sklearn/neural_network/_multilayer_perceptron.py:686: ConvergenceWarning: Stochastic Optimizer: Maximum iterations (500) reached and the optimization hasn't converged yet.\n",
      "  warnings.warn(\n",
      "/Applications/miniconda3/lib/python3.10/site-packages/sklearn/neural_network/_multilayer_perceptron.py:686: ConvergenceWarning: Stochastic Optimizer: Maximum iterations (500) reached and the optimization hasn't converged yet.\n",
      "  warnings.warn(\n",
      "/Applications/miniconda3/lib/python3.10/site-packages/sklearn/neural_network/_multilayer_perceptron.py:686: ConvergenceWarning: Stochastic Optimizer: Maximum iterations (500) reached and the optimization hasn't converged yet.\n",
      "  warnings.warn(\n"
     ]
    },
    {
     "data": {
      "text/plain": [
       "({'acc': 0.9533739894387588,\n",
       "  'sens': 0.9685007801664355,\n",
       "  'spec': 0.935681334279631,\n",
       "  'f1': 0.9572569935312514},\n",
       " {'acc': 0.7808308799476611,\n",
       "  'sens': 0.8094660194174758,\n",
       "  'spec': 0.7473385379701917,\n",
       "  'f1': 0.7992810065907728})"
      ]
     },
     "execution_count": 29,
     "metadata": {},
     "output_type": "execute_result"
    }
   ],
   "source": [
    "train_metric_dict, val_metric_dict = mlp_cross(rbps, targets, PCA_components = 35, \n",
    "                                               alpha = 1.0, max_iter = 500, hidden_layer_sizes=(100,1))\n",
    "train_metric_dict, val_metric_dict"
   ]
  },
  {
   "cell_type": "code",
   "execution_count": null,
   "id": "1c090ab3",
   "metadata": {},
   "outputs": [],
   "source": []
  }
 ],
 "metadata": {
  "kernelspec": {
   "display_name": "Python 3 (ipykernel)",
   "language": "python",
   "name": "python3"
  },
  "language_info": {
   "codemirror_mode": {
    "name": "ipython",
    "version": 3
   },
   "file_extension": ".py",
   "mimetype": "text/x-python",
   "name": "python",
   "nbconvert_exporter": "python",
   "pygments_lexer": "ipython3",
   "version": "3.10.11"
  }
 },
 "nbformat": 4,
 "nbformat_minor": 5
}

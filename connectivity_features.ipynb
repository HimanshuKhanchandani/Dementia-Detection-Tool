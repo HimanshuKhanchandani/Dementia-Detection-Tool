{
 "cells": [
  {
   "cell_type": "code",
   "execution_count": 1,
   "id": "e2a3217c",
   "metadata": {},
   "outputs": [],
   "source": [
    "import numpy as np\n",
    "import matplotlib.pyplot as plt\n",
    "import mne\n",
    "\n",
    "from mne_connectivity import (spectral_connectivity_epochs,\n",
    "                              spectral_connectivity_time)"
   ]
  },
  {
   "cell_type": "code",
   "execution_count": 2,
   "id": "f9db222e",
   "metadata": {},
   "outputs": [],
   "source": [
    "from processing_functions import *"
   ]
  },
  {
   "cell_type": "code",
   "execution_count": 4,
   "id": "ac745975",
   "metadata": {},
   "outputs": [],
   "source": [
    "def split_frequencies(freqs, f_bands, dictionary):\n",
    "    \"\"\"\n",
    "    freqs: array of suitably spaced frequencies (np array)\n",
    "    f_bands: array of strings (list); e.g., [\"delta\",\"alpha\"]\n",
    "    dictionary: dict object mapping band string to [fmin,fmax]; e.g., {\"delta\" => [0.5,4.0]}\n",
    "    \"\"\"\n",
    "    F = [];\n",
    "    for i in range(len(f_bands)):\n",
    "        b = Freq_Bands[f_bands[i]];\n",
    "        f = [j for j in freqs if (b[1] >= j >= b[0])]\n",
    "        F += f\n",
    "    return F"
   ]
  },
  {
   "cell_type": "code",
   "execution_count": 5,
   "id": "c0427327",
   "metadata": {},
   "outputs": [],
   "source": [
    "def subject_spectral_connectivity(data, channels, Freq_Bands, f_bands, f_spacing, sfreq, method, mode, f_avg = True, ch_types = \"eeg\"):\n",
    "    '''\n",
    "    INPUTS:\n",
    "    data: np array: full raw eeg data\n",
    "    channels: List: numeric list of channels.\n",
    "    ch_names: List: corresponding list of channel names; e.g., \"P2\", etc.\n",
    "    Freq_bands: dict: dictionary of band (string) and freq range; e.g., {\"alpha\" : [8.0,13.0]}.\n",
    "    f_bands: List: list of frequency bands of interest; e.g., [\"delta\",\"alpha\"].\n",
    "    f_spacing: Int: Divide each 1 Hz band into N even pieces.\n",
    "    sfreq: Float: sampling frequency\n",
    "    method: string: connectivity measure to compute; ['coh', 'plv', 'ciplv', 'pli', 'wpli'].\n",
    "    mode: string: method for estimating spectrum: 'multitaper', or 'cwt_morlet'.\n",
    "    f_avg: Bool: Average over frequencies within desired bands.\n",
    "    \n",
    "    OUTPUTS:\n",
    "    con_epochs_array: numpy array\n",
    "    '''\n",
    "    # subject data in shape (n_epochs,n_channels,n_times)\n",
    "    data = np.swapaxes(data,1,2);\n",
    "    \n",
    "    if len(channels) == 1:\n",
    "        channels = channels[0]\n",
    "    # length of time segments\n",
    "    n_times = data.shape[2];\n",
    "    # number of channels:\n",
    "    n_channels = len(channels);\n",
    "    # number of epochs\n",
    "    n_epochs = data.shape[0];\n",
    "    \n",
    "    # extract channels:\n",
    "    data = data[:,channels,:];\n",
    "    \n",
    "    # create dictionary of channel names:\n",
    "    channel_dict = {0: 'Fp1', 1: 'Fp2', 2: 'F3', 3: 'F4', 4: 'C3', 5: 'C4', 6: 'P3',\n",
    "                    7: 'P4', 8: 'O1', 9: 'O2',10: 'F7', 11: 'F8', 12: 'T3', 13: 'T4',\n",
    "                    14: 'T5', 15: 'T6', 16: 'Fz', 17: 'Cz', 18: 'Pz'}\n",
    "    ch_names = [channel_dict[i] for i in channels]\n",
    "    info = mne.create_info(ch_names, sfreq, ch_types=\"eeg\")\n",
    "    # create EpochsArray\n",
    "    data_epoch = mne.EpochsArray(data, info)\n",
    "    \n",
    "    \n",
    "    # frequency band information\n",
    "    n_freq_bands = len(Freq_Bands)\n",
    "    min_freq = np.min(list(Freq_Bands.values()))\n",
    "    max_freq = np.max(list(Freq_Bands.values()))\n",
    "    # Provide the freq points\n",
    "    freqs_all = np.linspace(min_freq, max_freq, int((max_freq - min_freq) * 4 + 1))\n",
    "    \n",
    "    # split freq interval:\n",
    "    freqs = split_frequencies(freqs_all, f_bands, Freq_Bands)\n",
    "    \n",
    "    # Tuples for desired bands\n",
    "    fmin = tuple([Freq_Bands[f][0] for f in f_bands])\n",
    "    fmax = tuple([Freq_Bands[f][1] for f in f_bands])\n",
    "    \n",
    "    con = spectral_connectivity_time(data_epoch, freqs = freqs, sfreq = sfreq,\n",
    "                                      method=method,\n",
    "                                      fmin=fmin, fmax=fmax, mode = mode,\n",
    "                                      faverage=f_avg);\n",
    "    \n",
    "    # reshape data into (n_epochs,n_channels,n_channels,freqs)\n",
    "    n_freqs = (con.get_data()).shape[2];\n",
    "    con_data = con.get_data().reshape((n_epochs,n_channels,n_channels,n_freqs))\n",
    "    \n",
    "    return con_data"
   ]
  },
  {
   "cell_type": "code",
   "execution_count": 38,
   "id": "70591ec6",
   "metadata": {},
   "outputs": [],
   "source": [
    "def connectivity_processing(epoched_data, channels, Freq_Bands, f_bands, f_spacing, sfreq, method, mode, subjects = [i for i in range(88)], f_avg = True, save = False, filename = \"INSERT\", ch_types = \"eeg\"):\n",
    "    \"\"\"\n",
    "    NOTE: Assume input data is generated from function 'generate_and_save_data'\n",
    "    \n",
    "    INPUTS:\n",
    "    epoched_data: np array (vector): array of np arrays.\n",
    "    subjects: list: indices of all included subjects. Default all subjects = [1,...,88].\n",
    "    channels: List: numeric list of channels.\n",
    "    ch_names: List: corresponding list of channel names; e.g., \"P2\", etc.\n",
    "    Freq_bands: dict: dictionary of band (string) and freq range; e.g., {\"alpha\" : [8.0,13.0]}.\n",
    "    f_bands: List: list of frequency bands of interest; e.g., [\"delta\",\"alpha\"].\n",
    "    f_spacing: Int: Divide each 1 Hz band into N even pieces.\n",
    "    sfreq: Float: sampling frequency\n",
    "    method: string: connectivity measure to compute; ['coh', 'plv', 'ciplv', 'pli', 'wpli'].\n",
    "    mode: string: method for estimating spectrum: 'multitaper', or 'cwt_morlet'.\n",
    "    f_avg: Bool: Average over frequencies within desired bands.\n",
    "    save: Bool: save data to file.\n",
    "    filename: string.\n",
    "    \n",
    "    OUTPUTS:\n",
    "    con_epochs_array: numpy array, shape = list(n_epochs, n_channels, n_channels, n_freq_bands)\n",
    "    \n",
    "    \n",
    "    \"\"\"\n",
    "    output_array = []\n",
    "    for idx in subjects:\n",
    "        sub_data = all_data[idx];\n",
    "        output = subject_spectral_connectivity(sub_data,channels, Freq_Bands, f_bands, f_spacing, sfreq, method, mode, f_avg = True, ch_types = \"eeg\")\n",
    "        output_array += [output]\n",
    "    \n",
    "    \n",
    "    if save == False:\n",
    "        return output_array\n",
    "    else:\n",
    "        np.save(filename, np.array((np.array(output_array, dtype=object)), dtype=object), allow_pickle=True)\n",
    "        return output_array\n",
    "    "
   ]
  },
  {
   "cell_type": "markdown",
   "id": "ef146db8",
   "metadata": {},
   "source": [
    "# Generate Raw Data"
   ]
  },
  {
   "cell_type": "code",
   "execution_count": 12,
   "id": "0bb9eba8",
   "metadata": {},
   "outputs": [],
   "source": [
    "def generate_and_save_data(is_epoched,n_times,overlap_ratio,save = True, filename = \"insert\", subjects = [i for i in range(88)]):\n",
    "    \"\"\"\n",
    "    Inputs:\n",
    "    is_epoched: Boolean: should the data be epoched. (True = yes).\n",
    "    n_times: Int: number of times in an epoch.\n",
    "    overlap_ratio: Float: amount of overlap.\n",
    "    save: Bool: save to file\n",
    "    filename: string: filename of data. Assume it is run in same folder as 'processing_functions.py'\n",
    "    total_subjects:\n",
    "    \n",
    "    Outputs:\n",
    "    Saves np array:\n",
    "    is_epoched = True: np array, shape = (n_epochs,n_times,n_channels)\n",
    "    is_epoched = False: np array, shape = (n_times,n_channels) \n",
    "    \n",
    "    \"\"\"\n",
    "    features = []\n",
    "    for i in subjects:\n",
    "        ppt = i + 1\n",
    "        raw_data = mne.io.read_raw_eeglab('data/ds004504/derivatives/' + ppt_id(ppt)\n",
    "                                    + '/eeg/' + ppt_id(ppt) + '_task-eyesclosed_eeg.set', preload = True)\n",
    "        export = raw_data.to_data_frame()\n",
    "        ppt_array = export.iloc[:,range(1,len(export.columns))].values\n",
    "        \n",
    "        # epoching data:\n",
    "        if is_epoched == False:\n",
    "            features += [ppt_array]\n",
    "        else:\n",
    "            ppt_array = create_epochs(ppt_array,n_times,overlap_ratio)\n",
    "            features += [ppt_array]\n",
    "    \n",
    "    if save == True:\n",
    "        np.save(filename, np.array(features, dtype=object), allow_pickle=True)\n",
    "        return features\n",
    "    else:\n",
    "        return features\n",
    "    "
   ]
  },
  {
   "cell_type": "markdown",
   "id": "e4981fb0",
   "metadata": {},
   "source": [
    "# Trials"
   ]
  },
  {
   "cell_type": "code",
   "execution_count": 31,
   "id": "984eba18",
   "metadata": {},
   "outputs": [],
   "source": [
    "idx = 2;\n",
    "n_times = 8000; overlap_ratio = 0.5;\n",
    "n_epochs = 20  # number of simulated epochs\n",
    "channels = [6,7,8,9]; n_channels = len(channels);\n",
    "sfreq = 256; f_spacing = 4;\n",
    "# Freq bands of interest\n",
    "Freq_Bands = {\"delta\": [0.5, 4.0],\n",
    "              \"theta\": [4.0, 8.0],\n",
    "              \"alpha\": [8.0, 13.0],\n",
    "              \"beta\": [13.0, 30.0]}\n",
    "f_bands = [\"delta\",\"alpha\"]; n_freq_bands = len(f_bands)\n",
    "method = 'plv'; mode = 'cwt_morlet';"
   ]
  },
  {
   "cell_type": "code",
   "execution_count": 40,
   "id": "a5b65345",
   "metadata": {},
   "outputs": [],
   "source": [
    "# generate epoched raw eeg data:\n",
    "all_data = generate_and_save_data(True,n_times,overlap_ratio,save = False)"
   ]
  },
  {
   "cell_type": "code",
   "execution_count": 33,
   "id": "7178950b",
   "metadata": {},
   "outputs": [],
   "source": [
    "# extract single subject data:\n",
    "sub_data = all_data[0]"
   ]
  },
  {
   "cell_type": "code",
   "execution_count": 41,
   "id": "24df60f2",
   "metadata": {},
   "outputs": [],
   "source": [
    "# spectral connectivity data for subject\n",
    "test = subject_spectral_connectivity(sub_data,channels, Freq_Bands, f_bands, f_spacing, sfreq, method, mode, f_avg = True, ch_types = \"eeg\")"
   ]
  },
  {
   "cell_type": "code",
   "execution_count": 42,
   "id": "e441b4af",
   "metadata": {},
   "outputs": [],
   "source": [
    "# spectral connectivity data for all subjects\n",
    "con_data = connectivity_processing(all_data, channels, Freq_Bands, f_bands, f_spacing, sfreq, method, mode, subjects = [i for i in range(88)], f_avg = True, save = True, filename = \"processed_data/con_data.npy\", ch_types = \"eeg\")\n"
   ]
  },
  {
   "cell_type": "code",
   "execution_count": null,
   "id": "3f17d1e3",
   "metadata": {},
   "outputs": [],
   "source": []
  }
 ],
 "metadata": {
  "kernelspec": {
   "display_name": "erdos_python",
   "language": "python",
   "name": "erdos_python"
  },
  "language_info": {
   "codemirror_mode": {
    "name": "ipython",
    "version": 3
   },
   "file_extension": ".py",
   "mimetype": "text/x-python",
   "name": "python",
   "nbconvert_exporter": "python",
   "pygments_lexer": "ipython3",
   "version": "3.10.12"
  }
 },
 "nbformat": 4,
 "nbformat_minor": 5
}

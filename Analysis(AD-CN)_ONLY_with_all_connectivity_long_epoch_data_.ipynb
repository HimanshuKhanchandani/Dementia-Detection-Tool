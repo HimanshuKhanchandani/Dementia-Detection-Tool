{
 "cells": [
  {
   "cell_type": "markdown",
   "id": "a047a9ab",
   "metadata": {},
   "source": [
    "This is the analysis on brain connectivity data of 5 pairs of symmetrical nodes on certain freq. bands:\n",
    "1) P3,P4,O1,O2 nodes for delta band \n",
    "2) C3,C4,F3,F4 nodes for theta band \n",
    "3) C3,C4,F3,F4 nodes for delta band \n",
    "4) C3,C4,T3,T4 nodes for theta band\n",
    "5) C3,C4,P3,P4 nodes for theta band"
   ]
  },
  {
   "cell_type": "code",
   "execution_count": 31,
   "id": "531e8574",
   "metadata": {},
   "outputs": [],
   "source": [
    "import mne\n",
    "import warnings\n",
    "import pandas as pd\n",
    "import numpy as np\n",
    "import matplotlib.pyplot as plt\n",
    "from scipy.signal import welch\n",
    "from sklearn.neighbors import KNeighborsClassifier\n",
    "from sklearn.preprocessing import StandardScaler\n",
    "from sklearn.metrics import confusion_matrix\n",
    "from Classification_models_LOSO_2Class import *\n",
    "from model_functions import *"
   ]
  },
  {
   "cell_type": "code",
   "execution_count": 7,
   "id": "ccbfb97e",
   "metadata": {},
   "outputs": [],
   "source": [
    "def remove_test(features,test):\n",
    "    features_train = [features[i] for i in range(len(features)) if i not in test]\n",
    "    #target_train = [targets[i] for i in range(len(targets)) if i not in test]\n",
    "    return features_train\n",
    "def remove_test_targets(targets, test):\n",
    "    target_train = [targets[i] for i in range(len(targets)) if i not in test]\n",
    "    return target_train"
   ]
  },
  {
   "cell_type": "code",
   "execution_count": 8,
   "id": "711f08d2",
   "metadata": {},
   "outputs": [],
   "source": [
    "conn_data_1 = np.load('processed_data/con_data_01.npy',allow_pickle=True)\n",
    "conn_data_2 = np.load('processed_data/con_data_02.npy',allow_pickle=True)\n",
    "conn_data_3 = np.load('processed_data/con_data_03.npy',allow_pickle=True)\n",
    "conn_data_4 = np.load('processed_data/con_data_04.npy',allow_pickle=True)\n",
    "conn_data_5 = np.load('processed_data/con_data_05.npy',allow_pickle=True)"
   ]
  },
  {
   "cell_type": "code",
   "execution_count": 32,
   "id": "b92592c6",
   "metadata": {},
   "outputs": [],
   "source": [
    "targetss=[]\n",
    "targetss=[1 for i in range(36)]\n",
    "targetss.extend([0 for i in range(29)])\n",
    "test= [4,6,8,20,33,49,53,63]"
   ]
  },
  {
   "cell_type": "code",
   "execution_count": 10,
   "id": "7fa17cfc",
   "metadata": {},
   "outputs": [],
   "source": [
    "data_1 = remove_test(conn_data_1, test)\n",
    "data_2 = remove_test(conn_data_2,test)\n",
    "data_3 = remove_test(conn_data_3, test)\n",
    "data_4 = remove_test(conn_data_4,test)\n",
    "data_5 = remove_test(conn_data_5, test)"
   ]
  },
  {
   "cell_type": "code",
   "execution_count": 11,
   "id": "5b85ff09",
   "metadata": {},
   "outputs": [],
   "source": [
    "targets= remove_test_targets(targetss, test)"
   ]
  },
  {
   "cell_type": "code",
   "execution_count": 12,
   "id": "4eda710d",
   "metadata": {},
   "outputs": [
    {
     "data": {
      "text/plain": [
       "numpy.ndarray"
      ]
     },
     "execution_count": 12,
     "metadata": {},
     "output_type": "execute_result"
    }
   ],
   "source": [
    "targets= np.array(targets)\n",
    "type(targets)"
   ]
  },
  {
   "cell_type": "code",
   "execution_count": 13,
   "id": "75b60944",
   "metadata": {},
   "outputs": [],
   "source": [
    "data_1 = [data_1[i] for i in range(57)]\n",
    "data_2 = [data_2[i] for i in range(57)]\n",
    "data_3 = [data_3[i] for i in range(57)]\n",
    "data_4 = [data_4[i] for i in range(57)]\n",
    "data_5 = [data_5[i] for i in range(57)]"
   ]
  },
  {
   "cell_type": "code",
   "execution_count": 14,
   "id": "03e89705",
   "metadata": {},
   "outputs": [],
   "source": [
    "all_data = [data_1,data_2,data_3,data_4,data_5]"
   ]
  },
  {
   "cell_type": "code",
   "execution_count": 15,
   "id": "815eb964",
   "metadata": {},
   "outputs": [],
   "source": [
    "def get_arr(data, idx , epoch): \n",
    "    trials = [(data[idx][epoch].reshape(-1,))[i] for i in range(16) if (data[idx][epoch].reshape(-1,))[i] != 0]\n",
    "    m = len(trials)\n",
    "    return (np.array(trials)).reshape((1,m))\n",
    "\n",
    "\n",
    "def get_all_freq_arr(all_data,idx, epoch):\n",
    "    r = get_arr(all_data[0], idx , epoch)\n",
    "    for i in range(1,len(all_data)):\n",
    "        r = np.concatenate((r,get_arr(all_data[i], idx , epoch)),axis =1)\n",
    "        \n",
    "    #r=np.concatenate((get_arr(all_data[0], idx , epoch),get_arr(all_data[1], idx , epoch),get_arr(all_data[2], idx , epoch),get_arr(all_data[3], idx , epoch),get_arr(all_data[4], idx , epoch)), axis=1)\n",
    "    return r\n",
    "    "
   ]
  },
  {
   "cell_type": "code",
   "execution_count": 16,
   "id": "7d79ca04",
   "metadata": {},
   "outputs": [],
   "source": [
    "def get_all_epochs_data(all_data,idx):\n",
    "    r = get_all_freq_arr(all_data,idx,0)\n",
    "    for j in range(1,len(all_data[0][idx])):\n",
    "        r = np.concatenate((r,get_all_freq_arr(all_data,idx,j)),axis = 0)\n",
    "    return r"
   ]
  },
  {
   "cell_type": "code",
   "execution_count": 17,
   "id": "091b117d",
   "metadata": {},
   "outputs": [],
   "source": [
    "def get_all_features(all_data):\n",
    "    output_array = [];\n",
    "    for j in range(len(all_data[0])):\n",
    "        r = get_all_epochs_data(all_data,j)\n",
    "        output_array = output_array + [r]\n",
    "    return output_array"
   ]
  },
  {
   "cell_type": "code",
   "execution_count": 18,
   "id": "f727973e",
   "metadata": {},
   "outputs": [],
   "source": [
    "features = get_all_features(all_data)"
   ]
  },
  {
   "cell_type": "code",
   "execution_count": 19,
   "id": "2b1ff13e",
   "metadata": {},
   "outputs": [],
   "source": [
    "def train_prep(features,targets,exclude=None,flatten_final=True):\n",
    "    total_subjects = len(targets)\n",
    "    target_list = []\n",
    "    for i in range(total_subjects):\n",
    "        num_epochs = features[i].shape[0]\n",
    "        target_list.append(targets[i]*np.ones(num_epochs))\n",
    "    if exclude==None: \n",
    "        features_array = np.concatenate(features)\n",
    "        targets_array = np.concatenate(target_list)\n",
    "    else:\n",
    "        features_array = np.concatenate(features[:exclude] + features[exclude+1:])\n",
    "        targets_array  = np.concatenate(target_list[:exclude] + target_list[exclude+1:])\n",
    "    if flatten_final:\n",
    "        features_array = features_array.reshape((features_array.shape[0],-1))\n",
    "    return features_array, targets_array"
   ]
  },
  {
   "cell_type": "code",
   "execution_count": 20,
   "id": "e394f2db",
   "metadata": {},
   "outputs": [
    {
     "data": {
      "text/plain": [
       "(842, 30)"
      ]
     },
     "execution_count": 20,
     "metadata": {},
     "output_type": "execute_result"
    }
   ],
   "source": [
    "train_prep(features, targets,exclude=10, flatten_final=True)[0].shape"
   ]
  },
  {
   "cell_type": "code",
   "execution_count": 21,
   "id": "c9a297fd",
   "metadata": {},
   "outputs": [],
   "source": [
    "def kNN_cross(rbps,targets,n_neighbors, PCA_components = 0):\n",
    "   \n",
    "    confusion_matrices_train = []\n",
    "    confusion_matrices_test = []\n",
    "    labels = np.unique(targets)\n",
    "    for i in range(len(targets)):\n",
    "        train_X, train_y = train_prep(rbps,targets,exclude=i,flatten_final=True)\n",
    "        test_X = rbps[i].reshape(rbps[i].shape[0],-1)\n",
    "        test_y = targets[i]*np.ones(rbps[i].shape[0])\n",
    "\n",
    "        scaler = StandardScaler()\n",
    "        train_X = scaler.fit_transform(train_X)\n",
    "        test_X = scaler.transform(test_X)\n",
    "        \n",
    "        if PCA_components != 0:\n",
    "            pca = PCA(n_components = PCA_components)\n",
    "            train_X = pca.fit_transform(train_X, y = None)\n",
    "            test_X = pca.transform(test_X)\n",
    "        \n",
    "        ThreeNN = KNeighborsClassifier(n_neighbors=n_neighbors)\n",
    "        ThreeNN.fit(train_X, train_y)\n",
    "        \n",
    "        confusion_matrices_train += [confusion_matrix(train_y, ThreeNN.predict(train_X),labels=labels)]\n",
    "        confusion_matrices_test += [confusion_matrix(test_y,ThreeNN.predict(test_X),labels=labels)]\n",
    "    \n",
    "    confusion_matrices_train = np.array(confusion_matrices_train)\n",
    "    confusion_matrices_test = np.array(confusion_matrices_test)\n",
    "    total_confusion_train = np.sum(confusion_matrices_train, axis= 0)\n",
    "    total_confusion_test = np.sum(confusion_matrices_test, axis= 0)\n",
    "    \n",
    "    train_metrics_dict = {'acc':accuracy(total_confusion_train), 'sens':sensitivity(total_confusion_train), \n",
    "                            'spec':specificity(total_confusion_train), 'f1':f1(total_confusion_train)}\n",
    "    test_metrics_dict = {'acc':accuracy(total_confusion_test), 'sens':sensitivity(total_confusion_test), \n",
    "                            'spec':specificity(total_confusion_test), 'f1':f1(total_confusion_test)}\n",
    "    \n",
    "    \n",
    "    return train_metrics_dict, test_metrics_dict\n"
   ]
  },
  {
   "cell_type": "code",
   "execution_count": 23,
   "id": "657c7396",
   "metadata": {},
   "outputs": [
    {
     "data": {
      "text/plain": [
       "({'acc': 0.9965491435223682,\n",
       "  'sens': 0.9956909937888199,\n",
       "  'spec': 0.9975384890798424,\n",
       "  'f1': 0.9967744442717238},\n",
       " {'acc': 0.6437718277066357,\n",
       "  'sens': 0.6086956521739131,\n",
       "  'spec': 0.6842105263157895,\n",
       "  'f1': 0.6466512702078522})"
      ]
     },
     "execution_count": 23,
     "metadata": {},
     "output_type": "execute_result"
    }
   ],
   "source": [
    "kNN_cross(features, targets, n_neighbors=3, PCA_components = 0 )"
   ]
  },
  {
   "cell_type": "code",
   "execution_count": 24,
   "id": "c599f554",
   "metadata": {},
   "outputs": [],
   "source": [
    "PCA_components = [5, 10, 20]\n",
    "val_acc = []\n",
    "train_acc = []\n",
    "for n in PCA_components: \n",
    "    train_metric_dict, val_metric_dict = kNN_cross(features, targets, n_neighbors=3, PCA_components = n)\n",
    "    val_acc += [val_metric_dict['acc']]\n",
    "    train_acc += [train_metric_dict['acc']]"
   ]
  },
  {
   "cell_type": "code",
   "execution_count": 25,
   "id": "6b6dbe22",
   "metadata": {},
   "outputs": [
    {
     "data": {
      "text/plain": [
       "([0.6740395809080326, 0.6647264260768335, 0.6414435389988359],\n",
       " [0.9850324297355729, 0.9968193913188093, 0.9965491435223682])"
      ]
     },
     "execution_count": 25,
     "metadata": {},
     "output_type": "execute_result"
    }
   ],
   "source": [
    "val_acc, train_acc"
   ]
  },
  {
   "cell_type": "code",
   "execution_count": 26,
   "id": "a144ca79",
   "metadata": {},
   "outputs": [
    {
     "data": {
      "text/plain": [
       "({'acc': 0.9208797605188758,\n",
       "  'sens': 0.9197204968944099,\n",
       "  'spec': 0.9222162549230218,\n",
       "  'f1': 0.9256495409259621},\n",
       " {'acc': 0.7124563445867288,\n",
       "  'sens': 0.6891304347826087,\n",
       "  'spec': 0.7393483709273183,\n",
       "  'f1': 0.7196367763904653})"
      ]
     },
     "execution_count": 26,
     "metadata": {},
     "output_type": "execute_result"
    }
   ],
   "source": [
    "train_metric_dict, val_metric_dict = svm_cross(features, targets, kernel= \"linear\", reg_parameter = 1.0, degree=2, PCA_components= 0)\n",
    "train_metric_dict, val_metric_dict"
   ]
  },
  {
   "cell_type": "code",
   "execution_count": 27,
   "id": "92445e9e",
   "metadata": {},
   "outputs": [
    {
     "data": {
      "text/plain": [
       "({'acc': 0.9345168800931315,\n",
       "  'sens': 0.9315993788819876,\n",
       "  'spec': 0.9378804153240243,\n",
       "  'f1': 0.9384116059906933},\n",
       " {'acc': 0.7206053550640279,\n",
       "  'sens': 0.7,\n",
       "  'spec': 0.7443609022556391,\n",
       "  'f1': 0.7285067873303168})"
      ]
     },
     "execution_count": 27,
     "metadata": {},
     "output_type": "execute_result"
    }
   ],
   "source": [
    "train_metric_dict, val_metric_dict = svm_cross(features, targets, kernel= \"linear\", reg_parameter = 10.0, degree=2, PCA_components= 0)\n",
    "train_metric_dict, val_metric_dict"
   ]
  },
  {
   "cell_type": "code",
   "execution_count": 28,
   "id": "80f4a30c",
   "metadata": {},
   "outputs": [
    {
     "data": {
      "text/plain": [
       "({'acc': 0.8397014801263928,\n",
       "  'sens': 0.7102096273291926,\n",
       "  'spec': 0.9889903329752954,\n",
       "  'f1': 0.8259407236856956},\n",
       " {'acc': 0.5681024447031432,\n",
       "  'sens': 0.4891304347826087,\n",
       "  'spec': 0.6591478696741855,\n",
       "  'f1': 0.5481120584652863})"
      ]
     },
     "execution_count": 28,
     "metadata": {},
     "output_type": "execute_result"
    }
   ],
   "source": [
    "train_metric_dict, val_metric_dict = svm_cross(features, targets, kernel= \"poly\", reg_parameter = 1.0, degree=2, PCA_components= 0)\n",
    "train_metric_dict, val_metric_dict"
   ]
  },
  {
   "cell_type": "code",
   "execution_count": 29,
   "id": "de567631",
   "metadata": {},
   "outputs": [
    {
     "data": {
      "text/plain": [
       "({'acc': 0.8957051388657908,\n",
       "  'sens': 0.8836568322981366,\n",
       "  'spec': 0.9095954171142141,\n",
       "  'f1': 0.9007379854777121},\n",
       " {'acc': 0.7252619324796274,\n",
       "  'sens': 0.6869565217391305,\n",
       "  'spec': 0.7694235588972431,\n",
       "  'f1': 0.7281105990783411})"
      ]
     },
     "execution_count": 29,
     "metadata": {},
     "output_type": "execute_result"
    }
   ],
   "source": [
    "train_metric_dict, val_metric_dict = log_reg_cross(features, targets)\n",
    "train_metric_dict, val_metric_dict"
   ]
  },
  {
   "cell_type": "code",
   "execution_count": 30,
   "id": "ecb0ef1e",
   "metadata": {},
   "outputs": [
    {
     "data": {
      "text/plain": [
       "({'acc': 0.8669757192749044,\n",
       "  'sens': 0.8541925465838509,\n",
       "  'spec': 0.8817132116004296,\n",
       "  'f1': 0.8730533457654691},\n",
       " {'acc': 0.7555296856810244,\n",
       "  'sens': 0.7195652173913043,\n",
       "  'spec': 0.7969924812030075,\n",
       "  'f1': 0.7591743119266054})"
      ]
     },
     "execution_count": 30,
     "metadata": {},
     "output_type": "execute_result"
    }
   ],
   "source": [
    "train_metric_dict, val_metric_dict = log_reg_cross(features, targets, PCA_components = 15)\n",
    "train_metric_dict, val_metric_dict"
   ]
  },
  {
   "cell_type": "code",
   "execution_count": null,
   "id": "26829dd5",
   "metadata": {},
   "outputs": [],
   "source": []
  }
 ],
 "metadata": {
  "kernelspec": {
   "display_name": "Python 3 (ipykernel)",
   "language": "python",
   "name": "python3"
  },
  "language_info": {
   "codemirror_mode": {
    "name": "ipython",
    "version": 3
   },
   "file_extension": ".py",
   "mimetype": "text/x-python",
   "name": "python",
   "nbconvert_exporter": "python",
   "pygments_lexer": "ipython3",
   "version": "3.10.13"
  }
 },
 "nbformat": 4,
 "nbformat_minor": 5
}

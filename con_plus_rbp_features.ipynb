{
 "cells": [
  {
   "cell_type": "code",
   "execution_count": 5,
   "id": "e2a3217c",
   "metadata": {},
   "outputs": [],
   "source": [
    "import numpy as np\n",
    "import matplotlib.pyplot as plt\n",
    "import mne\n",
    "\n",
    "from mne_connectivity import (spectral_connectivity_epochs,\n",
    "                              spectral_connectivity_time)\n",
    "\n",
    "import warnings\n",
    "warnings.simplefilter('ignore')"
   ]
  },
  {
   "cell_type": "code",
   "execution_count": 2,
   "id": "f9db222e",
   "metadata": {},
   "outputs": [],
   "source": [
    "from processing_functions import *"
   ]
  },
  {
   "cell_type": "code",
   "execution_count": 3,
   "id": "b4c5c9bb",
   "metadata": {},
   "outputs": [],
   "source": [
    "from connectivity_plus_rbp_features import *"
   ]
  },
  {
   "cell_type": "markdown",
   "id": "74d0d9e1",
   "metadata": {},
   "source": [
    "# Generate connectivity: long epochs:"
   ]
  },
  {
   "cell_type": "code",
   "execution_count": 4,
   "id": "a8062ccf",
   "metadata": {},
   "outputs": [],
   "source": [
    "# parameters of raw data:\n",
    "n_times = 500*120; overlap_ratio = 0.6;\n",
    "channels = [2,3,4,5]; n_channels = len(channels);\n",
    "sfreq = 500; f_spacing = 4;\n",
    "# Freq bands of interest\n",
    "Freq_Bands = {\"delta\": [0.5, 4.0],\n",
    "              \"theta\": [4.0, 8.0],\n",
    "              \"alpha\": [8.0, 13.0],\n",
    "              \"beta\": [13.0, 30.0]}\n",
    "f_bands = [\"delta\"]; n_freq_bands = len(f_bands)\n",
    "method = 'plv'; mode = 'cwt_morlet';"
   ]
  },
  {
   "cell_type": "code",
   "execution_count": 139,
   "id": "a8fef313",
   "metadata": {
    "scrolled": true
   },
   "outputs": [
    {
     "name": "stderr",
     "output_type": "stream",
     "text": [
      "/var/folders/m4/pp85n2_d0t35q9wcrh9x24fr0000gn/T/ipykernel_41740/3992331942.py:20: RuntimeWarning: The data contains 'boundary' events, indicating data discontinuities. Be cautious of filtering and epoching around these events.\n",
      "  raw_data = mne.io.read_raw_eeglab('data/ds004504/derivatives/' + ppt_id(ppt)\n",
      "/var/folders/m4/pp85n2_d0t35q9wcrh9x24fr0000gn/T/ipykernel_41740/3992331942.py:20: RuntimeWarning: The data contains 'boundary' events, indicating data discontinuities. Be cautious of filtering and epoching around these events.\n",
      "  raw_data = mne.io.read_raw_eeglab('data/ds004504/derivatives/' + ppt_id(ppt)\n",
      "/var/folders/m4/pp85n2_d0t35q9wcrh9x24fr0000gn/T/ipykernel_41740/3992331942.py:20: RuntimeWarning: The data contains 'boundary' events, indicating data discontinuities. Be cautious of filtering and epoching around these events.\n",
      "  raw_data = mne.io.read_raw_eeglab('data/ds004504/derivatives/' + ppt_id(ppt)\n",
      "/var/folders/m4/pp85n2_d0t35q9wcrh9x24fr0000gn/T/ipykernel_41740/3992331942.py:20: RuntimeWarning: The data contains 'boundary' events, indicating data discontinuities. Be cautious of filtering and epoching around these events.\n",
      "  raw_data = mne.io.read_raw_eeglab('data/ds004504/derivatives/' + ppt_id(ppt)\n",
      "/var/folders/m4/pp85n2_d0t35q9wcrh9x24fr0000gn/T/ipykernel_41740/3992331942.py:20: RuntimeWarning: The data contains 'boundary' events, indicating data discontinuities. Be cautious of filtering and epoching around these events.\n",
      "  raw_data = mne.io.read_raw_eeglab('data/ds004504/derivatives/' + ppt_id(ppt)\n",
      "/var/folders/m4/pp85n2_d0t35q9wcrh9x24fr0000gn/T/ipykernel_41740/3992331942.py:20: RuntimeWarning: The data contains 'boundary' events, indicating data discontinuities. Be cautious of filtering and epoching around these events.\n",
      "  raw_data = mne.io.read_raw_eeglab('data/ds004504/derivatives/' + ppt_id(ppt)\n",
      "/var/folders/m4/pp85n2_d0t35q9wcrh9x24fr0000gn/T/ipykernel_41740/3992331942.py:20: RuntimeWarning: The data contains 'boundary' events, indicating data discontinuities. Be cautious of filtering and epoching around these events.\n",
      "  raw_data = mne.io.read_raw_eeglab('data/ds004504/derivatives/' + ppt_id(ppt)\n",
      "/var/folders/m4/pp85n2_d0t35q9wcrh9x24fr0000gn/T/ipykernel_41740/3992331942.py:20: RuntimeWarning: The data contains 'boundary' events, indicating data discontinuities. Be cautious of filtering and epoching around these events.\n",
      "  raw_data = mne.io.read_raw_eeglab('data/ds004504/derivatives/' + ppt_id(ppt)\n",
      "/var/folders/m4/pp85n2_d0t35q9wcrh9x24fr0000gn/T/ipykernel_41740/3992331942.py:20: RuntimeWarning: The data contains 'boundary' events, indicating data discontinuities. Be cautious of filtering and epoching around these events.\n",
      "  raw_data = mne.io.read_raw_eeglab('data/ds004504/derivatives/' + ppt_id(ppt)\n",
      "/var/folders/m4/pp85n2_d0t35q9wcrh9x24fr0000gn/T/ipykernel_41740/3992331942.py:20: RuntimeWarning: The data contains 'boundary' events, indicating data discontinuities. Be cautious of filtering and epoching around these events.\n",
      "  raw_data = mne.io.read_raw_eeglab('data/ds004504/derivatives/' + ppt_id(ppt)\n",
      "/var/folders/m4/pp85n2_d0t35q9wcrh9x24fr0000gn/T/ipykernel_41740/3992331942.py:20: RuntimeWarning: The data contains 'boundary' events, indicating data discontinuities. Be cautious of filtering and epoching around these events.\n",
      "  raw_data = mne.io.read_raw_eeglab('data/ds004504/derivatives/' + ppt_id(ppt)\n",
      "/var/folders/m4/pp85n2_d0t35q9wcrh9x24fr0000gn/T/ipykernel_41740/3992331942.py:20: RuntimeWarning: The data contains 'boundary' events, indicating data discontinuities. Be cautious of filtering and epoching around these events.\n",
      "  raw_data = mne.io.read_raw_eeglab('data/ds004504/derivatives/' + ppt_id(ppt)\n",
      "/var/folders/m4/pp85n2_d0t35q9wcrh9x24fr0000gn/T/ipykernel_41740/3992331942.py:20: RuntimeWarning: The data contains 'boundary' events, indicating data discontinuities. Be cautious of filtering and epoching around these events.\n",
      "  raw_data = mne.io.read_raw_eeglab('data/ds004504/derivatives/' + ppt_id(ppt)\n",
      "/var/folders/m4/pp85n2_d0t35q9wcrh9x24fr0000gn/T/ipykernel_41740/3992331942.py:20: RuntimeWarning: The data contains 'boundary' events, indicating data discontinuities. Be cautious of filtering and epoching around these events.\n",
      "  raw_data = mne.io.read_raw_eeglab('data/ds004504/derivatives/' + ppt_id(ppt)\n",
      "/var/folders/m4/pp85n2_d0t35q9wcrh9x24fr0000gn/T/ipykernel_41740/3992331942.py:20: RuntimeWarning: The data contains 'boundary' events, indicating data discontinuities. Be cautious of filtering and epoching around these events.\n",
      "  raw_data = mne.io.read_raw_eeglab('data/ds004504/derivatives/' + ppt_id(ppt)\n",
      "/var/folders/m4/pp85n2_d0t35q9wcrh9x24fr0000gn/T/ipykernel_41740/3992331942.py:20: RuntimeWarning: The data contains 'boundary' events, indicating data discontinuities. Be cautious of filtering and epoching around these events.\n",
      "  raw_data = mne.io.read_raw_eeglab('data/ds004504/derivatives/' + ppt_id(ppt)\n",
      "/var/folders/m4/pp85n2_d0t35q9wcrh9x24fr0000gn/T/ipykernel_41740/3992331942.py:20: RuntimeWarning: The data contains 'boundary' events, indicating data discontinuities. Be cautious of filtering and epoching around these events.\n",
      "  raw_data = mne.io.read_raw_eeglab('data/ds004504/derivatives/' + ppt_id(ppt)\n",
      "/var/folders/m4/pp85n2_d0t35q9wcrh9x24fr0000gn/T/ipykernel_41740/3992331942.py:20: RuntimeWarning: The data contains 'boundary' events, indicating data discontinuities. Be cautious of filtering and epoching around these events.\n",
      "  raw_data = mne.io.read_raw_eeglab('data/ds004504/derivatives/' + ppt_id(ppt)\n",
      "/var/folders/m4/pp85n2_d0t35q9wcrh9x24fr0000gn/T/ipykernel_41740/3992331942.py:20: RuntimeWarning: The data contains 'boundary' events, indicating data discontinuities. Be cautious of filtering and epoching around these events.\n",
      "  raw_data = mne.io.read_raw_eeglab('data/ds004504/derivatives/' + ppt_id(ppt)\n",
      "/var/folders/m4/pp85n2_d0t35q9wcrh9x24fr0000gn/T/ipykernel_41740/3992331942.py:20: RuntimeWarning: The data contains 'boundary' events, indicating data discontinuities. Be cautious of filtering and epoching around these events.\n",
      "  raw_data = mne.io.read_raw_eeglab('data/ds004504/derivatives/' + ppt_id(ppt)\n",
      "/var/folders/m4/pp85n2_d0t35q9wcrh9x24fr0000gn/T/ipykernel_41740/3992331942.py:20: RuntimeWarning: The data contains 'boundary' events, indicating data discontinuities. Be cautious of filtering and epoching around these events.\n",
      "  raw_data = mne.io.read_raw_eeglab('data/ds004504/derivatives/' + ppt_id(ppt)\n",
      "/var/folders/m4/pp85n2_d0t35q9wcrh9x24fr0000gn/T/ipykernel_41740/3992331942.py:20: RuntimeWarning: The data contains 'boundary' events, indicating data discontinuities. Be cautious of filtering and epoching around these events.\n",
      "  raw_data = mne.io.read_raw_eeglab('data/ds004504/derivatives/' + ppt_id(ppt)\n",
      "/var/folders/m4/pp85n2_d0t35q9wcrh9x24fr0000gn/T/ipykernel_41740/3992331942.py:20: RuntimeWarning: The data contains 'boundary' events, indicating data discontinuities. Be cautious of filtering and epoching around these events.\n",
      "  raw_data = mne.io.read_raw_eeglab('data/ds004504/derivatives/' + ppt_id(ppt)\n",
      "/var/folders/m4/pp85n2_d0t35q9wcrh9x24fr0000gn/T/ipykernel_41740/3992331942.py:20: RuntimeWarning: The data contains 'boundary' events, indicating data discontinuities. Be cautious of filtering and epoching around these events.\n",
      "  raw_data = mne.io.read_raw_eeglab('data/ds004504/derivatives/' + ppt_id(ppt)\n",
      "/var/folders/m4/pp85n2_d0t35q9wcrh9x24fr0000gn/T/ipykernel_41740/3992331942.py:20: RuntimeWarning: The data contains 'boundary' events, indicating data discontinuities. Be cautious of filtering and epoching around these events.\n",
      "  raw_data = mne.io.read_raw_eeglab('data/ds004504/derivatives/' + ppt_id(ppt)\n",
      "/var/folders/m4/pp85n2_d0t35q9wcrh9x24fr0000gn/T/ipykernel_41740/3992331942.py:20: RuntimeWarning: The data contains 'boundary' events, indicating data discontinuities. Be cautious of filtering and epoching around these events.\n",
      "  raw_data = mne.io.read_raw_eeglab('data/ds004504/derivatives/' + ppt_id(ppt)\n",
      "/var/folders/m4/pp85n2_d0t35q9wcrh9x24fr0000gn/T/ipykernel_41740/3992331942.py:20: RuntimeWarning: The data contains 'boundary' events, indicating data discontinuities. Be cautious of filtering and epoching around these events.\n",
      "  raw_data = mne.io.read_raw_eeglab('data/ds004504/derivatives/' + ppt_id(ppt)\n"
     ]
    },
    {
     "name": "stderr",
     "output_type": "stream",
     "text": [
      "/var/folders/m4/pp85n2_d0t35q9wcrh9x24fr0000gn/T/ipykernel_41740/3992331942.py:20: RuntimeWarning: The data contains 'boundary' events, indicating data discontinuities. Be cautious of filtering and epoching around these events.\n",
      "  raw_data = mne.io.read_raw_eeglab('data/ds004504/derivatives/' + ppt_id(ppt)\n",
      "/var/folders/m4/pp85n2_d0t35q9wcrh9x24fr0000gn/T/ipykernel_41740/3992331942.py:20: RuntimeWarning: The data contains 'boundary' events, indicating data discontinuities. Be cautious of filtering and epoching around these events.\n",
      "  raw_data = mne.io.read_raw_eeglab('data/ds004504/derivatives/' + ppt_id(ppt)\n",
      "/var/folders/m4/pp85n2_d0t35q9wcrh9x24fr0000gn/T/ipykernel_41740/3992331942.py:20: RuntimeWarning: The data contains 'boundary' events, indicating data discontinuities. Be cautious of filtering and epoching around these events.\n",
      "  raw_data = mne.io.read_raw_eeglab('data/ds004504/derivatives/' + ppt_id(ppt)\n",
      "/var/folders/m4/pp85n2_d0t35q9wcrh9x24fr0000gn/T/ipykernel_41740/3992331942.py:20: RuntimeWarning: The data contains 'boundary' events, indicating data discontinuities. Be cautious of filtering and epoching around these events.\n",
      "  raw_data = mne.io.read_raw_eeglab('data/ds004504/derivatives/' + ppt_id(ppt)\n",
      "/var/folders/m4/pp85n2_d0t35q9wcrh9x24fr0000gn/T/ipykernel_41740/3992331942.py:20: RuntimeWarning: The data contains 'boundary' events, indicating data discontinuities. Be cautious of filtering and epoching around these events.\n",
      "  raw_data = mne.io.read_raw_eeglab('data/ds004504/derivatives/' + ppt_id(ppt)\n",
      "/var/folders/m4/pp85n2_d0t35q9wcrh9x24fr0000gn/T/ipykernel_41740/3992331942.py:20: RuntimeWarning: The data contains 'boundary' events, indicating data discontinuities. Be cautious of filtering and epoching around these events.\n",
      "  raw_data = mne.io.read_raw_eeglab('data/ds004504/derivatives/' + ppt_id(ppt)\n",
      "/var/folders/m4/pp85n2_d0t35q9wcrh9x24fr0000gn/T/ipykernel_41740/3992331942.py:20: RuntimeWarning: The data contains 'boundary' events, indicating data discontinuities. Be cautious of filtering and epoching around these events.\n",
      "  raw_data = mne.io.read_raw_eeglab('data/ds004504/derivatives/' + ppt_id(ppt)\n",
      "/var/folders/m4/pp85n2_d0t35q9wcrh9x24fr0000gn/T/ipykernel_41740/3992331942.py:20: RuntimeWarning: The data contains 'boundary' events, indicating data discontinuities. Be cautious of filtering and epoching around these events.\n",
      "  raw_data = mne.io.read_raw_eeglab('data/ds004504/derivatives/' + ppt_id(ppt)\n",
      "/var/folders/m4/pp85n2_d0t35q9wcrh9x24fr0000gn/T/ipykernel_41740/3992331942.py:20: RuntimeWarning: The data contains 'boundary' events, indicating data discontinuities. Be cautious of filtering and epoching around these events.\n",
      "  raw_data = mne.io.read_raw_eeglab('data/ds004504/derivatives/' + ppt_id(ppt)\n",
      "/var/folders/m4/pp85n2_d0t35q9wcrh9x24fr0000gn/T/ipykernel_41740/3992331942.py:20: RuntimeWarning: The data contains 'boundary' events, indicating data discontinuities. Be cautious of filtering and epoching around these events.\n",
      "  raw_data = mne.io.read_raw_eeglab('data/ds004504/derivatives/' + ppt_id(ppt)\n",
      "/var/folders/m4/pp85n2_d0t35q9wcrh9x24fr0000gn/T/ipykernel_41740/3992331942.py:20: RuntimeWarning: The data contains 'boundary' events, indicating data discontinuities. Be cautious of filtering and epoching around these events.\n",
      "  raw_data = mne.io.read_raw_eeglab('data/ds004504/derivatives/' + ppt_id(ppt)\n",
      "/var/folders/m4/pp85n2_d0t35q9wcrh9x24fr0000gn/T/ipykernel_41740/3992331942.py:20: RuntimeWarning: The data contains 'boundary' events, indicating data discontinuities. Be cautious of filtering and epoching around these events.\n",
      "  raw_data = mne.io.read_raw_eeglab('data/ds004504/derivatives/' + ppt_id(ppt)\n",
      "/var/folders/m4/pp85n2_d0t35q9wcrh9x24fr0000gn/T/ipykernel_41740/3992331942.py:20: RuntimeWarning: The data contains 'boundary' events, indicating data discontinuities. Be cautious of filtering and epoching around these events.\n",
      "  raw_data = mne.io.read_raw_eeglab('data/ds004504/derivatives/' + ppt_id(ppt)\n",
      "/var/folders/m4/pp85n2_d0t35q9wcrh9x24fr0000gn/T/ipykernel_41740/3992331942.py:20: RuntimeWarning: The data contains 'boundary' events, indicating data discontinuities. Be cautious of filtering and epoching around these events.\n",
      "  raw_data = mne.io.read_raw_eeglab('data/ds004504/derivatives/' + ppt_id(ppt)\n",
      "/var/folders/m4/pp85n2_d0t35q9wcrh9x24fr0000gn/T/ipykernel_41740/3992331942.py:20: RuntimeWarning: The data contains 'boundary' events, indicating data discontinuities. Be cautious of filtering and epoching around these events.\n",
      "  raw_data = mne.io.read_raw_eeglab('data/ds004504/derivatives/' + ppt_id(ppt)\n",
      "/var/folders/m4/pp85n2_d0t35q9wcrh9x24fr0000gn/T/ipykernel_41740/3992331942.py:20: RuntimeWarning: The data contains 'boundary' events, indicating data discontinuities. Be cautious of filtering and epoching around these events.\n",
      "  raw_data = mne.io.read_raw_eeglab('data/ds004504/derivatives/' + ppt_id(ppt)\n",
      "/var/folders/m4/pp85n2_d0t35q9wcrh9x24fr0000gn/T/ipykernel_41740/3992331942.py:20: RuntimeWarning: The data contains 'boundary' events, indicating data discontinuities. Be cautious of filtering and epoching around these events.\n",
      "  raw_data = mne.io.read_raw_eeglab('data/ds004504/derivatives/' + ppt_id(ppt)\n",
      "/var/folders/m4/pp85n2_d0t35q9wcrh9x24fr0000gn/T/ipykernel_41740/3992331942.py:20: RuntimeWarning: The data contains 'boundary' events, indicating data discontinuities. Be cautious of filtering and epoching around these events.\n",
      "  raw_data = mne.io.read_raw_eeglab('data/ds004504/derivatives/' + ppt_id(ppt)\n",
      "/var/folders/m4/pp85n2_d0t35q9wcrh9x24fr0000gn/T/ipykernel_41740/3992331942.py:20: RuntimeWarning: The data contains 'boundary' events, indicating data discontinuities. Be cautious of filtering and epoching around these events.\n",
      "  raw_data = mne.io.read_raw_eeglab('data/ds004504/derivatives/' + ppt_id(ppt)\n",
      "/var/folders/m4/pp85n2_d0t35q9wcrh9x24fr0000gn/T/ipykernel_41740/3992331942.py:20: RuntimeWarning: The data contains 'boundary' events, indicating data discontinuities. Be cautious of filtering and epoching around these events.\n",
      "  raw_data = mne.io.read_raw_eeglab('data/ds004504/derivatives/' + ppt_id(ppt)\n",
      "/var/folders/m4/pp85n2_d0t35q9wcrh9x24fr0000gn/T/ipykernel_41740/3992331942.py:20: RuntimeWarning: The data contains 'boundary' events, indicating data discontinuities. Be cautious of filtering and epoching around these events.\n",
      "  raw_data = mne.io.read_raw_eeglab('data/ds004504/derivatives/' + ppt_id(ppt)\n",
      "/var/folders/m4/pp85n2_d0t35q9wcrh9x24fr0000gn/T/ipykernel_41740/3992331942.py:20: RuntimeWarning: The data contains 'boundary' events, indicating data discontinuities. Be cautious of filtering and epoching around these events.\n",
      "  raw_data = mne.io.read_raw_eeglab('data/ds004504/derivatives/' + ppt_id(ppt)\n",
      "/var/folders/m4/pp85n2_d0t35q9wcrh9x24fr0000gn/T/ipykernel_41740/3992331942.py:20: RuntimeWarning: The data contains 'boundary' events, indicating data discontinuities. Be cautious of filtering and epoching around these events.\n",
      "  raw_data = mne.io.read_raw_eeglab('data/ds004504/derivatives/' + ppt_id(ppt)\n",
      "/var/folders/m4/pp85n2_d0t35q9wcrh9x24fr0000gn/T/ipykernel_41740/3992331942.py:20: RuntimeWarning: The data contains 'boundary' events, indicating data discontinuities. Be cautious of filtering and epoching around these events.\n",
      "  raw_data = mne.io.read_raw_eeglab('data/ds004504/derivatives/' + ppt_id(ppt)\n",
      "/var/folders/m4/pp85n2_d0t35q9wcrh9x24fr0000gn/T/ipykernel_41740/3992331942.py:20: RuntimeWarning: The data contains 'boundary' events, indicating data discontinuities. Be cautious of filtering and epoching around these events.\n",
      "  raw_data = mne.io.read_raw_eeglab('data/ds004504/derivatives/' + ppt_id(ppt)\n",
      "/var/folders/m4/pp85n2_d0t35q9wcrh9x24fr0000gn/T/ipykernel_41740/3992331942.py:20: RuntimeWarning: The data contains 'boundary' events, indicating data discontinuities. Be cautious of filtering and epoching around these events.\n",
      "  raw_data = mne.io.read_raw_eeglab('data/ds004504/derivatives/' + ppt_id(ppt)\n",
      "/var/folders/m4/pp85n2_d0t35q9wcrh9x24fr0000gn/T/ipykernel_41740/3992331942.py:20: RuntimeWarning: The data contains 'boundary' events, indicating data discontinuities. Be cautious of filtering and epoching around these events.\n",
      "  raw_data = mne.io.read_raw_eeglab('data/ds004504/derivatives/' + ppt_id(ppt)\n"
     ]
    },
    {
     "name": "stderr",
     "output_type": "stream",
     "text": [
      "/var/folders/m4/pp85n2_d0t35q9wcrh9x24fr0000gn/T/ipykernel_41740/3992331942.py:20: RuntimeWarning: The data contains 'boundary' events, indicating data discontinuities. Be cautious of filtering and epoching around these events.\n",
      "  raw_data = mne.io.read_raw_eeglab('data/ds004504/derivatives/' + ppt_id(ppt)\n",
      "/var/folders/m4/pp85n2_d0t35q9wcrh9x24fr0000gn/T/ipykernel_41740/3992331942.py:20: RuntimeWarning: The data contains 'boundary' events, indicating data discontinuities. Be cautious of filtering and epoching around these events.\n",
      "  raw_data = mne.io.read_raw_eeglab('data/ds004504/derivatives/' + ppt_id(ppt)\n",
      "/var/folders/m4/pp85n2_d0t35q9wcrh9x24fr0000gn/T/ipykernel_41740/3992331942.py:20: RuntimeWarning: The data contains 'boundary' events, indicating data discontinuities. Be cautious of filtering and epoching around these events.\n",
      "  raw_data = mne.io.read_raw_eeglab('data/ds004504/derivatives/' + ppt_id(ppt)\n",
      "/var/folders/m4/pp85n2_d0t35q9wcrh9x24fr0000gn/T/ipykernel_41740/3992331942.py:20: RuntimeWarning: The data contains 'boundary' events, indicating data discontinuities. Be cautious of filtering and epoching around these events.\n",
      "  raw_data = mne.io.read_raw_eeglab('data/ds004504/derivatives/' + ppt_id(ppt)\n",
      "/var/folders/m4/pp85n2_d0t35q9wcrh9x24fr0000gn/T/ipykernel_41740/3992331942.py:20: RuntimeWarning: The data contains 'boundary' events, indicating data discontinuities. Be cautious of filtering and epoching around these events.\n",
      "  raw_data = mne.io.read_raw_eeglab('data/ds004504/derivatives/' + ppt_id(ppt)\n",
      "/var/folders/m4/pp85n2_d0t35q9wcrh9x24fr0000gn/T/ipykernel_41740/3992331942.py:20: RuntimeWarning: The data contains 'boundary' events, indicating data discontinuities. Be cautious of filtering and epoching around these events.\n",
      "  raw_data = mne.io.read_raw_eeglab('data/ds004504/derivatives/' + ppt_id(ppt)\n",
      "/var/folders/m4/pp85n2_d0t35q9wcrh9x24fr0000gn/T/ipykernel_41740/3992331942.py:20: RuntimeWarning: The data contains 'boundary' events, indicating data discontinuities. Be cautious of filtering and epoching around these events.\n",
      "  raw_data = mne.io.read_raw_eeglab('data/ds004504/derivatives/' + ppt_id(ppt)\n",
      "/var/folders/m4/pp85n2_d0t35q9wcrh9x24fr0000gn/T/ipykernel_41740/3992331942.py:20: RuntimeWarning: The data contains 'boundary' events, indicating data discontinuities. Be cautious of filtering and epoching around these events.\n",
      "  raw_data = mne.io.read_raw_eeglab('data/ds004504/derivatives/' + ppt_id(ppt)\n",
      "/var/folders/m4/pp85n2_d0t35q9wcrh9x24fr0000gn/T/ipykernel_41740/3992331942.py:20: RuntimeWarning: The data contains 'boundary' events, indicating data discontinuities. Be cautious of filtering and epoching around these events.\n",
      "  raw_data = mne.io.read_raw_eeglab('data/ds004504/derivatives/' + ppt_id(ppt)\n",
      "/var/folders/m4/pp85n2_d0t35q9wcrh9x24fr0000gn/T/ipykernel_41740/3992331942.py:20: RuntimeWarning: The data contains 'boundary' events, indicating data discontinuities. Be cautious of filtering and epoching around these events.\n",
      "  raw_data = mne.io.read_raw_eeglab('data/ds004504/derivatives/' + ppt_id(ppt)\n",
      "/var/folders/m4/pp85n2_d0t35q9wcrh9x24fr0000gn/T/ipykernel_41740/3992331942.py:20: RuntimeWarning: The data contains 'boundary' events, indicating data discontinuities. Be cautious of filtering and epoching around these events.\n",
      "  raw_data = mne.io.read_raw_eeglab('data/ds004504/derivatives/' + ppt_id(ppt)\n",
      "/var/folders/m4/pp85n2_d0t35q9wcrh9x24fr0000gn/T/ipykernel_41740/3992331942.py:20: RuntimeWarning: The data contains 'boundary' events, indicating data discontinuities. Be cautious of filtering and epoching around these events.\n",
      "  raw_data = mne.io.read_raw_eeglab('data/ds004504/derivatives/' + ppt_id(ppt)\n",
      "/var/folders/m4/pp85n2_d0t35q9wcrh9x24fr0000gn/T/ipykernel_41740/3992331942.py:20: RuntimeWarning: The data contains 'boundary' events, indicating data discontinuities. Be cautious of filtering and epoching around these events.\n",
      "  raw_data = mne.io.read_raw_eeglab('data/ds004504/derivatives/' + ppt_id(ppt)\n",
      "/var/folders/m4/pp85n2_d0t35q9wcrh9x24fr0000gn/T/ipykernel_41740/3992331942.py:20: RuntimeWarning: The data contains 'boundary' events, indicating data discontinuities. Be cautious of filtering and epoching around these events.\n",
      "  raw_data = mne.io.read_raw_eeglab('data/ds004504/derivatives/' + ppt_id(ppt)\n",
      "/var/folders/m4/pp85n2_d0t35q9wcrh9x24fr0000gn/T/ipykernel_41740/3992331942.py:20: RuntimeWarning: The data contains 'boundary' events, indicating data discontinuities. Be cautious of filtering and epoching around these events.\n",
      "  raw_data = mne.io.read_raw_eeglab('data/ds004504/derivatives/' + ppt_id(ppt)\n",
      "/var/folders/m4/pp85n2_d0t35q9wcrh9x24fr0000gn/T/ipykernel_41740/3992331942.py:20: RuntimeWarning: The data contains 'boundary' events, indicating data discontinuities. Be cautious of filtering and epoching around these events.\n",
      "  raw_data = mne.io.read_raw_eeglab('data/ds004504/derivatives/' + ppt_id(ppt)\n",
      "/var/folders/m4/pp85n2_d0t35q9wcrh9x24fr0000gn/T/ipykernel_41740/3992331942.py:20: RuntimeWarning: The data contains 'boundary' events, indicating data discontinuities. Be cautious of filtering and epoching around these events.\n",
      "  raw_data = mne.io.read_raw_eeglab('data/ds004504/derivatives/' + ppt_id(ppt)\n",
      "/var/folders/m4/pp85n2_d0t35q9wcrh9x24fr0000gn/T/ipykernel_41740/3992331942.py:20: RuntimeWarning: The data contains 'boundary' events, indicating data discontinuities. Be cautious of filtering and epoching around these events.\n",
      "  raw_data = mne.io.read_raw_eeglab('data/ds004504/derivatives/' + ppt_id(ppt)\n",
      "/var/folders/m4/pp85n2_d0t35q9wcrh9x24fr0000gn/T/ipykernel_41740/3992331942.py:20: RuntimeWarning: The data contains 'boundary' events, indicating data discontinuities. Be cautious of filtering and epoching around these events.\n",
      "  raw_data = mne.io.read_raw_eeglab('data/ds004504/derivatives/' + ppt_id(ppt)\n"
     ]
    }
   ],
   "source": [
    "# generate epoched raw eeg data:\n",
    "all_data = generate_and_save_data(True,n_times,overlap_ratio,save = True, filename = \"processed_data/eeg_data_long_epochs.npy\")"
   ]
  },
  {
   "cell_type": "code",
   "execution_count": 153,
   "id": "61198dc9",
   "metadata": {
    "scrolled": true
   },
   "outputs": [
    {
     "name": "stdout",
     "output_type": "stream",
     "text": [
      "Not setting metadata\n",
      "10 matching events found\n",
      "No baseline correction applied\n",
      "0 projection items activated\n",
      "Connectivity computation...\n",
      "   Processing epoch 1 / 10 ...\n",
      "   Processing epoch 2 / 10 ...\n"
     ]
    },
    {
     "name": "stderr",
     "output_type": "stream",
     "text": [
      "/var/folders/m4/pp85n2_d0t35q9wcrh9x24fr0000gn/T/ipykernel_41740/1540018642.py:57: RuntimeWarning: There were no Annotations stored in <EpochsArray |  10 events (all good), 0 – 234.371 s, baseline off, ~18.3 MB, data loaded,\n",
      " '1': 10>, so metadata was not modified.\n",
      "  con = spectral_connectivity_time(data_epoch, freqs = freqs, sfreq = sfreq,\n"
     ]
    },
    {
     "name": "stdout",
     "output_type": "stream",
     "text": [
      "   Processing epoch 3 / 10 ...\n",
      "   Processing epoch 4 / 10 ...\n",
      "   Processing epoch 5 / 10 ...\n",
      "   Processing epoch 6 / 10 ...\n",
      "   Processing epoch 7 / 10 ...\n",
      "   Processing epoch 8 / 10 ...\n",
      "   Processing epoch 9 / 10 ...\n",
      "   Processing epoch 10 / 10 ...\n",
      "[Connectivity computation done]\n",
      "Not setting metadata\n",
      "15 matching events found\n",
      "No baseline correction applied\n",
      "0 projection items activated\n",
      "Connectivity computation...\n",
      "   Processing epoch 1 / 15 ...\n",
      "   Processing epoch 2 / 15 ...\n"
     ]
    },
    {
     "name": "stderr",
     "output_type": "stream",
     "text": [
      "/var/folders/m4/pp85n2_d0t35q9wcrh9x24fr0000gn/T/ipykernel_41740/1540018642.py:57: RuntimeWarning: There were no Annotations stored in <EpochsArray |  15 events (all good), 0 – 234.371 s, baseline off, ~27.5 MB, data loaded,\n",
      " '1': 15>, so metadata was not modified.\n",
      "  con = spectral_connectivity_time(data_epoch, freqs = freqs, sfreq = sfreq,\n"
     ]
    },
    {
     "name": "stdout",
     "output_type": "stream",
     "text": [
      "   Processing epoch 3 / 15 ...\n",
      "   Processing epoch 4 / 15 ...\n",
      "   Processing epoch 5 / 15 ...\n",
      "   Processing epoch 6 / 15 ...\n",
      "   Processing epoch 7 / 15 ...\n",
      "   Processing epoch 8 / 15 ...\n",
      "   Processing epoch 9 / 15 ...\n",
      "   Processing epoch 10 / 15 ...\n",
      "   Processing epoch 11 / 15 ...\n",
      "   Processing epoch 12 / 15 ...\n",
      "   Processing epoch 13 / 15 ...\n",
      "   Processing epoch 14 / 15 ...\n",
      "   Processing epoch 15 / 15 ...\n",
      "[Connectivity computation done]\n",
      "Not setting metadata\n",
      "4 matching events found\n",
      "No baseline correction applied\n",
      "0 projection items activated\n",
      "Connectivity computation...\n",
      "   Processing epoch 1 / 4 ...\n",
      "   Processing epoch 2 / 4 ...\n"
     ]
    },
    {
     "name": "stderr",
     "output_type": "stream",
     "text": [
      "/var/folders/m4/pp85n2_d0t35q9wcrh9x24fr0000gn/T/ipykernel_41740/1540018642.py:57: RuntimeWarning: There were no Annotations stored in <EpochsArray |  4 events (all good), 0 – 234.371 s, baseline off, ~7.3 MB, data loaded,\n",
      " '1': 4>, so metadata was not modified.\n",
      "  con = spectral_connectivity_time(data_epoch, freqs = freqs, sfreq = sfreq,\n"
     ]
    },
    {
     "name": "stdout",
     "output_type": "stream",
     "text": [
      "   Processing epoch 3 / 4 ...\n",
      "   Processing epoch 4 / 4 ...\n",
      "[Connectivity computation done]\n",
      "Not setting metadata\n",
      "13 matching events found\n",
      "No baseline correction applied\n",
      "0 projection items activated\n",
      "Connectivity computation...\n",
      "   Processing epoch 1 / 13 ...\n",
      "   Processing epoch 2 / 13 ...\n"
     ]
    },
    {
     "name": "stderr",
     "output_type": "stream",
     "text": [
      "/var/folders/m4/pp85n2_d0t35q9wcrh9x24fr0000gn/T/ipykernel_41740/1540018642.py:57: RuntimeWarning: There were no Annotations stored in <EpochsArray |  13 events (all good), 0 – 234.371 s, baseline off, ~23.8 MB, data loaded,\n",
      " '1': 13>, so metadata was not modified.\n",
      "  con = spectral_connectivity_time(data_epoch, freqs = freqs, sfreq = sfreq,\n"
     ]
    },
    {
     "name": "stdout",
     "output_type": "stream",
     "text": [
      "   Processing epoch 3 / 13 ...\n",
      "   Processing epoch 4 / 13 ...\n",
      "   Processing epoch 5 / 13 ...\n",
      "   Processing epoch 6 / 13 ...\n",
      "   Processing epoch 7 / 13 ...\n",
      "   Processing epoch 8 / 13 ...\n",
      "   Processing epoch 9 / 13 ...\n",
      "   Processing epoch 10 / 13 ...\n",
      "   Processing epoch 11 / 13 ...\n",
      "   Processing epoch 12 / 13 ...\n",
      "   Processing epoch 13 / 13 ...\n",
      "[Connectivity computation done]\n",
      "Not setting metadata\n",
      "15 matching events found\n",
      "No baseline correction applied\n",
      "0 projection items activated\n",
      "Connectivity computation...\n",
      "   Processing epoch 1 / 15 ...\n",
      "   Processing epoch 2 / 15 ...\n"
     ]
    },
    {
     "name": "stderr",
     "output_type": "stream",
     "text": [
      "/var/folders/m4/pp85n2_d0t35q9wcrh9x24fr0000gn/T/ipykernel_41740/1540018642.py:57: RuntimeWarning: There were no Annotations stored in <EpochsArray |  15 events (all good), 0 – 234.371 s, baseline off, ~27.5 MB, data loaded,\n",
      " '1': 15>, so metadata was not modified.\n",
      "  con = spectral_connectivity_time(data_epoch, freqs = freqs, sfreq = sfreq,\n"
     ]
    },
    {
     "name": "stdout",
     "output_type": "stream",
     "text": [
      "   Processing epoch 3 / 15 ...\n",
      "   Processing epoch 4 / 15 ...\n",
      "   Processing epoch 5 / 15 ...\n",
      "   Processing epoch 6 / 15 ...\n",
      "   Processing epoch 7 / 15 ...\n",
      "   Processing epoch 8 / 15 ...\n",
      "   Processing epoch 9 / 15 ...\n",
      "   Processing epoch 10 / 15 ...\n",
      "   Processing epoch 11 / 15 ...\n",
      "   Processing epoch 12 / 15 ...\n",
      "   Processing epoch 13 / 15 ...\n",
      "   Processing epoch 14 / 15 ...\n",
      "   Processing epoch 15 / 15 ...\n",
      "[Connectivity computation done]\n",
      "Not setting metadata\n",
      "11 matching events found\n",
      "No baseline correction applied\n",
      "0 projection items activated\n",
      "Connectivity computation...\n",
      "   Processing epoch 1 / 11 ...\n",
      "   Processing epoch 2 / 11 ...\n"
     ]
    },
    {
     "name": "stderr",
     "output_type": "stream",
     "text": [
      "/var/folders/m4/pp85n2_d0t35q9wcrh9x24fr0000gn/T/ipykernel_41740/1540018642.py:57: RuntimeWarning: There were no Annotations stored in <EpochsArray |  11 events (all good), 0 – 234.371 s, baseline off, ~20.2 MB, data loaded,\n",
      " '1': 11>, so metadata was not modified.\n",
      "  con = spectral_connectivity_time(data_epoch, freqs = freqs, sfreq = sfreq,\n"
     ]
    },
    {
     "name": "stdout",
     "output_type": "stream",
     "text": [
      "   Processing epoch 3 / 11 ...\n",
      "   Processing epoch 4 / 11 ...\n",
      "   Processing epoch 5 / 11 ...\n",
      "   Processing epoch 6 / 11 ...\n",
      "   Processing epoch 7 / 11 ...\n",
      "   Processing epoch 8 / 11 ...\n",
      "   Processing epoch 9 / 11 ...\n",
      "   Processing epoch 10 / 11 ...\n",
      "   Processing epoch 11 / 11 ...\n",
      "[Connectivity computation done]\n",
      "Not setting metadata\n",
      "14 matching events found\n",
      "No baseline correction applied\n",
      "0 projection items activated\n",
      "Connectivity computation...\n",
      "   Processing epoch 1 / 14 ...\n",
      "   Processing epoch 2 / 14 ...\n"
     ]
    },
    {
     "name": "stderr",
     "output_type": "stream",
     "text": [
      "/var/folders/m4/pp85n2_d0t35q9wcrh9x24fr0000gn/T/ipykernel_41740/1540018642.py:57: RuntimeWarning: There were no Annotations stored in <EpochsArray |  14 events (all good), 0 – 234.371 s, baseline off, ~25.6 MB, data loaded,\n",
      " '1': 14>, so metadata was not modified.\n",
      "  con = spectral_connectivity_time(data_epoch, freqs = freqs, sfreq = sfreq,\n"
     ]
    },
    {
     "name": "stdout",
     "output_type": "stream",
     "text": [
      "   Processing epoch 3 / 14 ...\n",
      "   Processing epoch 4 / 14 ...\n",
      "   Processing epoch 5 / 14 ...\n",
      "   Processing epoch 6 / 14 ...\n",
      "   Processing epoch 7 / 14 ...\n",
      "   Processing epoch 8 / 14 ...\n",
      "   Processing epoch 9 / 14 ...\n",
      "   Processing epoch 10 / 14 ...\n",
      "   Processing epoch 11 / 14 ...\n",
      "   Processing epoch 12 / 14 ...\n",
      "   Processing epoch 13 / 14 ...\n",
      "   Processing epoch 14 / 14 ...\n",
      "[Connectivity computation done]\n",
      "Not setting metadata\n",
      "15 matching events found\n",
      "No baseline correction applied\n",
      "0 projection items activated\n",
      "Connectivity computation...\n",
      "   Processing epoch 1 / 15 ...\n",
      "   Processing epoch 2 / 15 ...\n"
     ]
    },
    {
     "name": "stderr",
     "output_type": "stream",
     "text": [
      "/var/folders/m4/pp85n2_d0t35q9wcrh9x24fr0000gn/T/ipykernel_41740/1540018642.py:57: RuntimeWarning: There were no Annotations stored in <EpochsArray |  15 events (all good), 0 – 234.371 s, baseline off, ~27.5 MB, data loaded,\n",
      " '1': 15>, so metadata was not modified.\n",
      "  con = spectral_connectivity_time(data_epoch, freqs = freqs, sfreq = sfreq,\n"
     ]
    },
    {
     "name": "stdout",
     "output_type": "stream",
     "text": [
      "   Processing epoch 3 / 15 ...\n",
      "   Processing epoch 4 / 15 ...\n",
      "   Processing epoch 5 / 15 ...\n",
      "   Processing epoch 6 / 15 ...\n",
      "   Processing epoch 7 / 15 ...\n",
      "   Processing epoch 8 / 15 ...\n",
      "   Processing epoch 9 / 15 ...\n",
      "   Processing epoch 10 / 15 ...\n",
      "   Processing epoch 11 / 15 ...\n",
      "   Processing epoch 12 / 15 ...\n",
      "   Processing epoch 13 / 15 ...\n",
      "   Processing epoch 14 / 15 ...\n",
      "   Processing epoch 15 / 15 ...\n",
      "[Connectivity computation done]\n",
      "Not setting metadata\n",
      "11 matching events found\n",
      "No baseline correction applied\n",
      "0 projection items activated\n",
      "Connectivity computation...\n",
      "   Processing epoch 1 / 11 ...\n",
      "   Processing epoch 2 / 11 ...\n"
     ]
    },
    {
     "name": "stderr",
     "output_type": "stream",
     "text": [
      "/var/folders/m4/pp85n2_d0t35q9wcrh9x24fr0000gn/T/ipykernel_41740/1540018642.py:57: RuntimeWarning: There were no Annotations stored in <EpochsArray |  11 events (all good), 0 – 234.371 s, baseline off, ~20.2 MB, data loaded,\n",
      " '1': 11>, so metadata was not modified.\n",
      "  con = spectral_connectivity_time(data_epoch, freqs = freqs, sfreq = sfreq,\n"
     ]
    },
    {
     "name": "stdout",
     "output_type": "stream",
     "text": [
      "   Processing epoch 3 / 11 ...\n",
      "   Processing epoch 4 / 11 ...\n",
      "   Processing epoch 5 / 11 ...\n",
      "   Processing epoch 6 / 11 ...\n",
      "   Processing epoch 7 / 11 ...\n",
      "   Processing epoch 8 / 11 ...\n",
      "   Processing epoch 9 / 11 ...\n",
      "   Processing epoch 10 / 11 ...\n",
      "   Processing epoch 11 / 11 ...\n",
      "[Connectivity computation done]\n",
      "Not setting metadata\n",
      "25 matching events found\n",
      "No baseline correction applied\n",
      "0 projection items activated\n",
      "Connectivity computation...\n",
      "   Processing epoch 1 / 25 ...\n",
      "   Processing epoch 2 / 25 ...\n"
     ]
    },
    {
     "name": "stderr",
     "output_type": "stream",
     "text": [
      "/var/folders/m4/pp85n2_d0t35q9wcrh9x24fr0000gn/T/ipykernel_41740/1540018642.py:57: RuntimeWarning: There were no Annotations stored in <EpochsArray |  25 events (all good), 0 – 234.371 s, baseline off, ~45.8 MB, data loaded,\n",
      " '1': 25>, so metadata was not modified.\n",
      "  con = spectral_connectivity_time(data_epoch, freqs = freqs, sfreq = sfreq,\n"
     ]
    },
    {
     "name": "stdout",
     "output_type": "stream",
     "text": [
      "   Processing epoch 3 / 25 ...\n",
      "   Processing epoch 4 / 25 ...\n",
      "   Processing epoch 5 / 25 ...\n",
      "   Processing epoch 6 / 25 ...\n",
      "   Processing epoch 7 / 25 ...\n",
      "   Processing epoch 8 / 25 ...\n",
      "   Processing epoch 9 / 25 ...\n",
      "   Processing epoch 10 / 25 ...\n",
      "   Processing epoch 11 / 25 ...\n",
      "   Processing epoch 12 / 25 ...\n",
      "   Processing epoch 13 / 25 ...\n",
      "   Processing epoch 14 / 25 ...\n",
      "   Processing epoch 15 / 25 ...\n",
      "   Processing epoch 16 / 25 ...\n",
      "   Processing epoch 17 / 25 ...\n",
      "   Processing epoch 18 / 25 ...\n",
      "   Processing epoch 19 / 25 ...\n",
      "   Processing epoch 20 / 25 ...\n",
      "   Processing epoch 21 / 25 ...\n",
      "   Processing epoch 22 / 25 ...\n",
      "   Processing epoch 23 / 25 ...\n",
      "   Processing epoch 24 / 25 ...\n",
      "   Processing epoch 25 / 25 ...\n",
      "[Connectivity computation done]\n",
      "Not setting metadata\n",
      "14 matching events found\n",
      "No baseline correction applied\n",
      "0 projection items activated\n",
      "Connectivity computation...\n",
      "   Processing epoch 1 / 14 ...\n",
      "   Processing epoch 2 / 14 ...\n"
     ]
    },
    {
     "name": "stderr",
     "output_type": "stream",
     "text": [
      "/var/folders/m4/pp85n2_d0t35q9wcrh9x24fr0000gn/T/ipykernel_41740/1540018642.py:57: RuntimeWarning: There were no Annotations stored in <EpochsArray |  14 events (all good), 0 – 234.371 s, baseline off, ~25.6 MB, data loaded,\n",
      " '1': 14>, so metadata was not modified.\n",
      "  con = spectral_connectivity_time(data_epoch, freqs = freqs, sfreq = sfreq,\n"
     ]
    },
    {
     "name": "stdout",
     "output_type": "stream",
     "text": [
      "   Processing epoch 3 / 14 ...\n",
      "   Processing epoch 4 / 14 ...\n",
      "   Processing epoch 5 / 14 ...\n",
      "   Processing epoch 6 / 14 ...\n",
      "   Processing epoch 7 / 14 ...\n",
      "   Processing epoch 8 / 14 ...\n",
      "   Processing epoch 9 / 14 ...\n",
      "   Processing epoch 10 / 14 ...\n",
      "   Processing epoch 11 / 14 ...\n",
      "   Processing epoch 12 / 14 ...\n",
      "   Processing epoch 13 / 14 ...\n",
      "   Processing epoch 14 / 14 ...\n",
      "[Connectivity computation done]\n",
      "Not setting metadata\n",
      "16 matching events found\n",
      "No baseline correction applied\n",
      "0 projection items activated\n",
      "Connectivity computation...\n",
      "   Processing epoch 1 / 16 ...\n",
      "   Processing epoch 2 / 16 ...\n"
     ]
    },
    {
     "name": "stderr",
     "output_type": "stream",
     "text": [
      "/var/folders/m4/pp85n2_d0t35q9wcrh9x24fr0000gn/T/ipykernel_41740/1540018642.py:57: RuntimeWarning: There were no Annotations stored in <EpochsArray |  16 events (all good), 0 – 234.371 s, baseline off, ~29.3 MB, data loaded,\n",
      " '1': 16>, so metadata was not modified.\n",
      "  con = spectral_connectivity_time(data_epoch, freqs = freqs, sfreq = sfreq,\n"
     ]
    },
    {
     "name": "stdout",
     "output_type": "stream",
     "text": [
      "   Processing epoch 3 / 16 ...\n",
      "   Processing epoch 4 / 16 ...\n",
      "   Processing epoch 5 / 16 ...\n",
      "   Processing epoch 6 / 16 ...\n",
      "   Processing epoch 7 / 16 ...\n",
      "   Processing epoch 8 / 16 ...\n",
      "   Processing epoch 9 / 16 ...\n",
      "   Processing epoch 10 / 16 ...\n",
      "   Processing epoch 11 / 16 ...\n",
      "   Processing epoch 12 / 16 ...\n",
      "   Processing epoch 13 / 16 ...\n",
      "   Processing epoch 14 / 16 ...\n",
      "   Processing epoch 15 / 16 ...\n",
      "   Processing epoch 16 / 16 ...\n",
      "[Connectivity computation done]\n",
      "Not setting metadata\n",
      "15 matching events found\n",
      "No baseline correction applied\n",
      "0 projection items activated\n",
      "Connectivity computation...\n",
      "   Processing epoch 1 / 15 ...\n",
      "   Processing epoch 2 / 15 ...\n"
     ]
    },
    {
     "name": "stderr",
     "output_type": "stream",
     "text": [
      "/var/folders/m4/pp85n2_d0t35q9wcrh9x24fr0000gn/T/ipykernel_41740/1540018642.py:57: RuntimeWarning: There were no Annotations stored in <EpochsArray |  15 events (all good), 0 – 234.371 s, baseline off, ~27.5 MB, data loaded,\n",
      " '1': 15>, so metadata was not modified.\n",
      "  con = spectral_connectivity_time(data_epoch, freqs = freqs, sfreq = sfreq,\n"
     ]
    },
    {
     "name": "stdout",
     "output_type": "stream",
     "text": [
      "   Processing epoch 3 / 15 ...\n",
      "   Processing epoch 4 / 15 ...\n",
      "   Processing epoch 5 / 15 ...\n",
      "   Processing epoch 6 / 15 ...\n",
      "   Processing epoch 7 / 15 ...\n",
      "   Processing epoch 8 / 15 ...\n",
      "   Processing epoch 9 / 15 ...\n",
      "   Processing epoch 10 / 15 ...\n",
      "   Processing epoch 11 / 15 ...\n",
      "   Processing epoch 12 / 15 ...\n",
      "   Processing epoch 13 / 15 ...\n",
      "   Processing epoch 14 / 15 ...\n",
      "   Processing epoch 15 / 15 ...\n",
      "[Connectivity computation done]\n",
      "Not setting metadata\n",
      "17 matching events found\n",
      "No baseline correction applied\n",
      "0 projection items activated\n",
      "Connectivity computation...\n",
      "   Processing epoch 1 / 17 ...\n",
      "   Processing epoch 2 / 17 ...\n"
     ]
    },
    {
     "name": "stderr",
     "output_type": "stream",
     "text": [
      "/var/folders/m4/pp85n2_d0t35q9wcrh9x24fr0000gn/T/ipykernel_41740/1540018642.py:57: RuntimeWarning: There were no Annotations stored in <EpochsArray |  17 events (all good), 0 – 234.371 s, baseline off, ~31.1 MB, data loaded,\n",
      " '1': 17>, so metadata was not modified.\n",
      "  con = spectral_connectivity_time(data_epoch, freqs = freqs, sfreq = sfreq,\n"
     ]
    },
    {
     "name": "stdout",
     "output_type": "stream",
     "text": [
      "   Processing epoch 3 / 17 ...\n",
      "   Processing epoch 4 / 17 ...\n",
      "   Processing epoch 5 / 17 ...\n",
      "   Processing epoch 6 / 17 ...\n",
      "   Processing epoch 7 / 17 ...\n",
      "   Processing epoch 8 / 17 ...\n",
      "   Processing epoch 9 / 17 ...\n",
      "   Processing epoch 10 / 17 ...\n",
      "   Processing epoch 11 / 17 ...\n",
      "   Processing epoch 12 / 17 ...\n",
      "   Processing epoch 13 / 17 ...\n",
      "   Processing epoch 14 / 17 ...\n",
      "   Processing epoch 15 / 17 ...\n",
      "   Processing epoch 16 / 17 ...\n",
      "   Processing epoch 17 / 17 ...\n",
      "[Connectivity computation done]\n",
      "Not setting metadata\n",
      "17 matching events found\n",
      "No baseline correction applied\n",
      "0 projection items activated\n",
      "Connectivity computation...\n",
      "   Processing epoch 1 / 17 ...\n",
      "   Processing epoch 2 / 17 ...\n"
     ]
    },
    {
     "name": "stderr",
     "output_type": "stream",
     "text": [
      "/var/folders/m4/pp85n2_d0t35q9wcrh9x24fr0000gn/T/ipykernel_41740/1540018642.py:57: RuntimeWarning: There were no Annotations stored in <EpochsArray |  17 events (all good), 0 – 234.371 s, baseline off, ~31.1 MB, data loaded,\n",
      " '1': 17>, so metadata was not modified.\n",
      "  con = spectral_connectivity_time(data_epoch, freqs = freqs, sfreq = sfreq,\n"
     ]
    },
    {
     "name": "stdout",
     "output_type": "stream",
     "text": [
      "   Processing epoch 3 / 17 ...\n",
      "   Processing epoch 4 / 17 ...\n",
      "   Processing epoch 5 / 17 ...\n",
      "   Processing epoch 6 / 17 ...\n",
      "   Processing epoch 7 / 17 ...\n",
      "   Processing epoch 8 / 17 ...\n",
      "   Processing epoch 9 / 17 ...\n",
      "   Processing epoch 10 / 17 ...\n",
      "   Processing epoch 11 / 17 ...\n",
      "   Processing epoch 12 / 17 ...\n",
      "   Processing epoch 13 / 17 ...\n",
      "   Processing epoch 14 / 17 ...\n",
      "   Processing epoch 15 / 17 ...\n",
      "   Processing epoch 16 / 17 ...\n",
      "   Processing epoch 17 / 17 ...\n",
      "[Connectivity computation done]\n",
      "Not setting metadata\n",
      "18 matching events found\n",
      "No baseline correction applied\n",
      "0 projection items activated\n",
      "Connectivity computation...\n",
      "   Processing epoch 1 / 18 ...\n",
      "   Processing epoch 2 / 18 ...\n"
     ]
    },
    {
     "name": "stderr",
     "output_type": "stream",
     "text": [
      "/var/folders/m4/pp85n2_d0t35q9wcrh9x24fr0000gn/T/ipykernel_41740/1540018642.py:57: RuntimeWarning: There were no Annotations stored in <EpochsArray |  18 events (all good), 0 – 234.371 s, baseline off, ~33.0 MB, data loaded,\n",
      " '1': 18>, so metadata was not modified.\n",
      "  con = spectral_connectivity_time(data_epoch, freqs = freqs, sfreq = sfreq,\n"
     ]
    },
    {
     "name": "stdout",
     "output_type": "stream",
     "text": [
      "   Processing epoch 3 / 18 ...\n",
      "   Processing epoch 4 / 18 ...\n",
      "   Processing epoch 5 / 18 ...\n",
      "   Processing epoch 6 / 18 ...\n",
      "   Processing epoch 7 / 18 ...\n",
      "   Processing epoch 8 / 18 ...\n",
      "   Processing epoch 9 / 18 ...\n",
      "   Processing epoch 10 / 18 ...\n",
      "   Processing epoch 11 / 18 ...\n",
      "   Processing epoch 12 / 18 ...\n",
      "   Processing epoch 13 / 18 ...\n",
      "   Processing epoch 14 / 18 ...\n",
      "   Processing epoch 15 / 18 ...\n",
      "   Processing epoch 16 / 18 ...\n",
      "   Processing epoch 17 / 18 ...\n",
      "   Processing epoch 18 / 18 ...\n",
      "[Connectivity computation done]\n",
      "Not setting metadata\n",
      "16 matching events found\n",
      "No baseline correction applied\n",
      "0 projection items activated\n",
      "Connectivity computation...\n",
      "   Processing epoch 1 / 16 ...\n",
      "   Processing epoch 2 / 16 ...\n"
     ]
    },
    {
     "name": "stderr",
     "output_type": "stream",
     "text": [
      "/var/folders/m4/pp85n2_d0t35q9wcrh9x24fr0000gn/T/ipykernel_41740/1540018642.py:57: RuntimeWarning: There were no Annotations stored in <EpochsArray |  16 events (all good), 0 – 234.371 s, baseline off, ~29.3 MB, data loaded,\n",
      " '1': 16>, so metadata was not modified.\n",
      "  con = spectral_connectivity_time(data_epoch, freqs = freqs, sfreq = sfreq,\n"
     ]
    },
    {
     "name": "stdout",
     "output_type": "stream",
     "text": [
      "   Processing epoch 3 / 16 ...\n",
      "   Processing epoch 4 / 16 ...\n",
      "   Processing epoch 5 / 16 ...\n",
      "   Processing epoch 6 / 16 ...\n",
      "   Processing epoch 7 / 16 ...\n",
      "   Processing epoch 8 / 16 ...\n",
      "   Processing epoch 9 / 16 ...\n",
      "   Processing epoch 10 / 16 ...\n",
      "   Processing epoch 11 / 16 ...\n",
      "   Processing epoch 12 / 16 ...\n",
      "   Processing epoch 13 / 16 ...\n",
      "   Processing epoch 14 / 16 ...\n",
      "   Processing epoch 15 / 16 ...\n",
      "   Processing epoch 16 / 16 ...\n",
      "[Connectivity computation done]\n",
      "Not setting metadata\n",
      "16 matching events found\n",
      "No baseline correction applied\n",
      "0 projection items activated\n",
      "Connectivity computation...\n",
      "   Processing epoch 1 / 16 ...\n",
      "   Processing epoch 2 / 16 ...\n"
     ]
    },
    {
     "name": "stderr",
     "output_type": "stream",
     "text": [
      "/var/folders/m4/pp85n2_d0t35q9wcrh9x24fr0000gn/T/ipykernel_41740/1540018642.py:57: RuntimeWarning: There were no Annotations stored in <EpochsArray |  16 events (all good), 0 – 234.371 s, baseline off, ~29.3 MB, data loaded,\n",
      " '1': 16>, so metadata was not modified.\n",
      "  con = spectral_connectivity_time(data_epoch, freqs = freqs, sfreq = sfreq,\n"
     ]
    },
    {
     "name": "stdout",
     "output_type": "stream",
     "text": [
      "   Processing epoch 3 / 16 ...\n",
      "   Processing epoch 4 / 16 ...\n",
      "   Processing epoch 5 / 16 ...\n",
      "   Processing epoch 6 / 16 ...\n",
      "   Processing epoch 7 / 16 ...\n",
      "   Processing epoch 8 / 16 ...\n",
      "   Processing epoch 9 / 16 ...\n",
      "   Processing epoch 10 / 16 ...\n",
      "   Processing epoch 11 / 16 ...\n",
      "   Processing epoch 12 / 16 ...\n",
      "   Processing epoch 13 / 16 ...\n",
      "   Processing epoch 14 / 16 ...\n",
      "   Processing epoch 15 / 16 ...\n",
      "   Processing epoch 16 / 16 ...\n",
      "[Connectivity computation done]\n",
      "Not setting metadata\n",
      "17 matching events found\n",
      "No baseline correction applied\n",
      "0 projection items activated\n",
      "Connectivity computation...\n",
      "   Processing epoch 1 / 17 ...\n",
      "   Processing epoch 2 / 17 ...\n"
     ]
    },
    {
     "name": "stderr",
     "output_type": "stream",
     "text": [
      "/var/folders/m4/pp85n2_d0t35q9wcrh9x24fr0000gn/T/ipykernel_41740/1540018642.py:57: RuntimeWarning: There were no Annotations stored in <EpochsArray |  17 events (all good), 0 – 234.371 s, baseline off, ~31.1 MB, data loaded,\n",
      " '1': 17>, so metadata was not modified.\n",
      "  con = spectral_connectivity_time(data_epoch, freqs = freqs, sfreq = sfreq,\n"
     ]
    },
    {
     "name": "stdout",
     "output_type": "stream",
     "text": [
      "   Processing epoch 3 / 17 ...\n",
      "   Processing epoch 4 / 17 ...\n",
      "   Processing epoch 5 / 17 ...\n",
      "   Processing epoch 6 / 17 ...\n",
      "   Processing epoch 7 / 17 ...\n",
      "   Processing epoch 8 / 17 ...\n",
      "   Processing epoch 9 / 17 ...\n",
      "   Processing epoch 10 / 17 ...\n",
      "   Processing epoch 11 / 17 ...\n",
      "   Processing epoch 12 / 17 ...\n",
      "   Processing epoch 13 / 17 ...\n",
      "   Processing epoch 14 / 17 ...\n",
      "   Processing epoch 15 / 17 ...\n",
      "   Processing epoch 16 / 17 ...\n",
      "   Processing epoch 17 / 17 ...\n",
      "[Connectivity computation done]\n",
      "Not setting metadata\n",
      "16 matching events found\n",
      "No baseline correction applied\n",
      "0 projection items activated\n",
      "Connectivity computation...\n",
      "   Processing epoch 1 / 16 ...\n",
      "   Processing epoch 2 / 16 ...\n"
     ]
    },
    {
     "name": "stderr",
     "output_type": "stream",
     "text": [
      "/var/folders/m4/pp85n2_d0t35q9wcrh9x24fr0000gn/T/ipykernel_41740/1540018642.py:57: RuntimeWarning: There were no Annotations stored in <EpochsArray |  16 events (all good), 0 – 234.371 s, baseline off, ~29.3 MB, data loaded,\n",
      " '1': 16>, so metadata was not modified.\n",
      "  con = spectral_connectivity_time(data_epoch, freqs = freqs, sfreq = sfreq,\n"
     ]
    },
    {
     "name": "stdout",
     "output_type": "stream",
     "text": [
      "   Processing epoch 3 / 16 ...\n",
      "   Processing epoch 4 / 16 ...\n",
      "   Processing epoch 5 / 16 ...\n",
      "   Processing epoch 6 / 16 ...\n",
      "   Processing epoch 7 / 16 ...\n",
      "   Processing epoch 8 / 16 ...\n",
      "   Processing epoch 9 / 16 ...\n",
      "   Processing epoch 10 / 16 ...\n",
      "   Processing epoch 11 / 16 ...\n",
      "   Processing epoch 12 / 16 ...\n",
      "   Processing epoch 13 / 16 ...\n",
      "   Processing epoch 14 / 16 ...\n",
      "   Processing epoch 15 / 16 ...\n",
      "   Processing epoch 16 / 16 ...\n",
      "[Connectivity computation done]\n",
      "Not setting metadata\n",
      "17 matching events found\n",
      "No baseline correction applied\n",
      "0 projection items activated\n",
      "Connectivity computation...\n",
      "   Processing epoch 1 / 17 ...\n",
      "   Processing epoch 2 / 17 ...\n"
     ]
    },
    {
     "name": "stderr",
     "output_type": "stream",
     "text": [
      "/var/folders/m4/pp85n2_d0t35q9wcrh9x24fr0000gn/T/ipykernel_41740/1540018642.py:57: RuntimeWarning: There were no Annotations stored in <EpochsArray |  17 events (all good), 0 – 234.371 s, baseline off, ~31.1 MB, data loaded,\n",
      " '1': 17>, so metadata was not modified.\n",
      "  con = spectral_connectivity_time(data_epoch, freqs = freqs, sfreq = sfreq,\n"
     ]
    },
    {
     "name": "stdout",
     "output_type": "stream",
     "text": [
      "   Processing epoch 3 / 17 ...\n",
      "   Processing epoch 4 / 17 ...\n",
      "   Processing epoch 5 / 17 ...\n",
      "   Processing epoch 6 / 17 ...\n",
      "   Processing epoch 7 / 17 ...\n",
      "   Processing epoch 8 / 17 ...\n",
      "   Processing epoch 9 / 17 ...\n",
      "   Processing epoch 10 / 17 ...\n",
      "   Processing epoch 11 / 17 ...\n",
      "   Processing epoch 12 / 17 ...\n",
      "   Processing epoch 13 / 17 ...\n",
      "   Processing epoch 14 / 17 ...\n",
      "   Processing epoch 15 / 17 ...\n",
      "   Processing epoch 16 / 17 ...\n",
      "   Processing epoch 17 / 17 ...\n",
      "[Connectivity computation done]\n",
      "Not setting metadata\n",
      "15 matching events found\n",
      "No baseline correction applied\n",
      "0 projection items activated\n",
      "Connectivity computation...\n",
      "   Processing epoch 1 / 15 ...\n",
      "   Processing epoch 2 / 15 ...\n"
     ]
    },
    {
     "name": "stderr",
     "output_type": "stream",
     "text": [
      "/var/folders/m4/pp85n2_d0t35q9wcrh9x24fr0000gn/T/ipykernel_41740/1540018642.py:57: RuntimeWarning: There were no Annotations stored in <EpochsArray |  15 events (all good), 0 – 234.371 s, baseline off, ~27.5 MB, data loaded,\n",
      " '1': 15>, so metadata was not modified.\n",
      "  con = spectral_connectivity_time(data_epoch, freqs = freqs, sfreq = sfreq,\n"
     ]
    },
    {
     "name": "stdout",
     "output_type": "stream",
     "text": [
      "   Processing epoch 3 / 15 ...\n",
      "   Processing epoch 4 / 15 ...\n",
      "   Processing epoch 5 / 15 ...\n",
      "   Processing epoch 6 / 15 ...\n",
      "   Processing epoch 7 / 15 ...\n",
      "   Processing epoch 8 / 15 ...\n",
      "   Processing epoch 9 / 15 ...\n",
      "   Processing epoch 10 / 15 ...\n",
      "   Processing epoch 11 / 15 ...\n",
      "   Processing epoch 12 / 15 ...\n",
      "   Processing epoch 13 / 15 ...\n",
      "   Processing epoch 14 / 15 ...\n",
      "   Processing epoch 15 / 15 ...\n",
      "[Connectivity computation done]\n",
      "Not setting metadata\n",
      "15 matching events found\n",
      "No baseline correction applied\n",
      "0 projection items activated\n",
      "Connectivity computation...\n",
      "   Processing epoch 1 / 15 ...\n",
      "   Processing epoch 2 / 15 ...\n"
     ]
    },
    {
     "name": "stderr",
     "output_type": "stream",
     "text": [
      "/var/folders/m4/pp85n2_d0t35q9wcrh9x24fr0000gn/T/ipykernel_41740/1540018642.py:57: RuntimeWarning: There were no Annotations stored in <EpochsArray |  15 events (all good), 0 – 234.371 s, baseline off, ~27.5 MB, data loaded,\n",
      " '1': 15>, so metadata was not modified.\n",
      "  con = spectral_connectivity_time(data_epoch, freqs = freqs, sfreq = sfreq,\n"
     ]
    },
    {
     "name": "stdout",
     "output_type": "stream",
     "text": [
      "   Processing epoch 3 / 15 ...\n",
      "   Processing epoch 4 / 15 ...\n",
      "   Processing epoch 5 / 15 ...\n",
      "   Processing epoch 6 / 15 ...\n",
      "   Processing epoch 7 / 15 ...\n",
      "   Processing epoch 8 / 15 ...\n",
      "   Processing epoch 9 / 15 ...\n",
      "   Processing epoch 10 / 15 ...\n",
      "   Processing epoch 11 / 15 ...\n",
      "   Processing epoch 12 / 15 ...\n",
      "   Processing epoch 13 / 15 ...\n",
      "   Processing epoch 14 / 15 ...\n",
      "   Processing epoch 15 / 15 ...\n",
      "[Connectivity computation done]\n",
      "Not setting metadata\n",
      "14 matching events found\n",
      "No baseline correction applied\n",
      "0 projection items activated\n",
      "Connectivity computation...\n",
      "   Processing epoch 1 / 14 ...\n",
      "   Processing epoch 2 / 14 ...\n"
     ]
    },
    {
     "name": "stderr",
     "output_type": "stream",
     "text": [
      "/var/folders/m4/pp85n2_d0t35q9wcrh9x24fr0000gn/T/ipykernel_41740/1540018642.py:57: RuntimeWarning: There were no Annotations stored in <EpochsArray |  14 events (all good), 0 – 234.371 s, baseline off, ~25.6 MB, data loaded,\n",
      " '1': 14>, so metadata was not modified.\n",
      "  con = spectral_connectivity_time(data_epoch, freqs = freqs, sfreq = sfreq,\n"
     ]
    },
    {
     "name": "stdout",
     "output_type": "stream",
     "text": [
      "   Processing epoch 3 / 14 ...\n",
      "   Processing epoch 4 / 14 ...\n",
      "   Processing epoch 5 / 14 ...\n",
      "   Processing epoch 6 / 14 ...\n",
      "   Processing epoch 7 / 14 ...\n",
      "   Processing epoch 8 / 14 ...\n",
      "   Processing epoch 9 / 14 ...\n",
      "   Processing epoch 10 / 14 ...\n",
      "   Processing epoch 11 / 14 ...\n",
      "   Processing epoch 12 / 14 ...\n",
      "   Processing epoch 13 / 14 ...\n",
      "   Processing epoch 14 / 14 ...\n",
      "[Connectivity computation done]\n",
      "Not setting metadata\n",
      "12 matching events found\n",
      "No baseline correction applied\n",
      "0 projection items activated\n",
      "Connectivity computation...\n",
      "   Processing epoch 1 / 12 ...\n",
      "   Processing epoch 2 / 12 ...\n"
     ]
    },
    {
     "name": "stderr",
     "output_type": "stream",
     "text": [
      "/var/folders/m4/pp85n2_d0t35q9wcrh9x24fr0000gn/T/ipykernel_41740/1540018642.py:57: RuntimeWarning: There were no Annotations stored in <EpochsArray |  12 events (all good), 0 – 234.371 s, baseline off, ~22.0 MB, data loaded,\n",
      " '1': 12>, so metadata was not modified.\n",
      "  con = spectral_connectivity_time(data_epoch, freqs = freqs, sfreq = sfreq,\n"
     ]
    },
    {
     "name": "stdout",
     "output_type": "stream",
     "text": [
      "   Processing epoch 3 / 12 ...\n",
      "   Processing epoch 4 / 12 ...\n",
      "   Processing epoch 5 / 12 ...\n",
      "   Processing epoch 6 / 12 ...\n",
      "   Processing epoch 7 / 12 ...\n",
      "   Processing epoch 8 / 12 ...\n",
      "   Processing epoch 9 / 12 ...\n",
      "   Processing epoch 10 / 12 ...\n",
      "   Processing epoch 11 / 12 ...\n",
      "   Processing epoch 12 / 12 ...\n",
      "[Connectivity computation done]\n",
      "Not setting metadata\n",
      "17 matching events found\n",
      "No baseline correction applied\n",
      "0 projection items activated\n",
      "Connectivity computation...\n",
      "   Processing epoch 1 / 17 ...\n",
      "   Processing epoch 2 / 17 ...\n"
     ]
    },
    {
     "name": "stderr",
     "output_type": "stream",
     "text": [
      "/var/folders/m4/pp85n2_d0t35q9wcrh9x24fr0000gn/T/ipykernel_41740/1540018642.py:57: RuntimeWarning: There were no Annotations stored in <EpochsArray |  17 events (all good), 0 – 234.371 s, baseline off, ~31.1 MB, data loaded,\n",
      " '1': 17>, so metadata was not modified.\n",
      "  con = spectral_connectivity_time(data_epoch, freqs = freqs, sfreq = sfreq,\n"
     ]
    },
    {
     "name": "stdout",
     "output_type": "stream",
     "text": [
      "   Processing epoch 3 / 17 ...\n",
      "   Processing epoch 4 / 17 ...\n",
      "   Processing epoch 5 / 17 ...\n",
      "   Processing epoch 6 / 17 ...\n",
      "   Processing epoch 7 / 17 ...\n",
      "   Processing epoch 8 / 17 ...\n",
      "   Processing epoch 9 / 17 ...\n",
      "   Processing epoch 10 / 17 ...\n",
      "   Processing epoch 11 / 17 ...\n",
      "   Processing epoch 12 / 17 ...\n",
      "   Processing epoch 13 / 17 ...\n",
      "   Processing epoch 14 / 17 ...\n",
      "   Processing epoch 15 / 17 ...\n",
      "   Processing epoch 16 / 17 ...\n",
      "   Processing epoch 17 / 17 ...\n",
      "[Connectivity computation done]\n",
      "Not setting metadata\n",
      "15 matching events found\n",
      "No baseline correction applied\n",
      "0 projection items activated\n",
      "Connectivity computation...\n",
      "   Processing epoch 1 / 15 ...\n",
      "   Processing epoch 2 / 15 ...\n"
     ]
    },
    {
     "name": "stderr",
     "output_type": "stream",
     "text": [
      "/var/folders/m4/pp85n2_d0t35q9wcrh9x24fr0000gn/T/ipykernel_41740/1540018642.py:57: RuntimeWarning: There were no Annotations stored in <EpochsArray |  15 events (all good), 0 – 234.371 s, baseline off, ~27.5 MB, data loaded,\n",
      " '1': 15>, so metadata was not modified.\n",
      "  con = spectral_connectivity_time(data_epoch, freqs = freqs, sfreq = sfreq,\n"
     ]
    },
    {
     "name": "stdout",
     "output_type": "stream",
     "text": [
      "   Processing epoch 3 / 15 ...\n",
      "   Processing epoch 4 / 15 ...\n",
      "   Processing epoch 5 / 15 ...\n",
      "   Processing epoch 6 / 15 ...\n",
      "   Processing epoch 7 / 15 ...\n",
      "   Processing epoch 8 / 15 ...\n",
      "   Processing epoch 9 / 15 ...\n",
      "   Processing epoch 10 / 15 ...\n",
      "   Processing epoch 11 / 15 ...\n",
      "   Processing epoch 12 / 15 ...\n",
      "   Processing epoch 13 / 15 ...\n",
      "   Processing epoch 14 / 15 ...\n",
      "   Processing epoch 15 / 15 ...\n",
      "[Connectivity computation done]\n",
      "Not setting metadata\n",
      "15 matching events found\n",
      "No baseline correction applied\n",
      "0 projection items activated\n",
      "Connectivity computation...\n",
      "   Processing epoch 1 / 15 ...\n",
      "   Processing epoch 2 / 15 ...\n"
     ]
    },
    {
     "name": "stderr",
     "output_type": "stream",
     "text": [
      "/var/folders/m4/pp85n2_d0t35q9wcrh9x24fr0000gn/T/ipykernel_41740/1540018642.py:57: RuntimeWarning: There were no Annotations stored in <EpochsArray |  15 events (all good), 0 – 234.371 s, baseline off, ~27.5 MB, data loaded,\n",
      " '1': 15>, so metadata was not modified.\n",
      "  con = spectral_connectivity_time(data_epoch, freqs = freqs, sfreq = sfreq,\n"
     ]
    },
    {
     "name": "stdout",
     "output_type": "stream",
     "text": [
      "   Processing epoch 3 / 15 ...\n",
      "   Processing epoch 4 / 15 ...\n",
      "   Processing epoch 5 / 15 ...\n",
      "   Processing epoch 6 / 15 ...\n",
      "   Processing epoch 7 / 15 ...\n",
      "   Processing epoch 8 / 15 ...\n",
      "   Processing epoch 9 / 15 ...\n",
      "   Processing epoch 10 / 15 ...\n",
      "   Processing epoch 11 / 15 ...\n",
      "   Processing epoch 12 / 15 ...\n",
      "   Processing epoch 13 / 15 ...\n",
      "   Processing epoch 14 / 15 ...\n",
      "   Processing epoch 15 / 15 ...\n",
      "[Connectivity computation done]\n",
      "Not setting metadata\n",
      "13 matching events found\n",
      "No baseline correction applied\n",
      "0 projection items activated\n",
      "Connectivity computation...\n",
      "   Processing epoch 1 / 13 ...\n",
      "   Processing epoch 2 / 13 ...\n"
     ]
    },
    {
     "name": "stderr",
     "output_type": "stream",
     "text": [
      "/var/folders/m4/pp85n2_d0t35q9wcrh9x24fr0000gn/T/ipykernel_41740/1540018642.py:57: RuntimeWarning: There were no Annotations stored in <EpochsArray |  13 events (all good), 0 – 234.371 s, baseline off, ~23.8 MB, data loaded,\n",
      " '1': 13>, so metadata was not modified.\n",
      "  con = spectral_connectivity_time(data_epoch, freqs = freqs, sfreq = sfreq,\n"
     ]
    },
    {
     "name": "stdout",
     "output_type": "stream",
     "text": [
      "   Processing epoch 3 / 13 ...\n",
      "   Processing epoch 4 / 13 ...\n",
      "   Processing epoch 5 / 13 ...\n",
      "   Processing epoch 6 / 13 ...\n",
      "   Processing epoch 7 / 13 ...\n",
      "   Processing epoch 8 / 13 ...\n",
      "   Processing epoch 9 / 13 ...\n",
      "   Processing epoch 10 / 13 ...\n",
      "   Processing epoch 11 / 13 ...\n",
      "   Processing epoch 12 / 13 ...\n",
      "   Processing epoch 13 / 13 ...\n",
      "[Connectivity computation done]\n",
      "Not setting metadata\n",
      "10 matching events found\n",
      "No baseline correction applied\n",
      "0 projection items activated\n",
      "Connectivity computation...\n",
      "   Processing epoch 1 / 10 ...\n",
      "   Processing epoch 2 / 10 ...\n"
     ]
    },
    {
     "name": "stderr",
     "output_type": "stream",
     "text": [
      "/var/folders/m4/pp85n2_d0t35q9wcrh9x24fr0000gn/T/ipykernel_41740/1540018642.py:57: RuntimeWarning: There were no Annotations stored in <EpochsArray |  10 events (all good), 0 – 234.371 s, baseline off, ~18.3 MB, data loaded,\n",
      " '1': 10>, so metadata was not modified.\n",
      "  con = spectral_connectivity_time(data_epoch, freqs = freqs, sfreq = sfreq,\n"
     ]
    },
    {
     "name": "stdout",
     "output_type": "stream",
     "text": [
      "   Processing epoch 3 / 10 ...\n",
      "   Processing epoch 4 / 10 ...\n",
      "   Processing epoch 5 / 10 ...\n",
      "   Processing epoch 6 / 10 ...\n",
      "   Processing epoch 7 / 10 ...\n",
      "   Processing epoch 8 / 10 ...\n",
      "   Processing epoch 9 / 10 ...\n",
      "   Processing epoch 10 / 10 ...\n",
      "[Connectivity computation done]\n",
      "Not setting metadata\n",
      "22 matching events found\n",
      "No baseline correction applied\n",
      "0 projection items activated\n",
      "Connectivity computation...\n",
      "   Processing epoch 1 / 22 ...\n",
      "   Processing epoch 2 / 22 ...\n"
     ]
    },
    {
     "name": "stderr",
     "output_type": "stream",
     "text": [
      "/var/folders/m4/pp85n2_d0t35q9wcrh9x24fr0000gn/T/ipykernel_41740/1540018642.py:57: RuntimeWarning: There were no Annotations stored in <EpochsArray |  22 events (all good), 0 – 234.371 s, baseline off, ~40.3 MB, data loaded,\n",
      " '1': 22>, so metadata was not modified.\n",
      "  con = spectral_connectivity_time(data_epoch, freqs = freqs, sfreq = sfreq,\n"
     ]
    },
    {
     "name": "stdout",
     "output_type": "stream",
     "text": [
      "   Processing epoch 3 / 22 ...\n",
      "   Processing epoch 4 / 22 ...\n",
      "   Processing epoch 5 / 22 ...\n",
      "   Processing epoch 6 / 22 ...\n",
      "   Processing epoch 7 / 22 ...\n",
      "   Processing epoch 8 / 22 ...\n",
      "   Processing epoch 9 / 22 ...\n",
      "   Processing epoch 10 / 22 ...\n",
      "   Processing epoch 11 / 22 ...\n",
      "   Processing epoch 12 / 22 ...\n",
      "   Processing epoch 13 / 22 ...\n",
      "   Processing epoch 14 / 22 ...\n",
      "   Processing epoch 15 / 22 ...\n",
      "   Processing epoch 16 / 22 ...\n",
      "   Processing epoch 17 / 22 ...\n",
      "   Processing epoch 18 / 22 ...\n",
      "   Processing epoch 19 / 22 ...\n",
      "   Processing epoch 20 / 22 ...\n",
      "   Processing epoch 21 / 22 ...\n",
      "   Processing epoch 22 / 22 ...\n",
      "[Connectivity computation done]\n",
      "Not setting metadata\n",
      "15 matching events found\n",
      "No baseline correction applied\n",
      "0 projection items activated\n",
      "Connectivity computation...\n",
      "   Processing epoch 1 / 15 ...\n",
      "   Processing epoch 2 / 15 ...\n"
     ]
    },
    {
     "name": "stderr",
     "output_type": "stream",
     "text": [
      "/var/folders/m4/pp85n2_d0t35q9wcrh9x24fr0000gn/T/ipykernel_41740/1540018642.py:57: RuntimeWarning: There were no Annotations stored in <EpochsArray |  15 events (all good), 0 – 234.371 s, baseline off, ~27.5 MB, data loaded,\n",
      " '1': 15>, so metadata was not modified.\n",
      "  con = spectral_connectivity_time(data_epoch, freqs = freqs, sfreq = sfreq,\n"
     ]
    },
    {
     "name": "stdout",
     "output_type": "stream",
     "text": [
      "   Processing epoch 3 / 15 ...\n",
      "   Processing epoch 4 / 15 ...\n",
      "   Processing epoch 5 / 15 ...\n",
      "   Processing epoch 6 / 15 ...\n",
      "   Processing epoch 7 / 15 ...\n",
      "   Processing epoch 8 / 15 ...\n",
      "   Processing epoch 9 / 15 ...\n",
      "   Processing epoch 10 / 15 ...\n",
      "   Processing epoch 11 / 15 ...\n",
      "   Processing epoch 12 / 15 ...\n",
      "   Processing epoch 13 / 15 ...\n",
      "   Processing epoch 14 / 15 ...\n",
      "   Processing epoch 15 / 15 ...\n",
      "[Connectivity computation done]\n",
      "Not setting metadata\n",
      "13 matching events found\n",
      "No baseline correction applied\n",
      "0 projection items activated\n",
      "Connectivity computation...\n",
      "   Processing epoch 1 / 13 ...\n",
      "   Processing epoch 2 / 13 ...\n"
     ]
    },
    {
     "name": "stderr",
     "output_type": "stream",
     "text": [
      "/var/folders/m4/pp85n2_d0t35q9wcrh9x24fr0000gn/T/ipykernel_41740/1540018642.py:57: RuntimeWarning: There were no Annotations stored in <EpochsArray |  13 events (all good), 0 – 234.371 s, baseline off, ~23.8 MB, data loaded,\n",
      " '1': 13>, so metadata was not modified.\n",
      "  con = spectral_connectivity_time(data_epoch, freqs = freqs, sfreq = sfreq,\n"
     ]
    },
    {
     "name": "stdout",
     "output_type": "stream",
     "text": [
      "   Processing epoch 3 / 13 ...\n",
      "   Processing epoch 4 / 13 ...\n",
      "   Processing epoch 5 / 13 ...\n",
      "   Processing epoch 6 / 13 ...\n",
      "   Processing epoch 7 / 13 ...\n",
      "   Processing epoch 8 / 13 ...\n",
      "   Processing epoch 9 / 13 ...\n",
      "   Processing epoch 10 / 13 ...\n",
      "   Processing epoch 11 / 13 ...\n",
      "   Processing epoch 12 / 13 ...\n",
      "   Processing epoch 13 / 13 ...\n",
      "[Connectivity computation done]\n",
      "Not setting metadata\n",
      "18 matching events found\n",
      "No baseline correction applied\n",
      "0 projection items activated\n",
      "Connectivity computation...\n",
      "   Processing epoch 1 / 18 ...\n",
      "   Processing epoch 2 / 18 ...\n"
     ]
    },
    {
     "name": "stderr",
     "output_type": "stream",
     "text": [
      "/var/folders/m4/pp85n2_d0t35q9wcrh9x24fr0000gn/T/ipykernel_41740/1540018642.py:57: RuntimeWarning: There were no Annotations stored in <EpochsArray |  18 events (all good), 0 – 234.371 s, baseline off, ~33.0 MB, data loaded,\n",
      " '1': 18>, so metadata was not modified.\n",
      "  con = spectral_connectivity_time(data_epoch, freqs = freqs, sfreq = sfreq,\n"
     ]
    },
    {
     "name": "stdout",
     "output_type": "stream",
     "text": [
      "   Processing epoch 3 / 18 ...\n",
      "   Processing epoch 4 / 18 ...\n",
      "   Processing epoch 5 / 18 ...\n",
      "   Processing epoch 6 / 18 ...\n",
      "   Processing epoch 7 / 18 ...\n",
      "   Processing epoch 8 / 18 ...\n",
      "   Processing epoch 9 / 18 ...\n",
      "   Processing epoch 10 / 18 ...\n",
      "   Processing epoch 11 / 18 ...\n",
      "   Processing epoch 12 / 18 ...\n",
      "   Processing epoch 13 / 18 ...\n",
      "   Processing epoch 14 / 18 ...\n",
      "   Processing epoch 15 / 18 ...\n",
      "   Processing epoch 16 / 18 ...\n",
      "   Processing epoch 17 / 18 ...\n",
      "   Processing epoch 18 / 18 ...\n",
      "[Connectivity computation done]\n",
      "Not setting metadata\n",
      "13 matching events found\n",
      "No baseline correction applied\n",
      "0 projection items activated\n",
      "Connectivity computation...\n",
      "   Processing epoch 1 / 13 ...\n",
      "   Processing epoch 2 / 13 ...\n"
     ]
    },
    {
     "name": "stderr",
     "output_type": "stream",
     "text": [
      "/var/folders/m4/pp85n2_d0t35q9wcrh9x24fr0000gn/T/ipykernel_41740/1540018642.py:57: RuntimeWarning: There were no Annotations stored in <EpochsArray |  13 events (all good), 0 – 234.371 s, baseline off, ~23.8 MB, data loaded,\n",
      " '1': 13>, so metadata was not modified.\n",
      "  con = spectral_connectivity_time(data_epoch, freqs = freqs, sfreq = sfreq,\n"
     ]
    },
    {
     "name": "stdout",
     "output_type": "stream",
     "text": [
      "   Processing epoch 3 / 13 ...\n",
      "   Processing epoch 4 / 13 ...\n",
      "   Processing epoch 5 / 13 ...\n",
      "   Processing epoch 6 / 13 ...\n",
      "   Processing epoch 7 / 13 ...\n",
      "   Processing epoch 8 / 13 ...\n",
      "   Processing epoch 9 / 13 ...\n",
      "   Processing epoch 10 / 13 ...\n",
      "   Processing epoch 11 / 13 ...\n",
      "   Processing epoch 12 / 13 ...\n",
      "   Processing epoch 13 / 13 ...\n",
      "[Connectivity computation done]\n",
      "Not setting metadata\n",
      "16 matching events found\n",
      "No baseline correction applied\n",
      "0 projection items activated\n",
      "Connectivity computation...\n",
      "   Processing epoch 1 / 16 ...\n",
      "   Processing epoch 2 / 16 ...\n"
     ]
    },
    {
     "name": "stderr",
     "output_type": "stream",
     "text": [
      "/var/folders/m4/pp85n2_d0t35q9wcrh9x24fr0000gn/T/ipykernel_41740/1540018642.py:57: RuntimeWarning: There were no Annotations stored in <EpochsArray |  16 events (all good), 0 – 234.371 s, baseline off, ~29.3 MB, data loaded,\n",
      " '1': 16>, so metadata was not modified.\n",
      "  con = spectral_connectivity_time(data_epoch, freqs = freqs, sfreq = sfreq,\n"
     ]
    },
    {
     "name": "stdout",
     "output_type": "stream",
     "text": [
      "   Processing epoch 3 / 16 ...\n",
      "   Processing epoch 4 / 16 ...\n",
      "   Processing epoch 5 / 16 ...\n",
      "   Processing epoch 6 / 16 ...\n",
      "   Processing epoch 7 / 16 ...\n",
      "   Processing epoch 8 / 16 ...\n",
      "   Processing epoch 9 / 16 ...\n",
      "   Processing epoch 10 / 16 ...\n",
      "   Processing epoch 11 / 16 ...\n",
      "   Processing epoch 12 / 16 ...\n",
      "   Processing epoch 13 / 16 ...\n",
      "   Processing epoch 14 / 16 ...\n",
      "   Processing epoch 15 / 16 ...\n",
      "   Processing epoch 16 / 16 ...\n",
      "[Connectivity computation done]\n",
      "Not setting metadata\n",
      "14 matching events found\n",
      "No baseline correction applied\n",
      "0 projection items activated\n",
      "Connectivity computation...\n",
      "   Processing epoch 1 / 14 ...\n",
      "   Processing epoch 2 / 14 ...\n"
     ]
    },
    {
     "name": "stderr",
     "output_type": "stream",
     "text": [
      "/var/folders/m4/pp85n2_d0t35q9wcrh9x24fr0000gn/T/ipykernel_41740/1540018642.py:57: RuntimeWarning: There were no Annotations stored in <EpochsArray |  14 events (all good), 0 – 234.371 s, baseline off, ~25.6 MB, data loaded,\n",
      " '1': 14>, so metadata was not modified.\n",
      "  con = spectral_connectivity_time(data_epoch, freqs = freqs, sfreq = sfreq,\n"
     ]
    },
    {
     "name": "stdout",
     "output_type": "stream",
     "text": [
      "   Processing epoch 3 / 14 ...\n",
      "   Processing epoch 4 / 14 ...\n",
      "   Processing epoch 5 / 14 ...\n",
      "   Processing epoch 6 / 14 ...\n",
      "   Processing epoch 7 / 14 ...\n",
      "   Processing epoch 8 / 14 ...\n",
      "   Processing epoch 9 / 14 ...\n",
      "   Processing epoch 10 / 14 ...\n",
      "   Processing epoch 11 / 14 ...\n",
      "   Processing epoch 12 / 14 ...\n",
      "   Processing epoch 13 / 14 ...\n",
      "   Processing epoch 14 / 14 ...\n",
      "[Connectivity computation done]\n",
      "Not setting metadata\n",
      "17 matching events found\n",
      "No baseline correction applied\n",
      "0 projection items activated\n",
      "Connectivity computation...\n",
      "   Processing epoch 1 / 17 ...\n",
      "   Processing epoch 2 / 17 ...\n"
     ]
    },
    {
     "name": "stderr",
     "output_type": "stream",
     "text": [
      "/var/folders/m4/pp85n2_d0t35q9wcrh9x24fr0000gn/T/ipykernel_41740/1540018642.py:57: RuntimeWarning: There were no Annotations stored in <EpochsArray |  17 events (all good), 0 – 234.371 s, baseline off, ~31.1 MB, data loaded,\n",
      " '1': 17>, so metadata was not modified.\n",
      "  con = spectral_connectivity_time(data_epoch, freqs = freqs, sfreq = sfreq,\n"
     ]
    },
    {
     "name": "stdout",
     "output_type": "stream",
     "text": [
      "   Processing epoch 3 / 17 ...\n",
      "   Processing epoch 4 / 17 ...\n",
      "   Processing epoch 5 / 17 ...\n",
      "   Processing epoch 6 / 17 ...\n",
      "   Processing epoch 7 / 17 ...\n",
      "   Processing epoch 8 / 17 ...\n",
      "   Processing epoch 9 / 17 ...\n",
      "   Processing epoch 10 / 17 ...\n",
      "   Processing epoch 11 / 17 ...\n",
      "   Processing epoch 12 / 17 ...\n",
      "   Processing epoch 13 / 17 ...\n",
      "   Processing epoch 14 / 17 ...\n",
      "   Processing epoch 15 / 17 ...\n",
      "   Processing epoch 16 / 17 ...\n",
      "   Processing epoch 17 / 17 ...\n",
      "[Connectivity computation done]\n",
      "Not setting metadata\n",
      "16 matching events found\n",
      "No baseline correction applied\n",
      "0 projection items activated\n",
      "Connectivity computation...\n",
      "   Processing epoch 1 / 16 ...\n",
      "   Processing epoch 2 / 16 ...\n"
     ]
    },
    {
     "name": "stderr",
     "output_type": "stream",
     "text": [
      "/var/folders/m4/pp85n2_d0t35q9wcrh9x24fr0000gn/T/ipykernel_41740/1540018642.py:57: RuntimeWarning: There were no Annotations stored in <EpochsArray |  16 events (all good), 0 – 234.371 s, baseline off, ~29.3 MB, data loaded,\n",
      " '1': 16>, so metadata was not modified.\n",
      "  con = spectral_connectivity_time(data_epoch, freqs = freqs, sfreq = sfreq,\n"
     ]
    },
    {
     "name": "stdout",
     "output_type": "stream",
     "text": [
      "   Processing epoch 3 / 16 ...\n",
      "   Processing epoch 4 / 16 ...\n",
      "   Processing epoch 5 / 16 ...\n",
      "   Processing epoch 6 / 16 ...\n",
      "   Processing epoch 7 / 16 ...\n",
      "   Processing epoch 8 / 16 ...\n",
      "   Processing epoch 9 / 16 ...\n",
      "   Processing epoch 10 / 16 ...\n",
      "   Processing epoch 11 / 16 ...\n",
      "   Processing epoch 12 / 16 ...\n",
      "   Processing epoch 13 / 16 ...\n",
      "   Processing epoch 14 / 16 ...\n",
      "   Processing epoch 15 / 16 ...\n",
      "   Processing epoch 16 / 16 ...\n",
      "[Connectivity computation done]\n",
      "Not setting metadata\n",
      "18 matching events found\n",
      "No baseline correction applied\n",
      "0 projection items activated\n",
      "Connectivity computation...\n",
      "   Processing epoch 1 / 18 ...\n",
      "   Processing epoch 2 / 18 ...\n"
     ]
    },
    {
     "name": "stderr",
     "output_type": "stream",
     "text": [
      "/var/folders/m4/pp85n2_d0t35q9wcrh9x24fr0000gn/T/ipykernel_41740/1540018642.py:57: RuntimeWarning: There were no Annotations stored in <EpochsArray |  18 events (all good), 0 – 234.371 s, baseline off, ~33.0 MB, data loaded,\n",
      " '1': 18>, so metadata was not modified.\n",
      "  con = spectral_connectivity_time(data_epoch, freqs = freqs, sfreq = sfreq,\n"
     ]
    },
    {
     "name": "stdout",
     "output_type": "stream",
     "text": [
      "   Processing epoch 3 / 18 ...\n",
      "   Processing epoch 4 / 18 ...\n",
      "   Processing epoch 5 / 18 ...\n",
      "   Processing epoch 6 / 18 ...\n",
      "   Processing epoch 7 / 18 ...\n",
      "   Processing epoch 8 / 18 ...\n",
      "   Processing epoch 9 / 18 ...\n",
      "   Processing epoch 10 / 18 ...\n",
      "   Processing epoch 11 / 18 ...\n",
      "   Processing epoch 12 / 18 ...\n",
      "   Processing epoch 13 / 18 ...\n",
      "   Processing epoch 14 / 18 ...\n",
      "   Processing epoch 15 / 18 ...\n",
      "   Processing epoch 16 / 18 ...\n",
      "   Processing epoch 17 / 18 ...\n",
      "   Processing epoch 18 / 18 ...\n",
      "[Connectivity computation done]\n",
      "Not setting metadata\n",
      "16 matching events found\n",
      "No baseline correction applied\n",
      "0 projection items activated\n",
      "Connectivity computation...\n",
      "   Processing epoch 1 / 16 ...\n",
      "   Processing epoch 2 / 16 ...\n"
     ]
    },
    {
     "name": "stderr",
     "output_type": "stream",
     "text": [
      "/var/folders/m4/pp85n2_d0t35q9wcrh9x24fr0000gn/T/ipykernel_41740/1540018642.py:57: RuntimeWarning: There were no Annotations stored in <EpochsArray |  16 events (all good), 0 – 234.371 s, baseline off, ~29.3 MB, data loaded,\n",
      " '1': 16>, so metadata was not modified.\n",
      "  con = spectral_connectivity_time(data_epoch, freqs = freqs, sfreq = sfreq,\n"
     ]
    },
    {
     "name": "stdout",
     "output_type": "stream",
     "text": [
      "   Processing epoch 3 / 16 ...\n",
      "   Processing epoch 4 / 16 ...\n",
      "   Processing epoch 5 / 16 ...\n",
      "   Processing epoch 6 / 16 ...\n",
      "   Processing epoch 7 / 16 ...\n",
      "   Processing epoch 8 / 16 ...\n",
      "   Processing epoch 9 / 16 ...\n",
      "   Processing epoch 10 / 16 ...\n",
      "   Processing epoch 11 / 16 ...\n",
      "   Processing epoch 12 / 16 ...\n",
      "   Processing epoch 13 / 16 ...\n",
      "   Processing epoch 14 / 16 ...\n",
      "   Processing epoch 15 / 16 ...\n",
      "   Processing epoch 16 / 16 ...\n",
      "[Connectivity computation done]\n",
      "Not setting metadata\n",
      "18 matching events found\n",
      "No baseline correction applied\n",
      "0 projection items activated\n",
      "Connectivity computation...\n",
      "   Processing epoch 1 / 18 ...\n",
      "   Processing epoch 2 / 18 ...\n"
     ]
    },
    {
     "name": "stderr",
     "output_type": "stream",
     "text": [
      "/var/folders/m4/pp85n2_d0t35q9wcrh9x24fr0000gn/T/ipykernel_41740/1540018642.py:57: RuntimeWarning: There were no Annotations stored in <EpochsArray |  18 events (all good), 0 – 234.371 s, baseline off, ~33.0 MB, data loaded,\n",
      " '1': 18>, so metadata was not modified.\n",
      "  con = spectral_connectivity_time(data_epoch, freqs = freqs, sfreq = sfreq,\n"
     ]
    },
    {
     "name": "stdout",
     "output_type": "stream",
     "text": [
      "   Processing epoch 3 / 18 ...\n",
      "   Processing epoch 4 / 18 ...\n",
      "   Processing epoch 5 / 18 ...\n",
      "   Processing epoch 6 / 18 ...\n",
      "   Processing epoch 7 / 18 ...\n",
      "   Processing epoch 8 / 18 ...\n",
      "   Processing epoch 9 / 18 ...\n",
      "   Processing epoch 10 / 18 ...\n",
      "   Processing epoch 11 / 18 ...\n",
      "   Processing epoch 12 / 18 ...\n",
      "   Processing epoch 13 / 18 ...\n",
      "   Processing epoch 14 / 18 ...\n",
      "   Processing epoch 15 / 18 ...\n",
      "   Processing epoch 16 / 18 ...\n",
      "   Processing epoch 17 / 18 ...\n",
      "   Processing epoch 18 / 18 ...\n",
      "[Connectivity computation done]\n",
      "Not setting metadata\n",
      "15 matching events found\n",
      "No baseline correction applied\n",
      "0 projection items activated\n",
      "Connectivity computation...\n",
      "   Processing epoch 1 / 15 ...\n",
      "   Processing epoch 2 / 15 ...\n"
     ]
    },
    {
     "name": "stderr",
     "output_type": "stream",
     "text": [
      "/var/folders/m4/pp85n2_d0t35q9wcrh9x24fr0000gn/T/ipykernel_41740/1540018642.py:57: RuntimeWarning: There were no Annotations stored in <EpochsArray |  15 events (all good), 0 – 234.371 s, baseline off, ~27.5 MB, data loaded,\n",
      " '1': 15>, so metadata was not modified.\n",
      "  con = spectral_connectivity_time(data_epoch, freqs = freqs, sfreq = sfreq,\n"
     ]
    },
    {
     "name": "stdout",
     "output_type": "stream",
     "text": [
      "   Processing epoch 3 / 15 ...\n",
      "   Processing epoch 4 / 15 ...\n",
      "   Processing epoch 5 / 15 ...\n",
      "   Processing epoch 6 / 15 ...\n",
      "   Processing epoch 7 / 15 ...\n",
      "   Processing epoch 8 / 15 ...\n",
      "   Processing epoch 9 / 15 ...\n",
      "   Processing epoch 10 / 15 ...\n",
      "   Processing epoch 11 / 15 ...\n",
      "   Processing epoch 12 / 15 ...\n",
      "   Processing epoch 13 / 15 ...\n",
      "   Processing epoch 14 / 15 ...\n",
      "   Processing epoch 15 / 15 ...\n",
      "[Connectivity computation done]\n",
      "Not setting metadata\n",
      "16 matching events found\n",
      "No baseline correction applied\n",
      "0 projection items activated\n",
      "Connectivity computation...\n",
      "   Processing epoch 1 / 16 ...\n",
      "   Processing epoch 2 / 16 ...\n"
     ]
    },
    {
     "name": "stderr",
     "output_type": "stream",
     "text": [
      "/var/folders/m4/pp85n2_d0t35q9wcrh9x24fr0000gn/T/ipykernel_41740/1540018642.py:57: RuntimeWarning: There were no Annotations stored in <EpochsArray |  16 events (all good), 0 – 234.371 s, baseline off, ~29.3 MB, data loaded,\n",
      " '1': 16>, so metadata was not modified.\n",
      "  con = spectral_connectivity_time(data_epoch, freqs = freqs, sfreq = sfreq,\n"
     ]
    },
    {
     "name": "stdout",
     "output_type": "stream",
     "text": [
      "   Processing epoch 3 / 16 ...\n",
      "   Processing epoch 4 / 16 ...\n",
      "   Processing epoch 5 / 16 ...\n",
      "   Processing epoch 6 / 16 ...\n",
      "   Processing epoch 7 / 16 ...\n",
      "   Processing epoch 8 / 16 ...\n",
      "   Processing epoch 9 / 16 ...\n",
      "   Processing epoch 10 / 16 ...\n",
      "   Processing epoch 11 / 16 ...\n",
      "   Processing epoch 12 / 16 ...\n",
      "   Processing epoch 13 / 16 ...\n",
      "   Processing epoch 14 / 16 ...\n",
      "   Processing epoch 15 / 16 ...\n",
      "   Processing epoch 16 / 16 ...\n",
      "[Connectivity computation done]\n",
      "Not setting metadata\n",
      "16 matching events found\n",
      "No baseline correction applied\n",
      "0 projection items activated\n",
      "Connectivity computation...\n",
      "   Processing epoch 1 / 16 ...\n",
      "   Processing epoch 2 / 16 ...\n"
     ]
    },
    {
     "name": "stderr",
     "output_type": "stream",
     "text": [
      "/var/folders/m4/pp85n2_d0t35q9wcrh9x24fr0000gn/T/ipykernel_41740/1540018642.py:57: RuntimeWarning: There were no Annotations stored in <EpochsArray |  16 events (all good), 0 – 234.371 s, baseline off, ~29.3 MB, data loaded,\n",
      " '1': 16>, so metadata was not modified.\n",
      "  con = spectral_connectivity_time(data_epoch, freqs = freqs, sfreq = sfreq,\n"
     ]
    },
    {
     "name": "stdout",
     "output_type": "stream",
     "text": [
      "   Processing epoch 3 / 16 ...\n",
      "   Processing epoch 4 / 16 ...\n",
      "   Processing epoch 5 / 16 ...\n",
      "   Processing epoch 6 / 16 ...\n",
      "   Processing epoch 7 / 16 ...\n",
      "   Processing epoch 8 / 16 ...\n",
      "   Processing epoch 9 / 16 ...\n",
      "   Processing epoch 10 / 16 ...\n",
      "   Processing epoch 11 / 16 ...\n",
      "   Processing epoch 12 / 16 ...\n",
      "   Processing epoch 13 / 16 ...\n",
      "   Processing epoch 14 / 16 ...\n",
      "   Processing epoch 15 / 16 ...\n",
      "   Processing epoch 16 / 16 ...\n",
      "[Connectivity computation done]\n",
      "Not setting metadata\n",
      "14 matching events found\n",
      "No baseline correction applied\n",
      "0 projection items activated\n",
      "Connectivity computation...\n",
      "   Processing epoch 1 / 14 ...\n",
      "   Processing epoch 2 / 14 ...\n"
     ]
    },
    {
     "name": "stderr",
     "output_type": "stream",
     "text": [
      "/var/folders/m4/pp85n2_d0t35q9wcrh9x24fr0000gn/T/ipykernel_41740/1540018642.py:57: RuntimeWarning: There were no Annotations stored in <EpochsArray |  14 events (all good), 0 – 234.371 s, baseline off, ~25.6 MB, data loaded,\n",
      " '1': 14>, so metadata was not modified.\n",
      "  con = spectral_connectivity_time(data_epoch, freqs = freqs, sfreq = sfreq,\n"
     ]
    },
    {
     "name": "stdout",
     "output_type": "stream",
     "text": [
      "   Processing epoch 3 / 14 ...\n",
      "   Processing epoch 4 / 14 ...\n",
      "   Processing epoch 5 / 14 ...\n",
      "   Processing epoch 6 / 14 ...\n",
      "   Processing epoch 7 / 14 ...\n",
      "   Processing epoch 8 / 14 ...\n",
      "   Processing epoch 9 / 14 ...\n",
      "   Processing epoch 10 / 14 ...\n",
      "   Processing epoch 11 / 14 ...\n",
      "   Processing epoch 12 / 14 ...\n",
      "   Processing epoch 13 / 14 ...\n",
      "   Processing epoch 14 / 14 ...\n",
      "[Connectivity computation done]\n",
      "Not setting metadata\n",
      "15 matching events found\n",
      "No baseline correction applied\n",
      "0 projection items activated\n",
      "Connectivity computation...\n",
      "   Processing epoch 1 / 15 ...\n",
      "   Processing epoch 2 / 15 ...\n"
     ]
    },
    {
     "name": "stderr",
     "output_type": "stream",
     "text": [
      "/var/folders/m4/pp85n2_d0t35q9wcrh9x24fr0000gn/T/ipykernel_41740/1540018642.py:57: RuntimeWarning: There were no Annotations stored in <EpochsArray |  15 events (all good), 0 – 234.371 s, baseline off, ~27.5 MB, data loaded,\n",
      " '1': 15>, so metadata was not modified.\n",
      "  con = spectral_connectivity_time(data_epoch, freqs = freqs, sfreq = sfreq,\n"
     ]
    },
    {
     "name": "stdout",
     "output_type": "stream",
     "text": [
      "   Processing epoch 3 / 15 ...\n",
      "   Processing epoch 4 / 15 ...\n",
      "   Processing epoch 5 / 15 ...\n",
      "   Processing epoch 6 / 15 ...\n",
      "   Processing epoch 7 / 15 ...\n",
      "   Processing epoch 8 / 15 ...\n",
      "   Processing epoch 9 / 15 ...\n",
      "   Processing epoch 10 / 15 ...\n",
      "   Processing epoch 11 / 15 ...\n",
      "   Processing epoch 12 / 15 ...\n",
      "   Processing epoch 13 / 15 ...\n",
      "   Processing epoch 14 / 15 ...\n",
      "   Processing epoch 15 / 15 ...\n",
      "[Connectivity computation done]\n",
      "Not setting metadata\n",
      "19 matching events found\n",
      "No baseline correction applied\n",
      "0 projection items activated\n",
      "Connectivity computation...\n",
      "   Processing epoch 1 / 19 ...\n",
      "   Processing epoch 2 / 19 ...\n"
     ]
    },
    {
     "name": "stderr",
     "output_type": "stream",
     "text": [
      "/var/folders/m4/pp85n2_d0t35q9wcrh9x24fr0000gn/T/ipykernel_41740/1540018642.py:57: RuntimeWarning: There were no Annotations stored in <EpochsArray |  19 events (all good), 0 – 234.371 s, baseline off, ~34.8 MB, data loaded,\n",
      " '1': 19>, so metadata was not modified.\n",
      "  con = spectral_connectivity_time(data_epoch, freqs = freqs, sfreq = sfreq,\n"
     ]
    },
    {
     "name": "stdout",
     "output_type": "stream",
     "text": [
      "   Processing epoch 3 / 19 ...\n",
      "   Processing epoch 4 / 19 ...\n",
      "   Processing epoch 5 / 19 ...\n",
      "   Processing epoch 6 / 19 ...\n",
      "   Processing epoch 7 / 19 ...\n",
      "   Processing epoch 8 / 19 ...\n",
      "   Processing epoch 9 / 19 ...\n",
      "   Processing epoch 10 / 19 ...\n",
      "   Processing epoch 11 / 19 ...\n",
      "   Processing epoch 12 / 19 ...\n",
      "   Processing epoch 13 / 19 ...\n",
      "   Processing epoch 14 / 19 ...\n",
      "   Processing epoch 15 / 19 ...\n",
      "   Processing epoch 16 / 19 ...\n",
      "   Processing epoch 17 / 19 ...\n",
      "   Processing epoch 18 / 19 ...\n",
      "   Processing epoch 19 / 19 ...\n",
      "[Connectivity computation done]\n",
      "Not setting metadata\n",
      "14 matching events found\n",
      "No baseline correction applied\n",
      "0 projection items activated\n",
      "Connectivity computation...\n",
      "   Processing epoch 1 / 14 ...\n",
      "   Processing epoch 2 / 14 ...\n"
     ]
    },
    {
     "name": "stderr",
     "output_type": "stream",
     "text": [
      "/var/folders/m4/pp85n2_d0t35q9wcrh9x24fr0000gn/T/ipykernel_41740/1540018642.py:57: RuntimeWarning: There were no Annotations stored in <EpochsArray |  14 events (all good), 0 – 234.371 s, baseline off, ~25.6 MB, data loaded,\n",
      " '1': 14>, so metadata was not modified.\n",
      "  con = spectral_connectivity_time(data_epoch, freqs = freqs, sfreq = sfreq,\n"
     ]
    },
    {
     "name": "stdout",
     "output_type": "stream",
     "text": [
      "   Processing epoch 3 / 14 ...\n",
      "   Processing epoch 4 / 14 ...\n",
      "   Processing epoch 5 / 14 ...\n",
      "   Processing epoch 6 / 14 ...\n",
      "   Processing epoch 7 / 14 ...\n",
      "   Processing epoch 8 / 14 ...\n",
      "   Processing epoch 9 / 14 ...\n",
      "   Processing epoch 10 / 14 ...\n",
      "   Processing epoch 11 / 14 ...\n",
      "   Processing epoch 12 / 14 ...\n",
      "   Processing epoch 13 / 14 ...\n",
      "   Processing epoch 14 / 14 ...\n",
      "[Connectivity computation done]\n",
      "Not setting metadata\n",
      "15 matching events found\n",
      "No baseline correction applied\n",
      "0 projection items activated\n",
      "Connectivity computation...\n",
      "   Processing epoch 1 / 15 ...\n",
      "   Processing epoch 2 / 15 ...\n"
     ]
    },
    {
     "name": "stderr",
     "output_type": "stream",
     "text": [
      "/var/folders/m4/pp85n2_d0t35q9wcrh9x24fr0000gn/T/ipykernel_41740/1540018642.py:57: RuntimeWarning: There were no Annotations stored in <EpochsArray |  15 events (all good), 0 – 234.371 s, baseline off, ~27.5 MB, data loaded,\n",
      " '1': 15>, so metadata was not modified.\n",
      "  con = spectral_connectivity_time(data_epoch, freqs = freqs, sfreq = sfreq,\n"
     ]
    },
    {
     "name": "stdout",
     "output_type": "stream",
     "text": [
      "   Processing epoch 3 / 15 ...\n",
      "   Processing epoch 4 / 15 ...\n",
      "   Processing epoch 5 / 15 ...\n",
      "   Processing epoch 6 / 15 ...\n",
      "   Processing epoch 7 / 15 ...\n",
      "   Processing epoch 8 / 15 ...\n",
      "   Processing epoch 9 / 15 ...\n",
      "   Processing epoch 10 / 15 ...\n",
      "   Processing epoch 11 / 15 ...\n",
      "   Processing epoch 12 / 15 ...\n",
      "   Processing epoch 13 / 15 ...\n",
      "   Processing epoch 14 / 15 ...\n",
      "   Processing epoch 15 / 15 ...\n",
      "[Connectivity computation done]\n",
      "Not setting metadata\n",
      "14 matching events found\n",
      "No baseline correction applied\n",
      "0 projection items activated\n",
      "Connectivity computation...\n",
      "   Processing epoch 1 / 14 ...\n",
      "   Processing epoch 2 / 14 ...\n"
     ]
    },
    {
     "name": "stderr",
     "output_type": "stream",
     "text": [
      "/var/folders/m4/pp85n2_d0t35q9wcrh9x24fr0000gn/T/ipykernel_41740/1540018642.py:57: RuntimeWarning: There were no Annotations stored in <EpochsArray |  14 events (all good), 0 – 234.371 s, baseline off, ~25.6 MB, data loaded,\n",
      " '1': 14>, so metadata was not modified.\n",
      "  con = spectral_connectivity_time(data_epoch, freqs = freqs, sfreq = sfreq,\n"
     ]
    },
    {
     "name": "stdout",
     "output_type": "stream",
     "text": [
      "   Processing epoch 3 / 14 ...\n",
      "   Processing epoch 4 / 14 ...\n",
      "   Processing epoch 5 / 14 ...\n",
      "   Processing epoch 6 / 14 ...\n",
      "   Processing epoch 7 / 14 ...\n",
      "   Processing epoch 8 / 14 ...\n",
      "   Processing epoch 9 / 14 ...\n",
      "   Processing epoch 10 / 14 ...\n",
      "   Processing epoch 11 / 14 ...\n",
      "   Processing epoch 12 / 14 ...\n",
      "   Processing epoch 13 / 14 ...\n",
      "   Processing epoch 14 / 14 ...\n",
      "[Connectivity computation done]\n",
      "Not setting metadata\n",
      "14 matching events found\n",
      "No baseline correction applied\n",
      "0 projection items activated\n",
      "Connectivity computation...\n",
      "   Processing epoch 1 / 14 ...\n",
      "   Processing epoch 2 / 14 ...\n"
     ]
    },
    {
     "name": "stderr",
     "output_type": "stream",
     "text": [
      "/var/folders/m4/pp85n2_d0t35q9wcrh9x24fr0000gn/T/ipykernel_41740/1540018642.py:57: RuntimeWarning: There were no Annotations stored in <EpochsArray |  14 events (all good), 0 – 234.371 s, baseline off, ~25.6 MB, data loaded,\n",
      " '1': 14>, so metadata was not modified.\n",
      "  con = spectral_connectivity_time(data_epoch, freqs = freqs, sfreq = sfreq,\n"
     ]
    },
    {
     "name": "stdout",
     "output_type": "stream",
     "text": [
      "   Processing epoch 3 / 14 ...\n",
      "   Processing epoch 4 / 14 ...\n",
      "   Processing epoch 5 / 14 ...\n",
      "   Processing epoch 6 / 14 ...\n",
      "   Processing epoch 7 / 14 ...\n",
      "   Processing epoch 8 / 14 ...\n",
      "   Processing epoch 9 / 14 ...\n",
      "   Processing epoch 10 / 14 ...\n",
      "   Processing epoch 11 / 14 ...\n",
      "   Processing epoch 12 / 14 ...\n",
      "   Processing epoch 13 / 14 ...\n",
      "   Processing epoch 14 / 14 ...\n",
      "[Connectivity computation done]\n",
      "Not setting metadata\n",
      "14 matching events found\n",
      "No baseline correction applied\n",
      "0 projection items activated\n",
      "Connectivity computation...\n",
      "   Processing epoch 1 / 14 ...\n",
      "   Processing epoch 2 / 14 ...\n"
     ]
    },
    {
     "name": "stderr",
     "output_type": "stream",
     "text": [
      "/var/folders/m4/pp85n2_d0t35q9wcrh9x24fr0000gn/T/ipykernel_41740/1540018642.py:57: RuntimeWarning: There were no Annotations stored in <EpochsArray |  14 events (all good), 0 – 234.371 s, baseline off, ~25.6 MB, data loaded,\n",
      " '1': 14>, so metadata was not modified.\n",
      "  con = spectral_connectivity_time(data_epoch, freqs = freqs, sfreq = sfreq,\n"
     ]
    },
    {
     "name": "stdout",
     "output_type": "stream",
     "text": [
      "   Processing epoch 3 / 14 ...\n",
      "   Processing epoch 4 / 14 ...\n",
      "   Processing epoch 5 / 14 ...\n",
      "   Processing epoch 6 / 14 ...\n",
      "   Processing epoch 7 / 14 ...\n",
      "   Processing epoch 8 / 14 ...\n",
      "   Processing epoch 9 / 14 ...\n",
      "   Processing epoch 10 / 14 ...\n",
      "   Processing epoch 11 / 14 ...\n",
      "   Processing epoch 12 / 14 ...\n",
      "   Processing epoch 13 / 14 ...\n",
      "   Processing epoch 14 / 14 ...\n",
      "[Connectivity computation done]\n",
      "Not setting metadata\n",
      "15 matching events found\n",
      "No baseline correction applied\n",
      "0 projection items activated\n",
      "Connectivity computation...\n",
      "   Processing epoch 1 / 15 ...\n",
      "   Processing epoch 2 / 15 ...\n"
     ]
    },
    {
     "name": "stderr",
     "output_type": "stream",
     "text": [
      "/var/folders/m4/pp85n2_d0t35q9wcrh9x24fr0000gn/T/ipykernel_41740/1540018642.py:57: RuntimeWarning: There were no Annotations stored in <EpochsArray |  15 events (all good), 0 – 234.371 s, baseline off, ~27.5 MB, data loaded,\n",
      " '1': 15>, so metadata was not modified.\n",
      "  con = spectral_connectivity_time(data_epoch, freqs = freqs, sfreq = sfreq,\n"
     ]
    },
    {
     "name": "stdout",
     "output_type": "stream",
     "text": [
      "   Processing epoch 3 / 15 ...\n",
      "   Processing epoch 4 / 15 ...\n",
      "   Processing epoch 5 / 15 ...\n",
      "   Processing epoch 6 / 15 ...\n",
      "   Processing epoch 7 / 15 ...\n",
      "   Processing epoch 8 / 15 ...\n",
      "   Processing epoch 9 / 15 ...\n",
      "   Processing epoch 10 / 15 ...\n",
      "   Processing epoch 11 / 15 ...\n",
      "   Processing epoch 12 / 15 ...\n",
      "   Processing epoch 13 / 15 ...\n",
      "   Processing epoch 14 / 15 ...\n",
      "   Processing epoch 15 / 15 ...\n",
      "[Connectivity computation done]\n",
      "Not setting metadata\n",
      "15 matching events found\n",
      "No baseline correction applied\n",
      "0 projection items activated\n",
      "Connectivity computation...\n",
      "   Processing epoch 1 / 15 ...\n",
      "   Processing epoch 2 / 15 ...\n"
     ]
    },
    {
     "name": "stderr",
     "output_type": "stream",
     "text": [
      "/var/folders/m4/pp85n2_d0t35q9wcrh9x24fr0000gn/T/ipykernel_41740/1540018642.py:57: RuntimeWarning: There were no Annotations stored in <EpochsArray |  15 events (all good), 0 – 234.371 s, baseline off, ~27.5 MB, data loaded,\n",
      " '1': 15>, so metadata was not modified.\n",
      "  con = spectral_connectivity_time(data_epoch, freqs = freqs, sfreq = sfreq,\n"
     ]
    },
    {
     "name": "stdout",
     "output_type": "stream",
     "text": [
      "   Processing epoch 3 / 15 ...\n",
      "   Processing epoch 4 / 15 ...\n",
      "   Processing epoch 5 / 15 ...\n",
      "   Processing epoch 6 / 15 ...\n",
      "   Processing epoch 7 / 15 ...\n",
      "   Processing epoch 8 / 15 ...\n",
      "   Processing epoch 9 / 15 ...\n",
      "   Processing epoch 10 / 15 ...\n",
      "   Processing epoch 11 / 15 ...\n",
      "   Processing epoch 12 / 15 ...\n",
      "   Processing epoch 13 / 15 ...\n",
      "   Processing epoch 14 / 15 ...\n",
      "   Processing epoch 15 / 15 ...\n",
      "[Connectivity computation done]\n",
      "Not setting metadata\n",
      "14 matching events found\n",
      "No baseline correction applied\n",
      "0 projection items activated\n",
      "Connectivity computation...\n",
      "   Processing epoch 1 / 14 ...\n",
      "   Processing epoch 2 / 14 ...\n"
     ]
    },
    {
     "name": "stderr",
     "output_type": "stream",
     "text": [
      "/var/folders/m4/pp85n2_d0t35q9wcrh9x24fr0000gn/T/ipykernel_41740/1540018642.py:57: RuntimeWarning: There were no Annotations stored in <EpochsArray |  14 events (all good), 0 – 234.371 s, baseline off, ~25.6 MB, data loaded,\n",
      " '1': 14>, so metadata was not modified.\n",
      "  con = spectral_connectivity_time(data_epoch, freqs = freqs, sfreq = sfreq,\n"
     ]
    },
    {
     "name": "stdout",
     "output_type": "stream",
     "text": [
      "   Processing epoch 3 / 14 ...\n",
      "   Processing epoch 4 / 14 ...\n",
      "   Processing epoch 5 / 14 ...\n",
      "   Processing epoch 6 / 14 ...\n",
      "   Processing epoch 7 / 14 ...\n",
      "   Processing epoch 8 / 14 ...\n",
      "   Processing epoch 9 / 14 ...\n",
      "   Processing epoch 10 / 14 ...\n",
      "   Processing epoch 11 / 14 ...\n",
      "   Processing epoch 12 / 14 ...\n",
      "   Processing epoch 13 / 14 ...\n",
      "   Processing epoch 14 / 14 ...\n",
      "[Connectivity computation done]\n",
      "Not setting metadata\n",
      "15 matching events found\n",
      "No baseline correction applied\n",
      "0 projection items activated\n",
      "Connectivity computation...\n",
      "   Processing epoch 1 / 15 ...\n",
      "   Processing epoch 2 / 15 ...\n"
     ]
    },
    {
     "name": "stderr",
     "output_type": "stream",
     "text": [
      "/var/folders/m4/pp85n2_d0t35q9wcrh9x24fr0000gn/T/ipykernel_41740/1540018642.py:57: RuntimeWarning: There were no Annotations stored in <EpochsArray |  15 events (all good), 0 – 234.371 s, baseline off, ~27.5 MB, data loaded,\n",
      " '1': 15>, so metadata was not modified.\n",
      "  con = spectral_connectivity_time(data_epoch, freqs = freqs, sfreq = sfreq,\n"
     ]
    },
    {
     "name": "stdout",
     "output_type": "stream",
     "text": [
      "   Processing epoch 3 / 15 ...\n",
      "   Processing epoch 4 / 15 ...\n",
      "   Processing epoch 5 / 15 ...\n",
      "   Processing epoch 6 / 15 ...\n",
      "   Processing epoch 7 / 15 ...\n",
      "   Processing epoch 8 / 15 ...\n",
      "   Processing epoch 9 / 15 ...\n",
      "   Processing epoch 10 / 15 ...\n",
      "   Processing epoch 11 / 15 ...\n",
      "   Processing epoch 12 / 15 ...\n",
      "   Processing epoch 13 / 15 ...\n",
      "   Processing epoch 14 / 15 ...\n",
      "   Processing epoch 15 / 15 ...\n",
      "[Connectivity computation done]\n",
      "Not setting metadata\n",
      "14 matching events found\n",
      "No baseline correction applied\n",
      "0 projection items activated\n",
      "Connectivity computation...\n",
      "   Processing epoch 1 / 14 ...\n",
      "   Processing epoch 2 / 14 ...\n"
     ]
    },
    {
     "name": "stderr",
     "output_type": "stream",
     "text": [
      "/var/folders/m4/pp85n2_d0t35q9wcrh9x24fr0000gn/T/ipykernel_41740/1540018642.py:57: RuntimeWarning: There were no Annotations stored in <EpochsArray |  14 events (all good), 0 – 234.371 s, baseline off, ~25.6 MB, data loaded,\n",
      " '1': 14>, so metadata was not modified.\n",
      "  con = spectral_connectivity_time(data_epoch, freqs = freqs, sfreq = sfreq,\n"
     ]
    },
    {
     "name": "stdout",
     "output_type": "stream",
     "text": [
      "   Processing epoch 3 / 14 ...\n",
      "   Processing epoch 4 / 14 ...\n",
      "   Processing epoch 5 / 14 ...\n",
      "   Processing epoch 6 / 14 ...\n",
      "   Processing epoch 7 / 14 ...\n",
      "   Processing epoch 8 / 14 ...\n",
      "   Processing epoch 9 / 14 ...\n",
      "   Processing epoch 10 / 14 ...\n",
      "   Processing epoch 11 / 14 ...\n",
      "   Processing epoch 12 / 14 ...\n",
      "   Processing epoch 13 / 14 ...\n",
      "   Processing epoch 14 / 14 ...\n",
      "[Connectivity computation done]\n",
      "Not setting metadata\n",
      "14 matching events found\n",
      "No baseline correction applied\n",
      "0 projection items activated\n",
      "Connectivity computation...\n",
      "   Processing epoch 1 / 14 ...\n",
      "   Processing epoch 2 / 14 ...\n"
     ]
    },
    {
     "name": "stderr",
     "output_type": "stream",
     "text": [
      "/var/folders/m4/pp85n2_d0t35q9wcrh9x24fr0000gn/T/ipykernel_41740/1540018642.py:57: RuntimeWarning: There were no Annotations stored in <EpochsArray |  14 events (all good), 0 – 234.371 s, baseline off, ~25.6 MB, data loaded,\n",
      " '1': 14>, so metadata was not modified.\n",
      "  con = spectral_connectivity_time(data_epoch, freqs = freqs, sfreq = sfreq,\n"
     ]
    },
    {
     "name": "stdout",
     "output_type": "stream",
     "text": [
      "   Processing epoch 3 / 14 ...\n",
      "   Processing epoch 4 / 14 ...\n",
      "   Processing epoch 5 / 14 ...\n",
      "   Processing epoch 6 / 14 ...\n",
      "   Processing epoch 7 / 14 ...\n",
      "   Processing epoch 8 / 14 ...\n",
      "   Processing epoch 9 / 14 ...\n",
      "   Processing epoch 10 / 14 ...\n",
      "   Processing epoch 11 / 14 ...\n",
      "   Processing epoch 12 / 14 ...\n",
      "   Processing epoch 13 / 14 ...\n",
      "   Processing epoch 14 / 14 ...\n",
      "[Connectivity computation done]\n",
      "Not setting metadata\n",
      "14 matching events found\n",
      "No baseline correction applied\n",
      "0 projection items activated\n",
      "Connectivity computation...\n",
      "   Processing epoch 1 / 14 ...\n",
      "   Processing epoch 2 / 14 ...\n"
     ]
    },
    {
     "name": "stderr",
     "output_type": "stream",
     "text": [
      "/var/folders/m4/pp85n2_d0t35q9wcrh9x24fr0000gn/T/ipykernel_41740/1540018642.py:57: RuntimeWarning: There were no Annotations stored in <EpochsArray |  14 events (all good), 0 – 234.371 s, baseline off, ~25.6 MB, data loaded,\n",
      " '1': 14>, so metadata was not modified.\n",
      "  con = spectral_connectivity_time(data_epoch, freqs = freqs, sfreq = sfreq,\n"
     ]
    },
    {
     "name": "stdout",
     "output_type": "stream",
     "text": [
      "   Processing epoch 3 / 14 ...\n",
      "   Processing epoch 4 / 14 ...\n",
      "   Processing epoch 5 / 14 ...\n",
      "   Processing epoch 6 / 14 ...\n",
      "   Processing epoch 7 / 14 ...\n",
      "   Processing epoch 8 / 14 ...\n",
      "   Processing epoch 9 / 14 ...\n",
      "   Processing epoch 10 / 14 ...\n",
      "   Processing epoch 11 / 14 ...\n",
      "   Processing epoch 12 / 14 ...\n",
      "   Processing epoch 13 / 14 ...\n",
      "   Processing epoch 14 / 14 ...\n",
      "[Connectivity computation done]\n",
      "Not setting metadata\n",
      "15 matching events found\n",
      "No baseline correction applied\n",
      "0 projection items activated\n",
      "Connectivity computation...\n",
      "   Processing epoch 1 / 15 ...\n",
      "   Processing epoch 2 / 15 ...\n"
     ]
    },
    {
     "name": "stderr",
     "output_type": "stream",
     "text": [
      "/var/folders/m4/pp85n2_d0t35q9wcrh9x24fr0000gn/T/ipykernel_41740/1540018642.py:57: RuntimeWarning: There were no Annotations stored in <EpochsArray |  15 events (all good), 0 – 234.371 s, baseline off, ~27.5 MB, data loaded,\n",
      " '1': 15>, so metadata was not modified.\n",
      "  con = spectral_connectivity_time(data_epoch, freqs = freqs, sfreq = sfreq,\n"
     ]
    },
    {
     "name": "stdout",
     "output_type": "stream",
     "text": [
      "   Processing epoch 3 / 15 ...\n",
      "   Processing epoch 4 / 15 ...\n",
      "   Processing epoch 5 / 15 ...\n",
      "   Processing epoch 6 / 15 ...\n",
      "   Processing epoch 7 / 15 ...\n",
      "   Processing epoch 8 / 15 ...\n",
      "   Processing epoch 9 / 15 ...\n",
      "   Processing epoch 10 / 15 ...\n",
      "   Processing epoch 11 / 15 ...\n",
      "   Processing epoch 12 / 15 ...\n",
      "   Processing epoch 13 / 15 ...\n",
      "   Processing epoch 14 / 15 ...\n",
      "   Processing epoch 15 / 15 ...\n",
      "[Connectivity computation done]\n",
      "Not setting metadata\n",
      "17 matching events found\n",
      "No baseline correction applied\n",
      "0 projection items activated\n",
      "Connectivity computation...\n",
      "   Processing epoch 1 / 17 ...\n",
      "   Processing epoch 2 / 17 ...\n"
     ]
    },
    {
     "name": "stderr",
     "output_type": "stream",
     "text": [
      "/var/folders/m4/pp85n2_d0t35q9wcrh9x24fr0000gn/T/ipykernel_41740/1540018642.py:57: RuntimeWarning: There were no Annotations stored in <EpochsArray |  17 events (all good), 0 – 234.371 s, baseline off, ~31.1 MB, data loaded,\n",
      " '1': 17>, so metadata was not modified.\n",
      "  con = spectral_connectivity_time(data_epoch, freqs = freqs, sfreq = sfreq,\n"
     ]
    },
    {
     "name": "stdout",
     "output_type": "stream",
     "text": [
      "   Processing epoch 3 / 17 ...\n",
      "   Processing epoch 4 / 17 ...\n",
      "   Processing epoch 5 / 17 ...\n",
      "   Processing epoch 6 / 17 ...\n",
      "   Processing epoch 7 / 17 ...\n",
      "   Processing epoch 8 / 17 ...\n",
      "   Processing epoch 9 / 17 ...\n",
      "   Processing epoch 10 / 17 ...\n",
      "   Processing epoch 11 / 17 ...\n",
      "   Processing epoch 12 / 17 ...\n",
      "   Processing epoch 13 / 17 ...\n",
      "   Processing epoch 14 / 17 ...\n",
      "   Processing epoch 15 / 17 ...\n",
      "   Processing epoch 16 / 17 ...\n",
      "   Processing epoch 17 / 17 ...\n",
      "[Connectivity computation done]\n",
      "Not setting metadata\n",
      "15 matching events found\n",
      "No baseline correction applied\n",
      "0 projection items activated\n",
      "Connectivity computation...\n",
      "   Processing epoch 1 / 15 ...\n",
      "   Processing epoch 2 / 15 ...\n"
     ]
    },
    {
     "name": "stderr",
     "output_type": "stream",
     "text": [
      "/var/folders/m4/pp85n2_d0t35q9wcrh9x24fr0000gn/T/ipykernel_41740/1540018642.py:57: RuntimeWarning: There were no Annotations stored in <EpochsArray |  15 events (all good), 0 – 234.371 s, baseline off, ~27.5 MB, data loaded,\n",
      " '1': 15>, so metadata was not modified.\n",
      "  con = spectral_connectivity_time(data_epoch, freqs = freqs, sfreq = sfreq,\n"
     ]
    },
    {
     "name": "stdout",
     "output_type": "stream",
     "text": [
      "   Processing epoch 3 / 15 ...\n",
      "   Processing epoch 4 / 15 ...\n",
      "   Processing epoch 5 / 15 ...\n",
      "   Processing epoch 6 / 15 ...\n",
      "   Processing epoch 7 / 15 ...\n",
      "   Processing epoch 8 / 15 ...\n",
      "   Processing epoch 9 / 15 ...\n",
      "   Processing epoch 10 / 15 ...\n",
      "   Processing epoch 11 / 15 ...\n",
      "   Processing epoch 12 / 15 ...\n",
      "   Processing epoch 13 / 15 ...\n",
      "   Processing epoch 14 / 15 ...\n",
      "   Processing epoch 15 / 15 ...\n",
      "[Connectivity computation done]\n",
      "Not setting metadata\n",
      "16 matching events found\n",
      "No baseline correction applied\n",
      "0 projection items activated\n",
      "Connectivity computation...\n",
      "   Processing epoch 1 / 16 ...\n"
     ]
    },
    {
     "name": "stderr",
     "output_type": "stream",
     "text": [
      "/var/folders/m4/pp85n2_d0t35q9wcrh9x24fr0000gn/T/ipykernel_41740/1540018642.py:57: RuntimeWarning: There were no Annotations stored in <EpochsArray |  16 events (all good), 0 – 234.371 s, baseline off, ~29.3 MB, data loaded,\n",
      " '1': 16>, so metadata was not modified.\n",
      "  con = spectral_connectivity_time(data_epoch, freqs = freqs, sfreq = sfreq,\n"
     ]
    },
    {
     "name": "stdout",
     "output_type": "stream",
     "text": [
      "   Processing epoch 2 / 16 ...\n",
      "   Processing epoch 3 / 16 ...\n",
      "   Processing epoch 4 / 16 ...\n",
      "   Processing epoch 5 / 16 ...\n",
      "   Processing epoch 6 / 16 ...\n",
      "   Processing epoch 7 / 16 ...\n",
      "   Processing epoch 8 / 16 ...\n",
      "   Processing epoch 9 / 16 ...\n",
      "   Processing epoch 10 / 16 ...\n",
      "   Processing epoch 11 / 16 ...\n",
      "   Processing epoch 12 / 16 ...\n",
      "   Processing epoch 13 / 16 ...\n",
      "   Processing epoch 14 / 16 ...\n",
      "   Processing epoch 15 / 16 ...\n",
      "   Processing epoch 16 / 16 ...\n",
      "[Connectivity computation done]\n",
      "Not setting metadata\n",
      "16 matching events found\n",
      "No baseline correction applied\n",
      "0 projection items activated\n",
      "Connectivity computation...\n",
      "   Processing epoch 1 / 16 ...\n",
      "   Processing epoch 2 / 16 ...\n"
     ]
    },
    {
     "name": "stderr",
     "output_type": "stream",
     "text": [
      "/var/folders/m4/pp85n2_d0t35q9wcrh9x24fr0000gn/T/ipykernel_41740/1540018642.py:57: RuntimeWarning: There were no Annotations stored in <EpochsArray |  16 events (all good), 0 – 234.371 s, baseline off, ~29.3 MB, data loaded,\n",
      " '1': 16>, so metadata was not modified.\n",
      "  con = spectral_connectivity_time(data_epoch, freqs = freqs, sfreq = sfreq,\n"
     ]
    },
    {
     "name": "stdout",
     "output_type": "stream",
     "text": [
      "   Processing epoch 3 / 16 ...\n",
      "   Processing epoch 4 / 16 ...\n",
      "   Processing epoch 5 / 16 ...\n",
      "   Processing epoch 6 / 16 ...\n",
      "   Processing epoch 7 / 16 ...\n",
      "   Processing epoch 8 / 16 ...\n",
      "   Processing epoch 9 / 16 ...\n",
      "   Processing epoch 10 / 16 ...\n",
      "   Processing epoch 11 / 16 ...\n",
      "   Processing epoch 12 / 16 ...\n",
      "   Processing epoch 13 / 16 ...\n",
      "   Processing epoch 14 / 16 ...\n",
      "   Processing epoch 15 / 16 ...\n",
      "   Processing epoch 16 / 16 ...\n",
      "[Connectivity computation done]\n",
      "Not setting metadata\n",
      "9 matching events found\n",
      "No baseline correction applied\n",
      "0 projection items activated\n",
      "Connectivity computation...\n",
      "   Processing epoch 1 / 9 ...\n",
      "   Processing epoch 2 / 9 ...\n"
     ]
    },
    {
     "name": "stderr",
     "output_type": "stream",
     "text": [
      "/var/folders/m4/pp85n2_d0t35q9wcrh9x24fr0000gn/T/ipykernel_41740/1540018642.py:57: RuntimeWarning: There were no Annotations stored in <EpochsArray |  9 events (all good), 0 – 234.371 s, baseline off, ~16.5 MB, data loaded,\n",
      " '1': 9>, so metadata was not modified.\n",
      "  con = spectral_connectivity_time(data_epoch, freqs = freqs, sfreq = sfreq,\n"
     ]
    },
    {
     "name": "stdout",
     "output_type": "stream",
     "text": [
      "   Processing epoch 3 / 9 ...\n",
      "   Processing epoch 4 / 9 ...\n",
      "   Processing epoch 5 / 9 ...\n",
      "   Processing epoch 6 / 9 ...\n",
      "   Processing epoch 7 / 9 ...\n",
      "   Processing epoch 8 / 9 ...\n",
      "   Processing epoch 9 / 9 ...\n",
      "[Connectivity computation done]\n",
      "Not setting metadata\n",
      "11 matching events found\n",
      "No baseline correction applied\n",
      "0 projection items activated\n",
      "Connectivity computation...\n",
      "   Processing epoch 1 / 11 ...\n",
      "   Processing epoch 2 / 11 ...\n"
     ]
    },
    {
     "name": "stderr",
     "output_type": "stream",
     "text": [
      "/var/folders/m4/pp85n2_d0t35q9wcrh9x24fr0000gn/T/ipykernel_41740/1540018642.py:57: RuntimeWarning: There were no Annotations stored in <EpochsArray |  11 events (all good), 0 – 234.371 s, baseline off, ~20.2 MB, data loaded,\n",
      " '1': 11>, so metadata was not modified.\n",
      "  con = spectral_connectivity_time(data_epoch, freqs = freqs, sfreq = sfreq,\n"
     ]
    },
    {
     "name": "stdout",
     "output_type": "stream",
     "text": [
      "   Processing epoch 3 / 11 ...\n",
      "   Processing epoch 4 / 11 ...\n",
      "   Processing epoch 5 / 11 ...\n",
      "   Processing epoch 6 / 11 ...\n",
      "   Processing epoch 7 / 11 ...\n",
      "   Processing epoch 8 / 11 ...\n",
      "   Processing epoch 9 / 11 ...\n",
      "   Processing epoch 10 / 11 ...\n",
      "   Processing epoch 11 / 11 ...\n",
      "[Connectivity computation done]\n",
      "Not setting metadata\n",
      "10 matching events found\n",
      "No baseline correction applied\n",
      "0 projection items activated\n",
      "Connectivity computation...\n",
      "   Processing epoch 1 / 10 ...\n",
      "   Processing epoch 2 / 10 ...\n"
     ]
    },
    {
     "name": "stderr",
     "output_type": "stream",
     "text": [
      "/var/folders/m4/pp85n2_d0t35q9wcrh9x24fr0000gn/T/ipykernel_41740/1540018642.py:57: RuntimeWarning: There were no Annotations stored in <EpochsArray |  10 events (all good), 0 – 234.371 s, baseline off, ~18.3 MB, data loaded,\n",
      " '1': 10>, so metadata was not modified.\n",
      "  con = spectral_connectivity_time(data_epoch, freqs = freqs, sfreq = sfreq,\n"
     ]
    },
    {
     "name": "stdout",
     "output_type": "stream",
     "text": [
      "   Processing epoch 3 / 10 ...\n",
      "   Processing epoch 4 / 10 ...\n",
      "   Processing epoch 5 / 10 ...\n",
      "   Processing epoch 6 / 10 ...\n",
      "   Processing epoch 7 / 10 ...\n",
      "   Processing epoch 8 / 10 ...\n",
      "   Processing epoch 9 / 10 ...\n",
      "   Processing epoch 10 / 10 ...\n",
      "[Connectivity computation done]\n",
      "Not setting metadata\n",
      "11 matching events found\n",
      "No baseline correction applied\n",
      "0 projection items activated\n",
      "Connectivity computation...\n",
      "   Processing epoch 1 / 11 ...\n",
      "   Processing epoch 2 / 11 ...\n"
     ]
    },
    {
     "name": "stderr",
     "output_type": "stream",
     "text": [
      "/var/folders/m4/pp85n2_d0t35q9wcrh9x24fr0000gn/T/ipykernel_41740/1540018642.py:57: RuntimeWarning: There were no Annotations stored in <EpochsArray |  11 events (all good), 0 – 234.371 s, baseline off, ~20.2 MB, data loaded,\n",
      " '1': 11>, so metadata was not modified.\n",
      "  con = spectral_connectivity_time(data_epoch, freqs = freqs, sfreq = sfreq,\n"
     ]
    },
    {
     "name": "stdout",
     "output_type": "stream",
     "text": [
      "   Processing epoch 3 / 11 ...\n",
      "   Processing epoch 4 / 11 ...\n",
      "   Processing epoch 5 / 11 ...\n",
      "   Processing epoch 6 / 11 ...\n",
      "   Processing epoch 7 / 11 ...\n",
      "   Processing epoch 8 / 11 ...\n",
      "   Processing epoch 9 / 11 ...\n",
      "   Processing epoch 10 / 11 ...\n",
      "   Processing epoch 11 / 11 ...\n",
      "[Connectivity computation done]\n",
      "Not setting metadata\n",
      "8 matching events found\n",
      "No baseline correction applied\n",
      "0 projection items activated\n",
      "Connectivity computation...\n",
      "   Processing epoch 1 / 8 ...\n",
      "   Processing epoch 2 / 8 ...\n"
     ]
    },
    {
     "name": "stderr",
     "output_type": "stream",
     "text": [
      "/var/folders/m4/pp85n2_d0t35q9wcrh9x24fr0000gn/T/ipykernel_41740/1540018642.py:57: RuntimeWarning: There were no Annotations stored in <EpochsArray |  8 events (all good), 0 – 234.371 s, baseline off, ~14.7 MB, data loaded,\n",
      " '1': 8>, so metadata was not modified.\n",
      "  con = spectral_connectivity_time(data_epoch, freqs = freqs, sfreq = sfreq,\n"
     ]
    },
    {
     "name": "stdout",
     "output_type": "stream",
     "text": [
      "   Processing epoch 3 / 8 ...\n",
      "   Processing epoch 4 / 8 ...\n",
      "   Processing epoch 5 / 8 ...\n",
      "   Processing epoch 6 / 8 ...\n",
      "   Processing epoch 7 / 8 ...\n",
      "   Processing epoch 8 / 8 ...\n",
      "[Connectivity computation done]\n",
      "Not setting metadata\n",
      "11 matching events found\n",
      "No baseline correction applied\n",
      "0 projection items activated\n",
      "Connectivity computation...\n",
      "   Processing epoch 1 / 11 ...\n",
      "   Processing epoch 2 / 11 ...\n"
     ]
    },
    {
     "name": "stderr",
     "output_type": "stream",
     "text": [
      "/var/folders/m4/pp85n2_d0t35q9wcrh9x24fr0000gn/T/ipykernel_41740/1540018642.py:57: RuntimeWarning: There were no Annotations stored in <EpochsArray |  11 events (all good), 0 – 234.371 s, baseline off, ~20.2 MB, data loaded,\n",
      " '1': 11>, so metadata was not modified.\n",
      "  con = spectral_connectivity_time(data_epoch, freqs = freqs, sfreq = sfreq,\n"
     ]
    },
    {
     "name": "stdout",
     "output_type": "stream",
     "text": [
      "   Processing epoch 3 / 11 ...\n",
      "   Processing epoch 4 / 11 ...\n",
      "   Processing epoch 5 / 11 ...\n",
      "   Processing epoch 6 / 11 ...\n",
      "   Processing epoch 7 / 11 ...\n",
      "   Processing epoch 8 / 11 ...\n",
      "   Processing epoch 9 / 11 ...\n",
      "   Processing epoch 10 / 11 ...\n",
      "   Processing epoch 11 / 11 ...\n",
      "[Connectivity computation done]\n",
      "Not setting metadata\n",
      "12 matching events found\n",
      "No baseline correction applied\n",
      "0 projection items activated\n",
      "Connectivity computation...\n",
      "   Processing epoch 1 / 12 ...\n",
      "   Processing epoch 2 / 12 ...\n"
     ]
    },
    {
     "name": "stderr",
     "output_type": "stream",
     "text": [
      "/var/folders/m4/pp85n2_d0t35q9wcrh9x24fr0000gn/T/ipykernel_41740/1540018642.py:57: RuntimeWarning: There were no Annotations stored in <EpochsArray |  12 events (all good), 0 – 234.371 s, baseline off, ~22.0 MB, data loaded,\n",
      " '1': 12>, so metadata was not modified.\n",
      "  con = spectral_connectivity_time(data_epoch, freqs = freqs, sfreq = sfreq,\n"
     ]
    },
    {
     "name": "stdout",
     "output_type": "stream",
     "text": [
      "   Processing epoch 3 / 12 ...\n",
      "   Processing epoch 4 / 12 ...\n",
      "   Processing epoch 5 / 12 ...\n",
      "   Processing epoch 6 / 12 ...\n",
      "   Processing epoch 7 / 12 ...\n",
      "   Processing epoch 8 / 12 ...\n",
      "   Processing epoch 9 / 12 ...\n",
      "   Processing epoch 10 / 12 ...\n",
      "   Processing epoch 11 / 12 ...\n",
      "   Processing epoch 12 / 12 ...\n",
      "[Connectivity computation done]\n",
      "Not setting metadata\n",
      "16 matching events found\n",
      "No baseline correction applied\n",
      "0 projection items activated\n",
      "Connectivity computation...\n",
      "   Processing epoch 1 / 16 ...\n",
      "   Processing epoch 2 / 16 ...\n"
     ]
    },
    {
     "name": "stderr",
     "output_type": "stream",
     "text": [
      "/var/folders/m4/pp85n2_d0t35q9wcrh9x24fr0000gn/T/ipykernel_41740/1540018642.py:57: RuntimeWarning: There were no Annotations stored in <EpochsArray |  16 events (all good), 0 – 234.371 s, baseline off, ~29.3 MB, data loaded,\n",
      " '1': 16>, so metadata was not modified.\n",
      "  con = spectral_connectivity_time(data_epoch, freqs = freqs, sfreq = sfreq,\n"
     ]
    },
    {
     "name": "stdout",
     "output_type": "stream",
     "text": [
      "   Processing epoch 3 / 16 ...\n",
      "   Processing epoch 4 / 16 ...\n",
      "   Processing epoch 5 / 16 ...\n",
      "   Processing epoch 6 / 16 ...\n",
      "   Processing epoch 7 / 16 ...\n",
      "   Processing epoch 8 / 16 ...\n",
      "   Processing epoch 9 / 16 ...\n",
      "   Processing epoch 10 / 16 ...\n",
      "   Processing epoch 11 / 16 ...\n",
      "   Processing epoch 12 / 16 ...\n",
      "   Processing epoch 13 / 16 ...\n",
      "   Processing epoch 14 / 16 ...\n",
      "   Processing epoch 15 / 16 ...\n",
      "   Processing epoch 16 / 16 ...\n",
      "[Connectivity computation done]\n",
      "Not setting metadata\n",
      "19 matching events found\n",
      "No baseline correction applied\n",
      "0 projection items activated\n",
      "Connectivity computation...\n",
      "   Processing epoch 1 / 19 ...\n",
      "   Processing epoch 2 / 19 ...\n"
     ]
    },
    {
     "name": "stderr",
     "output_type": "stream",
     "text": [
      "/var/folders/m4/pp85n2_d0t35q9wcrh9x24fr0000gn/T/ipykernel_41740/1540018642.py:57: RuntimeWarning: There were no Annotations stored in <EpochsArray |  19 events (all good), 0 – 234.371 s, baseline off, ~34.8 MB, data loaded,\n",
      " '1': 19>, so metadata was not modified.\n",
      "  con = spectral_connectivity_time(data_epoch, freqs = freqs, sfreq = sfreq,\n"
     ]
    },
    {
     "name": "stdout",
     "output_type": "stream",
     "text": [
      "   Processing epoch 3 / 19 ...\n",
      "   Processing epoch 4 / 19 ...\n",
      "   Processing epoch 5 / 19 ...\n",
      "   Processing epoch 6 / 19 ...\n",
      "   Processing epoch 7 / 19 ...\n",
      "   Processing epoch 8 / 19 ...\n",
      "   Processing epoch 9 / 19 ...\n",
      "   Processing epoch 10 / 19 ...\n",
      "   Processing epoch 11 / 19 ...\n",
      "   Processing epoch 12 / 19 ...\n",
      "   Processing epoch 13 / 19 ...\n",
      "   Processing epoch 14 / 19 ...\n",
      "   Processing epoch 15 / 19 ...\n",
      "   Processing epoch 16 / 19 ...\n",
      "   Processing epoch 17 / 19 ...\n",
      "   Processing epoch 18 / 19 ...\n",
      "   Processing epoch 19 / 19 ...\n",
      "[Connectivity computation done]\n",
      "Not setting metadata\n",
      "14 matching events found\n",
      "No baseline correction applied\n",
      "0 projection items activated\n",
      "Connectivity computation...\n",
      "   Processing epoch 1 / 14 ...\n",
      "   Processing epoch 2 / 14 ...\n"
     ]
    },
    {
     "name": "stderr",
     "output_type": "stream",
     "text": [
      "/var/folders/m4/pp85n2_d0t35q9wcrh9x24fr0000gn/T/ipykernel_41740/1540018642.py:57: RuntimeWarning: There were no Annotations stored in <EpochsArray |  14 events (all good), 0 – 234.371 s, baseline off, ~25.6 MB, data loaded,\n",
      " '1': 14>, so metadata was not modified.\n",
      "  con = spectral_connectivity_time(data_epoch, freqs = freqs, sfreq = sfreq,\n"
     ]
    },
    {
     "name": "stdout",
     "output_type": "stream",
     "text": [
      "   Processing epoch 3 / 14 ...\n",
      "   Processing epoch 4 / 14 ...\n",
      "   Processing epoch 5 / 14 ...\n",
      "   Processing epoch 6 / 14 ...\n",
      "   Processing epoch 7 / 14 ...\n",
      "   Processing epoch 8 / 14 ...\n",
      "   Processing epoch 9 / 14 ...\n",
      "   Processing epoch 10 / 14 ...\n",
      "   Processing epoch 11 / 14 ...\n",
      "   Processing epoch 12 / 14 ...\n",
      "   Processing epoch 13 / 14 ...\n",
      "   Processing epoch 14 / 14 ...\n",
      "[Connectivity computation done]\n",
      "Not setting metadata\n",
      "15 matching events found\n",
      "No baseline correction applied\n",
      "0 projection items activated\n",
      "Connectivity computation...\n",
      "   Processing epoch 1 / 15 ...\n",
      "   Processing epoch 2 / 15 ...\n"
     ]
    },
    {
     "name": "stderr",
     "output_type": "stream",
     "text": [
      "/var/folders/m4/pp85n2_d0t35q9wcrh9x24fr0000gn/T/ipykernel_41740/1540018642.py:57: RuntimeWarning: There were no Annotations stored in <EpochsArray |  15 events (all good), 0 – 234.371 s, baseline off, ~27.5 MB, data loaded,\n",
      " '1': 15>, so metadata was not modified.\n",
      "  con = spectral_connectivity_time(data_epoch, freqs = freqs, sfreq = sfreq,\n"
     ]
    },
    {
     "name": "stdout",
     "output_type": "stream",
     "text": [
      "   Processing epoch 3 / 15 ...\n",
      "   Processing epoch 4 / 15 ...\n",
      "   Processing epoch 5 / 15 ...\n",
      "   Processing epoch 6 / 15 ...\n",
      "   Processing epoch 7 / 15 ...\n",
      "   Processing epoch 8 / 15 ...\n",
      "   Processing epoch 9 / 15 ...\n",
      "   Processing epoch 10 / 15 ...\n",
      "   Processing epoch 11 / 15 ...\n",
      "   Processing epoch 12 / 15 ...\n",
      "   Processing epoch 13 / 15 ...\n",
      "   Processing epoch 14 / 15 ...\n",
      "   Processing epoch 15 / 15 ...\n",
      "[Connectivity computation done]\n",
      "Not setting metadata\n",
      "13 matching events found\n",
      "No baseline correction applied\n",
      "0 projection items activated\n",
      "Connectivity computation...\n",
      "   Processing epoch 1 / 13 ...\n",
      "   Processing epoch 2 / 13 ...\n"
     ]
    },
    {
     "name": "stderr",
     "output_type": "stream",
     "text": [
      "/var/folders/m4/pp85n2_d0t35q9wcrh9x24fr0000gn/T/ipykernel_41740/1540018642.py:57: RuntimeWarning: There were no Annotations stored in <EpochsArray |  13 events (all good), 0 – 234.371 s, baseline off, ~23.8 MB, data loaded,\n",
      " '1': 13>, so metadata was not modified.\n",
      "  con = spectral_connectivity_time(data_epoch, freqs = freqs, sfreq = sfreq,\n"
     ]
    },
    {
     "name": "stdout",
     "output_type": "stream",
     "text": [
      "   Processing epoch 3 / 13 ...\n",
      "   Processing epoch 4 / 13 ...\n",
      "   Processing epoch 5 / 13 ...\n",
      "   Processing epoch 6 / 13 ...\n",
      "   Processing epoch 7 / 13 ...\n",
      "   Processing epoch 8 / 13 ...\n",
      "   Processing epoch 9 / 13 ...\n",
      "   Processing epoch 10 / 13 ...\n",
      "   Processing epoch 11 / 13 ...\n",
      "   Processing epoch 12 / 13 ...\n",
      "   Processing epoch 13 / 13 ...\n",
      "[Connectivity computation done]\n",
      "Not setting metadata\n",
      "16 matching events found\n",
      "No baseline correction applied\n",
      "0 projection items activated\n",
      "Connectivity computation...\n",
      "   Processing epoch 1 / 16 ...\n",
      "   Processing epoch 2 / 16 ...\n"
     ]
    },
    {
     "name": "stderr",
     "output_type": "stream",
     "text": [
      "/var/folders/m4/pp85n2_d0t35q9wcrh9x24fr0000gn/T/ipykernel_41740/1540018642.py:57: RuntimeWarning: There were no Annotations stored in <EpochsArray |  16 events (all good), 0 – 234.371 s, baseline off, ~29.3 MB, data loaded,\n",
      " '1': 16>, so metadata was not modified.\n",
      "  con = spectral_connectivity_time(data_epoch, freqs = freqs, sfreq = sfreq,\n"
     ]
    },
    {
     "name": "stdout",
     "output_type": "stream",
     "text": [
      "   Processing epoch 3 / 16 ...\n",
      "   Processing epoch 4 / 16 ...\n",
      "   Processing epoch 5 / 16 ...\n",
      "   Processing epoch 6 / 16 ...\n",
      "   Processing epoch 7 / 16 ...\n",
      "   Processing epoch 8 / 16 ...\n",
      "   Processing epoch 9 / 16 ...\n",
      "   Processing epoch 10 / 16 ...\n",
      "   Processing epoch 11 / 16 ...\n",
      "   Processing epoch 12 / 16 ...\n",
      "   Processing epoch 13 / 16 ...\n",
      "   Processing epoch 14 / 16 ...\n",
      "   Processing epoch 15 / 16 ...\n",
      "   Processing epoch 16 / 16 ...\n",
      "[Connectivity computation done]\n",
      "Not setting metadata\n",
      "15 matching events found\n",
      "No baseline correction applied\n",
      "0 projection items activated\n",
      "Connectivity computation...\n",
      "   Processing epoch 1 / 15 ...\n",
      "   Processing epoch 2 / 15 ...\n"
     ]
    },
    {
     "name": "stderr",
     "output_type": "stream",
     "text": [
      "/var/folders/m4/pp85n2_d0t35q9wcrh9x24fr0000gn/T/ipykernel_41740/1540018642.py:57: RuntimeWarning: There were no Annotations stored in <EpochsArray |  15 events (all good), 0 – 234.371 s, baseline off, ~27.5 MB, data loaded,\n",
      " '1': 15>, so metadata was not modified.\n",
      "  con = spectral_connectivity_time(data_epoch, freqs = freqs, sfreq = sfreq,\n"
     ]
    },
    {
     "name": "stdout",
     "output_type": "stream",
     "text": [
      "   Processing epoch 3 / 15 ...\n",
      "   Processing epoch 4 / 15 ...\n",
      "   Processing epoch 5 / 15 ...\n",
      "   Processing epoch 6 / 15 ...\n",
      "   Processing epoch 7 / 15 ...\n",
      "   Processing epoch 8 / 15 ...\n",
      "   Processing epoch 9 / 15 ...\n",
      "   Processing epoch 10 / 15 ...\n",
      "   Processing epoch 11 / 15 ...\n",
      "   Processing epoch 12 / 15 ...\n",
      "   Processing epoch 13 / 15 ...\n",
      "   Processing epoch 14 / 15 ...\n",
      "   Processing epoch 15 / 15 ...\n",
      "[Connectivity computation done]\n",
      "Not setting metadata\n",
      "17 matching events found\n",
      "No baseline correction applied\n",
      "0 projection items activated\n",
      "Connectivity computation...\n",
      "   Processing epoch 1 / 17 ...\n",
      "   Processing epoch 2 / 17 ...\n"
     ]
    },
    {
     "name": "stderr",
     "output_type": "stream",
     "text": [
      "/var/folders/m4/pp85n2_d0t35q9wcrh9x24fr0000gn/T/ipykernel_41740/1540018642.py:57: RuntimeWarning: There were no Annotations stored in <EpochsArray |  17 events (all good), 0 – 234.371 s, baseline off, ~31.1 MB, data loaded,\n",
      " '1': 17>, so metadata was not modified.\n",
      "  con = spectral_connectivity_time(data_epoch, freqs = freqs, sfreq = sfreq,\n"
     ]
    },
    {
     "name": "stdout",
     "output_type": "stream",
     "text": [
      "   Processing epoch 3 / 17 ...\n",
      "   Processing epoch 4 / 17 ...\n",
      "   Processing epoch 5 / 17 ...\n",
      "   Processing epoch 6 / 17 ...\n",
      "   Processing epoch 7 / 17 ...\n",
      "   Processing epoch 8 / 17 ...\n",
      "   Processing epoch 9 / 17 ...\n",
      "   Processing epoch 10 / 17 ...\n",
      "   Processing epoch 11 / 17 ...\n",
      "   Processing epoch 12 / 17 ...\n",
      "   Processing epoch 13 / 17 ...\n",
      "   Processing epoch 14 / 17 ...\n",
      "   Processing epoch 15 / 17 ...\n",
      "   Processing epoch 16 / 17 ...\n",
      "   Processing epoch 17 / 17 ...\n",
      "[Connectivity computation done]\n",
      "Not setting metadata\n",
      "15 matching events found\n",
      "No baseline correction applied\n",
      "0 projection items activated\n",
      "Connectivity computation...\n",
      "   Processing epoch 1 / 15 ...\n",
      "   Processing epoch 2 / 15 ...\n"
     ]
    },
    {
     "name": "stderr",
     "output_type": "stream",
     "text": [
      "/var/folders/m4/pp85n2_d0t35q9wcrh9x24fr0000gn/T/ipykernel_41740/1540018642.py:57: RuntimeWarning: There were no Annotations stored in <EpochsArray |  15 events (all good), 0 – 234.371 s, baseline off, ~27.5 MB, data loaded,\n",
      " '1': 15>, so metadata was not modified.\n",
      "  con = spectral_connectivity_time(data_epoch, freqs = freqs, sfreq = sfreq,\n"
     ]
    },
    {
     "name": "stdout",
     "output_type": "stream",
     "text": [
      "   Processing epoch 3 / 15 ...\n",
      "   Processing epoch 4 / 15 ...\n",
      "   Processing epoch 5 / 15 ...\n",
      "   Processing epoch 6 / 15 ...\n",
      "   Processing epoch 7 / 15 ...\n",
      "   Processing epoch 8 / 15 ...\n",
      "   Processing epoch 9 / 15 ...\n",
      "   Processing epoch 10 / 15 ...\n",
      "   Processing epoch 11 / 15 ...\n",
      "   Processing epoch 12 / 15 ...\n",
      "   Processing epoch 13 / 15 ...\n",
      "   Processing epoch 14 / 15 ...\n",
      "   Processing epoch 15 / 15 ...\n",
      "[Connectivity computation done]\n",
      "Not setting metadata\n",
      "14 matching events found\n",
      "No baseline correction applied\n",
      "0 projection items activated\n",
      "Connectivity computation...\n",
      "   Processing epoch 1 / 14 ...\n",
      "   Processing epoch 2 / 14 ...\n"
     ]
    },
    {
     "name": "stderr",
     "output_type": "stream",
     "text": [
      "/var/folders/m4/pp85n2_d0t35q9wcrh9x24fr0000gn/T/ipykernel_41740/1540018642.py:57: RuntimeWarning: There were no Annotations stored in <EpochsArray |  14 events (all good), 0 – 234.371 s, baseline off, ~25.6 MB, data loaded,\n",
      " '1': 14>, so metadata was not modified.\n",
      "  con = spectral_connectivity_time(data_epoch, freqs = freqs, sfreq = sfreq,\n"
     ]
    },
    {
     "name": "stdout",
     "output_type": "stream",
     "text": [
      "   Processing epoch 3 / 14 ...\n",
      "   Processing epoch 4 / 14 ...\n",
      "   Processing epoch 5 / 14 ...\n",
      "   Processing epoch 6 / 14 ...\n",
      "   Processing epoch 7 / 14 ...\n",
      "   Processing epoch 8 / 14 ...\n",
      "   Processing epoch 9 / 14 ...\n",
      "   Processing epoch 10 / 14 ...\n",
      "   Processing epoch 11 / 14 ...\n",
      "   Processing epoch 12 / 14 ...\n",
      "   Processing epoch 13 / 14 ...\n",
      "   Processing epoch 14 / 14 ...\n",
      "[Connectivity computation done]\n",
      "Not setting metadata\n",
      "17 matching events found\n",
      "No baseline correction applied\n",
      "0 projection items activated\n",
      "Connectivity computation...\n",
      "   Processing epoch 1 / 17 ...\n",
      "   Processing epoch 2 / 17 ...\n"
     ]
    },
    {
     "name": "stderr",
     "output_type": "stream",
     "text": [
      "/var/folders/m4/pp85n2_d0t35q9wcrh9x24fr0000gn/T/ipykernel_41740/1540018642.py:57: RuntimeWarning: There were no Annotations stored in <EpochsArray |  17 events (all good), 0 – 234.371 s, baseline off, ~31.1 MB, data loaded,\n",
      " '1': 17>, so metadata was not modified.\n",
      "  con = spectral_connectivity_time(data_epoch, freqs = freqs, sfreq = sfreq,\n"
     ]
    },
    {
     "name": "stdout",
     "output_type": "stream",
     "text": [
      "   Processing epoch 3 / 17 ...\n",
      "   Processing epoch 4 / 17 ...\n",
      "   Processing epoch 5 / 17 ...\n",
      "   Processing epoch 6 / 17 ...\n",
      "   Processing epoch 7 / 17 ...\n",
      "   Processing epoch 8 / 17 ...\n",
      "   Processing epoch 9 / 17 ...\n",
      "   Processing epoch 10 / 17 ...\n",
      "   Processing epoch 11 / 17 ...\n",
      "   Processing epoch 12 / 17 ...\n",
      "   Processing epoch 13 / 17 ...\n",
      "   Processing epoch 14 / 17 ...\n",
      "   Processing epoch 15 / 17 ...\n",
      "   Processing epoch 16 / 17 ...\n",
      "   Processing epoch 17 / 17 ...\n",
      "[Connectivity computation done]\n",
      "Not setting metadata\n",
      "12 matching events found\n",
      "No baseline correction applied\n",
      "0 projection items activated\n",
      "Connectivity computation...\n",
      "   Processing epoch 1 / 12 ...\n",
      "   Processing epoch 2 / 12 ...\n"
     ]
    },
    {
     "name": "stderr",
     "output_type": "stream",
     "text": [
      "/var/folders/m4/pp85n2_d0t35q9wcrh9x24fr0000gn/T/ipykernel_41740/1540018642.py:57: RuntimeWarning: There were no Annotations stored in <EpochsArray |  12 events (all good), 0 – 234.371 s, baseline off, ~22.0 MB, data loaded,\n",
      " '1': 12>, so metadata was not modified.\n",
      "  con = spectral_connectivity_time(data_epoch, freqs = freqs, sfreq = sfreq,\n"
     ]
    },
    {
     "name": "stdout",
     "output_type": "stream",
     "text": [
      "   Processing epoch 3 / 12 ...\n",
      "   Processing epoch 4 / 12 ...\n",
      "   Processing epoch 5 / 12 ...\n",
      "   Processing epoch 6 / 12 ...\n",
      "   Processing epoch 7 / 12 ...\n",
      "   Processing epoch 8 / 12 ...\n",
      "   Processing epoch 9 / 12 ...\n",
      "   Processing epoch 10 / 12 ...\n",
      "   Processing epoch 11 / 12 ...\n",
      "   Processing epoch 12 / 12 ...\n",
      "[Connectivity computation done]\n",
      "Not setting metadata\n",
      "10 matching events found\n",
      "No baseline correction applied\n",
      "0 projection items activated\n",
      "Connectivity computation...\n",
      "   Processing epoch 1 / 10 ...\n",
      "   Processing epoch 2 / 10 ...\n"
     ]
    },
    {
     "name": "stderr",
     "output_type": "stream",
     "text": [
      "/var/folders/m4/pp85n2_d0t35q9wcrh9x24fr0000gn/T/ipykernel_41740/1540018642.py:57: RuntimeWarning: There were no Annotations stored in <EpochsArray |  10 events (all good), 0 – 234.371 s, baseline off, ~18.3 MB, data loaded,\n",
      " '1': 10>, so metadata was not modified.\n",
      "  con = spectral_connectivity_time(data_epoch, freqs = freqs, sfreq = sfreq,\n"
     ]
    },
    {
     "name": "stdout",
     "output_type": "stream",
     "text": [
      "   Processing epoch 3 / 10 ...\n",
      "   Processing epoch 4 / 10 ...\n",
      "   Processing epoch 5 / 10 ...\n",
      "   Processing epoch 6 / 10 ...\n",
      "   Processing epoch 7 / 10 ...\n",
      "   Processing epoch 8 / 10 ...\n",
      "   Processing epoch 9 / 10 ...\n",
      "   Processing epoch 10 / 10 ...\n",
      "[Connectivity computation done]\n",
      "Not setting metadata\n",
      "10 matching events found\n",
      "No baseline correction applied\n",
      "0 projection items activated\n",
      "Connectivity computation...\n",
      "   Processing epoch 1 / 10 ...\n",
      "   Processing epoch 2 / 10 ...\n"
     ]
    },
    {
     "name": "stderr",
     "output_type": "stream",
     "text": [
      "/var/folders/m4/pp85n2_d0t35q9wcrh9x24fr0000gn/T/ipykernel_41740/1540018642.py:57: RuntimeWarning: There were no Annotations stored in <EpochsArray |  10 events (all good), 0 – 234.371 s, baseline off, ~18.3 MB, data loaded,\n",
      " '1': 10>, so metadata was not modified.\n",
      "  con = spectral_connectivity_time(data_epoch, freqs = freqs, sfreq = sfreq,\n"
     ]
    },
    {
     "name": "stdout",
     "output_type": "stream",
     "text": [
      "   Processing epoch 3 / 10 ...\n",
      "   Processing epoch 4 / 10 ...\n",
      "   Processing epoch 5 / 10 ...\n",
      "   Processing epoch 6 / 10 ...\n",
      "   Processing epoch 7 / 10 ...\n",
      "   Processing epoch 8 / 10 ...\n",
      "   Processing epoch 9 / 10 ...\n",
      "   Processing epoch 10 / 10 ...\n",
      "[Connectivity computation done]\n",
      "Not setting metadata\n",
      "11 matching events found\n",
      "No baseline correction applied\n",
      "0 projection items activated\n",
      "Connectivity computation...\n",
      "   Processing epoch 1 / 11 ...\n",
      "   Processing epoch 2 / 11 ...\n"
     ]
    },
    {
     "name": "stderr",
     "output_type": "stream",
     "text": [
      "/var/folders/m4/pp85n2_d0t35q9wcrh9x24fr0000gn/T/ipykernel_41740/1540018642.py:57: RuntimeWarning: There were no Annotations stored in <EpochsArray |  11 events (all good), 0 – 234.371 s, baseline off, ~20.2 MB, data loaded,\n",
      " '1': 11>, so metadata was not modified.\n",
      "  con = spectral_connectivity_time(data_epoch, freqs = freqs, sfreq = sfreq,\n"
     ]
    },
    {
     "name": "stdout",
     "output_type": "stream",
     "text": [
      "   Processing epoch 3 / 11 ...\n",
      "   Processing epoch 4 / 11 ...\n",
      "   Processing epoch 5 / 11 ...\n",
      "   Processing epoch 6 / 11 ...\n",
      "   Processing epoch 7 / 11 ...\n",
      "   Processing epoch 8 / 11 ...\n",
      "   Processing epoch 9 / 11 ...\n",
      "   Processing epoch 10 / 11 ...\n",
      "   Processing epoch 11 / 11 ...\n",
      "[Connectivity computation done]\n",
      "Not setting metadata\n",
      "14 matching events found\n",
      "No baseline correction applied\n",
      "0 projection items activated\n",
      "Connectivity computation...\n",
      "   Processing epoch 1 / 14 ...\n",
      "   Processing epoch 2 / 14 ...\n"
     ]
    },
    {
     "name": "stderr",
     "output_type": "stream",
     "text": [
      "/var/folders/m4/pp85n2_d0t35q9wcrh9x24fr0000gn/T/ipykernel_41740/1540018642.py:57: RuntimeWarning: There were no Annotations stored in <EpochsArray |  14 events (all good), 0 – 234.371 s, baseline off, ~25.6 MB, data loaded,\n",
      " '1': 14>, so metadata was not modified.\n",
      "  con = spectral_connectivity_time(data_epoch, freqs = freqs, sfreq = sfreq,\n"
     ]
    },
    {
     "name": "stdout",
     "output_type": "stream",
     "text": [
      "   Processing epoch 3 / 14 ...\n",
      "   Processing epoch 4 / 14 ...\n",
      "   Processing epoch 5 / 14 ...\n",
      "   Processing epoch 6 / 14 ...\n",
      "   Processing epoch 7 / 14 ...\n",
      "   Processing epoch 8 / 14 ...\n",
      "   Processing epoch 9 / 14 ...\n",
      "   Processing epoch 10 / 14 ...\n",
      "   Processing epoch 11 / 14 ...\n",
      "   Processing epoch 12 / 14 ...\n",
      "   Processing epoch 13 / 14 ...\n",
      "   Processing epoch 14 / 14 ...\n",
      "[Connectivity computation done]\n"
     ]
    }
   ],
   "source": [
    "# spectral connectivity data for all subjects: single choice of parameters:\n",
    "filename = \"processed_data/con_data_0\"+\"INSERT_INTEGER\"+\".npy\";\n",
    "con_data = connectivity_processing(all_data, channels, Freq_Bands, f_bands, f_spacing, sfreq, method, mode, subjects = [i for i in range(88)], f_avg = True, save = True, filename = filename, ch_types = \"eeg\")"
   ]
  },
  {
   "cell_type": "code",
   "execution_count": 9,
   "id": "816c9fd6",
   "metadata": {},
   "outputs": [],
   "source": [
    "# uncomment if previously generated data:\n",
    "#con_data = np.load(filename,allow_pickle=True)"
   ]
  },
  {
   "cell_type": "markdown",
   "id": "c0bc29d4",
   "metadata": {},
   "source": [
    "# Generate rbp data: long epochs"
   ]
  },
  {
   "cell_type": "code",
   "execution_count": 18,
   "id": "d545312f",
   "metadata": {},
   "outputs": [],
   "source": [
    "# create dictionary of channel names:\n",
    "channel_dict = {0: 'Fp1', 1: 'Fp2', 2: 'F3', 3: 'F4', 4: 'C3', 5: 'C4', 6: 'P3',\n",
    "                    7: 'P4', 8: 'O1', 9: 'O2',10: 'F7', 11: 'F8', 12: 'T3', 13: 'T4',\n",
    "                    14: 'T5', 15: 'T6', 16: 'Fz', 17: 'Cz', 18: 'Pz'}"
   ]
  },
  {
   "cell_type": "code",
   "execution_count": 19,
   "id": "82b60d84",
   "metadata": {},
   "outputs": [],
   "source": [
    "# reverse dictionary mapping:\n",
    "probe_dict = dict((v, k) for k, v in channel_dict.items())"
   ]
  },
  {
   "cell_type": "code",
   "execution_count": 20,
   "id": "697c85cb",
   "metadata": {},
   "outputs": [],
   "source": [
    "# choose parameters:\n",
    "epoch_length = 60000\n",
    "overlap_ratio = 0.6\n",
    "freq_bands = np.array([0.5,4.0,7.0,9.0,11.0,13.0,25.0,45.0])\n",
    "nperseg = 256\n",
    "\n",
    "# remove channels: \n",
    "remove_channel = ['F3', 'F4', 'C4', 'F8'];\n",
    "channels = [element for element in list(channel_dict) if element not in [probe_dict[j] for j in remove_channel]]\n",
    "\n",
    "# subset of frequencies:\n",
    "freqs = [i for i in range(6)]"
   ]
  },
  {
   "cell_type": "code",
   "execution_count": 31,
   "id": "eb90e122",
   "metadata": {
    "scrolled": true
   },
   "outputs": [],
   "source": [
    "# generate rbp features:\n",
    "rbp_filename = \"processed_data/rbp_data_long_epochs.npy\";\n",
    "rbp_features = process(epoch_length,overlap_ratio,freq_bands,nperseg, absolute=False, sample_freq=256,total_subjects=88)"
   ]
  },
  {
   "cell_type": "code",
   "execution_count": 32,
   "id": "5c2767f9",
   "metadata": {},
   "outputs": [],
   "source": [
    "np.save(rbp_filename, np.array((np.array(rbp_features, dtype=object)), dtype=object), allow_pickle=True)"
   ]
  },
  {
   "cell_type": "code",
   "execution_count": 10,
   "id": "3d380e67",
   "metadata": {},
   "outputs": [],
   "source": [
    "# load data if previously generated:\n",
    "#rbp_data = np.load(rbp_filename,allow_pickle=True)"
   ]
  },
  {
   "cell_type": "markdown",
   "id": "e8c80b00",
   "metadata": {},
   "source": [
    "# Format data for training"
   ]
  },
  {
   "cell_type": "markdown",
   "id": "2b73c33f",
   "metadata": {},
   "source": [
    "# Load pre-generated data"
   ]
  },
  {
   "cell_type": "markdown",
   "id": "6a4e0560",
   "metadata": {},
   "source": [
    "## connectivity data processing:"
   ]
  },
  {
   "cell_type": "markdown",
   "id": "9218c0e0",
   "metadata": {},
   "source": [
    "**NOTE:** Must have several .npy connectivity data files pre-generated that you compile into a list:"
   ]
  },
  {
   "cell_type": "code",
   "execution_count": 12,
   "id": "66c584f2",
   "metadata": {},
   "outputs": [],
   "source": [
    "# aggregates previously generated connectivity data from various node/frequency combinations:\n",
    "con_data_lst = [np.load('processed_data/con_data_0'+str(i+1)+'.npy',allow_pickle=True) for i in range(5)]"
   ]
  },
  {
   "cell_type": "code",
   "execution_count": 13,
   "id": "91c6a62e",
   "metadata": {},
   "outputs": [],
   "source": [
    "con_features = get_con_data(con_data_lst,88)"
   ]
  },
  {
   "cell_type": "markdown",
   "id": "dbfa6f41",
   "metadata": {},
   "source": [
    "## rbp data processing:"
   ]
  },
  {
   "cell_type": "code",
   "execution_count": 14,
   "id": "4be4cbe5",
   "metadata": {},
   "outputs": [],
   "source": [
    "rbp_data = np.load('processed_data/rbp_data_long_epochs.npy',allow_pickle=True)"
   ]
  },
  {
   "cell_type": "code",
   "execution_count": 21,
   "id": "df4102d9",
   "metadata": {},
   "outputs": [],
   "source": [
    "rbp_features = reshape_rbp_data(rbp_data,freqs,channels)"
   ]
  },
  {
   "cell_type": "markdown",
   "id": "505a3cb4",
   "metadata": {},
   "source": [
    "## merging"
   ]
  },
  {
   "cell_type": "code",
   "execution_count": 22,
   "id": "7642e88b",
   "metadata": {},
   "outputs": [],
   "source": [
    "features = get_con_rbp_data(con_features,rbp_features,88)"
   ]
  },
  {
   "cell_type": "code",
   "execution_count": 25,
   "id": "41fb65c0",
   "metadata": {},
   "outputs": [],
   "source": [
    "np.save(\"processed_data/rbp_plus_all_con_long_epochs.npy\", np.array((np.array(features, dtype=object)), dtype=object), allow_pickle=True)"
   ]
  }
 ],
 "metadata": {
  "kernelspec": {
   "display_name": "Python 3 (ipykernel)",
   "language": "python",
   "name": "python3"
  },
  "language_info": {
   "codemirror_mode": {
    "name": "ipython",
    "version": 3
   },
   "file_extension": ".py",
   "mimetype": "text/x-python",
   "name": "python",
   "nbconvert_exporter": "python",
   "pygments_lexer": "ipython3",
   "version": "3.10.12"
  }
 },
 "nbformat": 4,
 "nbformat_minor": 5
}

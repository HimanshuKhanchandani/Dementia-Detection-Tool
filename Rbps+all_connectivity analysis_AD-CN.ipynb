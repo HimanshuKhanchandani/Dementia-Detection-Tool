{
 "cells": [
  {
   "cell_type": "markdown",
   "id": "41f69dfe",
   "metadata": {},
   "source": [
    "We combined \"long epochs\" of rbps of 15 nodes and connectivities of 4 symmetrical nodes of delta and theta bands. "
   ]
  },
  {
   "cell_type": "code",
   "execution_count": 1,
   "id": "92f59ff1",
   "metadata": {},
   "outputs": [],
   "source": [
    "import mne\n",
    "import warnings\n",
    "import pandas as pd\n",
    "import numpy as np\n",
    "import matplotlib.pyplot as plt\n",
    "from sklearn.neighbors import KNeighborsClassifier\n",
    "from sklearn.preprocessing import StandardScaler\n",
    "from sklearn.metrics import confusion_matrix\n",
    "from processing_functions import *\n",
    "from Classification_models_LOSO_2Class import *\n",
    "from model_functions import *"
   ]
  },
  {
   "cell_type": "code",
   "execution_count": 2,
   "id": "4e61c58f",
   "metadata": {},
   "outputs": [],
   "source": [
    "def remove_test(features,test):\n",
    "    features_train = [features[i] for i in range(len(features)) if i not in test]\n",
    "    #target_train = [targets[i] for i in range(len(targets)) if i not in test]\n",
    "    return features_train\n",
    "\n",
    "def remove_test_targets(targets, test):\n",
    "    target_train = [targets[i] for i in range(len(targets)) if i not in test]\n",
    "    return target_train\n",
    "\n",
    "def remove_class(features,class_):\n",
    "    if class_ == 'F':\n",
    "        return features[:65]\n",
    "    if class_ == 'A':\n",
    "        return features[36:]\n",
    "    if class_ == 'C':\n",
    "        return features[:36]+features[65:]"
   ]
  },
  {
   "cell_type": "code",
   "execution_count": 3,
   "id": "76fd44f2",
   "metadata": {},
   "outputs": [],
   "source": [
    "targetss=[]\n",
    "targetss=[1 for i in range(36)]\n",
    "targetss.extend([0 for i in range(29)])\n",
    "test= [4,6,8,20,33,49,53,63]"
   ]
  },
  {
   "cell_type": "code",
   "execution_count": 4,
   "id": "c2726923",
   "metadata": {},
   "outputs": [],
   "source": [
    "features= np.load('processed_data/rbp_plus_all_con_long_epochs.npy',allow_pickle=True)\n",
    "features_A_C= remove_class(features,\"F\")\n",
    "features_AC= remove_test(features_A_C, test)\n",
    "targets_AC=remove_test_targets(targetss,test)"
   ]
  },
  {
   "cell_type": "code",
   "execution_count": 5,
   "id": "f7318f2d",
   "metadata": {},
   "outputs": [
    {
     "data": {
      "text/plain": [
       "({'acc': 0.9988358556461001,\n",
       "  'sens': 0.9978260869565218,\n",
       "  'spec': 1.0,\n",
       "  'f1': 0.9989118607181718},\n",
       " {'acc': 0.670547147846333,\n",
       "  'sens': 0.6739130434782609,\n",
       "  'spec': 0.6666666666666666,\n",
       "  'f1': 0.6866002214839424})"
      ]
     },
     "execution_count": 5,
     "metadata": {},
     "output_type": "execute_result"
    }
   ],
   "source": [
    "kNN_cross(features_AC,targets_AC,n_neighbors=3, PCA_components = 0)"
   ]
  },
  {
   "cell_type": "code",
   "execution_count": 6,
   "id": "8d943dd9",
   "metadata": {},
   "outputs": [],
   "source": [
    "PCA_components = [5, 10, 20]\n",
    "val_acc = []\n",
    "train_acc = []\n",
    "for n in PCA_components: \n",
    "    train_metric_dict, val_metric_dict = kNN_cross(features_AC, targets_AC, n_neighbors=3, PCA_components = n)\n",
    "    val_acc += [val_metric_dict['acc']]\n",
    "    train_acc += [train_metric_dict['acc']]"
   ]
  },
  {
   "cell_type": "code",
   "execution_count": 7,
   "id": "7e001d86",
   "metadata": {},
   "outputs": [
    {
     "data": {
      "text/plain": [
       "([0.6530849825378346, 0.6495925494761351, 0.6740395809080326],\n",
       " [0.9784217528687843, 0.9930359221686347, 0.9988358556461001])"
      ]
     },
     "execution_count": 7,
     "metadata": {},
     "output_type": "execute_result"
    }
   ],
   "source": [
    "val_acc, train_acc"
   ]
  },
  {
   "cell_type": "code",
   "execution_count": 8,
   "id": "0b69661e",
   "metadata": {},
   "outputs": [
    {
     "data": {
      "text/plain": [
       "({'acc': 0.9998752702477964,\n",
       "  'sens': 1.0,\n",
       "  'spec': 0.9997314715359829,\n",
       "  'f1': 0.9998835539339362},\n",
       " {'acc': 0.8183934807916181,\n",
       "  'sens': 0.8195652173913044,\n",
       "  'spec': 0.8170426065162907,\n",
       "  'f1': 0.8285714285714285})"
      ]
     },
     "execution_count": 8,
     "metadata": {},
     "output_type": "execute_result"
    }
   ],
   "source": [
    "train_metric_dict, val_metric_dict = svm_cross(features_AC, targets_AC, kernel= \"linear\", reg_parameter = 1.0, degree=2, PCA_components= 0)\n",
    "train_metric_dict, val_metric_dict"
   ]
  },
  {
   "cell_type": "code",
   "execution_count": 9,
   "id": "d7e539e3",
   "metadata": {},
   "outputs": [
    {
     "data": {
      "text/plain": [
       "({'acc': 1.0, 'sens': 1.0, 'spec': 1.0, 'f1': 1.0},\n",
       " {'acc': 0.8055878928987195,\n",
       "  'sens': 0.808695652173913,\n",
       "  'spec': 0.8020050125313283,\n",
       "  'f1': 0.8166849615806806})"
      ]
     },
     "execution_count": 9,
     "metadata": {},
     "output_type": "execute_result"
    }
   ],
   "source": [
    "train_metric_dict, val_metric_dict = svm_cross(features_AC, targets_AC, kernel= \"linear\", reg_parameter = 10.0, degree=2, PCA_components= 0)\n",
    "train_metric_dict, val_metric_dict"
   ]
  },
  {
   "cell_type": "code",
   "execution_count": 10,
   "id": "dc03bf99",
   "metadata": {},
   "outputs": [
    {
     "data": {
      "text/plain": [
       "({'acc': 0.9274904373856644,\n",
       "  'sens': 0.8951475155279504,\n",
       "  'spec': 0.9647780164697458,\n",
       "  'f1': 0.9296859250897069},\n",
       " {'acc': 0.6565774155995343,\n",
       "  'sens': 0.5847826086956521,\n",
       "  'spec': 0.7393483709273183,\n",
       "  'f1': 0.6458583433373349})"
      ]
     },
     "execution_count": 10,
     "metadata": {},
     "output_type": "execute_result"
    }
   ],
   "source": [
    "train_metric_dict, val_metric_dict = svm_cross(features_AC, targets_AC, kernel= \"poly\", reg_parameter = 1.0, degree=2, PCA_components= 0)\n",
    "train_metric_dict, val_metric_dict"
   ]
  },
  {
   "cell_type": "code",
   "execution_count": 11,
   "id": "0454c62c",
   "metadata": {},
   "outputs": [
    {
     "data": {
      "text/plain": [
       "({'acc': 0.9962996840179611,\n",
       "  'sens': 0.997360248447205,\n",
       "  'spec': 0.9950769781596849,\n",
       "  'f1': 0.9965478453124395},\n",
       " {'acc': 0.8044237485448196,\n",
       "  'sens': 0.8239130434782609,\n",
       "  'spec': 0.7819548872180451,\n",
       "  'f1': 0.8185745140388768})"
      ]
     },
     "execution_count": 11,
     "metadata": {},
     "output_type": "execute_result"
    }
   ],
   "source": [
    "train_metric_dict, val_metric_dict = log_reg_cross(features_AC, targets_AC)\n",
    "train_metric_dict, val_metric_dict"
   ]
  },
  {
   "cell_type": "code",
   "execution_count": 12,
   "id": "f945729a",
   "metadata": {},
   "outputs": [
    {
     "data": {
      "text/plain": [
       "({'acc': 0.9003825045734243,\n",
       "  'sens': 0.9023291925465838,\n",
       "  'spec': 0.8981382026494809,\n",
       "  'f1': 0.9065522620904836},\n",
       " {'acc': 0.789289871944121,\n",
       "  'sens': 0.7869565217391304,\n",
       "  'spec': 0.7919799498746867,\n",
       "  'f1': 0.8})"
      ]
     },
     "execution_count": 12,
     "metadata": {},
     "output_type": "execute_result"
    }
   ],
   "source": [
    "train_metric_dict, val_metric_dict = log_reg_cross(features_AC, targets_AC, PCA_components = 15)\n",
    "train_metric_dict, val_metric_dict"
   ]
  },
  {
   "cell_type": "code",
   "execution_count": null,
   "id": "de623ca9",
   "metadata": {},
   "outputs": [],
   "source": []
  }
 ],
 "metadata": {
  "kernelspec": {
   "display_name": "Python 3 (ipykernel)",
   "language": "python",
   "name": "python3"
  },
  "language_info": {
   "codemirror_mode": {
    "name": "ipython",
    "version": 3
   },
   "file_extension": ".py",
   "mimetype": "text/x-python",
   "name": "python",
   "nbconvert_exporter": "python",
   "pygments_lexer": "ipython3",
   "version": "3.10.13"
  }
 },
 "nbformat": 4,
 "nbformat_minor": 5
}

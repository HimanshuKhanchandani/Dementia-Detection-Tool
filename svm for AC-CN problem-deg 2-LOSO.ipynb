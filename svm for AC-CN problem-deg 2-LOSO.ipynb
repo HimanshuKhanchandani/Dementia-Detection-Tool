{
 "cells": [
  {
   "cell_type": "code",
   "execution_count": 40,
   "id": "17a259d2",
   "metadata": {},
   "outputs": [],
   "source": [
    "import mne\n",
    "import warnings\n",
    "import pandas as pd\n",
    "import numpy as np\n",
    "import matplotlib.pyplot as plt\n",
    "from scipy.signal import welch\n",
    "from sklearn.neighbors import KNeighborsClassifier\n",
    "from sklearn.preprocessing import StandardScaler\n",
    "from sklearn.metrics import confusion_matrix,recall_score, f1_score\n",
    "from processing_functions import ppt_id, create_epochs, freq_ind, create_numeric_labels, relative_band_power\n",
    "warnings.simplefilter('ignore')"
   ]
  },
  {
   "cell_type": "code",
   "execution_count": 2,
   "id": "916f634f",
   "metadata": {},
   "outputs": [],
   "source": [
    "from sklearn.svm import SVC"
   ]
  },
  {
   "cell_type": "markdown",
   "id": "3cfa5aa1",
   "metadata": {},
   "source": [
    "We follow the same arrangement as in kNearestNeighbor folder to get the dataset."
   ]
  },
  {
   "cell_type": "code",
   "execution_count": 3,
   "id": "40b059c5",
   "metadata": {},
   "outputs": [
    {
     "data": {
      "text/plain": [
       "array([1, 1, 1, 1, 1, 1, 1, 1, 1, 1, 1, 1, 1, 1, 1, 1, 1, 1, 1, 1, 1, 1,\n",
       "       1, 1, 1, 1, 1, 1, 1, 1, 1, 1, 1, 1, 1, 1, 0, 0, 0, 0, 0, 0, 0, 0,\n",
       "       0, 0, 0, 0, 0, 0, 0, 0, 0, 0, 0, 0, 0, 0, 0, 0, 0, 0, 0, 0, 0, 2,\n",
       "       2, 2, 2, 2, 2, 2, 2, 2, 2, 2, 2, 2, 2, 2, 2, 2, 2, 2, 2, 2, 2, 2])"
      ]
     },
     "execution_count": 3,
     "metadata": {},
     "output_type": "execute_result"
    }
   ],
   "source": [
    "ppt_diagnostics = pd.read_csv('data/ds004504/participants.tsv',sep='\\t')\n",
    "target_labels = ppt_diagnostics['Group'].apply(create_numeric_labels).values\n",
    "target_labels"
   ]
  },
  {
   "cell_type": "code",
   "execution_count": 4,
   "id": "2d7330a3",
   "metadata": {},
   "outputs": [],
   "source": [
    "epoch_length = 2000\n",
    "overlap_ratio = 0.5\n",
    "freq_bands = np.array([0.5,4.0,8.0,13.0,25.0,45.0])\n",
    "sample_freq = 500 #hertz"
   ]
  },
  {
   "cell_type": "code",
   "execution_count": 5,
   "id": "d3981714",
   "metadata": {},
   "outputs": [],
   "source": [
    "features = []\n",
    "targets = []\n",
    "for i in range(len(target_labels)):\n",
    "    ppt = i + 1\n",
    "    raw_data = mne.io.read_raw_eeglab('data/ds004504/derivatives/' + ppt_id(ppt)\n",
    "                                  + '/eeg/' + ppt_id(ppt) + '_task-eyesclosed_eeg.set', preload = True)\n",
    "    export = raw_data.to_data_frame()\n",
    "    ppt_array = export.iloc[:,range(1,len(export.columns))].values\n",
    "    del raw_data\n",
    "    del export\n",
    "    ppt_epochs = create_epochs(ppt_array,epoch_length,overlap_ratio)\n",
    "    freqs, ppt_psd  = welch(ppt_epochs,fs=sample_freq, axis=1)\n",
    "    ppt_rbp = relative_band_power(ppt_psd,freqs,freq_bands)\n",
    "    ppt_rbp_reshaped = ppt_rbp.reshape((ppt_rbp.shape[0], -1))\n",
    "    features += [ppt_rbp_reshaped]\n",
    "    targets += [[target_labels[i]]*ppt_rbp.shape[0]]"
   ]
  },
  {
   "cell_type": "markdown",
   "id": "44375dd4",
   "metadata": {},
   "source": [
    "We used the same shuffle method as in kNN file."
   ]
  },
  {
   "cell_type": "code",
   "execution_count": 9,
   "id": "627663ba",
   "metadata": {},
   "outputs": [],
   "source": [
    "A_indices = list(range(36))\n",
    "C_indices = list(i for i in range(36,65))\n",
    "np.random.shuffle(A_indices)\n",
    "np.random.shuffle(C_indices)"
   ]
  },
  {
   "cell_type": "code",
   "execution_count": 10,
   "id": "fb7fbdb1",
   "metadata": {},
   "outputs": [],
   "source": [
    "features = [features[A_indices[i]] for i in range(36)] + [features[C_indices[i]] for i in range(29)]\n",
    "targets = [targets[A_indices[i]] for i in range(36)] + [targets[C_indices[i]] for i in range(29)]"
   ]
  },
  {
   "cell_type": "code",
   "execution_count": 38,
   "id": "23e496f2",
   "metadata": {},
   "outputs": [
    {
     "data": {
      "text/plain": [
       "(39805,)"
      ]
     },
     "execution_count": 38,
     "metadata": {},
     "output_type": "execute_result"
    }
   ],
   "source": [
    "np.concatenate((features[0])).shape"
   ]
  },
  {
   "cell_type": "markdown",
   "id": "3fc609c5",
   "metadata": {},
   "source": [
    "In the next part, we will leave 1 patient out for each of the 65 (36 AD+ 29 CN) patients and apply general SVM with kernel degree 2 polynomial for each case and calculate their accuracy, sensitivity, specificity and f1 scores."
   ]
  },
  {
   "cell_type": "code",
   "execution_count": 42,
   "id": "09f629e2",
   "metadata": {},
   "outputs": [],
   "source": [
    "cross_valid_acc = []\n",
    "sensitivities = []\n",
    "specificities = []\n",
    "f1s = []\n",
    "for i in range(65):\n",
    "    # The following two arrays will store the target and features for the train set. We will append to it\n",
    "    # as we go through various subjects.\n",
    "    features_minus_i = ((features[0:65].copy()))\n",
    "    del (features_minus_i)[i]\n",
    "    \n",
    "    targets_minus_i = ((targets[0:65].copy()))\n",
    "    del (targets_minus_i)[i]\n",
    "    \n",
    "    train_X = np.concatenate(features_minus_i)\n",
    "    train_y = np.concatenate(targets_minus_i)\n",
    "    \n",
    "    \n",
    "    # The following two arrays will store target and features for the test set. \n",
    "    test_X = features[i]\n",
    "    #np.concatenate((features[i],features[36+i]))\n",
    "    test_y = targets[i]\n",
    "    #np.concatenate((targets[i],targets[36+i]))\n",
    "    \n",
    "    #fitting the model\n",
    "    \n",
    "    svc = SVC(kernel='poly', degree=2, C=1000)\n",
    "    svc.fit(train_X, train_y)\n",
    "        \n",
    "    # This stores the accuracy on the test data\n",
    "    cross_valid_acc += [svc.score(test_X, test_y)]\n",
    "    sensitivities += [recall_score(test_y, svc.predict(test_X), labels = [0,1], pos_label = 0)]\n",
    "    specificities += [recall_score(test_y, svc.predict(test_X), labels = [0,1],pos_label = 1)]\n",
    "    f1s += [f1_score(test_y, svc.predict(test_X),labels = [0,1],pos_label=0)]"
   ]
  },
  {
   "cell_type": "code",
   "execution_count": 43,
   "id": "92f115a2",
   "metadata": {},
   "outputs": [
    {
     "data": {
      "text/plain": [
       "[0.6133651551312649,\n",
       " 1.0,\n",
       " 0.4024390243902439,\n",
       " 0.9168591224018475,\n",
       " 0.32608695652173914,\n",
       " 0.5985037406483791,\n",
       " 0.9762470308788599,\n",
       " 0.9938144329896907,\n",
       " 0.8777506112469438,\n",
       " 0.9016393442622951,\n",
       " 0.4694835680751174,\n",
       " 0.9852941176470589,\n",
       " 1.0,\n",
       " 0.9006211180124224,\n",
       " 0.7129186602870813,\n",
       " 0.9013157894736842,\n",
       " 0.07038123167155426,\n",
       " 0.9814814814814815,\n",
       " 0.6772727272727272,\n",
       " 0.5478841870824054,\n",
       " 0.9895287958115183,\n",
       " 0.9285714285714286,\n",
       " 0.71875,\n",
       " 0.9880952380952381,\n",
       " 0.8078602620087336,\n",
       " 0.6266318537859008,\n",
       " 0.5206971677559913,\n",
       " 0.8176638176638177,\n",
       " 0.549367088607595,\n",
       " 0.326984126984127,\n",
       " 0.9697986577181208,\n",
       " 0.9392405063291139,\n",
       " 0.7783375314861462,\n",
       " 0.8326180257510729,\n",
       " 1.0,\n",
       " 0.7723577235772358,\n",
       " 0.08418367346938775,\n",
       " 0.995475113122172,\n",
       " 0.12285012285012285,\n",
       " 0.2625,\n",
       " 0.4642857142857143,\n",
       " 0.9154228855721394,\n",
       " 0.9319899244332494,\n",
       " 0.40848806366047746,\n",
       " 0.9048843187660668,\n",
       " 0.897172236503856,\n",
       " 0.9881796690307328,\n",
       " 0.9482758620689655,\n",
       " 0.6384039900249376,\n",
       " 0.9173333333333333,\n",
       " 0.9520833333333333,\n",
       " 0.39951573849878935,\n",
       " 0.6807387862796834,\n",
       " 0.44144144144144143,\n",
       " 0.9952038369304557,\n",
       " 0.8693333333333333,\n",
       " 0.39847715736040606,\n",
       " 0.4584450402144772,\n",
       " 0.8012170385395537,\n",
       " 0.6715176715176715,\n",
       " 0.7712264150943396,\n",
       " 0.4693396226415094,\n",
       " 0.7029478458049887,\n",
       " 0.7266514806378133,\n",
       " 0.7467700258397932]"
      ]
     },
     "execution_count": 43,
     "metadata": {},
     "output_type": "execute_result"
    }
   ],
   "source": [
    "cross_valid_acc"
   ]
  },
  {
   "cell_type": "code",
   "execution_count": 50,
   "id": "b61fc882",
   "metadata": {},
   "outputs": [
    {
     "data": {
      "text/plain": [
       "[0.0,\n",
       " 0.0,\n",
       " 0.0,\n",
       " 0.0,\n",
       " 0.0,\n",
       " 0.0,\n",
       " 0.0,\n",
       " 0.0,\n",
       " 0.0,\n",
       " 0.0,\n",
       " 0.0,\n",
       " 0.0,\n",
       " 0.0,\n",
       " 0.0,\n",
       " 0.0,\n",
       " 0.0,\n",
       " 0.0,\n",
       " 0.0,\n",
       " 0.0,\n",
       " 0.0,\n",
       " 0.0,\n",
       " 0.0,\n",
       " 0.0,\n",
       " 0.0,\n",
       " 0.0,\n",
       " 0.0,\n",
       " 0.0,\n",
       " 0.0,\n",
       " 0.0,\n",
       " 0.0,\n",
       " 0.0,\n",
       " 0.0,\n",
       " 0.0,\n",
       " 0.0,\n",
       " 0.0,\n",
       " 0.0,\n",
       " 0.08418367346938775,\n",
       " 0.995475113122172,\n",
       " 0.12285012285012285,\n",
       " 0.2625,\n",
       " 0.4642857142857143,\n",
       " 0.9154228855721394,\n",
       " 0.9319899244332494,\n",
       " 0.40848806366047746,\n",
       " 0.9048843187660668,\n",
       " 0.897172236503856,\n",
       " 0.9881796690307328,\n",
       " 0.9482758620689655,\n",
       " 0.6384039900249376,\n",
       " 0.9173333333333333,\n",
       " 0.9520833333333333,\n",
       " 0.39951573849878935,\n",
       " 0.6807387862796834,\n",
       " 0.44144144144144143,\n",
       " 0.9952038369304557,\n",
       " 0.8693333333333333,\n",
       " 0.39847715736040606,\n",
       " 0.4584450402144772,\n",
       " 0.8012170385395537,\n",
       " 0.6715176715176715,\n",
       " 0.7712264150943396,\n",
       " 0.4693396226415094,\n",
       " 0.7029478458049887,\n",
       " 0.7266514806378133,\n",
       " 0.7467700258397932]"
      ]
     },
     "execution_count": 50,
     "metadata": {},
     "output_type": "execute_result"
    }
   ],
   "source": [
    "sensitivities"
   ]
  },
  {
   "cell_type": "code",
   "execution_count": 51,
   "id": "de9d11f4",
   "metadata": {},
   "outputs": [
    {
     "data": {
      "text/plain": [
       "[0.6133651551312649,\n",
       " 1.0,\n",
       " 0.4024390243902439,\n",
       " 0.9168591224018475,\n",
       " 0.32608695652173914,\n",
       " 0.5985037406483791,\n",
       " 0.9762470308788599,\n",
       " 0.9938144329896907,\n",
       " 0.8777506112469438,\n",
       " 0.9016393442622951,\n",
       " 0.4694835680751174,\n",
       " 0.9852941176470589,\n",
       " 1.0,\n",
       " 0.9006211180124224,\n",
       " 0.7129186602870813,\n",
       " 0.9013157894736842,\n",
       " 0.07038123167155426,\n",
       " 0.9814814814814815,\n",
       " 0.6772727272727272,\n",
       " 0.5478841870824054,\n",
       " 0.9895287958115183,\n",
       " 0.9285714285714286,\n",
       " 0.71875,\n",
       " 0.9880952380952381,\n",
       " 0.8078602620087336,\n",
       " 0.6266318537859008,\n",
       " 0.5206971677559913,\n",
       " 0.8176638176638177,\n",
       " 0.549367088607595,\n",
       " 0.326984126984127,\n",
       " 0.9697986577181208,\n",
       " 0.9392405063291139,\n",
       " 0.7783375314861462,\n",
       " 0.8326180257510729,\n",
       " 1.0,\n",
       " 0.7723577235772358,\n",
       " 0.0,\n",
       " 0.0,\n",
       " 0.0,\n",
       " 0.0,\n",
       " 0.0,\n",
       " 0.0,\n",
       " 0.0,\n",
       " 0.0,\n",
       " 0.0,\n",
       " 0.0,\n",
       " 0.0,\n",
       " 0.0,\n",
       " 0.0,\n",
       " 0.0,\n",
       " 0.0,\n",
       " 0.0,\n",
       " 0.0,\n",
       " 0.0,\n",
       " 0.0,\n",
       " 0.0,\n",
       " 0.0,\n",
       " 0.0,\n",
       " 0.0,\n",
       " 0.0,\n",
       " 0.0,\n",
       " 0.0,\n",
       " 0.0,\n",
       " 0.0,\n",
       " 0.0]"
      ]
     },
     "execution_count": 51,
     "metadata": {},
     "output_type": "execute_result"
    }
   ],
   "source": [
    "specificities"
   ]
  },
  {
   "cell_type": "code",
   "execution_count": 52,
   "id": "7aea071b",
   "metadata": {},
   "outputs": [
    {
     "data": {
      "text/plain": [
       "[0.0,\n",
       " 0.0,\n",
       " 0.0,\n",
       " 0.0,\n",
       " 0.0,\n",
       " 0.0,\n",
       " 0.0,\n",
       " 0.0,\n",
       " 0.0,\n",
       " 0.0,\n",
       " 0.0,\n",
       " 0.0,\n",
       " 0.0,\n",
       " 0.0,\n",
       " 0.0,\n",
       " 0.0,\n",
       " 0.0,\n",
       " 0.0,\n",
       " 0.0,\n",
       " 0.0,\n",
       " 0.0,\n",
       " 0.0,\n",
       " 0.0,\n",
       " 0.0,\n",
       " 0.0,\n",
       " 0.0,\n",
       " 0.0,\n",
       " 0.0,\n",
       " 0.0,\n",
       " 0.0,\n",
       " 0.0,\n",
       " 0.0,\n",
       " 0.0,\n",
       " 0.0,\n",
       " 0.0,\n",
       " 0.0,\n",
       " 0.15529411764705883,\n",
       " 0.9977324263038548,\n",
       " 0.2188183807439825,\n",
       " 0.4158415841584159,\n",
       " 0.6341463414634146,\n",
       " 0.9558441558441558,\n",
       " 0.9647979139504563,\n",
       " 0.5800376647834274,\n",
       " 0.9500674763832657,\n",
       " 0.94579945799458,\n",
       " 0.9940546967895363,\n",
       " 0.9734513274336283,\n",
       " 0.7792998477929984,\n",
       " 0.956884561891516,\n",
       " 0.975453575240128,\n",
       " 0.5709342560553633,\n",
       " 0.8100470957613816,\n",
       " 0.6125,\n",
       " 0.9975961538461539,\n",
       " 0.9300998573466476,\n",
       " 0.5698729582577132,\n",
       " 0.6286764705882352,\n",
       " 0.8896396396396397,\n",
       " 0.8034825870646767,\n",
       " 0.8708388814913448,\n",
       " 0.6388443017656501,\n",
       " 0.8255659121171771,\n",
       " 0.841688654353562,\n",
       " 0.8550295857988166]"
      ]
     },
     "execution_count": 52,
     "metadata": {},
     "output_type": "execute_result"
    }
   ],
   "source": [
    "f1s"
   ]
  },
  {
   "cell_type": "code",
   "execution_count": 46,
   "id": "a0fdf6f3",
   "metadata": {},
   "outputs": [
    {
     "data": {
      "text/plain": [
       "(0.7228340645878397, 0.25264719891606324)"
      ]
     },
     "execution_count": 46,
     "metadata": {},
     "output_type": "execute_result"
    }
   ],
   "source": [
    "np.mean(cross_valid_acc),np.std(cross_valid_acc)"
   ]
  },
  {
   "cell_type": "code",
   "execution_count": 47,
   "id": "d9d4c55a",
   "metadata": {},
   "outputs": [
    {
     "data": {
      "text/plain": [
       "(0.3009900565321345, 0.3794365147943596)"
      ]
     },
     "execution_count": 47,
     "metadata": {},
     "output_type": "execute_result"
    }
   ],
   "source": [
    "np.mean(sensitivities), np.std(sensitivities)"
   ]
  },
  {
   "cell_type": "code",
   "execution_count": 48,
   "id": "557a35a6",
   "metadata": {},
   "outputs": [
    {
     "data": {
      "text/plain": [
       "(0.4218440080557052, 0.4168935619863905)"
      ]
     },
     "execution_count": 48,
     "metadata": {},
     "output_type": "execute_result"
    }
   ],
   "source": [
    "np.mean(specificities), np.std(specificities)"
   ]
  },
  {
   "cell_type": "code",
   "execution_count": 49,
   "id": "99fd3d65",
   "metadata": {},
   "outputs": [
    {
     "data": {
      "text/plain": [
       "(0.34372830588471975, 0.4116251118135292)"
      ]
     },
     "execution_count": 49,
     "metadata": {},
     "output_type": "execute_result"
    }
   ],
   "source": [
    "np.mean(f1s), np.std(f1s)"
   ]
  },
  {
   "cell_type": "code",
   "execution_count": null,
   "id": "4fd5f48c",
   "metadata": {},
   "outputs": [],
   "source": []
  }
 ],
 "metadata": {
  "kernelspec": {
   "display_name": "Python 3 (ipykernel)",
   "language": "python",
   "name": "python3"
  },
  "language_info": {
   "codemirror_mode": {
    "name": "ipython",
    "version": 3
   },
   "file_extension": ".py",
   "mimetype": "text/x-python",
   "name": "python",
   "nbconvert_exporter": "python",
   "pygments_lexer": "ipython3",
   "version": "3.10.13"
  }
 },
 "nbformat": 4,
 "nbformat_minor": 5
}

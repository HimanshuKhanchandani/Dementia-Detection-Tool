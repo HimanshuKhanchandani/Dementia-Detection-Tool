{
 "cells": [
  {
   "cell_type": "code",
   "execution_count": 17,
   "metadata": {},
   "outputs": [],
   "source": [
    "import mne\n",
    "import pandas as pd\n",
    "import numpy as np\n",
    "import matplotlib.pyplot as plt\n",
    "from scipy.signal import welch\n",
    "from processing_functions import (ppt_id, create_epochs, freq_ind, create_numeric_labels, relative_band_power,\n",
    "    absolute_band_power)\n"
   ]
  },
  {
   "cell_type": "markdown",
   "metadata": {},
   "source": [
    "Function for obtaining participant id (as a string) from their index. The participants are 1-indexed in the data and I'm choosing to respect that here. The resulting string is used to load in the raw data and can be used as a primary key in the participants table."
   ]
  },
  {
   "cell_type": "code",
   "execution_count": 134,
   "metadata": {},
   "outputs": [],
   "source": [
    "def ppt_id(i):\n",
    "    return 'sub-' + str(i).zfill(3)"
   ]
  },
  {
   "cell_type": "code",
   "execution_count": 135,
   "metadata": {},
   "outputs": [
    {
     "data": {
      "text/plain": [
       "'sub-040'"
      ]
     },
     "execution_count": 135,
     "metadata": {},
     "output_type": "execute_result"
    }
   ],
   "source": [
    "ppt_id(40)"
   ]
  },
  {
   "cell_type": "markdown",
   "metadata": {},
   "source": [
    "Loading in a participant using mne. I defaulted to 1 here. In the full feature extraction setup we would load and process the participants one at a time in a loop over all participants. "
   ]
  },
  {
   "cell_type": "code",
   "execution_count": 30,
   "metadata": {},
   "outputs": [
    {
     "name": "stderr",
     "output_type": "stream",
     "text": [
      "/var/folders/42/2zjv5vys3693nls8j787kc2c0000gn/T/ipykernel_2497/1914673824.py:2: RuntimeWarning: The data contains 'boundary' events, indicating data discontinuities. Be cautious of filtering and epoching around these events.\n",
      "  raw_data = mne.io.read_raw_eeglab('data/ds004504/derivatives/' + ppt_id(ppt)\n"
     ]
    }
   ],
   "source": [
    "ppt = 40\n",
    "raw_data = mne.io.read_raw_eeglab('data/ds004504/derivatives/' + ppt_id(ppt)\n",
    "                                  + '/eeg/' + ppt_id(ppt) + '_task-eyesclosed_eeg.set', preload = True)"
   ]
  },
  {
   "cell_type": "markdown",
   "metadata": {},
   "source": [
    "Description of the raw data. The most important extra bit of info we need from this is the sampling frequency, which we save in sample_freq. "
   ]
  },
  {
   "cell_type": "code",
   "execution_count": 13,
   "metadata": {},
   "outputs": [
    {
     "data": {
      "text/html": [
       "<table class=\"table table-hover table-striped table-sm table-responsive small\">\n",
       "    <tr>\n",
       "        <th>Measurement date</th>\n",
       "        \n",
       "        <td>Unknown</td>\n",
       "        \n",
       "    </tr>\n",
       "    <tr>\n",
       "        <th>Experimenter</th>\n",
       "        \n",
       "        <td>Unknown</td>\n",
       "        \n",
       "    </tr>\n",
       "        <th>Participant</th>\n",
       "        \n",
       "        <td>Unknown</td>\n",
       "        \n",
       "    </tr>\n",
       "    <tr>\n",
       "        <th>Digitized points</th>\n",
       "        \n",
       "        <td>22 points</td>\n",
       "        \n",
       "    </tr>\n",
       "    <tr>\n",
       "        <th>Good channels</th>\n",
       "        <td>19 EEG</td>\n",
       "    </tr>\n",
       "    <tr>\n",
       "        <th>Bad channels</th>\n",
       "        <td>None</td>\n",
       "    </tr>\n",
       "    <tr>\n",
       "        <th>EOG channels</th>\n",
       "        <td>Not available</td>\n",
       "    </tr>\n",
       "    <tr>\n",
       "        <th>ECG channels</th>\n",
       "        <td>Not available</td>\n",
       "    \n",
       "    <tr>\n",
       "        <th>Sampling frequency</th>\n",
       "        <td>500.00 Hz</td>\n",
       "    </tr>\n",
       "    \n",
       "    \n",
       "    <tr>\n",
       "        <th>Highpass</th>\n",
       "        <td>0.00 Hz</td>\n",
       "    </tr>\n",
       "    \n",
       "    \n",
       "    <tr>\n",
       "        <th>Lowpass</th>\n",
       "        <td>250.00 Hz</td>\n",
       "    </tr>\n",
       "    \n",
       "    \n",
       "    \n",
       "    <tr>\n",
       "        <th>Filenames</th>\n",
       "        <td>sub-001_task-eyesclosed_eeg.set</td>\n",
       "    </tr>\n",
       "    \n",
       "    <tr>\n",
       "        <th>Duration</th>\n",
       "        <td>00:09:60 (HH:MM:SS)</td>\n",
       "    </tr>\n",
       "</table>"
      ],
      "text/plain": [
       "<RawEEGLAB | sub-001_task-eyesclosed_eeg.set, 19 x 299900 (599.8 s), ~43.5 MB, data loaded>"
      ]
     },
     "execution_count": 13,
     "metadata": {},
     "output_type": "execute_result"
    }
   ],
   "source": [
    "raw_data"
   ]
  },
  {
   "cell_type": "code",
   "execution_count": 8,
   "metadata": {},
   "outputs": [],
   "source": [
    "epoch_length = 2000\n",
    "overlap_ratio = 0.5\n",
    "freq_bands = np.array([0.5,4.0,8.0,13.0,25.0,45.0])\n",
    "sample_freq = 500 #hertz"
   ]
  },
  {
   "cell_type": "markdown",
   "metadata": {},
   "source": [
    "Exporting to a pandas dataframe. The units are µV, which are the default export unit for eegs listed in the mne documentation. Since the relative band power that we eventually compute is a unitless ratio, the units don't actually matter in the end for the classifiers, but they are important for plotting. "
   ]
  },
  {
   "cell_type": "code",
   "execution_count": 31,
   "metadata": {},
   "outputs": [],
   "source": [
    "export = raw_data.to_data_frame()\n",
    "ppt_array = export.iloc[:,range(1,len(export.columns))].values\n",
    "ppt_epochs = create_epochs(ppt_array,epoch_length,overlap_ratio)\n",
    "freqs, ppt_psd  = welch(ppt_epochs,fs=sample_freq, axis=1)\n",
    "ppt_rbp = absolute_band_power(ppt_psd,freqs,freq_bands)\n"
   ]
  },
  {
   "cell_type": "code",
   "execution_count": 37,
   "metadata": {},
   "outputs": [
    {
     "data": {
      "text/plain": [
       "array([ 5.98652932,  8.09013129,  4.45420145,  5.81268039,  3.79655826,\n",
       "        5.15540454,  4.34419895,  4.98046813,  5.36875571,  5.5996647 ,\n",
       "       11.67672006,  6.76973948, 11.91825187, 13.49258004,  5.18174434,\n",
       "        5.62859966,  4.43221531,  3.98540666,  4.55107642])"
      ]
     },
     "execution_count": 37,
     "metadata": {},
     "output_type": "execute_result"
    }
   ],
   "source": [
    "ppt_rbp[0][4]"
   ]
  },
  {
   "cell_type": "markdown",
   "metadata": {},
   "source": [
    "Next bit isn't used in this notebook, but is handy for the future. I'm going to convert this table to an array and delete the original table, which would cause the loss of the channel name information. The code below saves the channel names in a python dictionary for future use. They are 0-indexed to match the indices in the numpy array we are about to create. "
   ]
  },
  {
   "cell_type": "code",
   "execution_count": 136,
   "metadata": {},
   "outputs": [],
   "source": [
    "channels = {}\n",
    "for i in range(len(export.columns)-1):\n",
    "    channels[i] = export.columns[i+1]"
   ]
  },
  {
   "cell_type": "code",
   "execution_count": 137,
   "metadata": {},
   "outputs": [
    {
     "data": {
      "text/plain": [
       "{0: 'Fp1',\n",
       " 1: 'Fp2',\n",
       " 2: 'F3',\n",
       " 3: 'F4',\n",
       " 4: 'C3',\n",
       " 5: 'C4',\n",
       " 6: 'P3',\n",
       " 7: 'P4',\n",
       " 8: 'O1',\n",
       " 9: 'O2',\n",
       " 10: 'F7',\n",
       " 11: 'F8',\n",
       " 12: 'T3',\n",
       " 13: 'T4',\n",
       " 14: 'T5',\n",
       " 15: 'T6',\n",
       " 16: 'Fz',\n",
       " 17: 'Cz',\n",
       " 18: 'Pz'}"
      ]
     },
     "execution_count": 137,
     "metadata": {},
     "output_type": "execute_result"
    }
   ],
   "source": [
    "channels"
   ]
  },
  {
   "cell_type": "markdown",
   "metadata": {},
   "source": [
    "Extracting the numpy array we need from the dataframe. The time column isn't needed for our analysis so I dropped it, since the time data is contained in the sampling frequency."
   ]
  },
  {
   "cell_type": "code",
   "execution_count": 26,
   "metadata": {},
   "outputs": [
    {
     "data": {
      "text/plain": [
       "array([[-33.71668625, -25.14232635, -10.50162601, ..., -16.64021873,\n",
       "        -15.98962975, -15.89824486],\n",
       "       [-28.18910027, -20.73062134, -10.805439  , ..., -14.8037262 ,\n",
       "        -14.48227692, -14.14704514],\n",
       "       [-22.79613876, -16.69319534, -11.65396404, ..., -13.29928589,\n",
       "        -13.11245918, -12.64957714],\n",
       "       ...,\n",
       "       [  7.80744267,  11.26339245,  11.25347614, ...,  10.19259453,\n",
       "          7.03979826,   5.74603224],\n",
       "       [  3.91629434,   7.11532831,   8.1601038 , ...,   7.10190392,\n",
       "          5.04175997,   4.06592989],\n",
       "       [ -0.34640756,   2.75438499,   4.52085495, ...,   3.56178188,\n",
       "          2.26020527,   1.59326601]])"
      ]
     },
     "execution_count": 26,
     "metadata": {},
     "output_type": "execute_result"
    }
   ],
   "source": [
    "ppt_array = export.iloc[:,range(1,len(export.columns))].values\n",
    "ppt_array"
   ]
  },
  {
   "cell_type": "markdown",
   "metadata": {},
   "source": [
    "Checking the shape of our array."
   ]
  },
  {
   "cell_type": "code",
   "execution_count": 138,
   "metadata": {},
   "outputs": [
    {
     "data": {
      "text/plain": [
       "(299900, 19)"
      ]
     },
     "execution_count": 138,
     "metadata": {},
     "output_type": "execute_result"
    }
   ],
   "source": [
    "ppt_array.shape"
   ]
  },
  {
   "cell_type": "markdown",
   "metadata": {},
   "source": [
    "Deleting the mne raw object and the pandas dataframe since they are no longer needed and take up a lot of memory. "
   ]
  },
  {
   "cell_type": "code",
   "execution_count": 29,
   "metadata": {},
   "outputs": [],
   "source": [
    "del raw_data\n",
    "del export"
   ]
  },
  {
   "cell_type": "markdown",
   "metadata": {},
   "source": [
    "We need to reference the participants table in order to know what class a given participant belongs to. I loaded that table in below. "
   ]
  },
  {
   "cell_type": "code",
   "execution_count": 139,
   "metadata": {},
   "outputs": [],
   "source": [
    "ppt_diagnostics = pd.read_csv('participants.tsv',sep='\\t')"
   ]
  },
  {
   "cell_type": "markdown",
   "metadata": {},
   "source": [
    "A sample from the table. Age and gender are self-explanatory. The classes in the Group column are 'A' (Alzheimers), 'F' (Frontotemporal Dementia), and 'C' (Healthy). The MMSE score is a mini-mental state examination used to screen for cognitive impairment. "
   ]
  },
  {
   "cell_type": "code",
   "execution_count": 140,
   "metadata": {},
   "outputs": [
    {
     "data": {
      "text/html": [
       "<div>\n",
       "<style scoped>\n",
       "    .dataframe tbody tr th:only-of-type {\n",
       "        vertical-align: middle;\n",
       "    }\n",
       "\n",
       "    .dataframe tbody tr th {\n",
       "        vertical-align: top;\n",
       "    }\n",
       "\n",
       "    .dataframe thead th {\n",
       "        text-align: right;\n",
       "    }\n",
       "</style>\n",
       "<table border=\"1\" class=\"dataframe\">\n",
       "  <thead>\n",
       "    <tr style=\"text-align: right;\">\n",
       "      <th></th>\n",
       "      <th>participant_id</th>\n",
       "      <th>Gender</th>\n",
       "      <th>Age</th>\n",
       "      <th>Group</th>\n",
       "      <th>MMSE</th>\n",
       "    </tr>\n",
       "  </thead>\n",
       "  <tbody>\n",
       "    <tr>\n",
       "      <th>12</th>\n",
       "      <td>sub-013</td>\n",
       "      <td>F</td>\n",
       "      <td>64</td>\n",
       "      <td>A</td>\n",
       "      <td>20</td>\n",
       "    </tr>\n",
       "    <tr>\n",
       "      <th>62</th>\n",
       "      <td>sub-063</td>\n",
       "      <td>M</td>\n",
       "      <td>66</td>\n",
       "      <td>C</td>\n",
       "      <td>30</td>\n",
       "    </tr>\n",
       "    <tr>\n",
       "      <th>36</th>\n",
       "      <td>sub-037</td>\n",
       "      <td>M</td>\n",
       "      <td>57</td>\n",
       "      <td>C</td>\n",
       "      <td>30</td>\n",
       "    </tr>\n",
       "    <tr>\n",
       "      <th>86</th>\n",
       "      <td>sub-087</td>\n",
       "      <td>M</td>\n",
       "      <td>73</td>\n",
       "      <td>F</td>\n",
       "      <td>24</td>\n",
       "    </tr>\n",
       "    <tr>\n",
       "      <th>85</th>\n",
       "      <td>sub-086</td>\n",
       "      <td>M</td>\n",
       "      <td>49</td>\n",
       "      <td>F</td>\n",
       "      <td>26</td>\n",
       "    </tr>\n",
       "  </tbody>\n",
       "</table>\n",
       "</div>"
      ],
      "text/plain": [
       "   participant_id Gender  Age Group  MMSE\n",
       "12        sub-013      F   64     A    20\n",
       "62        sub-063      M   66     C    30\n",
       "36        sub-037      M   57     C    30\n",
       "86        sub-087      M   73     F    24\n",
       "85        sub-086      M   49     F    26"
      ]
     },
     "execution_count": 140,
     "metadata": {},
     "output_type": "execute_result"
    }
   ],
   "source": [
    "ppt_diagnostics.sample(5)"
   ]
  },
  {
   "cell_type": "markdown",
   "metadata": {},
   "source": [
    "We can look at an individual participant with iloc. "
   ]
  },
  {
   "cell_type": "code",
   "execution_count": 38,
   "metadata": {},
   "outputs": [
    {
     "data": {
      "text/plain": [
       "participant_id    sub-001\n",
       "Gender                  F\n",
       "Age                    57\n",
       "Group                   A\n",
       "MMSE                   16\n",
       "Name: 0, dtype: object"
      ]
     },
     "execution_count": 38,
     "metadata": {},
     "output_type": "execute_result"
    }
   ],
   "source": [
    "ppt_diagnostics.iloc[ppt-1]"
   ]
  },
  {
   "cell_type": "markdown",
   "metadata": {},
   "source": [
    "Class information can be obtained by restricting to the group column. "
   ]
  },
  {
   "cell_type": "code",
   "execution_count": 41,
   "metadata": {},
   "outputs": [
    {
     "data": {
      "text/plain": [
       "'A'"
      ]
     },
     "execution_count": 41,
     "metadata": {},
     "output_type": "execute_result"
    }
   ],
   "source": [
    "ppt_class = ppt_diagnostics['Group'].iloc[ppt-1]\n",
    "ppt_class"
   ]
  },
  {
   "cell_type": "markdown",
   "metadata": {},
   "source": [
    "When creating epochs we need to specify the length of the epoch and the amount of overlap between epochs. I've specified 2000 for the length (which is 4 seconds at a sampling frequency of 500 Hz) and 0.5 for the overlap ratio so that there is a 2 second overlap between successive epochs. "
   ]
  },
  {
   "cell_type": "code",
   "execution_count": 141,
   "metadata": {},
   "outputs": [],
   "source": [
    "epoch_length = 2000\n",
    "overlap_ratio = 0.5"
   ]
  },
  {
   "cell_type": "markdown",
   "metadata": {},
   "source": [
    "The following function creates the epochs as specified. It returns a numpy array of shape (number of epochs) x (epoch_length) x (number of channels)."
   ]
  },
  {
   "cell_type": "code",
   "execution_count": 116,
   "metadata": {},
   "outputs": [],
   "source": [
    "def create_epochs(ppt_array,epoch_length,overlap_ratio):\n",
    "    num_rows = ppt_array.shape[0]\n",
    "    step_size = int((1-overlap_ratio)*epoch_length)\n",
    "    epoch_list = []\n",
    "    for i in range(int(num_rows/step_size)):\n",
    "        if step_size*i+epoch_length <= num_rows: #leave out last epoch if it would have length less than epoch_length\n",
    "            epoch_list.append(ppt_array[step_size*i:step_size*i+epoch_length])\n",
    "    return np.array(epoch_list)"
   ]
  },
  {
   "cell_type": "code",
   "execution_count": 117,
   "metadata": {},
   "outputs": [],
   "source": [
    "ppt_epochs = create_epochs(ppt_array,epoch_length,overlap_ratio)"
   ]
  },
  {
   "cell_type": "code",
   "execution_count": 118,
   "metadata": {},
   "outputs": [
    {
     "data": {
      "text/plain": [
       "(298, 2000, 19)"
      ]
     },
     "execution_count": 118,
     "metadata": {},
     "output_type": "execute_result"
    }
   ],
   "source": [
    "ppt_epochs.shape"
   ]
  },
  {
   "cell_type": "markdown",
   "metadata": {},
   "source": [
    "Next we use the welch function from scipy.signal to obtain an estimate for the power spectral density of each epoch. The first argument is our epoch array, the second argument fs is the sampling frequency (500 Hz), the third argument nperseg is just epoch_length (the total number of measurements in the time series), and the last argument specifies that the psd should be measured along the time series axis (axis = 1). The function returns an array of sample frequencies (which we catch in freqs) and an array of estimates for the psd at each of those frequencies. Keep in mind that the units of the input are µV, so the output units are actually µV^2/Hz (as in their Figure 3)."
   ]
  },
  {
   "cell_type": "code",
   "execution_count": 142,
   "metadata": {},
   "outputs": [],
   "source": [
    "freqs, ppt_psd  = welch(ppt_epochs,fs=sample_freq,nperseg=epoch_length,axis=1)"
   ]
  },
  {
   "cell_type": "markdown",
   "metadata": {},
   "source": [
    "The freqs array is just an evenly spaced set of numbers from 0 to 250, with spacing 0.25. This is very much overkill since we only need this up to 45 Hz. "
   ]
  },
  {
   "cell_type": "code",
   "execution_count": 143,
   "metadata": {},
   "outputs": [
    {
     "data": {
      "text/plain": [
       "array([  0.  ,   0.25,   0.5 , ..., 249.5 , 249.75, 250.  ])"
      ]
     },
     "execution_count": 143,
     "metadata": {},
     "output_type": "execute_result"
    }
   ],
   "source": [
    "freqs"
   ]
  },
  {
   "cell_type": "code",
   "execution_count": 144,
   "metadata": {},
   "outputs": [
    {
     "data": {
      "text/plain": [
       "array([[[5.87018109e+02, 5.80310134e+02, 4.88845407e+02, ...,\n",
       "         5.03915555e+02, 5.04537442e+02, 5.11949827e+02],\n",
       "        [3.04804269e+03, 3.10922366e+03, 3.11845767e+03, ...,\n",
       "         2.91274523e+03, 2.89990575e+03, 2.89079020e+03],\n",
       "        [1.65773748e+03, 1.89042531e+03, 1.91961486e+03, ...,\n",
       "         1.76110814e+03, 1.68301612e+03, 1.65931141e+03],\n",
       "        ...,\n",
       "        [1.05465662e-10, 1.04905727e-10, 1.28128913e-10, ...,\n",
       "         1.34507558e-10, 1.57482155e-10, 1.68256933e-10],\n",
       "        [7.04400252e-10, 6.67124156e-10, 6.98533530e-10, ...,\n",
       "         6.24821953e-10, 6.79651644e-10, 6.92704980e-10],\n",
       "        [4.09683302e-10, 3.84131385e-10, 3.68019523e-10, ...,\n",
       "         3.23690175e-10, 3.32367164e-10, 3.17732047e-10]],\n",
       "\n",
       "       [[7.98211882e+00, 3.53520726e+00, 3.29062034e-01, ...,\n",
       "         4.77545661e-03, 1.76138971e+00, 3.50989162e+00],\n",
       "        [2.78084387e+03, 2.56762447e+03, 2.66039562e+03, ...,\n",
       "         2.39768426e+03, 2.52457919e+03, 2.49862055e+03],\n",
       "        [2.89917100e+03, 2.69772213e+03, 3.13401437e+03, ...,\n",
       "         2.81149062e+03, 2.98759831e+03, 2.84375712e+03],\n",
       "        ...,\n",
       "        [4.60004875e-11, 3.99137046e-11, 6.30763862e-11, ...,\n",
       "         6.48551129e-11, 7.44096380e-11, 7.78825001e-11],\n",
       "        [1.62434233e-09, 1.52417376e-09, 1.63290694e-09, ...,\n",
       "         1.51090767e-09, 1.57127251e-09, 1.62917359e-09],\n",
       "        [1.85786862e-09, 1.74019647e-09, 1.82765033e-09, ...,\n",
       "         1.68629680e-09, 1.75754935e-09, 1.83053353e-09]],\n",
       "\n",
       "       [[3.31483445e+02, 3.48243775e+02, 3.64754202e+02, ...,\n",
       "         3.55707280e+02, 3.17552405e+02, 3.00579565e+02],\n",
       "        [1.10206171e+03, 1.00182336e+03, 7.83239525e+02, ...,\n",
       "         8.04519840e+02, 7.72272912e+02, 8.47224988e+02],\n",
       "        [5.92402782e+02, 4.42857706e+02, 2.69990831e+02, ...,\n",
       "         2.80871583e+02, 3.28741947e+02, 4.11335853e+02],\n",
       "        ...,\n",
       "        [2.18413343e-10, 2.52943313e-10, 2.43057094e-10, ...,\n",
       "         3.02293698e-10, 3.33210094e-10, 3.48203510e-10],\n",
       "        [2.18894607e-09, 2.22696569e-09, 2.08411209e-09, ...,\n",
       "         2.13184041e-09, 2.24803623e-09, 2.29569744e-09],\n",
       "        [3.95893079e-11, 5.08780753e-11, 3.49375581e-11, ...,\n",
       "         3.29612177e-11, 1.91016826e-11, 1.02431832e-11]],\n",
       "\n",
       "       ...,\n",
       "\n",
       "       [[2.93285997e+02, 3.65187550e+02, 3.31739464e+02, ...,\n",
       "         3.47632722e+02, 3.11665807e+02, 2.70588187e+02],\n",
       "        [6.18668363e+02, 7.73340570e+02, 6.49174209e+02, ...,\n",
       "         7.13455811e+02, 6.32513809e+02, 4.94821481e+02],\n",
       "        [7.77737347e+02, 9.04583709e+02, 6.98670175e+02, ...,\n",
       "         8.24352162e+02, 7.36086702e+02, 6.47215096e+02],\n",
       "        ...,\n",
       "        [1.47175798e-11, 1.42764846e-11, 1.20093201e-11, ...,\n",
       "         7.19995023e-12, 8.51660314e-12, 8.53328427e-12],\n",
       "        [9.00184824e-10, 8.75274876e-10, 8.95175562e-10, ...,\n",
       "         8.20799014e-10, 8.92536528e-10, 9.10779393e-10],\n",
       "        [1.43767015e-09, 1.33548043e-09, 1.30289346e-09, ...,\n",
       "         1.18315587e-09, 1.27400080e-09, 1.29168758e-09]],\n",
       "\n",
       "       [[1.57569220e+02, 2.36334319e+02, 2.50154894e+02, ...,\n",
       "         2.58301741e+02, 2.19652258e+02, 2.57999027e+02],\n",
       "        [3.16260768e+02, 5.28671403e+02, 6.93565107e+02, ...,\n",
       "         6.18850512e+02, 5.93291125e+02, 5.40243524e+02],\n",
       "        [4.12649850e+01, 8.97678628e+01, 1.65062519e+02, ...,\n",
       "         1.22313019e+02, 1.32062467e+02, 1.20084851e+02],\n",
       "        ...,\n",
       "        [1.01587396e-10, 8.23743597e-11, 4.16066772e-11, ...,\n",
       "         4.99644989e-11, 4.41447639e-11, 4.16789080e-11],\n",
       "        [6.60395915e-11, 3.71664045e-11, 5.21562068e-12, ...,\n",
       "         1.58605091e-11, 1.21794713e-11, 9.48216846e-12],\n",
       "        [2.10520633e-11, 1.63779746e-11, 2.59149178e-11, ...,\n",
       "         8.48235052e-12, 1.06514700e-11, 1.11048387e-11]],\n",
       "\n",
       "       [[1.97750424e+01, 2.37448236e+00, 8.91215261e-01, ...,\n",
       "         1.21617641e+00, 1.85725062e-01, 1.18725874e+01],\n",
       "        [8.76331654e+02, 1.00970105e+03, 9.71395789e+02, ...,\n",
       "         9.12643083e+02, 9.11967199e+02, 7.42720030e+02],\n",
       "        [7.82015684e+02, 8.47416387e+02, 7.12987180e+02, ...,\n",
       "         7.04696400e+02, 6.47365982e+02, 5.60635272e+02],\n",
       "        ...,\n",
       "        [7.74051877e-11, 9.07012408e-11, 1.28192768e-10, ...,\n",
       "         1.09432009e-10, 1.27816130e-10, 1.30591118e-10],\n",
       "        [1.75598891e-10, 1.40235666e-10, 1.52946952e-10, ...,\n",
       "         1.52704934e-10, 1.72794566e-10, 1.94717729e-10],\n",
       "        [1.91400329e-10, 1.83822865e-10, 2.28722460e-10, ...,\n",
       "         1.78447882e-10, 1.99103102e-10, 2.02978222e-10]]])"
      ]
     },
     "execution_count": 144,
     "metadata": {},
     "output_type": "execute_result"
    }
   ],
   "source": [
    "ppt_psd"
   ]
  },
  {
   "cell_type": "code",
   "execution_count": 145,
   "metadata": {},
   "outputs": [
    {
     "name": "stdout",
     "output_type": "stream",
     "text": [
      "(1001,)\n",
      "(298, 1001, 19)\n"
     ]
    }
   ],
   "source": [
    "print(freqs.shape)\n",
    "print(ppt_psd.shape)"
   ]
  },
  {
   "cell_type": "markdown",
   "metadata": {},
   "source": [
    "Plotting ppt_psd against freqs for 1 channel and 1 epoch as an example. This one is concentrated pretty close to 0 so I'll zoom in there. "
   ]
  },
  {
   "cell_type": "code",
   "execution_count": 147,
   "metadata": {},
   "outputs": [
    {
     "data": {
      "text/plain": [
       "[<matplotlib.lines.Line2D at 0x2737c9d2690>]"
      ]
     },
     "execution_count": 147,
     "metadata": {},
     "output_type": "execute_result"
    },
    {
     "data": {
      "image/png": "[encoded data removed]",
      "text/plain": [
       "<Figure size 640x480 with 1 Axes>"
      ]
     },
     "metadata": {},
     "output_type": "display_data"
    }
   ],
   "source": [
    "plt.plot(freqs,ppt_psd[0,:,0])"
   ]
  },
  {
   "cell_type": "code",
   "execution_count": 146,
   "metadata": {},
   "outputs": [
    {
     "data": {
      "text/plain": [
       "[<matplotlib.lines.Line2D at 0x2737c5476d0>]"
      ]
     },
     "execution_count": 146,
     "metadata": {},
     "output_type": "execute_result"
    },
    {
     "data": {
      "image/png": "[encoded data removed]",
      "text/plain": [
       "<Figure size 640x480 with 1 Axes>"
      ]
     },
     "metadata": {},
     "output_type": "display_data"
    }
   ],
   "source": [
    "plt.plot(freqs[:20],ppt_psd[0,:20,0])"
   ]
  },
  {
   "cell_type": "markdown",
   "metadata": {},
   "source": [
    "Specifying the cutoffs for the frequency bands. The range 0.5-4 Hz is called the Delta range, 4-8 Hz is Theta, 8-13 is Alpha, 13-25 is Beta, 25-45 is Gamma. "
   ]
  },
  {
   "cell_type": "code",
   "execution_count": 111,
   "metadata": {},
   "outputs": [],
   "source": [
    "freq_bands = np.array([0.5,4.0,8.0,13.0,25.0,45.0])"
   ]
  },
  {
   "cell_type": "markdown",
   "metadata": {},
   "source": [
    "A function for obtaining the corresponding indices to access these frequency bands in the freqs array. "
   ]
  },
  {
   "cell_type": "code",
   "execution_count": 98,
   "metadata": {},
   "outputs": [],
   "source": [
    "def freq_ind(freqs,freq_bands):\n",
    "    indices = []\n",
    "    for i in range(len(freq_bands)):\n",
    "        indices.append(np.argmin(np.where(freqs >= freq_bands[i],freqs,np.inf)))\n",
    "    return indices"
   ]
  },
  {
   "cell_type": "markdown",
   "metadata": {},
   "source": [
    "Testing the function."
   ]
  },
  {
   "cell_type": "code",
   "execution_count": 99,
   "metadata": {},
   "outputs": [],
   "source": [
    "indices = freq_ind(freqs,freq_bands)"
   ]
  },
  {
   "cell_type": "code",
   "execution_count": 110,
   "metadata": {},
   "outputs": [
    {
     "name": "stdout",
     "output_type": "stream",
     "text": [
      "0.5\n",
      "4.0\n",
      "8.0\n",
      "13.0\n",
      "25.0\n",
      "45.0\n"
     ]
    }
   ],
   "source": [
    "for i in range(len(indices)):\n",
    "    print(freqs[indices[i]])"
   ]
  },
  {
   "cell_type": "markdown",
   "metadata": {},
   "source": [
    "To obtain the relative band power (RBP) of each frequency band we integrate the psd over each of the five frequency bands and divide that by the integral of the psd over the full 0.5-45 Hz band. Since we are taking a ratio the increment between frequencies in freqs (which is 0.25 with our current values) cancels out on the top and bottom with these integrals so we can just sum the values of the psd in these ranges. The keepdims = True argument is required to take advantage of numpy's broadcasting to make this task a bit easier. In the return line I get rid of the 1-dimensional axis from the keepdims bit and then rearrange the axes so that the epoch is the leading axis. For training we would also flatten the (5,19) part into a single dimension.   "
   ]
  },
  {
   "cell_type": "code",
   "execution_count": 148,
   "metadata": {},
   "outputs": [],
   "source": [
    "def relative_band_power(ppt_psd,freqs,freq_bands):\n",
    "    indices = freq_ind(freqs,freq_bands)\n",
    "    total_power = np.sum(ppt_psd[:,indices[0]:indices[-1],:],axis=1,keepdims=True)\n",
    "    relative_bands_list = []\n",
    "    for i in range(len(indices)-1):\n",
    "        relative_bands_list.append(np.sum(ppt_psd[:,indices[i]:indices[i+1],:],axis=1,keepdims=True)/total_power)\n",
    "    return np.transpose(np.squeeze(np.array(relative_bands_list)),(1,0,2))"
   ]
  },
  {
   "cell_type": "code",
   "execution_count": 149,
   "metadata": {},
   "outputs": [],
   "source": [
    "ppt_rbp = relative_band_power(ppt_psd,freqs,freq_bands)"
   ]
  },
  {
   "cell_type": "code",
   "execution_count": 150,
   "metadata": {},
   "outputs": [
    {
     "data": {
      "text/plain": [
       "(298, 5, 19)"
      ]
     },
     "execution_count": 150,
     "metadata": {},
     "output_type": "execute_result"
    }
   ],
   "source": [
    "ppt_rbp.shape"
   ]
  },
  {
   "cell_type": "code",
   "execution_count": 151,
   "metadata": {},
   "outputs": [
    {
     "data": {
      "text/plain": [
       "array([[[0.92022716, 0.92929837, 0.9373573 , ..., 0.93573791,\n",
       "         0.9400835 , 0.94340537],\n",
       "        [0.02260088, 0.02874346, 0.03336272, ..., 0.03449178,\n",
       "         0.03218205, 0.02876399],\n",
       "        [0.01645015, 0.01335824, 0.01140767, ..., 0.01266795,\n",
       "         0.01215727, 0.0120701 ],\n",
       "        [0.01698087, 0.01318902, 0.00920148, ..., 0.01068129,\n",
       "         0.00991135, 0.01068838],\n",
       "        [0.02374093, 0.0154109 , 0.00867084, ..., 0.00642107,\n",
       "         0.00566583, 0.00507216]],\n",
       "\n",
       "       [[0.91278718, 0.91729242, 0.93917855, ..., 0.91661161,\n",
       "         0.90949609, 0.90558457],\n",
       "        [0.04326029, 0.04882613, 0.04039459, ..., 0.06247327,\n",
       "         0.07170402, 0.07101357],\n",
       "        [0.01178527, 0.0113907 , 0.00929586, ..., 0.00976025,\n",
       "         0.00796595, 0.01031576],\n",
       "        [0.01494737, 0.01093454, 0.00678994, ..., 0.00693464,\n",
       "         0.00671755, 0.00992995],\n",
       "        [0.0172199 , 0.01155621, 0.00434107, ..., 0.00422023,\n",
       "         0.00411638, 0.00315615]],\n",
       "\n",
       "       [[0.87503347, 0.87416409, 0.88639751, ..., 0.8747167 ,\n",
       "         0.88218159, 0.89967432],\n",
       "        [0.05496695, 0.05990534, 0.06017659, ..., 0.07827919,\n",
       "         0.07774145, 0.0637616 ],\n",
       "        [0.01726201, 0.01910497, 0.01863604, ..., 0.01839716,\n",
       "         0.01786374, 0.01855097],\n",
       "        [0.02180298, 0.02368718, 0.02265406, ..., 0.02128986,\n",
       "         0.01688704, 0.01191732],\n",
       "        [0.0309346 , 0.02313841, 0.01213581, ..., 0.00731709,\n",
       "         0.00532618, 0.00609579]],\n",
       "\n",
       "       ...,\n",
       "\n",
       "       [[0.91897926, 0.93818149, 0.93846131, ..., 0.94630044,\n",
       "         0.93331598, 0.92430209],\n",
       "        [0.04639229, 0.0346227 , 0.03611914, ..., 0.03147397,\n",
       "         0.04616503, 0.05507679],\n",
       "        [0.01198485, 0.01263646, 0.01112866, ..., 0.01130985,\n",
       "         0.01000832, 0.00902044],\n",
       "        [0.01070846, 0.00792034, 0.00852153, ..., 0.00674644,\n",
       "         0.00664496, 0.00734408],\n",
       "        [0.01193514, 0.00663902, 0.00576936, ..., 0.0041693 ,\n",
       "         0.0038657 , 0.00425659]],\n",
       "\n",
       "       [[0.7458135 , 0.76802509, 0.77992423, ..., 0.76959852,\n",
       "         0.7579329 , 0.72821099],\n",
       "        [0.16037547, 0.15301776, 0.14832201, ..., 0.16263893,\n",
       "         0.17231653, 0.1991939 ],\n",
       "        [0.0353039 , 0.03576444, 0.02889577, ..., 0.03118217,\n",
       "         0.03311967, 0.04069658],\n",
       "        [0.02515806, 0.0216892 , 0.02387434, ..., 0.0169506 ,\n",
       "         0.01852189, 0.01724708],\n",
       "        [0.03334906, 0.02150351, 0.01898365, ..., 0.01962978,\n",
       "         0.01810901, 0.01465144]],\n",
       "\n",
       "       [[0.85445444, 0.8686525 , 0.89403224, ..., 0.89837781,\n",
       "         0.89975843, 0.89666157],\n",
       "        [0.10196137, 0.09693037, 0.07105684, ..., 0.07265475,\n",
       "         0.06974427, 0.0726856 ],\n",
       "        [0.01284102, 0.01305859, 0.01545899, ..., 0.01391808,\n",
       "         0.01552036, 0.01625572],\n",
       "        [0.01579551, 0.01230217, 0.01214153, ..., 0.00957964,\n",
       "         0.00876394, 0.00948399],\n",
       "        [0.01494766, 0.00905637, 0.00731039, ..., 0.00546972,\n",
       "         0.006213  , 0.00491311]]])"
      ]
     },
     "execution_count": 151,
     "metadata": {},
     "output_type": "execute_result"
    }
   ],
   "source": [
    "ppt_rbp"
   ]
  }
 ],
 "metadata": {
  "kernelspec": {
   "display_name": "Python 3 (ipykernel)",
   "language": "python",
   "name": "python3"
  },
  "language_info": {
   "codemirror_mode": {
    "name": "ipython",
    "version": 3
   },
   "file_extension": ".py",
   "mimetype": "text/x-python",
   "name": "python",
   "nbconvert_exporter": "python",
   "pygments_lexer": "ipython3",
   "version": "3.10.11"
  }
 },
 "nbformat": 4,
 "nbformat_minor": 4
}

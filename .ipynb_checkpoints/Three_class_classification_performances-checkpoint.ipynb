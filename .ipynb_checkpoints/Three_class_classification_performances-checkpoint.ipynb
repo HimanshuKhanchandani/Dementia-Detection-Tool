{
 "cells": [
  {
   "cell_type": "code",
   "execution_count": 1,
   "id": "ec8969d2",
   "metadata": {},
   "outputs": [],
   "source": [
    "import pandas as pd\n",
    "import numpy as np\n",
    "import matplotlib.pyplot as plt\n",
    "from processing_functions import create_numeric_labels, process_and_save\n",
    "from three_class_classification_models import kNN_cross_3class, RF_cross_3class, MLP_cross_3class\n",
    "import warnings\n",
    "warnings.simplefilter('ignore')"
   ]
  },
  {
   "cell_type": "code",
   "execution_count": null,
   "id": "b5b8549a",
   "metadata": {},
   "outputs": [],
   "source": [
    "'''\n",
    "process_and_save(epoch_length=2000,overlap_ratio=0.5,freq_bands=np.array([0.5,4.0,8.0,13.0,25.0,45.0])\n",
    "                 ,nperseg=256,filenames=['processed_data/short_num_epochs','processed_data/short_rbp'])\n",
    "process_and_save(epoch_length=15000,overlap_ratio=0.5,freq_bands=np.array([0.5,4.0,8.0,13.0,25.0,45.0]),\n",
    "                 nperseg=2000,filenames=['processed_data/long_num_epochs','processed_data/long_rbp'])\n",
    "'''"
   ]
  },
  {
   "cell_type": "code",
   "execution_count": 2,
   "id": "5fcd9607",
   "metadata": {},
   "outputs": [],
   "source": [
    "short_num_epochs = np.load('processed_data/short_num_epochs.npy')\n",
    "long_num_epochs = np.load('processed_data/long_num_epochs.npy')\n",
    "short_rbp = np.load('processed_data/short_rbp.npy')\n",
    "long_rbp = np.load('processed_data/long_rbp.npy')"
   ]
  },
  {
   "cell_type": "code",
   "execution_count": 3,
   "id": "d81609ae",
   "metadata": {},
   "outputs": [
    {
     "data": {
      "text/plain": [
       "array([1, 1, 1, 1, 1, 1, 1, 1, 1, 1, 1, 1, 1, 1, 1, 1, 1, 1, 1, 1, 1, 1,\n",
       "       1, 1, 1, 1, 1, 1, 1, 1, 1, 1, 1, 1, 1, 1, 0, 0, 0, 0, 0, 0, 0, 0,\n",
       "       0, 0, 0, 0, 0, 0, 0, 0, 0, 0, 0, 0, 0, 0, 0, 0, 0, 0, 0, 0, 0, 2,\n",
       "       2, 2, 2, 2, 2, 2, 2, 2, 2, 2, 2, 2, 2, 2, 2, 2, 2, 2, 2, 2, 2, 2])"
      ]
     },
     "execution_count": 3,
     "metadata": {},
     "output_type": "execute_result"
    }
   ],
   "source": [
    "ppt_diagnostics = pd.read_csv('data/ds004504/participants.tsv',sep='\\t')\n",
    "target_labels = ppt_diagnostics['Group'].apply(create_numeric_labels).values\n",
    "target_labels"
   ]
  },
  {
   "cell_type": "markdown",
   "id": "04424c7c",
   "metadata": {},
   "source": [
    "We start by looking at the 3 class classification performance of nearest neighbor classifier on long and short epochs. "
   ]
  },
  {
   "cell_type": "code",
   "execution_count": 8,
   "id": "819845f0",
   "metadata": {},
   "outputs": [
    {
     "name": "stdout",
     "output_type": "stream",
     "text": [
      "The accuracy is:  0.5044269128427152\n"
     ]
    }
   ],
   "source": [
    "long_ThreeNN_3class = kNN_cross_3class(long_rbp,long_num_epochs,target_labels,n_neighbors=3)"
   ]
  },
  {
   "cell_type": "code",
   "execution_count": 9,
   "id": "c535f0ac",
   "metadata": {},
   "outputs": [
    {
     "name": "stdout",
     "output_type": "stream",
     "text": [
      "The accuracy is:  0.4369331954451404\n"
     ]
    }
   ],
   "source": [
    "short_ThreeNN_3class = kNN_cross_3class(short_rbp,short_num_epochs,target_labels,n_neighbors=3)"
   ]
  },
  {
   "cell_type": "markdown",
   "id": "6b05a417",
   "metadata": {},
   "source": [
    "Then we look at the similar metric for Random Forest Classifier"
   ]
  },
  {
   "cell_type": "code",
   "execution_count": 10,
   "id": "f3754e8e",
   "metadata": {},
   "outputs": [
    {
     "name": "stdout",
     "output_type": "stream",
     "text": [
      "The accuracy is:  0.5727213292983205\n"
     ]
    }
   ],
   "source": [
    "long_RF_3class = RF_cross_3class(long_rbp,long_num_epochs,target_labels)"
   ]
  },
  {
   "cell_type": "code",
   "execution_count": 11,
   "id": "9d434a8f",
   "metadata": {},
   "outputs": [
    {
     "name": "stdout",
     "output_type": "stream",
     "text": [
      "The accuracy is:  0.5406314830840311\n"
     ]
    }
   ],
   "source": [
    "short_RF_3class = RF_cross_3class(short_rbp,short_num_epochs,target_labels)"
   ]
  },
  {
   "cell_type": "markdown",
   "id": "70925b3a",
   "metadata": {},
   "source": [
    "Finally we look at the performance of the multi-layer perceptron model for the long and short epochs. "
   ]
  },
  {
   "cell_type": "code",
   "execution_count": 12,
   "id": "6db0c9eb",
   "metadata": {},
   "outputs": [
    {
     "name": "stdout",
     "output_type": "stream",
     "text": [
      "The accuracy is:  0.501818716715583\n"
     ]
    }
   ],
   "source": [
    "long_MLP_3class = MLP_cross_3class(long_rbp, long_num_epochs,target_labels)"
   ]
  },
  {
   "cell_type": "code",
   "execution_count": null,
   "id": "133c0710",
   "metadata": {},
   "outputs": [],
   "source": [
    "short_MLP_3class = MLP_cross_3class(short_rbp, short_num_epochs,target_labels)"
   ]
  }
 ],
 "metadata": {
  "kernelspec": {
   "display_name": "Python 3 (ipykernel)",
   "language": "python",
   "name": "python3"
  },
  "language_info": {
   "codemirror_mode": {
    "name": "ipython",
    "version": 3
   },
   "file_extension": ".py",
   "mimetype": "text/x-python",
   "name": "python",
   "nbconvert_exporter": "python",
   "pygments_lexer": "ipython3",
   "version": "3.10.11"
  }
 },
 "nbformat": 4,
 "nbformat_minor": 5
}

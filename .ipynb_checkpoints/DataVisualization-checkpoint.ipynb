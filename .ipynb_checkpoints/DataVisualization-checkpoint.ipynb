{
 "cells": [
  {
   "cell_type": "code",
   "execution_count": 1,
   "id": "17723d9e",
   "metadata": {},
   "outputs": [],
   "source": [
    "import pandas as pd\n",
    "import numpy as np\n",
    "import matplotlib.pyplot as plt\n",
    "from processing_functions import create_numeric_labels, process_and_save, ppt_id, create_epochs\n",
    "from classification_models import kNN_cross, RF_cross, MLP_cross\n",
    "import mne\n",
    "from scipy.signal import welch"
   ]
  },
  {
   "cell_type": "code",
   "execution_count": 4,
   "id": "04508fe0",
   "metadata": {
    "scrolled": true
   },
   "outputs": [],
   "source": [
    "long_num_epochs = np.load('processed_data/long_num_epochs.npy')\n",
    "long_rbp = np.load('processed_data/long_rbp.npy')"
   ]
  },
  {
   "cell_type": "code",
   "execution_count": 3,
   "id": "c6107dd9",
   "metadata": {},
   "outputs": [],
   "source": [
    "ppt = 2"
   ]
  },
  {
   "cell_type": "code",
   "execution_count": 4,
   "id": "88dc55e4",
   "metadata": {},
   "outputs": [],
   "source": [
    "raw_data = mne.io.read_raw_eeglab('../ds004504/derivatives/' + ppt_id(ppt)\n",
    "                                    + '/eeg/' + ppt_id(ppt) + '_task-eyesclosed_eeg.set', preload = True)\n",
    "export = raw_data.to_data_frame()\n",
    "ppt_array = export.iloc[:,range(1,len(export.columns))].values\n",
    "ppt_epochs = create_epochs(ppt_array, epoch_length=15000, overlap_ratio = 0.5)\n",
    "freqs, ppt_psd  = welch(ppt_epochs,fs=500, nperseg=2000, axis=1)"
   ]
  },
  {
   "cell_type": "code",
   "execution_count": 24,
   "id": "a68b64cd",
   "metadata": {},
   "outputs": [
    {
     "data": {
      "text/plain": [
       "array([ 0.  ,  0.25,  0.5 ,  0.75,  1.  ,  1.25,  1.5 ,  1.75,  2.  ,\n",
       "        2.25,  2.5 ,  2.75,  3.  ,  3.25,  3.5 ,  3.75,  4.  ,  4.25,\n",
       "        4.5 ,  4.75,  5.  ,  5.25,  5.5 ,  5.75,  6.  ,  6.25,  6.5 ,\n",
       "        6.75,  7.  ,  7.25,  7.5 ,  7.75,  8.  ,  8.25,  8.5 ,  8.75,\n",
       "        9.  ,  9.25,  9.5 ,  9.75, 10.  , 10.25, 10.5 , 10.75, 11.  ,\n",
       "       11.25, 11.5 , 11.75, 12.  , 12.25, 12.5 , 12.75, 13.  , 13.25,\n",
       "       13.5 , 13.75, 14.  , 14.25, 14.5 , 14.75, 15.  , 15.25, 15.5 ,\n",
       "       15.75, 16.  , 16.25, 16.5 , 16.75, 17.  , 17.25, 17.5 , 17.75,\n",
       "       18.  , 18.25, 18.5 , 18.75, 19.  , 19.25, 19.5 , 19.75, 20.  ,\n",
       "       20.25, 20.5 , 20.75, 21.  , 21.25, 21.5 , 21.75, 22.  , 22.25,\n",
       "       22.5 , 22.75, 23.  , 23.25, 23.5 , 23.75, 24.  , 24.25, 24.5 ,\n",
       "       24.75])"
      ]
     },
     "execution_count": 24,
     "metadata": {},
     "output_type": "execute_result"
    }
   ],
   "source": [
    "freqs[0:100]"
   ]
  },
  {
   "cell_type": "code",
   "execution_count": 26,
   "id": "7604fb06",
   "metadata": {},
   "outputs": [
    {
     "data": {
      "text/plain": [
       "(51, 1001, 19)"
      ]
     },
     "execution_count": 26,
     "metadata": {},
     "output_type": "execute_result"
    }
   ],
   "source": [
    "ppt_psd.shape"
   ]
  },
  {
   "cell_type": "code",
   "execution_count": 28,
   "id": "f4f7021d",
   "metadata": {},
   "outputs": [
    {
     "data": {
      "text/plain": [
       "array([[4.06557640e+01, 4.66244486e+01, 4.05742061e+01, ...,\n",
       "        3.80814230e+01, 4.23725878e+01, 4.29689187e+01],\n",
       "       [3.73142716e+02, 3.99470731e+02, 3.59665564e+02, ...,\n",
       "        3.73421910e+02, 3.65466611e+02, 3.98784642e+02],\n",
       "       [9.16556287e+02, 8.37827943e+02, 8.92409107e+02, ...,\n",
       "        8.47612145e+02, 8.48072424e+02, 8.64979941e+02],\n",
       "       ...,\n",
       "       [8.83492395e-11, 8.39886122e-11, 8.95755966e-11, ...,\n",
       "        8.41833182e-11, 8.23356402e-11, 9.28125409e-11],\n",
       "       [6.35826032e-10, 6.53443162e-10, 6.84680892e-10, ...,\n",
       "        6.50997907e-10, 5.78467914e-10, 7.59412178e-10],\n",
       "       [7.09674993e-10, 7.49766591e-10, 7.79022043e-10, ...,\n",
       "        7.34934662e-10, 6.38741212e-10, 8.65711471e-10]])"
      ]
     },
     "execution_count": 28,
     "metadata": {},
     "output_type": "execute_result"
    }
   ],
   "source": [
    "ppt_psd[0]"
   ]
  },
  {
   "cell_type": "code",
   "execution_count": 36,
   "id": "063e2a73",
   "metadata": {},
   "outputs": [
    {
     "data": {
      "image/png": "[encoded data removed]",
      "text/plain": [
       "<Figure size 640x480 with 1 Axes>"
      ]
     },
     "metadata": {},
     "output_type": "display_data"
    }
   ],
   "source": [
    "plt.plot(ppt_psd[0, 5:100, 1])\n",
    "plt.xticks(freqs[5:100])\n",
    "plt.show()"
   ]
  },
  {
   "cell_type": "code",
   "execution_count": null,
   "id": "a288060e",
   "metadata": {},
   "outputs": [],
   "source": []
  }
 ],
 "metadata": {
  "kernelspec": {
   "display_name": "Python 3 (ipykernel)",
   "language": "python",
   "name": "python3"
  },
  "language_info": {
   "codemirror_mode": {
    "name": "ipython",
    "version": 3
   },
   "file_extension": ".py",
   "mimetype": "text/x-python",
   "name": "python",
   "nbconvert_exporter": "python",
   "pygments_lexer": "ipython3",
   "version": "3.10.11"
  }
 },
 "nbformat": 4,
 "nbformat_minor": 5
}

{
 "cells": [
  {
   "cell_type": "markdown",
   "id": "41f69dfe",
   "metadata": {},
   "source": [
    "We combined \"long epochs\" of rbps of 15 nodes and connectivities of 4 symmetrical nodes of delta and theta bands. "
   ]
  },
  {
   "cell_type": "code",
   "execution_count": 21,
   "id": "92f59ff1",
   "metadata": {},
   "outputs": [],
   "source": [
    "import mne\n",
    "import warnings\n",
    "import pandas as pd\n",
    "import numpy as np\n",
    "import matplotlib.pyplot as plt\n",
    "from sklearn.neighbors import KNeighborsClassifier\n",
    "from sklearn.preprocessing import StandardScaler\n",
    "from sklearn.metrics import confusion_matrix\n",
    "from processing_functions import *\n",
    "from Classification_models_LOSO_2Class import *\n",
    "from model_functions import *"
   ]
  },
  {
   "cell_type": "code",
   "execution_count": 22,
   "id": "4e61c58f",
   "metadata": {},
   "outputs": [],
   "source": [
    "def remove_test(features,test):\n",
    "    features_train = [features[i] for i in range(len(features)) if i not in test]\n",
    "    #target_train = [targets[i] for i in range(len(targets)) if i not in test]\n",
    "    return features_train\n",
    "\n",
    "def remove_test_targets(targets, test):\n",
    "    target_train = [targets[i] for i in range(len(targets)) if i not in test]\n",
    "    return target_train\n",
    "\n",
    "def remove_class(features,class_):\n",
    "    if class_ == 'F':\n",
    "        return features[:65]\n",
    "    if class_ == 'A':\n",
    "        return features[36:]\n",
    "    if class_ == 'C':\n",
    "        return features[:36]+features[65:]"
   ]
  },
  {
   "cell_type": "code",
   "execution_count": 23,
   "id": "76fd44f2",
   "metadata": {},
   "outputs": [],
   "source": [
    "targets_AC=[]\n",
    "targets_AC=[0 for i in range(26)]\n",
    "targets_AC.extend([2 for i in range(21)])\n",
    "test= [49,53,63,71,72]"
   ]
  },
  {
   "cell_type": "code",
   "execution_count": 24,
   "id": "c2726923",
   "metadata": {},
   "outputs": [],
   "source": [
    "features= np.load('processed_data/rbp_plus_all_con_long_epochs.npy',allow_pickle=True)\n",
    "features= remove_test(features, test)\n",
    "features= remove_class(features,\"A\")\n",
    "\n",
    "#targets_AC=remove_test_targets(targetss,test)"
   ]
  },
  {
   "cell_type": "code",
   "execution_count": 25,
   "id": "f7318f2d",
   "metadata": {},
   "outputs": [
    {
     "data": {
      "text/plain": [
       "({'acc': 1.0, 'sens': 1.0, 'spec': 1.0, 'f1': 1.0},\n",
       " {'acc': 0.7451564828614009,\n",
       "  'sens': 0.6470588235294118,\n",
       "  'spec': 0.8120300751879699,\n",
       "  'f1': 0.6730401529636711})"
      ]
     },
     "execution_count": 25,
     "metadata": {},
     "output_type": "execute_result"
    }
   ],
   "source": [
    "kNN_cross(features,targets,n_neighbors=3, PCA_components = 0)"
   ]
  },
  {
   "cell_type": "code",
   "execution_count": 26,
   "id": "8d943dd9",
   "metadata": {},
   "outputs": [],
   "source": [
    "PCA_components = [5, 10, 20]\n",
    "val_acc = []\n",
    "train_acc = []\n",
    "for n in PCA_components: \n",
    "    train_metric_dict, val_metric_dict = kNN_cross(features, targets, n_neighbors=3, PCA_components = n)\n",
    "    val_acc += [val_metric_dict['acc']]\n",
    "    train_acc += [train_metric_dict['acc']]"
   ]
  },
  {
   "cell_type": "code",
   "execution_count": 27,
   "id": "7e001d86",
   "metadata": {},
   "outputs": [
    {
     "data": {
      "text/plain": [
       "([0.6602086438152012, 0.706408345752608, 0.7436661698956781],\n",
       " [0.9875591265470096, 0.9982181040627227, 1.0])"
      ]
     },
     "execution_count": 27,
     "metadata": {},
     "output_type": "execute_result"
    }
   ],
   "source": [
    "val_acc, train_acc"
   ]
  },
  {
   "cell_type": "code",
   "execution_count": 28,
   "id": "0b69661e",
   "metadata": {},
   "outputs": [
    {
     "data": {
      "text/plain": [
       "({'acc': 1.0, 'sens': 1.0, 'spec': 1.0, 'f1': 1.0},\n",
       " {'acc': 0.7242921013412816,\n",
       "  'sens': 0.6838235294117647,\n",
       "  'spec': 0.7518796992481203,\n",
       "  'f1': 0.6678635547576302})"
      ]
     },
     "execution_count": 28,
     "metadata": {},
     "output_type": "execute_result"
    }
   ],
   "source": [
    "train_metric_dict, val_metric_dict = svm_cross(features, targets, kernel= \"linear\", reg_parameter = 1.0, degree=2, PCA_components= 0)\n",
    "train_metric_dict, val_metric_dict"
   ]
  },
  {
   "cell_type": "code",
   "execution_count": 29,
   "id": "d7e539e3",
   "metadata": {},
   "outputs": [
    {
     "data": {
      "text/plain": [
       "({'acc': 1.0, 'sens': 1.0, 'spec': 1.0, 'f1': 1.0},\n",
       " {'acc': 0.7287630402384501,\n",
       "  'sens': 0.6691176470588235,\n",
       "  'spec': 0.7694235588972431,\n",
       "  'f1': 0.6666666666666665})"
      ]
     },
     "execution_count": 29,
     "metadata": {},
     "output_type": "execute_result"
    }
   ],
   "source": [
    "train_metric_dict, val_metric_dict = svm_cross(features, targets, kernel= \"linear\", reg_parameter = 10.0, degree=2, PCA_components= 0)\n",
    "train_metric_dict, val_metric_dict"
   ]
  },
  {
   "cell_type": "code",
   "execution_count": 30,
   "id": "dc03bf99",
   "metadata": {},
   "outputs": [
    {
     "data": {
      "text/plain": [
       "({'acc': 0.8894900537808592,\n",
       "  'sens': 0.7320971867007673,\n",
       "  'spec': 0.9967854418655334,\n",
       "  'f1': 0.843035295200405},\n",
       " {'acc': 0.6453055141579732,\n",
       "  'sens': 0.35661764705882354,\n",
       "  'spec': 0.8421052631578947,\n",
       "  'f1': 0.449074074074074})"
      ]
     },
     "execution_count": 30,
     "metadata": {},
     "output_type": "execute_result"
    }
   ],
   "source": [
    "train_metric_dict, val_metric_dict = svm_cross(features, targets, kernel= \"poly\", reg_parameter = 1.0, degree=2, PCA_components= 0)\n",
    "train_metric_dict, val_metric_dict"
   ]
  },
  {
   "cell_type": "code",
   "execution_count": 31,
   "id": "0454c62c",
   "metadata": {},
   "outputs": [
    {
     "data": {
      "text/plain": [
       "({'acc': 0.9967925873129009,\n",
       "  'sens': 0.992247442455243,\n",
       "  'spec': 0.9998910319276452,\n",
       "  'f1': 0.9960287215692567},\n",
       " {'acc': 0.7481371087928465,\n",
       "  'sens': 0.7022058823529411,\n",
       "  'spec': 0.7794486215538847,\n",
       "  'f1': 0.6932849364791288})"
      ]
     },
     "execution_count": 31,
     "metadata": {},
     "output_type": "execute_result"
    }
   ],
   "source": [
    "train_metric_dict, val_metric_dict = log_reg_cross(features, targets)\n",
    "train_metric_dict, val_metric_dict"
   ]
  },
  {
   "cell_type": "code",
   "execution_count": 32,
   "id": "f945729a",
   "metadata": {},
   "outputs": [
    {
     "data": {
      "text/plain": [
       "({'acc': 0.8784099008617897,\n",
       "  'sens': 0.8444693094629157,\n",
       "  'spec': 0.9015473466274382,\n",
       "  'f1': 0.8491862567811935},\n",
       " {'acc': 0.7749627421758569,\n",
       "  'sens': 0.7573529411764706,\n",
       "  'spec': 0.7869674185463659,\n",
       "  'f1': 0.7317939609236234})"
      ]
     },
     "execution_count": 32,
     "metadata": {},
     "output_type": "execute_result"
    }
   ],
   "source": [
    "train_metric_dict, val_metric_dict = log_reg_cross(features, targets, PCA_components = 15)\n",
    "train_metric_dict, val_metric_dict"
   ]
  },
  {
   "cell_type": "code",
   "execution_count": 36,
   "id": "de623ca9",
   "metadata": {},
   "outputs": [
    {
     "data": {
      "text/plain": [
       "({'acc': 0.9950754875915246,\n",
       "  'sens': 0.9880115089514067,\n",
       "  'spec': 0.9998910319276452,\n",
       "  'f1': 0.9938896928766682},\n",
       " {'acc': 0.7451564828614009,\n",
       "  'sens': 0.6948529411764706,\n",
       "  'spec': 0.7794486215538847,\n",
       "  'f1': 0.6885245901639345})"
      ]
     },
     "execution_count": 36,
     "metadata": {},
     "output_type": "execute_result"
    }
   ],
   "source": [
    "train_metric_dict, val_metric_dict = log_reg_cross(features, targets, PCA_components = 70)\n",
    "train_metric_dict, val_metric_dict"
   ]
  },
  {
   "cell_type": "code",
   "execution_count": null,
   "id": "9f55e08c",
   "metadata": {},
   "outputs": [],
   "source": []
  }
 ],
 "metadata": {
  "kernelspec": {
   "display_name": "Python 3 (ipykernel)",
   "language": "python",
   "name": "python3"
  },
  "language_info": {
   "codemirror_mode": {
    "name": "ipython",
    "version": 3
   },
   "file_extension": ".py",
   "mimetype": "text/x-python",
   "name": "python",
   "nbconvert_exporter": "python",
   "pygments_lexer": "ipython3",
   "version": "3.10.13"
  }
 },
 "nbformat": 4,
 "nbformat_minor": 5
}

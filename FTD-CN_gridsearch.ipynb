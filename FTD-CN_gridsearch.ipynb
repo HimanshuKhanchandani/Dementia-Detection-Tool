{
 "cells": [
  {
   "cell_type": "code",
   "execution_count": 1,
   "id": "17a259d2",
   "metadata": {},
   "outputs": [],
   "source": [
    "import mne\n",
    "import warnings\n",
    "import pandas as pd\n",
    "import numpy as np\n",
    "import matplotlib.pyplot as plt\n",
    "from scipy.signal import welch\n",
    "from sklearn.neighbors import KNeighborsClassifier\n",
    "from sklearn.preprocessing import StandardScaler\n",
    "from sklearn.metrics import confusion_matrix,recall_score, f1_score\n",
    "from processing_functions import ppt_id, create_epochs, freq_ind, create_numeric_labels, relative_band_power\n",
    "warnings.simplefilter('ignore')"
   ]
  },
  {
   "cell_type": "code",
   "execution_count": 2,
   "id": "916f634f",
   "metadata": {},
   "outputs": [],
   "source": [
    "from sklearn.svm import SVC"
   ]
  },
  {
   "cell_type": "markdown",
   "id": "3cfa5aa1",
   "metadata": {},
   "source": [
    "We follow the same arrangement as in kNearestNeighbor folder to get the dataset."
   ]
  },
  {
   "cell_type": "code",
   "execution_count": 3,
   "id": "40b059c5",
   "metadata": {},
   "outputs": [
    {
     "data": {
      "text/plain": [
       "array([1, 1, 1, 1, 1, 1, 1, 1, 1, 1, 1, 1, 1, 1, 1, 1, 1, 1, 1, 1, 1, 1,\n",
       "       1, 1, 1, 1, 1, 1, 1, 1, 1, 1, 1, 1, 1, 1, 0, 0, 0, 0, 0, 0, 0, 0,\n",
       "       0, 0, 0, 0, 0, 0, 0, 0, 0, 0, 0, 0, 0, 0, 0, 0, 0, 0, 0, 0, 0, 2,\n",
       "       2, 2, 2, 2, 2, 2, 2, 2, 2, 2, 2, 2, 2, 2, 2, 2, 2, 2, 2, 2, 2, 2])"
      ]
     },
     "execution_count": 3,
     "metadata": {},
     "output_type": "execute_result"
    }
   ],
   "source": [
    "ppt_diagnostics = pd.read_csv('data/ds004504/participants.tsv',sep='\\t')\n",
    "target_labels = ppt_diagnostics['Group'].apply(create_numeric_labels).values\n",
    "target_labels"
   ]
  },
  {
   "cell_type": "code",
   "execution_count": 4,
   "id": "2d7330a3",
   "metadata": {},
   "outputs": [],
   "source": [
    "epoch_length = 2000\n",
    "overlap_ratio = 0.5\n",
    "freq_bands = np.array([0.5,4.0,8.0,13.0,25.0,45.0])\n",
    "sample_freq = 500 #hertz"
   ]
  },
  {
   "cell_type": "code",
   "execution_count": 5,
   "id": "d3981714",
   "metadata": {},
   "outputs": [],
   "source": [
    "features = []\n",
    "targets = []\n",
    "for i in range(len(target_labels)):\n",
    "    ppt = i + 1\n",
    "    raw_data = mne.io.read_raw_eeglab('data/ds004504/derivatives/' + ppt_id(ppt)\n",
    "                                  + '/eeg/' + ppt_id(ppt) + '_task-eyesclosed_eeg.set', preload = True)\n",
    "    export = raw_data.to_data_frame()\n",
    "    ppt_array = export.iloc[:,range(1,len(export.columns))].values\n",
    "    del raw_data\n",
    "    del export\n",
    "    ppt_epochs = create_epochs(ppt_array,epoch_length,overlap_ratio)\n",
    "    freqs, ppt_psd  = welch(ppt_epochs,fs=sample_freq, axis=1)\n",
    "    ppt_rbp = relative_band_power(ppt_psd,freqs,freq_bands)\n",
    "    ppt_rbp_reshaped = ppt_rbp.reshape((ppt_rbp.shape[0], -1))\n",
    "    features += [ppt_rbp_reshaped]\n",
    "    targets += [[target_labels[i]]*ppt_rbp.shape[0]]"
   ]
  },
  {
   "cell_type": "markdown",
   "id": "44375dd4",
   "metadata": {},
   "source": [
    "We used the same shuffle method as in kNN file."
   ]
  },
  {
   "cell_type": "code",
   "execution_count": 30,
   "id": "627663ba",
   "metadata": {},
   "outputs": [],
   "source": [
    "CN_indices = list(i for i in range(37,66))\n",
    "FTD_indices = list(i for i in range(66,89))\n",
    "#np.random.shuffle(CN_indices)\n",
    "#np.random.shuffle(FTD_indices)"
   ]
  },
  {
   "cell_type": "code",
   "execution_count": 40,
   "id": "cc8255b9",
   "metadata": {},
   "outputs": [
    {
     "name": "stdout",
     "output_type": "stream",
     "text": [
      "[37, 38, 39, 40, 41, 42, 43, 44, 45, 46, 47, 48, 49, 50, 51, 52, 53, 54, 55, 56, 57, 58, 59, 60, 61, 62, 63, 64, 65]\n",
      "29\n",
      "[66, 67, 68, 69, 70, 71, 72, 73, 74, 75, 76, 77, 78, 79, 80, 81, 82, 83, 84, 85, 86, 87, 88]\n",
      "23\n"
     ]
    }
   ],
   "source": [
    "print(CN_indices)\n",
    "print(len(CN_indices))\n",
    "print(FTD_indices)\n",
    "print(len(FTD_indices))"
   ]
  },
  {
   "cell_type": "code",
   "execution_count": 41,
   "id": "fb7fbdb1",
   "metadata": {},
   "outputs": [],
   "source": [
    "features = [features[CN_indices[i]-1] for i in range(0,29)] + [features[FTD_indices[i]-1] for i in range(0,23)]\n",
    "targets = [targets[CN_indices[i]-1] for i in range(0,29)] + [targets[FTD_indices[i]-1] for i in range(0,23)]"
   ]
  },
  {
   "cell_type": "code",
   "execution_count": 48,
   "id": "23e496f2",
   "metadata": {},
   "outputs": [],
   "source": [
    "#np.concatenate((features[0])).shape"
   ]
  },
  {
   "cell_type": "markdown",
   "id": "3fc609c5",
   "metadata": {},
   "source": [
    "In the next part, we will leave 1 patient out for each of the 52 (29 CN+ 23 FTD) patients and apply general SVM with kernel degree 2 polynomial for each case and calculate their accuracy, sensitivity, specificity and f1 scores."
   ]
  },
  {
   "cell_type": "code",
   "execution_count": 50,
   "id": "09f629e2",
   "metadata": {},
   "outputs": [],
   "source": [
    "cross_valid_acc = []\n",
    "sensitivities = []\n",
    "specificities = []\n",
    "f1s = []\n",
    "for i in range(52):\n",
    "    # The following two arrays will store the target and features for the train set. We will append to it\n",
    "    # as we go through various subjects.\n",
    "    features_minus_i = ((features[0:52].copy()))\n",
    "    del (features_minus_i)[i]\n",
    "    \n",
    "    targets_minus_i = ((targets[0:52].copy()))\n",
    "    del (targets_minus_i)[i]\n",
    "    \n",
    "    train_X = np.concatenate(features_minus_i)\n",
    "    train_y = np.concatenate(targets_minus_i)\n",
    "    \n",
    "    \n",
    "    # The following two arrays will store target and features for the test set. \n",
    "    test_X = features[i]\n",
    "    #np.concatenate((features[i],features[36+i]))\n",
    "    test_y = targets[i]\n",
    "    #np.concatenate((targets[i],targets[36+i]))\n",
    "    \n",
    "    #fitting the model\n",
    "    \n",
    "    svc = SVC(kernel='poly', degree=2, C=1000)\n",
    "    svc.fit(train_X, train_y)\n",
    "        \n",
    "    # This stores the accuracy on the test data\n",
    "    cross_valid_acc += [svc.score(test_X, test_y)]\n",
    "    sensitivities += [recall_score(test_y, svc.predict(test_X), labels = [0,2], pos_label = 0)]\n",
    "    specificities += [recall_score(test_y, svc.predict(test_X), labels = [0,2],pos_label = 2)]\n",
    "    f1s += [f1_score(test_y, svc.predict(test_X),labels = [0,2],pos_label=0)]"
   ]
  },
  {
   "cell_type": "code",
   "execution_count": 51,
   "id": "a0fdf6f3",
   "metadata": {},
   "outputs": [
    {
     "data": {
      "text/plain": [
       "(0.6518312173437895, 0.2897948197504423)"
      ]
     },
     "execution_count": 51,
     "metadata": {},
     "output_type": "execute_result"
    }
   ],
   "source": [
    "np.mean(cross_valid_acc),np.std(cross_valid_acc)"
   ]
  },
  {
   "cell_type": "code",
   "execution_count": 52,
   "id": "d9d4c55a",
   "metadata": {},
   "outputs": [
    {
     "data": {
      "text/plain": [
       "(0.4108151357133823, 0.40873149725919705)"
      ]
     },
     "execution_count": 52,
     "metadata": {},
     "output_type": "execute_result"
    }
   ],
   "source": [
    "np.mean(sensitivities), np.std(sensitivities)"
   ]
  },
  {
   "cell_type": "code",
   "execution_count": 53,
   "id": "557a35a6",
   "metadata": {},
   "outputs": [
    {
     "data": {
      "text/plain": [
       "(0.24101608163040716, 0.33903644239322284)"
      ]
     },
     "execution_count": 53,
     "metadata": {},
     "output_type": "execute_result"
    }
   ],
   "source": [
    "np.mean(specificities), np.std(specificities)"
   ]
  },
  {
   "cell_type": "code",
   "execution_count": 54,
   "id": "99fd3d65",
   "metadata": {},
   "outputs": [
    {
     "data": {
      "text/plain": [
       "(0.4575848438867468, 0.43435068496319196)"
      ]
     },
     "execution_count": 54,
     "metadata": {},
     "output_type": "execute_result"
    }
   ],
   "source": [
    "np.mean(f1s), np.std(f1s)"
   ]
  },
  {
   "cell_type": "code",
   "execution_count": null,
   "id": "4fd5f48c",
   "metadata": {},
   "outputs": [],
   "source": []
  }
 ],
 "metadata": {
  "kernelspec": {
   "display_name": "Python 3 (ipykernel)",
   "language": "python",
   "name": "python3"
  },
  "language_info": {
   "codemirror_mode": {
    "name": "ipython",
    "version": 3
   },
   "file_extension": ".py",
   "mimetype": "text/x-python",
   "name": "python",
   "nbconvert_exporter": "python",
   "pygments_lexer": "ipython3",
   "version": "3.10.11"
  }
 },
 "nbformat": 4,
 "nbformat_minor": 5
}
